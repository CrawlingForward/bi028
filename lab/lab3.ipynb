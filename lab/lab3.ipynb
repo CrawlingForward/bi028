{
 "cells": [
  {
   "cell_type": "markdown",
   "metadata": {},
   "source": [
    "# 实验三：Bash脚本编程初步\n",
    "___"
   ]
  },
  {
   "cell_type": "markdown",
   "metadata": {},
   "source": [
    "#### 1. 确定输入是否为正整数："
   ]
  },
  {
   "cell_type": "code",
   "execution_count": 1,
   "metadata": {
    "collapsed": false
   },
   "outputs": [
    {
     "name": "stdout",
     "output_type": "stream",
     "text": []
    }
   ],
   "source": [
    "isInteger()\n",
    "{\n",
    "    c=$1\n",
    "    expr $c + 1 &>/dev/null\n",
    "    if [ #add codes here# ]\n",
    "    then\n",
    "        if [ #add codes here# ]\n",
    "        then\n",
    "            echo \"$c is a positive integer\"\n",
    "            return 0\n",
    "        else\n",
    "            echo \"$c is not a positive integer\"\n",
    "            return 1\n",
    "        fi\n",
    "    else\n",
    "        echo \"$c is not an integer\"\n",
    "        return -1\n",
    "    fi\n",
    "}"
   ]
  },
  {
   "cell_type": "code",
   "execution_count": 2,
   "metadata": {
    "collapsed": false
   },
   "outputs": [
    {
     "name": "stdout",
     "output_type": "stream",
     "text": [
      "12.5 is not an integer\r\n",
      "Please input a positive integer\r\n"
     ]
    }
   ],
   "source": [
    "isInteger 12.5 || echo \"Please input a positive integer\""
   ]
  },
  {
   "cell_type": "markdown",
   "metadata": {},
   "source": [
    "#### 2. 给定一个分数，根据输入的成绩，输出其成绩等级（90+: A; 70-90: B; 60-70: C; 60-: F）"
   ]
  },
  {
   "cell_type": "code",
   "execution_count": 16,
   "metadata": {
    "collapsed": false
   },
   "outputs": [
    {
     "name": "stdout",
     "output_type": "stream",
     "text": []
    }
   ],
   "source": [
    "toInteger()\n",
    "{\n",
    "    score=${1%.*}\n",
    "    echo $score\n",
    "}\n",
    "scoreToLevel()\n",
    "{\n",
    "    score=`toInteger $1`\n",
    "    score=`expr $score / 10`\n",
    "    case $score in\n",
    "    ==)\n",
    "        echo \"A\"\n",
    "        ;;\n",
    "    ==)\n",
    "        echo \"B\"\n",
    "        ;;\n",
    "    ==)\n",
    "        echo \"C\"\n",
    "        ;;\n",
    "    ==)\n",
    "        echo \"F\"\n",
    "        ;;\n",
    "    *)\n",
    "        echo \"Not a valid score\"\n",
    "        return -1\n",
    "        ;;\n",
    "    esac\n",
    "}"
   ]
  },
  {
   "cell_type": "code",
   "execution_count": 17,
   "metadata": {
    "collapsed": false
   },
   "outputs": [
    {
     "name": "stdout",
     "output_type": "stream",
     "text": [
      "Not a valid score\r\n"
     ]
    }
   ],
   "source": [
    "scoreToLevel 101"
   ]
  },
  {
   "cell_type": "markdown",
   "metadata": {},
   "source": [
    "#### 3. 从键盘输入三个数a、b、c，并输出其中的最大值和最小值，可以在一行上输入，也可以分别获取。"
   ]
  },
  {
   "cell_type": "code",
   "execution_count": null,
   "metadata": {
    "collapsed": true
   },
   "outputs": [],
   "source": []
  },
  {
   "cell_type": "markdown",
   "metadata": {},
   "source": [
    "#### 4. 写一个函数，计算给定整数阶乘（factorial）"
   ]
  },
  {
   "cell_type": "code",
   "execution_count": null,
   "metadata": {
    "collapsed": true
   },
   "outputs": [],
   "source": []
  },
  {
   "cell_type": "markdown",
   "metadata": {},
   "source": [
    "#### 5. 写一个函数sd，计算下面文件中的数值的平均值和标准偏差。\n",
    "```\n",
    "# test.dat\n",
    "12.33\n",
    "11.67\n",
    "12.16\n",
    "13.01\n",
    "12.56\n",
    "```"
   ]
  },
  {
   "cell_type": "code",
   "execution_count": null,
   "metadata": {
    "collapsed": true
   },
   "outputs": [],
   "source": []
  },
  {
   "cell_type": "markdown",
   "metadata": {},
   "source": [
    "#### 6. 所谓幸运数字指的是各位数值反复相加后和为7的整数，如16为幸运数字，因为1+6=7；而88也是幸运数字，因为8+8=16，而1+6=7。写一个函数isLuckyNumber，判断输入是否为幸运数字。"
   ]
  },
  {
   "cell_type": "code",
   "execution_count": null,
   "metadata": {
    "collapsed": true
   },
   "outputs": [],
   "source": []
  },
  {
   "cell_type": "markdown",
   "metadata": {},
   "source": [
    "#### 7. 写一个函数，判断输入数值是否为质数。"
   ]
  },
  {
   "cell_type": "code",
   "execution_count": null,
   "metadata": {
    "collapsed": true
   },
   "outputs": [],
   "source": []
  },
  {
   "cell_type": "markdown",
   "metadata": {},
   "source": [
    "#### 8. 写一个 bash 脚本,判断一条输入的 DNA 序列是否为回文序列 palindrome。一个方法是利用正向和反向的序列建立两个数组，看数组是否相同。"
   ]
  },
  {
   "cell_type": "code",
   "execution_count": null,
   "metadata": {
    "collapsed": true
   },
   "outputs": [],
   "source": []
  },
  {
   "cell_type": "markdown",
   "metadata": {},
   "source": [
    "#### 9. 如果两个英文单词,组成它们的字符集合相同,而且相同字符出现的次数也相同,则称这两个词匹配:比如说:同”abbc” 与词”babc” 是匹配的。写一个 bash 脚本,判断两个字。可以”declare -A” 使用关联数组。"
   ]
  },
  {
   "cell_type": "code",
   "execution_count": null,
   "metadata": {
    "collapsed": true
   },
   "outputs": [],
   "source": []
  },
  {
   "cell_type": "markdown",
   "metadata": {},
   "source": [
    "#### 10. 写一个 bash 脚本,接收用户输入的文件名,判断其是否为文件,是否可以执行,如不能执行,为其增加执行权限。"
   ]
  },
  {
   "cell_type": "code",
   "execution_count": null,
   "metadata": {
    "collapsed": true
   },
   "outputs": [],
   "source": []
  }
 ],
 "metadata": {
  "kernelspec": {
   "display_name": "Bash",
   "language": "bash",
   "name": "bash"
  },
  "language_info": {
   "codemirror_mode": "shell",
   "file_extension": ".sh",
   "mimetype": "text/x-sh",
   "name": "bash"
  }
 },
 "nbformat": 4,
 "nbformat_minor": 0
}
