{
 "cells": [
  {
   "cell_type": "markdown",
   "metadata": {},
   "source": [
    "# Lab 4: Practice Python Fundamentals\n",
    "___"
   ]
  },
  {
   "cell_type": "markdown",
   "metadata": {},
   "source": [
    "## Part I: Simple functions"
   ]
  },
  {
   "cell_type": "markdown",
   "metadata": {},
   "source": [
    "### $\\S$ Exercise 1\n",
    "\n",
    "As we know, the addition of two list in Python will concatenate the two lists. Write a function `elementwise_add` to add two list, element by element. You need to consider\n",
    "* If the two lists are of the same size.\n",
    "* If the two lists are of different sizes.\n",
    "* If the elements are strings."
   ]
  },
  {
   "cell_type": "code",
   "execution_count": 174,
   "metadata": {
    "collapsed": false
   },
   "outputs": [
    {
     "data": {
      "text/plain": [
       "[1, 2, 3, 2, 4, 5]"
      ]
     },
     "execution_count": 174,
     "metadata": {},
     "output_type": "execute_result"
    }
   ],
   "source": [
    "l1 = [1,2,3]\n",
    "l2 = [2,4,5]\n",
    "l1 + l2"
   ]
  },
  {
   "cell_type": "code",
   "execution_count": 151,
   "metadata": {
    "collapsed": true
   },
   "outputs": [],
   "source": [
    "def elementwise_add(l1, l2):\n",
    "    pass"
   ]
  },
  {
   "cell_type": "code",
   "execution_count": 152,
   "metadata": {
    "collapsed": false
   },
   "outputs": [
    {
     "data": {
      "text/plain": [
       "[3, 7, 12]"
      ]
     },
     "execution_count": 152,
     "metadata": {},
     "output_type": "execute_result"
    }
   ],
   "source": [
    "a = [1,2,4]\n",
    "b = [2,5,8]\n",
    "elementwise_add(a, b)"
   ]
  },
  {
   "cell_type": "code",
   "execution_count": 153,
   "metadata": {
    "collapsed": false
   },
   "outputs": [
    {
     "data": {
      "text/plain": [
       "['redyellow', 'bluepink', 'orangemagenta']"
      ]
     },
     "execution_count": 153,
     "metadata": {},
     "output_type": "execute_result"
    }
   ],
   "source": [
    "elementwise_add([\"red\", \"blue\", \"orange\"], [\"yellow\", \"pink\", \"magenta\"])"
   ]
  },
  {
   "cell_type": "markdown",
   "metadata": {},
   "source": [
    "### $\\S$ Exercise 2\n",
    "\n",
    "The module `random` contains multiple functions to generate random variables, which are very useful in data simulations.\n",
    "\n",
    "Write a function to generate $n$ random variables which follows Beta distribution, and compute the average and variance of the sample."
   ]
  },
  {
   "cell_type": "code",
   "execution_count": 155,
   "metadata": {
    "collapsed": true
   },
   "outputs": [],
   "source": [
    "import random\n",
    "def rbeta(n, a, b):\n",
    "    pass"
   ]
  },
  {
   "cell_type": "code",
   "execution_count": 156,
   "metadata": {
    "collapsed": false
   },
   "outputs": [
    {
     "data": {
      "text/plain": [
       "0.27052909104526957"
      ]
     },
     "execution_count": 156,
     "metadata": {},
     "output_type": "execute_result"
    }
   ],
   "source": [
    "x = rbeta(100, 2, 5)\n",
    "sum(x)/len(x)"
   ]
  },
  {
   "cell_type": "code",
   "execution_count": 158,
   "metadata": {
    "collapsed": false
   },
   "outputs": [
    {
     "data": {
      "text/plain": [
       "0.2857142857142857"
      ]
     },
     "execution_count": 158,
     "metadata": {},
     "output_type": "execute_result"
    }
   ],
   "source": [
    "2.0/(2+5)"
   ]
  },
  {
   "cell_type": "markdown",
   "metadata": {},
   "source": [
    "### $\\S$ Exercise 3\n",
    "\n",
    "Entropy (熵) and information gain (信息增益) are two essential metrics in information theory. Entropy is used to measure the purity (impurity) of a group:\n",
    "$$\n",
    "\\textrm{Entropy} = \\sum_{i \\in c} -p_i \\log_2 p_i\n",
    "$$\n",
    "while information gain is used to measure the purity gains after splitting by a continuous or discrete feature. This is often used in __decision tree (决策树)__ or __random forests (随机森林)__.\n",
    "$$\n",
    "\\mbox{information gain} = \\mbox{Entropy} - \\mbox{weighted sum Entropy}\n",
    "$$"
   ]
  },
  {
   "cell_type": "markdown",
   "metadata": {},
   "source": [
    "Here is an example. Before splitting by gender, the class probabilities for a sample (320) are:\n",
    "$$\n",
    "N(0) = 153, N(1) = 167\n",
    "$$\n",
    "For male (160), \n",
    "$$\n",
    "N(0) = 139, N(1) = 21\n",
    "$$\n",
    "while for female (160),\n",
    "$$\n",
    "N(0) = 14, N(1) = 146\n",
    "$$\n",
    "\n",
    "Therefore, the entropy before splitting is:\n",
    "$$\n",
    "-\\frac{153}{320} \\times \\log_2 \\frac{153}{320} - \\frac{167}{320} \\times \\log_2 \\frac{167}{320} = 0.999\n",
    "$$\n",
    "After the splitting:\n",
    "$$\n",
    "\\frac{160}{320} \\times (-\\frac{139}{160} \\times \\log_2 \\frac{139}{160} - \\frac{21}{160} \\times \\log_2 \\frac{21}{160}) + \\frac{160}{320} \\times (-\\frac{14}{160} \\times \\log_2 \\frac{14}{160} - \\frac{146}{160} \\times \\log_2 \\frac{146}{160}) = 0.494\n",
    "$$\n",
    "Thus, the information gain is $0.999 - 0.494 = 0.505$."
   ]
  },
  {
   "cell_type": "markdown",
   "metadata": {},
   "source": [
    "In python, the labels for a group can be stored as a list:"
   ]
  },
  {
   "cell_type": "code",
   "execution_count": 169,
   "metadata": {
    "collapsed": true
   },
   "outputs": [],
   "source": [
    "male = [1,1,1,0]; female = [0, 0, 0]"
   ]
  },
  {
   "cell_type": "markdown",
   "metadata": {},
   "source": [
    "Write a function `info_gain` to compute the information gain, using a list as input, each element of which is also a list containing the labels for each individual in the corresponding group.\n",
    "\n",
    "Note that we need to set $0 \\times \\log_2 0 = 0$."
   ]
  },
  {
   "cell_type": "code",
   "execution_count": 177,
   "metadata": {
    "collapsed": true
   },
   "outputs": [],
   "source": [
    "def info_gain(labels):\n",
    "    \"\"\"Compute the information gain for splitting by a features. \n",
    "    \n",
    "    >>> male = [1,1,1,0]; female = [0,0,0]\n",
    "    >>> info_gain([male, female])\n",
    "    0.807\n",
    "    \"\"\"\n",
    "    pass"
   ]
  },
  {
   "cell_type": "markdown",
   "metadata": {},
   "source": [
    "## Part II: Recursion"
   ]
  },
  {
   "cell_type": "markdown",
   "metadata": {},
   "source": [
    "### $\\S$ Exercise 1\n",
    "\n",
    "Write a function `count_ways` to count the ways to sum any given total amount over a give list of numbers. Available numbers are passed as argument to the function.\n",
    "\n",
    "#### <font color=\"red\">Hints</font>\n",
    "\n",
    "For each element in the list, the solution might have two situations:\n",
    "   > (1) Element is included in the summation, once or more\n",
    "   \n",
    "   > (2) Element is not included in the summation\n"
   ]
  },
  {
   "cell_type": "code",
   "execution_count": 16,
   "metadata": {
    "collapsed": true
   },
   "outputs": [],
   "source": [
    "def count_ways(total, numbers):\n",
    "    pass"
   ]
  },
  {
   "cell_type": "code",
   "execution_count": 17,
   "metadata": {
    "collapsed": false
   },
   "outputs": [
    {
     "data": {
      "text/plain": [
       "2"
      ]
     },
     "execution_count": 17,
     "metadata": {},
     "output_type": "execute_result"
    }
   ],
   "source": [
    "count_ways(6, [1, 5])"
   ]
  },
  {
   "cell_type": "code",
   "execution_count": 18,
   "metadata": {
    "collapsed": false
   },
   "outputs": [
    {
     "data": {
      "text/plain": [
       "3"
      ]
     },
     "execution_count": 18,
     "metadata": {},
     "output_type": "execute_result"
    }
   ],
   "source": [
    "count_ways(10, [1,5])"
   ]
  },
  {
   "cell_type": "code",
   "execution_count": 19,
   "metadata": {
    "collapsed": false
   },
   "outputs": [
    {
     "data": {
      "text/plain": [
       "292"
      ]
     },
     "execution_count": 19,
     "metadata": {},
     "output_type": "execute_result"
    }
   ],
   "source": [
    "count_ways(100, [1, 5, 10, 25, 50])"
   ]
  },
  {
   "cell_type": "markdown",
   "metadata": {},
   "source": [
    "#### <font color=\"red\">Questions</font>\n",
    "* <font color=\"red\">Does the order of the argument `numbers` affect the efficiency of the above function? If yes, what kind of order will have the highest efficiency? Use `%timeit` to check it, as shown following.</font>"
   ]
  },
  {
   "cell_type": "code",
   "execution_count": 20,
   "metadata": {
    "collapsed": false
   },
   "outputs": [
    {
     "name": "stdout",
     "output_type": "stream",
     "text": [
      "100 loops, best of 3: 9.48 ms per loop\n"
     ]
    }
   ],
   "source": [
    "%timeit count_ways(100, [1, 5, 10, 25, 50])"
   ]
  },
  {
   "cell_type": "code",
   "execution_count": 21,
   "metadata": {
    "collapsed": false
   },
   "outputs": [
    {
     "name": "stdout",
     "output_type": "stream",
     "text": [
      "100 loops, best of 3: 3.62 ms per loop\n"
     ]
    }
   ],
   "source": [
    "%timeit count_ways(100, [50, 25, 10, 5, 1])"
   ]
  },
  {
   "cell_type": "markdown",
   "metadata": {},
   "source": [
    "### $\\S$ Exercise 2\n",
    "\n",
    "Here is a function `flatten_dict` to flatten a nested dictionary by joining the keys with . character."
   ]
  },
  {
   "cell_type": "code",
   "execution_count": 13,
   "metadata": {
    "collapsed": true
   },
   "outputs": [],
   "source": [
    "def flatten_dict(nested, flatten={}):\n",
    "    \"\"\" Flattens a nested dict\n",
    "    \n",
    "        >>> flatten_dict({'a': 1, 'b': {'x': 2, 'y': 3}, 'c': 4})\n",
    "        {'a': 1, 'b.x': 2, 'b.y': 3, 'c': 4}\n",
    "    \"\"\"\n",
    "    pass"
   ]
  },
  {
   "cell_type": "code",
   "execution_count": 14,
   "metadata": {
    "collapsed": false
   },
   "outputs": [
    {
     "data": {
      "text/plain": [
       "{'a': 1, 'b': 2, 'c.d': 3, 'c.e.f': 4, 'c.e.g': 5, 'h': 6}"
      ]
     },
     "execution_count": 14,
     "metadata": {},
     "output_type": "execute_result"
    }
   ],
   "source": [
    "flatten_dict({'a': 1, 'b':2, 'c': {'d':3, 'e': {'f': 4, 'g': 5}}, 'h': 6})"
   ]
  },
  {
   "cell_type": "markdown",
   "metadata": {},
   "source": [
    "Could you please write a function `flatten_list` to flatten a nested list?"
   ]
  },
  {
   "cell_type": "code",
   "execution_count": null,
   "metadata": {
    "collapsed": true
   },
   "outputs": [],
   "source": [
    "def flatten_list(nested, flatten=[]):\n",
    "    \"\"\" Flatten a nested list.\n",
    "    \n",
    "        >>> flatten_list([1, 2, 3, [4, 5]])\n",
    "        [1, 2, 3, 4, 5]    \n",
    "    \"\"\"\n",
    "    pass"
   ]
  },
  {
   "cell_type": "markdown",
   "metadata": {},
   "source": [
    "### $\\S$ Exercise 3\n",
    "\n",
    "Implement a function `dirtree` that takes a directory as an argument and prints all the files in that directory recursively as a tree, as shown following.\n",
    "```python\n",
    ">>> dirtree(\"foo/\")\n",
    "```\n",
    "```\n",
    "foo/\n",
    "|-- a.txt\n",
    "|-- b.txt\n",
    "|-- bar/\n",
    "|   |-- .ipynb_checkpoints/\n",
    "|   |-- bar2/\n",
    "|   |   |-- .ipynb_checkpoints/\n",
    "|   |   `-- p.txt\n",
    "|   |-- p.txt\n",
    "|   `-- q.txt\n",
    "`-- c.txt\n",
    "```"
   ]
  },
  {
   "cell_type": "code",
   "execution_count": 172,
   "metadata": {
    "collapsed": true
   },
   "outputs": [],
   "source": [
    "import os\n",
    "def dirtree(path, indent=0):\n",
    "    pass"
   ]
  },
  {
   "cell_type": "code",
   "execution_count": 173,
   "metadata": {
    "collapsed": false
   },
   "outputs": [
    {
     "name": "stdout",
     "output_type": "stream",
     "text": [
      "foo/\n",
      "|-- a.txt\n",
      "|-- b.txt\n",
      "|-- bar/\n",
      "|   |-- .ipynb_checkpoints/\n",
      "|   |-- bar2/\n",
      "|   |   |-- .ipynb_checkpoints/\n",
      "|   |   `-- p.txt\n",
      "|   |-- p.txt\n",
      "|   `-- q.txt\n",
      "`-- c.txt\n"
     ]
    }
   ],
   "source": [
    "dirtree(\"foo/\")"
   ]
  },
  {
   "cell_type": "markdown",
   "metadata": {},
   "source": [
    "### $\\S$ Exercise 4\n",
    "\n",
    "Write a function `permute` to permute a list, and return all the possible permutations of a given list."
   ]
  },
  {
   "cell_type": "code",
   "execution_count": 92,
   "metadata": {
    "collapsed": true
   },
   "outputs": [],
   "source": [
    "def permute(li):\n",
    "    pass"
   ]
  },
  {
   "cell_type": "code",
   "execution_count": 93,
   "metadata": {
    "collapsed": false
   },
   "outputs": [
    {
     "data": {
      "text/plain": [
       "[[1, 2, 3, 4],\n",
       " [1, 2, 4, 3],\n",
       " [1, 3, 2, 4],\n",
       " [1, 3, 4, 2],\n",
       " [1, 4, 2, 3],\n",
       " [1, 4, 3, 2],\n",
       " [2, 1, 3, 4],\n",
       " [2, 1, 4, 3],\n",
       " [2, 3, 1, 4],\n",
       " [2, 3, 4, 1],\n",
       " [2, 4, 1, 3],\n",
       " [2, 4, 3, 1],\n",
       " [3, 1, 2, 4],\n",
       " [3, 1, 4, 2],\n",
       " [3, 2, 1, 4],\n",
       " [3, 2, 4, 1],\n",
       " [3, 4, 1, 2],\n",
       " [3, 4, 2, 1],\n",
       " [4, 1, 2, 3],\n",
       " [4, 1, 3, 2],\n",
       " [4, 2, 1, 3],\n",
       " [4, 2, 3, 1],\n",
       " [4, 3, 1, 2],\n",
       " [4, 3, 2, 1]]"
      ]
     },
     "execution_count": 93,
     "metadata": {},
     "output_type": "execute_result"
    }
   ],
   "source": [
    "permute([1,2,3,4])"
   ]
  },
  {
   "cell_type": "markdown",
   "metadata": {},
   "source": [
    "## Part III: Decorators"
   ]
  },
  {
   "cell_type": "markdown",
   "metadata": {},
   "source": [
    "Decorator is a kind of high-order functions which take the modified function as the argument and also return another function which processes the arguments for the modified function.\n",
    "\n",
    "### Closure: global and local variables"
   ]
  },
  {
   "cell_type": "code",
   "execution_count": 141,
   "metadata": {
    "collapsed": false
   },
   "outputs": [
    {
     "name": "stdout",
     "output_type": "stream",
     "text": [
      "Local variables (x):  {'a': 100}\n",
      "In y(), a =  100\n",
      "Local variables (y):  {'a': 100}\n",
      "In x(), a =  100\n"
     ]
    }
   ],
   "source": [
    "a = 10\n",
    "def x():\n",
    "    #global a\n",
    "    #print \"Global variables: \", globals()\n",
    "    a = 100\n",
    "    print \"Local variables (x): \", locals()\n",
    "    def y():\n",
    "        print \"In y(), a = \", a\n",
    "        print \"Local variables (y): \", locals()\n",
    "    y()\n",
    "    print \"In x(), a = \", a\n",
    "x()"
   ]
  },
  {
   "cell_type": "markdown",
   "metadata": {},
   "source": [
    "#### How does a function find a variable?\n",
    "* For function `x`, if variable `a` is defined in its domain, use the local variable `a`; otherwise use the global variable `a`. \n",
    "* For function `y`, if variable `a` is defined in its domain, use the local variable `a`; otherwise use the local variable `a` defined in the outer funtion `x`; or otherwise use the global variable `a`."
   ]
  },
  {
   "cell_type": "markdown",
   "metadata": {},
   "source": [
    "Here is an example of decorator to trace the whole recursion process for computing Fibonacci series:"
   ]
  },
  {
   "cell_type": "code",
   "execution_count": 123,
   "metadata": {
    "collapsed": true
   },
   "outputs": [],
   "source": [
    "def trace(func):\n",
    "    func.indent = 0\n",
    "    def g(x):\n",
    "        print '|  ' * func.indent + '|--', func.__name__, x\n",
    "        func.indent += 1\n",
    "        value = func(x)\n",
    "        print '|  ' * func.indent + '|--', 'return', repr(value)\n",
    "        func.indent -= 1\n",
    "        return value\n",
    "    return g\n",
    "\n",
    "def fib(n):\n",
    "    if n is 0 or n is 1:\n",
    "        return 1\n",
    "    else:\n",
    "        return fib(n-1) + fib(n-2)"
   ]
  },
  {
   "cell_type": "code",
   "execution_count": 124,
   "metadata": {
    "collapsed": false
   },
   "outputs": [
    {
     "name": "stdout",
     "output_type": "stream",
     "text": [
      "|-- fib 3\n",
      "|  |-- fib 2\n",
      "|  |  |-- fib 1\n",
      "|  |  |  |-- return 1\n",
      "|  |  |-- fib 0\n",
      "|  |  |  |-- return 1\n",
      "|  |  |-- return 2\n",
      "|  |-- fib 1\n",
      "|  |  |-- return 1\n",
      "|  |-- return 3\n"
     ]
    },
    {
     "data": {
      "text/plain": [
       "3"
      ]
     },
     "execution_count": 124,
     "metadata": {},
     "output_type": "execute_result"
    }
   ],
   "source": [
    "fib = trace(fib)\n",
    "fib(3)"
   ]
  },
  {
   "cell_type": "markdown",
   "metadata": {},
   "source": [
    "We can also mark a decorator function like this:"
   ]
  },
  {
   "cell_type": "code",
   "execution_count": 125,
   "metadata": {
    "collapsed": true
   },
   "outputs": [],
   "source": [
    "@trace\n",
    "def fib(n):\n",
    "    if n is 0 or n is 1:\n",
    "        return 1\n",
    "    else:\n",
    "        return fib(n-1) + fib(n-2)"
   ]
  },
  {
   "cell_type": "code",
   "execution_count": 127,
   "metadata": {
    "collapsed": false
   },
   "outputs": [
    {
     "name": "stdout",
     "output_type": "stream",
     "text": [
      "|-- fib 5\n",
      "|  |-- fib 4\n",
      "|  |  |-- fib 3\n",
      "|  |  |  |-- fib 2\n",
      "|  |  |  |  |-- fib 1\n",
      "|  |  |  |  |  |-- return 1\n",
      "|  |  |  |  |-- fib 0\n",
      "|  |  |  |  |  |-- return 1\n",
      "|  |  |  |  |-- return 2\n",
      "|  |  |  |-- fib 1\n",
      "|  |  |  |  |-- return 1\n",
      "|  |  |  |-- return 3\n",
      "|  |  |-- fib 2\n",
      "|  |  |  |-- fib 1\n",
      "|  |  |  |  |-- return 1\n",
      "|  |  |  |-- fib 0\n",
      "|  |  |  |  |-- return 1\n",
      "|  |  |  |-- return 2\n",
      "|  |  |-- return 5\n",
      "|  |-- fib 3\n",
      "|  |  |-- fib 2\n",
      "|  |  |  |-- fib 1\n",
      "|  |  |  |  |-- return 1\n",
      "|  |  |  |-- fib 0\n",
      "|  |  |  |  |-- return 1\n",
      "|  |  |  |-- return 2\n",
      "|  |  |-- fib 1\n",
      "|  |  |  |-- return 1\n",
      "|  |  |-- return 3\n",
      "|  |-- return 8\n"
     ]
    },
    {
     "data": {
      "text/plain": [
       "8"
      ]
     },
     "execution_count": 127,
     "metadata": {},
     "output_type": "execute_result"
    }
   ],
   "source": [
    "fib(5)"
   ]
  },
  {
   "cell_type": "markdown",
   "metadata": {
    "collapsed": true
   },
   "source": [
    "### $\\S$ Exercise 1\n",
    "\n",
    "Write a decorator function for the function `count_ways` in section I, so that it will print out the whole process of the counting."
   ]
  },
  {
   "cell_type": "code",
   "execution_count": 103,
   "metadata": {
    "collapsed": false
   },
   "outputs": [],
   "source": [
    "def trace(func):\n",
    "    pass\n",
    "\n",
    "@trace\n",
    "def count_ways(total, numbers):\n",
    "    pass"
   ]
  },
  {
   "cell_type": "code",
   "execution_count": 109,
   "metadata": {
    "collapsed": false
   },
   "outputs": [
    {
     "name": "stdout",
     "output_type": "stream",
     "text": [
      "|-- count_ways (3,) {'numbers': [1, 2]}\n",
      "|  |-- count_ways (3, [2]) {}\n",
      "|  |  |-- count_ways (3, []) {}\n",
      "|  |  |  |-- return 0\n",
      "|  |  |-- count_ways (1, [2]) {}\n",
      "|  |  |  |-- count_ways (1, []) {}\n",
      "|  |  |  |  |-- return 0\n",
      "|  |  |  |-- count_ways (-1, [2]) {}\n",
      "|  |  |  |  |-- return 0\n",
      "|  |  |  |-- return 0\n",
      "|  |  |-- return 0\n",
      "|  |-- count_ways (2, [1, 2]) {}\n",
      "|  |  |-- count_ways (2, [2]) {}\n",
      "|  |  |  |-- count_ways (2, []) {}\n",
      "|  |  |  |  |-- return 0\n",
      "|  |  |  |-- count_ways (0, [2]) {}\n",
      "|  |  |  |  |-- return 1\n",
      "|  |  |  |-- return 1\n",
      "|  |  |-- count_ways (1, [1, 2]) {}\n",
      "|  |  |  |-- count_ways (1, [2]) {}\n",
      "|  |  |  |  |-- count_ways (1, []) {}\n",
      "|  |  |  |  |  |-- return 0\n",
      "|  |  |  |  |-- count_ways (-1, [2]) {}\n",
      "|  |  |  |  |  |-- return 0\n",
      "|  |  |  |  |-- return 0\n",
      "|  |  |  |-- count_ways (0, [1, 2]) {}\n",
      "|  |  |  |  |-- return 1\n",
      "|  |  |  |-- return 1\n",
      "|  |  |-- return 2\n",
      "|  |-- return 2\n"
     ]
    },
    {
     "data": {
      "text/plain": [
       "2"
      ]
     },
     "execution_count": 109,
     "metadata": {},
     "output_type": "execute_result"
    }
   ],
   "source": [
    "count_ways(3, numbers=[1, 2])"
   ]
  },
  {
   "cell_type": "markdown",
   "metadata": {},
   "source": [
    "### $\\S$ Exercise 2\n",
    "\n",
    "Write a decorator function for printing out the running time for a given function."
   ]
  },
  {
   "cell_type": "code",
   "execution_count": 128,
   "metadata": {
    "collapsed": true
   },
   "outputs": [],
   "source": [
    "import time\n",
    "def profile(fun):\n",
    "    pass\n",
    "\n",
    "@profile\n",
    "def fib(n):\n",
    "    if n==0 or n==1:\n",
    "        return 1\n",
    "    else:\n",
    "        return fib(n-2) + fib(n-1)     "
   ]
  },
  {
   "cell_type": "code",
   "execution_count": 146,
   "metadata": {
    "collapsed": false
   },
   "outputs": [
    {
     "data": {
      "text/plain": [
       "'11.9591488838 seconds elapsed.'"
      ]
     },
     "execution_count": 146,
     "metadata": {},
     "output_type": "execute_result"
    }
   ],
   "source": [
    "fib(30)"
   ]
  }
 ],
 "metadata": {
  "kernelspec": {
   "display_name": "Python 2",
   "language": "python",
   "name": "python2"
  },
  "language_info": {
   "codemirror_mode": {
    "name": "ipython",
    "version": 2
   },
   "file_extension": ".py",
   "mimetype": "text/x-python",
   "name": "python",
   "nbconvert_exporter": "python",
   "pygments_lexer": "ipython2",
   "version": "2.7.11"
  }
 },
 "nbformat": 4,
 "nbformat_minor": 0
}
