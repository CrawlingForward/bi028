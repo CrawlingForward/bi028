{
 "cells": [
  {
   "cell_type": "markdown",
   "metadata": {},
   "source": [
    "# Lab 1: Acquaint Youself with Linux Command Line\n",
    "___"
   ]
  },
  {
   "cell_type": "markdown",
   "metadata": {},
   "source": [
    "## 1. Wildcard characters (file globbing，通配符)\n",
    "\n",
    "| Wildcard | Description | Example |\n",
    "| :---: | --- | --- |\n",
    "| `?` | Any single character | `ls -ld ???` |\n",
    "| `*` | Any characters with arbitrary length | `ls -ld *.*` |\n",
    "| `[]` | Any single character in the set | `ls -ld [ABCDEF]*` |\n",
    "\n",
    "\n",
    "A good directory to play with is /etc which is a directory containing config files for the system. As a normal user you may view the files but you can't make any changes so we can't do any harm. Do a listing of that directory to see what's there. Then pick various subsets of files and see if you can create a pattern to select only those files.\n",
    "\n",
    "1. Do a listing of /etc with only files that contain an extension.\n",
    "2. What about only a 3 letter extension?\n",
    "3. How about files whose name contains an uppercase letter? (hint: [[:upper:]] may be useful here)\n",
    "4. Can you list files whose name is 4 characters long?"
   ]
  },
  {
   "cell_type": "code",
   "execution_count": 6,
   "metadata": {
    "collapsed": false
   },
   "outputs": [
    {
     "name": "stdout",
     "output_type": "stream",
     "text": [
      "lrwxrwxrwx 1 root root   15  9月  3  2015 /etc/blkid.tab -> /dev/.blkid.tab\r\n",
      "-rw-r--r-- 1 root root   33  4月 17  2014 /etc/brlapi.key\r\n",
      "-rw-r--r-- 1 root root  350  1月 17  2014 /etc/eclipse.ini\r\n",
      "-rw-r--r-- 1 root root   19  2月 17 00:43 /etc/issue.net\r\n",
      "-rw-r--r-- 1 root root    0 12月 11  2013 /etc/odbc.ini\r\n",
      "-rw-r--r-- 1 root root    0  7月  5  2014 /etc/odbcinst.ini\r\n",
      "-rw-r--r-- 1 root root 1147  5月  1  2013 /etc/rarfiles.lst\r\n",
      "-rw-r--r-- 1 root root   51  8月 16  2013 /etc/vdpau_wrapper.cfg\r\n"
     ]
    }
   ],
   "source": [
    "ls -ld /etc/*.???"
   ]
  },
  {
   "cell_type": "markdown",
   "metadata": {},
   "source": [
    "## 2. Permissions (文件权限管理)\n",
    "\n",
    "There are six kinds of permissions as we listed in the lecture slides.\n",
    "\n",
    "Let's play with some permissions.\n",
    "\n",
    "1. First off, take a look at the permissions of your home directory, then have a look at the permissions of various files in there.\n",
    "2. Now let's go into your course directory and change the permissions of some of the files in there. Make sure you use both the shorthand and longhand form for setting permissions and that you also use a variety of absolute and relative paths. Try removing the read permission from a file then reading it. Or removing the write permission and then opening it in vi.\n",
    "3. Let's play with directories now. Create a directory and put some files into it. Now play about with removing various permissions from yourself on that directory and see what you can and can't do.\n",
    "4. Finally, have an explore around the system and see what the general permissions are for files in other system directories such as /etc and /bin"
   ]
  },
  {
   "cell_type": "code",
   "execution_count": null,
   "metadata": {
    "collapsed": true
   },
   "outputs": [],
   "source": []
  },
  {
   "cell_type": "markdown",
   "metadata": {},
   "source": [
    "## 3. Filters: `head`, `tail`, `nl`, `sort`, `cut`, `wc`, `uniq`\n",
    "\n",
    "```\n",
    "Fred apples 20\n",
    "Susy oranges 5\n",
    "Mark watermellons 12\n",
    "Robert pears 4\n",
    "Terry oranges 9\n",
    "Lisa peaches 7\n",
    "Susy oranges 12\n",
    "Mark grapes 39\n",
    "Anne mangoes 7\n",
    "Greg pineapples 3\n",
    "Oliver rockmellons 2\n",
    "Betty limes 14\n",
    "```\n",
    "\n",
    "1. First off, you may want to make a file with data similar to the above file.\n",
    "2. Now play with each of the programs we looked at above. Make sure you use both relative and absolute paths.\n",
    "3. Have a look at the man page for each of the programs and try at least 2 of the command line options for them.\n",
    "   - How many different kinds of fruits does each person have?\n",
    "   - How many different persons does each fruit belong to?"
   ]
  },
  {
   "cell_type": "code",
   "execution_count": 45,
   "metadata": {
    "collapsed": false
   },
   "outputs": [
    {
     "name": "stdout",
     "output_type": "stream",
     "text": [
      "apples\r\n",
      "oranges\r\n",
      "watermellons\r\n",
      "pears\r\n",
      "oranges\r\n",
      "peaches\r\n",
      "oranges\r\n",
      "grapes\r\n",
      "mangoes\r\n",
      "pineapples\r\n",
      "rockmellons\r\n",
      "limes\r\n"
     ]
    }
   ],
   "source": [
    "cut -d\" \" -f 2 fruits.txt"
   ]
  },
  {
   "cell_type": "code",
   "execution_count": 36,
   "metadata": {
    "collapsed": false
   },
   "outputs": [
    {
     "name": "stdout",
     "output_type": "stream",
     "text": [
      "Mark grapes 39\r\n",
      "Fred apples 20\r\n",
      "Betty limes 14\r\n",
      "Susy oranges 12\r\n",
      "Mark watermellons 12\r\n",
      "Terry oranges 9\r\n",
      "Lisa peaches 7\r\n",
      "Anne mangoes 7\r\n",
      "Susy oranges 5\r\n",
      "Robert pears 4\r\n",
      "Greg pineapples 3\r\n",
      "Oliver rockmellons 2\r\n"
     ]
    }
   ],
   "source": [
    "sort -k 3 -gr fruits.txt"
   ]
  },
  {
   "cell_type": "code",
   "execution_count": 42,
   "metadata": {
    "collapsed": false
   },
   "outputs": [
    {
     "name": "stdout",
     "output_type": "stream",
     "text": [
      "-rw-rw-r-- 1 bio bio 354K  3月  7 21:55 ch02.ipynb\r\n",
      "-rwxr-xr-x 1 bio bio  55K  3月 11 09:40 chmod\r\n",
      "-rw-rw-r-- 1 bio bio  28K  2月 26 11:12 ch03.ipynb\r\n",
      "-rw-rw-r-- 1 bio bio  19K  3月  2 16:23 ch04-sed.ipynb\r\n",
      "-rw-rw-r-- 1 bio bio  15K  3月  2 16:23 ch04-perl.ipynb\r\n",
      "-rw-rw-r-- 1 bio bio  15K  3月 11 09:46 lab1-commandline.ipynb\r\n",
      "-rw-rw-r-- 1 bio bio  15K  2月 26 11:12 ch01.ipynb\r\n",
      "-rw-rw-r-- 1 bio bio 7.5K  3月  7 21:54 ch00.ipynb\r\n",
      "-rw-rw-r-- 1 bio bio 4.8K  3月  7 21:48 vim.ipynb\r\n",
      "drwxrwxr-x 9 bio bio 4.0K  3月 10 22:59 bioinfo\r\n",
      "drwxrwxr-x 3 bio bio 4.0K  3月  2 16:10 awk\r\n",
      "drwxrwxr-x 3 bio bio 4.0K  3月  2 15:58 re\r\n",
      "drwxrwxr-x 2 bio bio 4.0K  3月  7 21:49 misc\r\n",
      "drwxrwxr-x 2 bio bio 4.0K  3月  3 10:37 lecture\r\n",
      "drwxrwxr-x 2 bio bio 4.0K  3月  3 10:19 quiz\r\n",
      "drwxrwxr-x 2 bio bio 4.0K  3月  2 15:58 images\r\n",
      "drwxrwxr-x 2 bio bio 4.0K  2月 29 22:31 sed\r\n",
      "-rw-rw-r-- 1 bio bio 2.0K  3月  2 16:35 syllabus.ipynb\r\n",
      "-rw-rw-r-- 1 bio bio 1.3K  3月  2 16:23 ch04-awk.ipynb\r\n",
      "-rw-rw-r-- 1 bio bio  273  2月 26 11:05 README.md\r\n",
      "-rw-rw-rw- 1 bio bio  197  3月 11 09:30 fruits.txt\r\n",
      "total 572K\r\n",
      "-rw-rw-r-- 1 bio bio    0  3月 11 09:22 results.txt\r\n"
     ]
    }
   ],
   "source": [
    "ls -lh | sort -r -h -k 5"
   ]
  },
  {
   "cell_type": "markdown",
   "metadata": {},
   "source": [
    "## 4. Redirection\n",
    "\n",
    "1. You can use redirect sign `>`(write mode) or `>>`(append mode) to save the above `filtering` results into a file.\n",
    "2. Tell the what the following two commands do:\n",
    "```bash\n",
    "ls -ld /etc > list_etc_files.txt\n",
    "ls -ld /not_exist_file >results.txt 2>&1\n",
    "ls -ld /not_exist_file >results.txt 2>/dev/null\n",
    "```"
   ]
  },
  {
   "cell_type": "code",
   "execution_count": 7,
   "metadata": {
    "collapsed": false
   },
   "outputs": [
    {
     "name": "stdout",
     "output_type": "stream",
     "text": []
    }
   ],
   "source": [
    "ls -ld /not_exist_file >results.txt 2>/dev/null"
   ]
  },
  {
   "cell_type": "code",
   "execution_count": 8,
   "metadata": {
    "collapsed": false
   },
   "outputs": [
    {
     "name": "stdout",
     "output_type": "stream",
     "text": []
    }
   ],
   "source": [
    "cat ./results.txt"
   ]
  },
  {
   "cell_type": "markdown",
   "metadata": {},
   "source": [
    "## 5. Piping\n",
    "\n",
    "Piping is another `filter` or `post-processing` for the previous command."
   ]
  },
  {
   "cell_type": "code",
   "execution_count": 11,
   "metadata": {
    "collapsed": false
   },
   "outputs": [
    {
     "name": "stdout",
     "output_type": "stream",
     "text": [
      "Anne : 1\r\n",
      "Betty : 1\r\n",
      "Fred : 1\r\n",
      "Greg : 1\r\n",
      "Lisa : 1\r\n",
      "Mark : 2\r\n",
      "Oliver : 1\r\n",
      "Robert : 1\r\n",
      "Susy : 2\r\n",
      "Terry : 1\r\n"
     ]
    }
   ],
   "source": [
    "cat fruits.txt | cut -d' ' -f 1 | sort | uniq -c | awk '{print $2, \":\", $1}'"
   ]
  },
  {
   "cell_type": "markdown",
   "metadata": {},
   "source": [
    "## 6. `find`"
   ]
  },
  {
   "cell_type": "code",
   "execution_count": 23,
   "metadata": {
    "collapsed": false
   },
   "outputs": [
    {
     "name": "stdout",
     "output_type": "stream",
     "text": [
      "-rw-r--r-- 1 root root 645  1月 21  2014 /etc/ts.conf\r\n",
      "-rw-r--r-- 1 root root 67  6月 22  2012 /etc/csh.logout\r\n",
      "-rw-r--r-- 1 root root 19  5月  1  2011 /etc/su-to-rootrc\r\n",
      "-rw-r--r-- 1 root root 350  1月 17  2014 /etc/eclipse.ini\r\n",
      "-rw-r--r-- 1 root root 45  3月 23  2014 /etc/bash_completion\r\n",
      "-rw-r--r-- 1 root root 8948  2月 26 09:15 /etc/ca-certificates.conf\r\n",
      "-rw-r--r-- 1 root root 1911  5月  2  2012 /etc/nail.rc\r\n",
      "-rw-r--r-- 1 root root 110  3月 10  2015 /etc/kernel-img.conf\r\n",
      "-rw-r--r-- 1 root root 1343  1月 10  2007 /etc/wodim.conf\r\n",
      "-rw-r--r-- 1 root root 26 12月 18  2013 /etc/libao.conf\r\n",
      "-rw-r--r-- 1 root root 0 12月 11  2013 /etc/odbc.ini\r\n",
      "-rw-r----- 1 root fuse 280  5月 24  2013 /etc/fuse.conf\r\n",
      "-rw-r--r-- 1 root root 7649  4月 17  2014 /etc/pnm2ppa.conf\r\n",
      "-rw-r--r-- 1 root root 24725  4月  1  2014 /etc/matplotlibrc\r\n",
      "-rw-r--r-- 1 root root 267  2月 20  2014 /etc/legal\r\n",
      "-rw-r--r-- 1 root root 97  2月  2  2014 /etc/jalview_properties_default\r\n",
      "-rw-r--r-- 1 root root 3663  3月 21  2012 /etc/screenrc\r\n",
      "-rw-r--r-- 1 root root 349  6月 27  2012 /etc/zsh_command_not_found\r\n",
      "-rw-r--r-- 1 root root 19  2月 17 00:43 /etc/issue.net\r\n",
      "-rw-r--r-- 1 root root 624  8月  8  2007 /etc/mtools.conf\r\n",
      "-rw-r--r-- 1 root root 356  1月  2  2012 /etc/bindresvport.blacklist\r\n",
      "-rw-r--r-- 1 root root 22478  4月  1  2014 /etc/brltty.conf\r\n",
      "-rw-r--r-- 1 root root 112  1月 10  2014 /etc/apg.conf\r\n",
      "-rw-r--r-- 1 root root 56531  6月 22  2012 /etc/complete.tcsh\r\n",
      "-rw-r--r-- 1 root root 91  2月 20  2014 /etc/networks\r\n",
      "-rw-r--r-- 1 root root 8453 10月  1  2012 /etc/nanorc\r\n",
      "-rw------- 1 root root 0  4月 17  2014 /etc/.pwd.lock\r\n",
      "-rw-r--r-- 1 root root 33  4月 17  2014 /etc/brlapi.key\r\n",
      "-rw-r--r-- 1 root root 1147  5月  1  2013 /etc/rarfiles.lst\r\n",
      "-rw-r--r-- 1 root root 411  4月 17  2014 /etc/hosts.allow\r\n",
      "-rw-r--r-- 1 root root 888  4月  9  2014 /etc/usb_modeswitch.conf\r\n",
      "-rw-r--r-- 1 root root 6  8月  5  2014 /etc/bio-linux.version\r\n",
      "-rw-r--r-- 1 root root 8052  4月  1  2015 /etc/ca-certificates.conf.dpkg-old\r\n",
      "-rw-r--r-- 1 root root 285  6月 22  2012 /etc/csh.login\r\n",
      "-rw------- 1 root lightdm 0  3月 10  2015 /etc/mtab.fuselock\r\n",
      "-rw-r--r-- 1 root root 10344  1月 15  2014 /etc/sensors3.conf\r\n",
      "-rw-r--r-- 1 root root 51  8月 16  2013 /etc/vdpau_wrapper.cfg\r\n",
      "-rw-r--r-- 1 root root 222  9月  2  2015 /etc/hosts1\r\n",
      "-rw-r--r-- 1 root root 3  3月 10  2015 /etc/prime-discrete\r\n",
      "-rw-r--r-- 1 root root 321  4月 17  2014 /etc/blkid.conf\r\n",
      "-rw-r--r-- 1 root root 711  4月 17  2014 /etc/hosts.deny\r\n",
      "-rw-r--r-- 1 root root 771  5月 19  2013 /etc/insserv.conf\r\n",
      "-rw-r--r-- 1 root root 155  3月 10  2015 /etc/iftab\r\n",
      "-rw-r--r-- 1 root root 111  4月  4  2014 /etc/magic.mime\r\n",
      "-rw-r--r-- 1 root root 1291  3月 29  2014 /etc/lintianrc\r\n",
      "-rw-r--r-- 1 root root 552  2月  1  2014 /etc/pam.conf\r\n",
      "-rw-r--r-- 1 root root 1803  3月  7  2014 /etc/signond.conf\r\n",
      "-rw-r--r-- 1 root root 956  2月 19  2014 /etc/mke2fs.conf\r\n",
      "-rw-r--r-- 1 root root 14867  3月 20  2014 /etc/ltrace.conf\r\n",
      "-rw-r--r-- 1 root root 191 12月  4  2013 /etc/libaudit.conf\r\n",
      "-rw-r--r-- 1 root root 427  6月 22  2012 /etc/csh.cshrc\r\n",
      "-rw-r--r-- 1 root root 604 11月  7  2013 /etc/deluser.conf\r\n",
      "-rwxr-xr-x 1 root root 268  2月  4  2014 /etc/rmt\r\n",
      "-rw-r--r-- 1 root root 887 12月 30  2013 /etc/rpc\r\n",
      "-rw-r--r-- 1 root root 2064 11月 24  2006 /etc/netscsid.conf\r\n"
     ]
    }
   ],
   "source": [
    "find /etc -maxdepth 1 -type f -atime +10 -exec ls -ld {} \\;"
   ]
  },
  {
   "cell_type": "code",
   "execution_count": 25,
   "metadata": {
    "collapsed": false
   },
   "outputs": [
    {
     "name": "stdout",
     "output_type": "stream",
     "text": []
    }
   ],
   "source": [
    "cp /bin/chmod ."
   ]
  },
  {
   "cell_type": "code",
   "execution_count": 27,
   "metadata": {
    "collapsed": false
   },
   "outputs": [
    {
     "name": "stdout",
     "output_type": "stream",
     "text": [
      "-rwxr-xr-x 1 bio bio 56032  3月 11 09:40 ./chmod\r\n"
     ]
    }
   ],
   "source": [
    "ls -l ./chmod"
   ]
  },
  {
   "cell_type": "code",
   "execution_count": 32,
   "metadata": {
    "collapsed": false
   },
   "outputs": [
    {
     "name": "stdout",
     "output_type": "stream",
     "text": []
    }
   ],
   "source": [
    "./chmod a+w fruits.txt"
   ]
  },
  {
   "cell_type": "code",
   "execution_count": 33,
   "metadata": {
    "collapsed": false
   },
   "outputs": [
    {
     "name": "stdout",
     "output_type": "stream",
     "text": [
      "-rw-rw-rw- 1 bio bio 197  3月 11 09:30 fruits.txt\r\n"
     ]
    }
   ],
   "source": [
    "ls -ld fruits.txt"
   ]
  },
  {
   "cell_type": "markdown",
   "metadata": {},
   "source": [
    "## 7. `vim` \n",
    "\n",
    "1. Start by creating a file and putting some content into it.\n",
    "2. Save the file and view it in both cat and less\n",
    "3. Go back into the file in vi and enter some more content.\n",
    "4. Move around the content using at least 6 different movement commands.\n",
    "5. Play about with several of the delete commands, especially the ones that incorporate a movement command. Remember you may undo your changes so you don't have to keep putting new content in."
   ]
  },
  {
   "cell_type": "code",
   "execution_count": null,
   "metadata": {
    "collapsed": true
   },
   "outputs": [],
   "source": []
  }
 ],
 "metadata": {
  "kernelspec": {
   "display_name": "Bash",
   "language": "bash",
   "name": "bash"
  },
  "language_info": {
   "codemirror_mode": "shell",
   "file_extension": ".sh",
   "mimetype": "text/x-sh",
   "name": "bash"
  }
 },
 "nbformat": 4,
 "nbformat_minor": 0
}
