{
 "cells": [
  {
   "cell_type": "markdown",
   "metadata": {},
   "source": [
    "# Lab 2: Regular expression\n",
    "___"
   ]
  },
  {
   "cell_type": "markdown",
   "metadata": {},
   "source": [
    "## 1. Regular expression exercise"
   ]
  },
  {
   "cell_type": "code",
   "execution_count": 3,
   "metadata": {
    "collapsed": false
   },
   "outputs": [
    {
     "name": "stdout",
     "output_type": "stream",
     "text": []
    }
   ],
   "source": [
    "alias grep=\"grep --color=auto\""
   ]
  },
  {
   "cell_type": "markdown",
   "metadata": {},
   "source": [
    "#### (1) Create a regular expression that matches both 'folded protein' and 'normal protein'"
   ]
  },
  {
   "cell_type": "code",
   "execution_count": 39,
   "metadata": {
    "collapsed": false
   },
   "outputs": [
    {
     "name": "stdout",
     "output_type": "stream",
     "text": [
      "\u001b[01;31m\u001b[Kfolded protein\u001b[m\u001b[K\r\n",
      "\u001b[01;31m\u001b[Knormal protein\u001b[m\u001b[K\r\n"
     ]
    }
   ],
   "source": [
    "echo -e \"folded protein\\nnormal protein\" | grep -E '(folded|normal) protein'"
   ]
  },
  {
   "cell_type": "markdown",
   "metadata": {},
   "source": [
    "#### (2) Create a regex that match a Shanghai telephone number (not mobile)"
   ]
  },
  {
   "cell_type": "code",
   "execution_count": null,
   "metadata": {
    "collapsed": false
   },
   "outputs": [],
   "source": []
  },
  {
   "cell_type": "markdown",
   "metadata": {},
   "source": [
    "#### (3) Which of the following matches <font color=\"red\">(MAP ){1}(kinase)+</font>\n",
    "* A) kinase kinase\n",
    "* B) MAP kinase\n",
    "* C) MAP MAP kinase\n",
    "* D) MAP kinase kinase\n",
    "* E) map kinase"
   ]
  },
  {
   "cell_type": "code",
   "execution_count": null,
   "metadata": {
    "collapsed": false
   },
   "outputs": [],
   "source": []
  },
  {
   "cell_type": "markdown",
   "metadata": {},
   "source": [
    "#### (4) Which of the following matches `<[^>]+>`\n",
    "* A) `<an xml tag>`\n",
    "* B) `<opentag> <closetag>`\n",
    "* C) `<>`\n",
    "* D) `</closetag>`\n",
    "* E) `<with attribute='1'>`"
   ]
  },
  {
   "cell_type": "code",
   "execution_count": null,
   "metadata": {
    "collapsed": false
   },
   "outputs": [],
   "source": []
  },
  {
   "cell_type": "markdown",
   "metadata": {},
   "source": [
    "#### (5) Which of the following matches <font color=\"red\">`[A-Za-z]\\s\\d*`</font>\n",
    "* A) BB 1\n",
    "* B) C 2\n",
    "* C) A\n",
    "* D) a\n",
    "* E) aa 0"
   ]
  },
  {
   "cell_type": "code",
   "execution_count": null,
   "metadata": {
    "collapsed": false
   },
   "outputs": [],
   "source": []
  },
  {
   "cell_type": "markdown",
   "metadata": {},
   "source": [
    "#### (6) What do we need to change to match the previous pattern to match:\n",
    "```\n",
    "dna 2\n",
    "```"
   ]
  },
  {
   "cell_type": "code",
   "execution_count": null,
   "metadata": {
    "collapsed": true
   },
   "outputs": [],
   "source": []
  },
  {
   "cell_type": "markdown",
   "metadata": {},
   "source": [
    "#### (7) Which of the following matches `[a-zA-Z]*[^,]=?`\n",
    "* A) AcdC,rox=\n",
    "* B) acdc\n",
    "* C) tesT=\n",
    "* D) =\n",
    "* E) equal=="
   ]
  },
  {
   "cell_type": "code",
   "execution_count": null,
   "metadata": {
    "collapsed": false
   },
   "outputs": [],
   "source": []
  },
  {
   "cell_type": "markdown",
   "metadata": {},
   "source": [
    "#### (8) Which of the following matches `a.[bc]+`\n",
    "* A) abc\n",
    "* B) abbbbb\n",
    "* C) azc\n",
    "* D) abcbcbcbccb\n",
    "* E) ac\n",
    "* F) ascc"
   ]
  },
  {
   "cell_type": "code",
   "execution_count": null,
   "metadata": {
    "collapsed": false
   },
   "outputs": [],
   "source": []
  },
  {
   "cell_type": "markdown",
   "metadata": {},
   "source": [
    "#### (9) Write down at least 4 strings which can match the following regular expression `^y(?!(xx+)\\1+$)`, and then use `grep` to verify. (Hint: Recall what is <font color=\"red\">zero-width assertion</font>)"
   ]
  },
  {
   "cell_type": "code",
   "execution_count": null,
   "metadata": {
    "collapsed": false
   },
   "outputs": [],
   "source": []
  },
  {
   "cell_type": "markdown",
   "metadata": {},
   "source": [
    "## `grep` exercises\n",
    "\n",
    "Here we will deal with a file named `reads_HIV.fastq`, which is a short read file which reserves a lot of short reads from HIV. "
   ]
  },
  {
   "cell_type": "code",
   "execution_count": 41,
   "metadata": {
    "collapsed": false
   },
   "outputs": [
    {
     "name": "stdout",
     "output_type": "stream",
     "text": [
      "@HWI-M02823:29:000000000-A9J24:1:1101:11976:2210\r\n",
      "GGATGAGGATCAGAACATGGAATAGTTTAGTAAAGCACCACATGTATGTTTCAAAGAGAGCTAATGGATGGTTTTATAGACATCATTATGAAAGCAGACATCCAAGAACAAGTTCAGAAGTACACATCCCACTAGGGGAGGCTAAATTAGTAATAATAACATATTGGGGTTTGCAAACAGGAGAAAGGGATTGGCATCTGGGCCATGGGGTCTCCATAGAATGGAGACTGAAAAGATATAGTACACAAGT\r\n",
      "+\r\n",
      "BCCCCFFFFFFFGGGGGGGGGGHHHHHHHHHHHHHHHHHHHHHHHGHHHHHHHHHHGHHGGHHHHHHGHHGFHHGHHHHHHGHHHHHHHHHHFFHHHHHHHHHHGHHHHHHHHGHHHHHHHHHHHHHHHHHHHHHHHGGGGGHHHHHHHHHHHHGHHHGHHHEHHHFHGGGGGGHHHHGHHEGGHHHHGGHHGHHHGHHGHEHHGHHHHGFGGHHGHHHFEHHHHHHGHHHGGGGGFFGGGFFGFGGGG;\r\n",
      "@HWI-M02823:29:000000000-A9J24:1:1101:11976:2210\r\n",
      "TTAGCCCTAGGTGTGATTATCCAGCAGGACATAATAAGGTAGGATCTCTACAATATCTGGCACTGGCAGCATTGATAAAGCCAAAAAGGAGAAAGCCACCTCTGCCTAGTGTTAGTAAATTAGTAGAGGATAAATGGAACAAGCCCCAGAAGACCAGGGGCCGCAGAGGGAGCCATACAATGAATGGACACTAGAGCTTTTAGAGGAACTCAAGCAGGAAGCTGTCAGACATTTTCCGAGACCAT\r\n",
      "+\r\n",
      "F?GFGFFGFGGGGHHHFHCEGHHHHHHHHHHHFHHGGHGDHG<<0HDFGHHHHFBFHHHFBFCEHFDHFHGHGHHGHHFHD@HHGHHHFHGGC0GEEFFGFGHHHFBHHHFGHHHHHHHEHHHHGHHGHFEGHHHHGHHGHGCCFEHHHHFGFHGEGGGGE?GHHHGGGGHHGHHHHHHHHHHHHHHHHGHHHHHGF3FHHHFHHHHGHGHHHHHHHGHHHHHHHHHGGGGGGCGGGGFFFF4FF\r\n"
     ]
    }
   ],
   "source": [
    "head -8 reads_HIV.fastq"
   ]
  },
  {
   "cell_type": "markdown",
   "metadata": {},
   "source": [
    "#### (1) Using grep how many reads are in the file? "
   ]
  },
  {
   "cell_type": "code",
   "execution_count": null,
   "metadata": {
    "collapsed": true
   },
   "outputs": [],
   "source": []
  },
  {
   "cell_type": "markdown",
   "metadata": {},
   "source": [
    "#### (2) How many lines start with the sequence 'TATA'?"
   ]
  },
  {
   "cell_type": "code",
   "execution_count": null,
   "metadata": {
    "collapsed": false
   },
   "outputs": [],
   "source": []
  },
  {
   "cell_type": "markdown",
   "metadata": {},
   "source": [
    "#### (3) Can you grep all sequences that start with 'TTAG' and end with 'T' ? "
   ]
  },
  {
   "cell_type": "code",
   "execution_count": null,
   "metadata": {
    "collapsed": false
   },
   "outputs": [],
   "source": []
  },
  {
   "cell_type": "markdown",
   "metadata": {},
   "source": [
    "#### (4) Can you grep all read-id's (the lines with the @) and sequences from the previous question?"
   ]
  },
  {
   "cell_type": "code",
   "execution_count": null,
   "metadata": {
    "collapsed": false
   },
   "outputs": [],
   "source": []
  },
  {
   "cell_type": "markdown",
   "metadata": {},
   "source": [
    "#### (5) Can you get rid of all the double dashes that separate the output? (Must escape dashes like '\\-\\-')"
   ]
  },
  {
   "cell_type": "code",
   "execution_count": null,
   "metadata": {
    "collapsed": false
   },
   "outputs": [],
   "source": []
  },
  {
   "cell_type": "markdown",
   "metadata": {},
   "source": [
    "#### (6) Use the grep command to get all sequences that start with 'TT' , and sort the output using `sort`, and put the output in a new file. "
   ]
  },
  {
   "cell_type": "code",
   "execution_count": null,
   "metadata": {
    "collapsed": false
   },
   "outputs": [],
   "source": []
  },
  {
   "cell_type": "markdown",
   "metadata": {},
   "source": [
    "#### (7) Use the `uniq` command to get only the duplicate sequences from the sorted file."
   ]
  },
  {
   "cell_type": "code",
   "execution_count": null,
   "metadata": {
    "collapsed": true
   },
   "outputs": [],
   "source": []
  },
  {
   "cell_type": "markdown",
   "metadata": {},
   "source": [
    "#### (8) Alter the `uniq` command to also get the number of occurrences of each duplicated sequence. "
   ]
  },
  {
   "cell_type": "code",
   "execution_count": null,
   "metadata": {
    "collapsed": true
   },
   "outputs": [],
   "source": []
  },
  {
   "cell_type": "markdown",
   "metadata": {},
   "source": [
    "#### (9) Can you sort the output numerically descending and write this to a new file?"
   ]
  },
  {
   "cell_type": "code",
   "execution_count": null,
   "metadata": {
    "collapsed": true
   },
   "outputs": [],
   "source": []
  },
  {
   "cell_type": "markdown",
   "metadata": {},
   "source": [
    "## `sed` exercises\n",
    "\n",
    "The output from the lastexercise included a lot of white spaces at the beginning of every line. \n",
    "This could be a problem when loading the data in a spreadsheet later on. With the use of `sed`\n",
    "we can easily remove this."
   ]
  },
  {
   "cell_type": "markdown",
   "metadata": {},
   "source": [
    "#### (1) Using sed and a regex pattern, remove the whitespaces at the start of each line. "
   ]
  },
  {
   "cell_type": "code",
   "execution_count": null,
   "metadata": {
    "collapsed": true
   },
   "outputs": [],
   "source": []
  },
  {
   "cell_type": "markdown",
   "metadata": {},
   "source": [
    "#### (2) Think of another line of `sed` to replace the space that separate the counts and sequences with a tab. "
   ]
  },
  {
   "cell_type": "code",
   "execution_count": null,
   "metadata": {
    "collapsed": true
   },
   "outputs": [],
   "source": []
  },
  {
   "cell_type": "markdown",
   "metadata": {},
   "source": [
    "#### (3) Since all sequences start with 'TT' we might as well trim this off. "
   ]
  },
  {
   "cell_type": "code",
   "execution_count": null,
   "metadata": {
    "collapsed": true
   },
   "outputs": [],
   "source": []
  },
  {
   "cell_type": "markdown",
   "metadata": {},
   "source": [
    "## More on `sed`"
   ]
  },
  {
   "cell_type": "markdown",
   "metadata": {},
   "source": [
    "In a wig track for the UCSC browser there is an error. When you try to upload [the wig file](overlapping_coverage.wig) to UCSC the error reads:\n",
    "> Error in file: chrom=chrchr1 \n",
    "\n",
    "Apparently in the header there was written \"chrchr\" instead of just \"chr\".\n",
    "With `sed`, how would you correct this mistake? "
   ]
  },
  {
   "cell_type": "code",
   "execution_count": null,
   "metadata": {
    "collapsed": true
   },
   "outputs": [],
   "source": []
  },
  {
   "cell_type": "markdown",
   "metadata": {},
   "source": []
  },
  {
   "cell_type": "markdown",
   "metadata": {},
   "source": [
    "## Awk exercises\n"
   ]
  },
  {
   "cell_type": "markdown",
   "metadata": {},
   "source": [
    "#### (1) We have a bowtie like alignment file where on every line there is mapping information for one read. The fourth field describes the chromosome where the read is mapped to. Can you show the distribution of how many reads align to each chromosome? "
   ]
  },
  {
   "cell_type": "code",
   "execution_count": null,
   "metadata": {
    "collapsed": true
   },
   "outputs": [],
   "source": []
  },
  {
   "cell_type": "markdown",
   "metadata": {},
   "source": [
    "#### (2) Could you please use `awk` to compute the distances between all the $C_{\\alpha}$ atoms in a [given pdb file](2VIU.pdb)? A pdb file can stores the 3-D coordinates for all the atoms of a macromolecule."
   ]
  },
  {
   "cell_type": "code",
   "execution_count": null,
   "metadata": {
    "collapsed": true
   },
   "outputs": [],
   "source": []
  }
 ],
 "metadata": {
  "kernelspec": {
   "display_name": "Bash",
   "language": "bash",
   "name": "bash"
  },
  "language_info": {
   "codemirror_mode": "shell",
   "file_extension": ".sh",
   "mimetype": "text/x-sh",
   "name": "bash"
  }
 },
 "nbformat": 4,
 "nbformat_minor": 0
}
