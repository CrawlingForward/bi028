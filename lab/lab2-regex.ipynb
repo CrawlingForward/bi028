{
 "cells": [
  {
   "cell_type": "markdown",
   "metadata": {},
   "source": [
    "# Lab 2: Regular expression\n",
    "___"
   ]
  },
  {
   "cell_type": "markdown",
   "metadata": {},
   "source": [
    "## 1. Regular expression exercise"
   ]
  },
  {
   "cell_type": "code",
   "execution_count": 3,
   "metadata": {
    "collapsed": false
   },
   "outputs": [
    {
     "name": "stdout",
     "output_type": "stream",
     "text": []
    }
   ],
   "source": [
    "alias grep=\"grep --color=auto\""
   ]
  },
  {
   "cell_type": "markdown",
   "metadata": {},
   "source": [
    "#### (1) Create a regular expression that matches both 'folded protein' and 'normal protein'"
   ]
  },
  {
   "cell_type": "code",
   "execution_count": 39,
   "metadata": {
    "collapsed": false
   },
   "outputs": [
    {
     "name": "stdout",
     "output_type": "stream",
     "text": [
      "\u001b[01;31m\u001b[Kfolded protein\u001b[m\u001b[K\r\n",
      "\u001b[01;31m\u001b[Knormal protein\u001b[m\u001b[K\r\n"
     ]
    }
   ],
   "source": [
    "echo -e \"folded protein\\nnormal protein\" | grep -E '(folded|normal) protein'"
   ]
  },
  {
   "cell_type": "markdown",
   "metadata": {},
   "source": [
    "#### (2) Create a regex that match a Shanghai telephone number (not mobile)"
   ]
  },
  {
   "cell_type": "code",
   "execution_count": null,
   "metadata": {
    "collapsed": false
   },
   "outputs": [],
   "source": []
  },
  {
   "cell_type": "markdown",
   "metadata": {},
   "source": [
    "#### (3) Which of the following matches <font color=\"red\">(MAP ){1}(kinase)+</font>\n",
    "* A) kinase kinase\n",
    "* B) MAP kinase\n",
    "* C) MAP MAP kinase\n",
    "* D) MAP kinase kinase\n",
    "* E) map kinase"
   ]
  },
  {
   "cell_type": "code",
   "execution_count": null,
   "metadata": {
    "collapsed": false
   },
   "outputs": [],
   "source": []
  },
  {
   "cell_type": "markdown",
   "metadata": {},
   "source": [
    "#### (4) Which of the following matches `<[^>]+>`\n",
    "* A) `<an xml tag>`\n",
    "* B) `<opentag> <closetag>`\n",
    "* C) `<>`\n",
    "* D) `</closetag>`\n",
    "* E) `<with attribute='1'>`"
   ]
  },
  {
   "cell_type": "code",
   "execution_count": null,
   "metadata": {
    "collapsed": false
   },
   "outputs": [],
   "source": []
  },
  {
   "cell_type": "markdown",
   "metadata": {},
   "source": [
    "#### (5) Which of the following matches <font color=\"red\">`[A-Za-z]\\s\\d*`</font>\n",
    "* A) BB 1\n",
    "* B) C 2\n",
    "* C) A\n",
    "* D) a\n",
    "* E) aa 0"
   ]
  },
  {
   "cell_type": "code",
   "execution_count": null,
   "metadata": {
    "collapsed": false
   },
   "outputs": [],
   "source": []
  },
  {
   "cell_type": "markdown",
   "metadata": {},
   "source": [
    "#### (6) What do we need to change to match the previous pattern to match:\n",
    "```\n",
    "dna 2\n",
    "```"
   ]
  },
  {
   "cell_type": "code",
   "execution_count": null,
   "metadata": {
    "collapsed": true
   },
   "outputs": [],
   "source": []
  },
  {
   "cell_type": "markdown",
   "metadata": {},
   "source": [
    "#### (7) Which of the following matches `[a-zA-Z]*[^,]=?`\n",
    "* A) AcdC,rox=\n",
    "* B) acdc\n",
    "* C) tesT=\n",
    "* D) =\n",
    "* E) equal=="
   ]
  },
  {
   "cell_type": "code",
   "execution_count": null,
   "metadata": {
    "collapsed": false
   },
   "outputs": [],
   "source": []
  },
  {
   "cell_type": "markdown",
   "metadata": {},
   "source": [
    "#### (8) Which of the following matches `a.[bc]+`\n",
    "* A) abc\n",
    "* B) abbbbb\n",
    "* C) azc\n",
    "* D) abcbcbcbccb\n",
    "* E) ac\n",
    "* F) ascc"
   ]
  },
  {
   "cell_type": "code",
   "execution_count": null,
   "metadata": {
    "collapsed": false
   },
   "outputs": [],
   "source": []
  },
  {
   "cell_type": "markdown",
   "metadata": {},
   "source": [
    "#### (9) Write down at least 4 strings which can match the following regular expression `^y(?=(xx+)\\1+$)`, and then use `grep` to verify. (Hint: Recall what is <font color=\"red\">zero-width assertion</font>)"
   ]
  },
  {
   "cell_type": "code",
   "execution_count": 64,
   "metadata": {
    "collapsed": false
   },
   "outputs": [
    {
     "name": "stdout",
     "output_type": "stream",
     "text": [
      "\u001b[01;31m\u001b[Ky\u001b[m\u001b[Kxxxx\r\n"
     ]
    }
   ],
   "source": [
    "echo \"yxxxx\" | grep -P '^y(?=(xx+)\\1+$)'"
   ]
  },
  {
   "cell_type": "markdown",
   "metadata": {},
   "source": [
    "## `grep` exercises\n",
    "\n",
    "Here we will deal with a file named `reads_HIV.fastq`, which is a short read file which reserves a lot of short reads from HIV. "
   ]
  },
  {
   "cell_type": "code",
   "execution_count": 41,
   "metadata": {
    "collapsed": false
   },
   "outputs": [
    {
     "name": "stdout",
     "output_type": "stream",
     "text": [
      "@HWI-M02823:29:000000000-A9J24:1:1101:11976:2210\r\n",
      "GGATGAGGATCAGAACATGGAATAGTTTAGTAAAGCACCACATGTATGTTTCAAAGAGAGCTAATGGATGGTTTTATAGACATCATTATGAAAGCAGACATCCAAGAACAAGTTCAGAAGTACACATCCCACTAGGGGAGGCTAAATTAGTAATAATAACATATTGGGGTTTGCAAACAGGAGAAAGGGATTGGCATCTGGGCCATGGGGTCTCCATAGAATGGAGACTGAAAAGATATAGTACACAAGT\r\n",
      "+\r\n",
      "BCCCCFFFFFFFGGGGGGGGGGHHHHHHHHHHHHHHHHHHHHHHHGHHHHHHHHHHGHHGGHHHHHHGHHGFHHGHHHHHHGHHHHHHHHHHFFHHHHHHHHHHGHHHHHHHHGHHHHHHHHHHHHHHHHHHHHHHHGGGGGHHHHHHHHHHHHGHHHGHHHEHHHFHGGGGGGHHHHGHHEGGHHHHGGHHGHHHGHHGHEHHGHHHHGFGGHHGHHHFEHHHHHHGHHHGGGGGFFGGGFFGFGGGG;\r\n",
      "@HWI-M02823:29:000000000-A9J24:1:1101:11976:2210\r\n",
      "TTAGCCCTAGGTGTGATTATCCAGCAGGACATAATAAGGTAGGATCTCTACAATATCTGGCACTGGCAGCATTGATAAAGCCAAAAAGGAGAAAGCCACCTCTGCCTAGTGTTAGTAAATTAGTAGAGGATAAATGGAACAAGCCCCAGAAGACCAGGGGCCGCAGAGGGAGCCATACAATGAATGGACACTAGAGCTTTTAGAGGAACTCAAGCAGGAAGCTGTCAGACATTTTCCGAGACCAT\r\n",
      "+\r\n",
      "F?GFGFFGFGGGGHHHFHCEGHHHHHHHHHHHFHHGGHGDHG<<0HDFGHHHHFBFHHHFBFCEHFDHFHGHGHHGHHFHD@HHGHHHFHGGC0GEEFFGFGHHHFBHHHFGHHHHHHHEHHHHGHHGHFEGHHHHGHHGHGCCFEHHHHFGFHGEGGGGE?GHHHGGGGHHGHHHHHHHHHHHHHHHHGHHHHHGF3FHHHFHHHHGHGHHHHHHHGHHHHHHHHHGGGGGGCGGGGFFFF4FF\r\n"
     ]
    }
   ],
   "source": [
    "head -8 reads_HIV.fastq"
   ]
  },
  {
   "cell_type": "markdown",
   "metadata": {},
   "source": [
    "#### (1) Using grep how many reads are in the file? "
   ]
  },
  {
   "cell_type": "code",
   "execution_count": null,
   "metadata": {
    "collapsed": true
   },
   "outputs": [],
   "source": []
  },
  {
   "cell_type": "markdown",
   "metadata": {},
   "source": [
    "#### (2) How many lines start with the sequence 'TATA'?"
   ]
  },
  {
   "cell_type": "code",
   "execution_count": null,
   "metadata": {
    "collapsed": false
   },
   "outputs": [],
   "source": []
  },
  {
   "cell_type": "markdown",
   "metadata": {},
   "source": [
    "#### (3) Can you grep all sequences that start with 'TTAG' and end with 'T' ? "
   ]
  },
  {
   "cell_type": "code",
   "execution_count": null,
   "metadata": {
    "collapsed": false
   },
   "outputs": [],
   "source": []
  },
  {
   "cell_type": "markdown",
   "metadata": {},
   "source": [
    "#### (4) Can you grep all read-id's (the lines with the @) and sequences from the previous question?"
   ]
  },
  {
   "cell_type": "code",
   "execution_count": null,
   "metadata": {
    "collapsed": false
   },
   "outputs": [],
   "source": []
  },
  {
   "cell_type": "markdown",
   "metadata": {},
   "source": [
    "#### (5) Can you get rid of all the double dashes that separate the output? (Must escape dashes like '\\-\\-')"
   ]
  },
  {
   "cell_type": "code",
   "execution_count": null,
   "metadata": {
    "collapsed": false
   },
   "outputs": [],
   "source": []
  },
  {
   "cell_type": "markdown",
   "metadata": {},
   "source": [
    "#### (6) Use the grep command to get all sequences that start with 'TT' , and sort the output using `sort`, and put the output in a new file. "
   ]
  },
  {
   "cell_type": "code",
   "execution_count": null,
   "metadata": {
    "collapsed": false
   },
   "outputs": [],
   "source": []
  },
  {
   "cell_type": "markdown",
   "metadata": {},
   "source": [
    "#### (7) Use the `uniq` command to get only the duplicate sequences from the sorted file."
   ]
  },
  {
   "cell_type": "code",
   "execution_count": null,
   "metadata": {
    "collapsed": true
   },
   "outputs": [],
   "source": []
  },
  {
   "cell_type": "markdown",
   "metadata": {},
   "source": [
    "#### (8) Alter the `uniq` command to also get the number of occurrences of each duplicated sequence. "
   ]
  },
  {
   "cell_type": "code",
   "execution_count": null,
   "metadata": {
    "collapsed": true
   },
   "outputs": [],
   "source": []
  },
  {
   "cell_type": "markdown",
   "metadata": {},
   "source": [
    "#### (9) Can you sort the output numerically descending and write this to a new file?"
   ]
  },
  {
   "cell_type": "code",
   "execution_count": null,
   "metadata": {
    "collapsed": true
   },
   "outputs": [],
   "source": []
  },
  {
   "cell_type": "markdown",
   "metadata": {},
   "source": [
    "## `sed` exercises\n",
    "\n",
    "The output from the lastexercise included a lot of white spaces at the beginning of every line. \n",
    "This could be a problem when loading the data in a spreadsheet later on. With the use of `sed`\n",
    "we can easily remove this."
   ]
  },
  {
   "cell_type": "markdown",
   "metadata": {},
   "source": [
    "#### (1) Using sed and a regex pattern, remove the whitespaces at the start of each line. "
   ]
  },
  {
   "cell_type": "code",
   "execution_count": null,
   "metadata": {
    "collapsed": true
   },
   "outputs": [],
   "source": []
  },
  {
   "cell_type": "markdown",
   "metadata": {},
   "source": [
    "#### (2) Think of another line of `sed` to replace the space that separate the counts and sequences with a tab. "
   ]
  },
  {
   "cell_type": "code",
   "execution_count": null,
   "metadata": {
    "collapsed": true
   },
   "outputs": [],
   "source": []
  },
  {
   "cell_type": "markdown",
   "metadata": {},
   "source": [
    "#### (3) Since all sequences start with 'TT' we might as well trim this off. "
   ]
  },
  {
   "cell_type": "code",
   "execution_count": null,
   "metadata": {
    "collapsed": true
   },
   "outputs": [],
   "source": []
  },
  {
   "cell_type": "markdown",
   "metadata": {},
   "source": [
    "## More on `sed`"
   ]
  },
  {
   "cell_type": "markdown",
   "metadata": {},
   "source": [
    "Here is a file:\n",
    "```\n",
    "Steve Blenheim:238-923-7366:95 Latham Lane, Easton, PA 83755:11/12/56:20300\n",
    "Betty Boop:245-836-8357:635 Cutesy Lane, Hollywood, CA 91464:6/23/23:14500\n",
    "Igor Chevsky:385-375-8395:3567 Populus Place, Caldwell, NJ 23875:6/18/68:23400\n",
    "Norma Corder:397-857-2735:74 Pine Street, Dearborn, MI 23874:3/28/45:245700\n",
    "Jennifer Cowan:548-834-2348:583 Laurel Ave., Kingsville, TX 83745:10/1/35:58900\n",
    "Jon DeLoach:408-253-3122:123 Park St., San Jose, CA 04086:7/25/53:85100\n",
    "Karen Evich:284-758-2857:23 Edgecliff Place, Lincoln, NB 92743:7/25/53:85100\n",
    "Karen Evich:284-758-2867:23 Edgecliff Place, Lincoln, NB 92743:11/3/35:58200\n",
    "Karen Evich:284-758-2867:23 Edgecliff Place, Lincoln, NB 92743:11/3/35:58200\n",
    "Fred Fardbarkle:674-843-1385:20 Parak Lane, Duluth, MN 23850:4/12/23:780900\n",
    "Fred Fardbarkle:674-843-1385:20 Parak Lane, Duluth, MN 23850:4/12/23:780900\n",
    "Lori Gortz:327-832-5728:3465 Mirlo Street, Peabody, MA 34756:10/2/65:35200\n",
    "Paco Gutierrez:835-365-1284:454 Easy Street, Decatur, IL 75732:2/28/53:123500\n",
    "Ephram Hardy:293-259-5395:235 CarltonLane, Joliet, IL 73858:8/12/20:56700\n",
    "James Ikeda:834-938-8376:23445 Aster Ave., Allentown, NJ 83745:12/1/38:45000\n",
    "Barbara Kertz:385-573-8326:832 Ponce Drive, Gary, IN 83756:12/1/46:268500\n",
    "Lesley Kirstin:408-456-1234:4 Harvard Square, Boston, MA 02133:4/22/62:52600\n",
    "William Kopf:846-836-2837:6937 Ware Road, Milton, PA 93756:9/21/46:43500\n",
    "Sir Lancelot:837-835-8257:474 Camelot Boulevard, Bath, WY 28356:5/13/69:24500\n",
    "Jesse Neal:408-233-8971:45 Rose Terrace, San Francisco, CA 92303:2/3/36:25000\n",
    "Zippy Pinhead:834-823-8319:2356 Bizarro Ave., Farmount, IL 84357:1/1/67:89500\n",
    "Arthur Putie:923-835-8745:23 Wimp Lane, Kensington, DL 38758:8/31/69:126000\n",
    "Popeye Sailor:156-454-3322:945 Bluto Street, Anywhere, USA 29358:3/19/35:22350\n",
    "Jose Santiago:385-898-8357:38 Fife Way, Abilene, TX 39673:1/5/58:95600\n",
    "Tommy Savage:408-724-0140:1222 Oxbow Court, Sunnyvale, CA 94087:5/19/66:34200\n",
    "Yukio Takeshida:387-827-1095:13 Uno Lane, Ashville, NC 23556:7/1/29:57000\n",
    "Vinh Tranh:438-910-7449:8235 Maple Street, Wilmington, VM 29085:9/23/63:68900\n",
    "```"
   ]
  },
  {
   "cell_type": "markdown",
   "metadata": {},
   "source": [
    "#### 1. Change the name Jon to Jonathan. "
   ]
  },
  {
   "cell_type": "code",
   "execution_count": null,
   "metadata": {
    "collapsed": true
   },
   "outputs": [],
   "source": []
  },
  {
   "cell_type": "markdown",
   "metadata": {},
   "source": [
    "#### 2. Delete the first three lines. "
   ]
  },
  {
   "cell_type": "code",
   "execution_count": null,
   "metadata": {
    "collapsed": true
   },
   "outputs": [],
   "source": []
  },
  {
   "cell_type": "markdown",
   "metadata": {},
   "source": [
    "#### 3. Print lines 5 through 10 . "
   ]
  },
  {
   "cell_type": "code",
   "execution_count": null,
   "metadata": {
    "collapsed": true
   },
   "outputs": [],
   "source": []
  },
  {
   "cell_type": "markdown",
   "metadata": {},
   "source": [
    "#### 4. Delete lines containing Lane . "
   ]
  },
  {
   "cell_type": "code",
   "execution_count": null,
   "metadata": {
    "collapsed": true
   },
   "outputs": [],
   "source": []
  },
  {
   "cell_type": "markdown",
   "metadata": {},
   "source": [
    "#### 5. Print all lines where the birthdays are in November or December.  "
   ]
  },
  {
   "cell_type": "code",
   "execution_count": null,
   "metadata": {
    "collapsed": true
   },
   "outputs": [],
   "source": []
  },
  {
   "cell_type": "markdown",
   "metadata": {},
   "source": [
    "#### 6. Append three asterisks to the end of lines starting with Fred. "
   ]
  },
  {
   "cell_type": "code",
   "execution_count": null,
   "metadata": {
    "collapsed": true
   },
   "outputs": [],
   "source": []
  },
  {
   "cell_type": "markdown",
   "metadata": {},
   "source": [
    "#### 7. Replace the line containing Jose with JOSE HAS RETIRED . "
   ]
  },
  {
   "cell_type": "code",
   "execution_count": null,
   "metadata": {
    "collapsed": true
   },
   "outputs": [],
   "source": []
  },
  {
   "cell_type": "markdown",
   "metadata": {},
   "source": [
    "#### 8. Change Popeye 's birthday to 11/14/46 . Assume you don't know Popeye's original birthday. Use a regular expression to search for it. "
   ]
  },
  {
   "cell_type": "code",
   "execution_count": null,
   "metadata": {
    "collapsed": true
   },
   "outputs": [],
   "source": []
  },
  {
   "cell_type": "markdown",
   "metadata": {},
   "source": [
    "#### 9. Delete all blank lines. "
   ]
  },
  {
   "cell_type": "code",
   "execution_count": null,
   "metadata": {
    "collapsed": true
   },
   "outputs": [],
   "source": []
  },
  {
   "cell_type": "markdown",
   "metadata": {},
   "source": [
    "#### 10. Write a sed script that will \n",
    "\n",
    "* a. Insert above the first line the title PERSONNEL FILE. \n",
    "* b. Remove the salaries ending in 500.\n",
    "* c. Print the contents of the file with the last names and first names reversed. \n",
    "* d. Append at the end of the file THE END."
   ]
  },
  {
   "cell_type": "code",
   "execution_count": null,
   "metadata": {
    "collapsed": true
   },
   "outputs": [],
   "source": []
  },
  {
   "cell_type": "markdown",
   "metadata": {},
   "source": [
    "## Awk exercises\n"
   ]
  },
  {
   "cell_type": "markdown",
   "metadata": {},
   "source": [
    "#### (1) We have a bowtie like alignment file where on every line there is mapping information for one read. The fourth field describes the chromosome where the read is mapped to. Can you show the distribution of how many reads align to each chromosome? "
   ]
  },
  {
   "cell_type": "code",
   "execution_count": null,
   "metadata": {
    "collapsed": true
   },
   "outputs": [],
   "source": []
  },
  {
   "cell_type": "markdown",
   "metadata": {},
   "source": [
    "#### (2) Could you please use `awk` to compute the distances between all the $C_{\\alpha}$ atoms in a [given pdb file](2VIU.pdb)? A pdb file can stores the 3-D coordinates for all the atoms of a macromolecule."
   ]
  },
  {
   "cell_type": "code",
   "execution_count": null,
   "metadata": {
    "collapsed": true
   },
   "outputs": [],
   "source": []
  },
  {
   "cell_type": "markdown",
   "metadata": {},
   "source": [
    "#### (3) Next we will use one of the standard system files, `/etc/passwd`, to do a few more interesting problems. Take a look at this file using `tail /etc/passwd`. You will see lines that look like this:\n",
    "```\n",
    "bio:x:502:500:Unix/Linux Guy:/home/bio:/bin/bash\n",
    "```\n",
    "where the fields are __username, pass, userid, groupid, gecos, homedir, shell__. We are going to combine our regular expressions with other tools to extract fields from records we\n",
    "specify.\n",
    "\n",
    "* Output the shell field of the user bio\n",
    "* Output the homedir field of the user bio\n",
    "* Output the username field of the account with the userid 503\n",
    "* Output all the usernames whose groupid field is 501\n",
    "* Output all the usernames whose gecos field is empty\n",
    "* Output the username field of all users whose userid is five-digits and whose shell is not /bin/bash"
   ]
  },
  {
   "cell_type": "code",
   "execution_count": null,
   "metadata": {
    "collapsed": true
   },
   "outputs": [],
   "source": []
  }
 ],
 "metadata": {
  "kernelspec": {
   "display_name": "Bash",
   "language": "bash",
   "name": "bash"
  },
  "language_info": {
   "codemirror_mode": "shell",
   "file_extension": ".sh",
   "mimetype": "text/x-sh",
   "name": "bash"
  }
 },
 "nbformat": 4,
 "nbformat_minor": 0
}
