{
 "cells": [
  {
   "cell_type": "markdown",
   "metadata": {},
   "source": [
    "# Ch04: awk Tutorial\n",
    "___"
   ]
  },
  {
   "cell_type": "markdown",
   "metadata": {},
   "source": [
    "### A small `awk` example "
   ]
  },
  {
   "cell_type": "code",
   "execution_count": 17,
   "metadata": {
    "collapsed": false
   },
   "outputs": [
    {
     "name": "stdout",
     "output_type": "stream",
     "text": [
      "root:x:0:0:root:/root:/bin/bash\r\n",
      "daemon:x:1:1:daemon:/usr/sbin:/usr/sbin/nologin\r\n",
      "bin:x:2:2:bin:/bin:/usr/sbin/nologin\r\n",
      "sys:x:3:3:sys:/dev:/usr/sbin/nologin\r\n",
      "sync:x:4:65534:sync:/bin:/bin/sync\r\n"
     ]
    }
   ],
   "source": [
    "cat test | head -5"
   ]
  },
  {
   "cell_type": "markdown",
   "metadata": {},
   "source": [
    "### `awk` syntax\n",
    "```\n",
    "awk -F FS 'PATTERN{ACTION}' FILENAMES\n",
    "```"
   ]
  },
  {
   "cell_type": "markdown",
   "metadata": {},
   "source": [
    "Here `PATTERN` can be regular expression (正则表达式)."
   ]
  },
  {
   "cell_type": "code",
   "execution_count": 88,
   "metadata": {
    "collapsed": false
   },
   "outputs": [
    {
     "name": "stdout",
     "output_type": "stream",
     "text": [
      "daemon\r\n",
      "bin\r\n",
      "sys\r\n",
      "sync\r\n",
      "games\r\n"
     ]
    }
   ],
   "source": [
    "awk -F: '$7!~/bash/{print $1}' test | head -5"
   ]
  },
  {
   "cell_type": "code",
   "execution_count": 89,
   "metadata": {
    "collapsed": false
   },
   "outputs": [
    {
     "name": "stdout",
     "output_type": "stream",
     "text": [
      "44\r\n"
     ]
    }
   ],
   "source": [
    "awk -F\":\" '$0!~/bash/{print $1}' test | wc -l"
   ]
  },
  {
   "cell_type": "code",
   "execution_count": 91,
   "metadata": {
    "collapsed": false
   },
   "outputs": [
    {
     "name": "stdout",
     "output_type": "stream",
     "text": [
      "root:x:0:0:root:/root:/bin/bash\r\n",
      "postgres:x:116:124:PostgreSQL administrator,,,:/var/lib/postgresql:/bin/bash\r\n",
      "bio:x:1000:1000:Ricky Woo,,,:/home/bio:/bin/bash\r\n",
      "hadoop:x:1001:1001::/home/hadoop:/bin/zsh\r\n",
      "couchdb:x:127:137:CouchDB Administrator,,,:/var/lib/couchdb:/bin/bash\r\n",
      "oprofile:x:128:138:OProfile JIT user,,,:/var/lib/oprofile:/bin/bash\r\n",
      "biotmp:x:1004:1000::/home/biotmp:/bin/bash\r\n"
     ]
    }
   ],
   "source": [
    "awk -F\":\" '$7~/bash|zsh/' test"
   ]
  },
  {
   "cell_type": "code",
   "execution_count": 93,
   "metadata": {
    "collapsed": false
   },
   "outputs": [
    {
     "name": "stdout",
     "output_type": "stream",
     "text": [
      "root:x:0:0:root:/root:/bin/bash\r\n",
      "postgres:x:116:124:PostgreSQL administrator,,,:/var/lib/postgresql:/bin/bash\r\n",
      "bio:x:1000:1000:Ricky Woo,,,:/home/bio:/bin/bash\r\n"
     ]
    }
   ],
   "source": [
    "awk -F\":\" '$7==\"/bin/bash\"' test | head -3"
   ]
  },
  {
   "cell_type": "code",
   "execution_count": 94,
   "metadata": {
    "collapsed": false
   },
   "outputs": [
    {
     "name": "stdout",
     "output_type": "stream",
     "text": [
      "nobody:x:65534:65534:nobody:/nonexistent:/usr/sbin/nologin\r\n",
      "hadoop:x:1001:1001::/home/hadoop:/bin/zsh\r\n",
      "biotmp:x:1004:1000::/home/biotmp:/bin/bash\r\n"
     ]
    }
   ],
   "source": [
    "awk -F\":\" '$3>1000' test"
   ]
  },
  {
   "cell_type": "code",
   "execution_count": 96,
   "metadata": {
    "collapsed": false
   },
   "outputs": [
    {
     "name": "stdout",
     "output_type": "stream",
     "text": [
      "usbmux:x:103:46:usbmux daemon,,,:/home/usbmux:/bin/false\r\n",
      "speech-dispatcher:x:110:29:Speech Dispatcher,,,:/var/run/speech-dispatcher:/bin/sh\r\n",
      "hplip:x:114:7:HPLIP system user,,,:/var/run/hplip:/bin/false\r\n",
      "biotmp:x:1004:1000::/home/biotmp:/bin/bash\r\n"
     ]
    }
   ],
   "source": [
    "awk 'BEGIN{FS=\":\"}{if ($3>$4) print }' test"
   ]
  },
  {
   "cell_type": "markdown",
   "metadata": {},
   "source": [
    "## Built-in variables"
   ]
  },
  {
   "cell_type": "markdown",
   "metadata": {
    "collapsed": true
   },
   "source": [
    "| Variable | Definition |\n",
    "| --- | --- |\n",
    "| ARGC | The number of command-line arguments including the command itself |\n",
    "| ARGV | The array of command-line arguments including the command itself |\n",
    "| ENVIRON | The environment variables |\n",
    "| FILENAME | The filename to read |\n",
    "| NF | Number of fields |\n",
    "| NR | Index of current record for all the processed files|\n",
    "| OFS | Output field separator |\n",
    "| ORS | Output record separator |\n",
    "| FNR | Current index for the current processing files |\n",
    "| RS | Record separator |\n",
    "| FS | Field separator |\n",
    "| SUBSEP | Separator for the subscript | \n"
   ]
  },
  {
   "cell_type": "code",
   "execution_count": 11,
   "metadata": {
    "collapsed": false
   },
   "outputs": [
    {
     "name": "stdout",
     "output_type": "stream",
     "text": []
    }
   ],
   "source": [
    "cp /etc/passwd test"
   ]
  },
  {
   "cell_type": "code",
   "execution_count": 32,
   "metadata": {
    "collapsed": false
   },
   "outputs": [
    {
     "name": "stdout",
     "output_type": "stream",
     "text": [
      "test\r\n"
     ]
    }
   ],
   "source": [
    "awk 'BEGIN { print ARGV[1] }' test"
   ]
  },
  {
   "cell_type": "code",
   "execution_count": 80,
   "metadata": {
    "collapsed": false
   },
   "outputs": [
    {
     "name": "stdout",
     "output_type": "stream",
     "text": [
      "daemon:x:1:1:daemon:/usr/sbin:/usr/sbin/nologin\r\n",
      "sys:x:3:3:sys:/dev:/usr/sbin/nologin\r\n",
      "games:x:5:60:games:/usr/games:/usr/sbin/nologin\r\n"
     ]
    }
   ],
   "source": [
    "head -6 test | awk 'NR%2==0{print}'"
   ]
  },
  {
   "cell_type": "code",
   "execution_count": 14,
   "metadata": {
    "collapsed": false
   },
   "outputs": [
    {
     "name": "stdout",
     "output_type": "stream",
     "text": [
      "1 1\r\n",
      "2 2\r\n",
      "3 3\r\n",
      "4 4\r\n",
      "5 5\r\n",
      "6 6\r\n",
      "7 7\r\n",
      "8 8\r\n",
      "9 9\r\n",
      "10 10\r\n"
     ]
    }
   ],
   "source": [
    "head test | awk '{print FNR, NR}'"
   ]
  },
  {
   "cell_type": "markdown",
   "metadata": {},
   "source": [
    "## Three blocks\n",
    "| Blocks | Description |\n",
    "| --- | --- |\n",
    "| `BEGIN{...}` |  Before processing begins |\n",
    "| `{}` | Processing each record |\n",
    "| `END{}` | After processing |"
   ]
  },
  {
   "cell_type": "code",
   "execution_count": 36,
   "metadata": {
    "collapsed": false
   },
   "outputs": [
    {
     "name": "stdout",
     "output_type": "stream",
     "text": [
      "UserName\tShell\r\n",
      "====================\r\n",
      "root\t/bin/bash\r\n",
      "postgres\t/bin/bash\r\n",
      "bio\t/bin/bash\r\n",
      "couchdb\t/bin/bash\r\n",
      "oprofile\t/bin/bash\r\n",
      "biotmp\t/bin/bash\r\n",
      "--------------------\r\n"
     ]
    }
   ],
   "source": [
    "awk '\n",
    "BEGIN {\n",
    "    print \"UserName\\tShell\"\n",
    "    print \"====================\";\n",
    "    FS = \":\";\n",
    "    OFS = \"\\t\";\n",
    "}\n",
    "$7==\"/bin/bash\" {\n",
    "    print $1, $7;\n",
    "}\n",
    "END {\n",
    "    print \"--------------------\";\n",
    "}' test"
   ]
  },
  {
   "cell_type": "code",
   "execution_count": 37,
   "metadata": {
    "collapsed": false
   },
   "outputs": [
    {
     "name": "stdout",
     "output_type": "stream",
     "text": []
    }
   ],
   "source": [
    "cat > numbers.txt <<EOF\n",
    "3,5,6,7\n",
    "2,3,1,0\n",
    "4,5,6,9\n",
    "2,3,4,4\n",
    "2,2,1,0\n",
    "4,5,0,9\n",
    "EOF"
   ]
  },
  {
   "cell_type": "code",
   "execution_count": 42,
   "metadata": {
    "collapsed": false
   },
   "outputs": [
    {
     "name": "stdout",
     "output_type": "stream",
     "text": [
      "3,5,6,7\r\n",
      "2,3,1,0\r\n",
      "4,5,6,9\r\n",
      "2,3,4,4\r\n",
      "2,2,1,0\r\n",
      "4,5,0,9\r\n"
     ]
    }
   ],
   "source": [
    "cat numbers.txt"
   ]
  },
  {
   "cell_type": "code",
   "execution_count": 69,
   "metadata": {
    "collapsed": false
   },
   "outputs": [
    {
     "name": "stdout",
     "output_type": "stream",
     "text": [
      "The average is  6.83333\r\n",
      "The numbers greater than average:  3\r\n"
     ]
    }
   ],
   "source": [
    "awk -F\",\" '{\n",
    "    x+=$2+$3;\n",
    "    a[NR]=$2+$3\n",
    "}\n",
    "END{\n",
    "    y=x/NR;\n",
    "    for(i in a){if(y<a[i]) z++;}\n",
    "    print \"The average is \", y\n",
    "    print \"The numbers greater than average: \", z\n",
    "}' numbers.txt"
   ]
  },
  {
   "cell_type": "code",
   "execution_count": 68,
   "metadata": {
    "collapsed": false
   },
   "outputs": [
    {
     "name": "stdout",
     "output_type": "stream",
     "text": [
      "The average is 6.833333\r\n",
      "The number of $5 greater than avg: 3\r\n"
     ]
    }
   ],
   "source": [
    "awk -F\",\" '\n",
    "BEGIN {\n",
    "    n=0\n",
    "    while (getline<\"numbers.txt\"){\n",
    "        x+=$2+$3;\n",
    "        i++;\n",
    "    };\n",
    "    avg = x/i; \n",
    "}\n",
    "{\n",
    "    if ($2+$3 > avg) n++;\n",
    "}\n",
    "END {\n",
    "    printf(\"The average is %f\\n\", avg);\n",
    "    printf(\"The number of $5 greater than avg: %d\\n\", n);\n",
    "}' numbers.txt"
   ]
  },
  {
   "cell_type": "markdown",
   "metadata": {},
   "source": [
    "### `if`-condition"
   ]
  },
  {
   "cell_type": "code",
   "execution_count": 63,
   "metadata": {
    "collapsed": false
   },
   "outputs": [
    {
     "name": "stdout",
     "output_type": "stream",
     "text": [
      "1 6\r\n",
      "2 5\r\n"
     ]
    }
   ],
   "source": [
    "awk -F\",\" -v i=1 '{\n",
    "    if($4 == 0) {\n",
    "        z[i] = $1+$2+$3;\n",
    "        i++;\n",
    "    }\n",
    "}\n",
    "END{\n",
    "    for (i in z) {\n",
    "        print i, z[i]\n",
    "    }\n",
    "}' numbers.txt"
   ]
  },
  {
   "cell_type": "markdown",
   "metadata": {},
   "source": [
    "### `for`-loop"
   ]
  },
  {
   "cell_type": "code",
   "execution_count": 5,
   "metadata": {
    "collapsed": false
   },
   "outputs": [
    {
     "name": "stdout",
     "output_type": "stream",
     "text": [
      "4 4\r\n",
      "0 0\r\n",
      "1 1\r\n",
      "2 2\r\n",
      "3 3\r\n"
     ]
    }
   ],
   "source": [
    "awk 'BEGIN{\n",
    "    for (i=0;i<5;i++) {\n",
    "        a[i] = i;\n",
    "    }\n",
    "    for (i in a) {\n",
    "        print i, a[i];\n",
    "    }\n",
    "}'"
   ]
  },
  {
   "cell_type": "code",
   "execution_count": 13,
   "metadata": {
    "collapsed": false
   },
   "outputs": [
    {
     "name": "stdout",
     "output_type": "stream",
     "text": [
      "IM_CONFIG_PHASE : 1\r\n",
      "DBUS_SESSION_BUS_ADDRESS : unix:abstract=/tmp/dbus-eFrhJuRd23\r\n",
      "SHLVL : 2\r\n",
      "XDG_SESSION_PATH : /org/freedesktop/DisplayManager/Session0\r\n",
      "GNOME_DESKTOP_SESSION_ID : this-is-deprecated\r\n",
      "PWD : /home/bio/tutorials/python/python-notebook/Linux/awk\r\n",
      "GDMSESSION : gnome-fallback\r\n",
      "LC_PAPER : zh_CN.UTF-8\r\n",
      "CLASSPATH : /opt/jdk/lib:/opt/jdk/jre/lib:/usr/share/java/idb.jar:/usr/share/java/jdbc-mysql.jar:\r\n",
      "XDG_CONFIG_DIRS : /etc/xdg/xdg-gnome-fallback:/usr/share/upstart/xdg:/etc/xdg\r\n",
      "XDG_CURRENT_DESKTOP : Unity\r\n",
      "QT_QPA_PLATFORMTHEME : appmenu-qt5\r\n",
      "LESSCLOSE : /usr/bin/lesspipe %s %s\r\n",
      "JAVA_HOME : /opt/jdk\r\n",
      "XDG_GREETER_DATA_DIR : /var/lib/lightdm-data/bio\r\n",
      "TEXTDOMAINDIR : /usr/share/locale/\r\n",
      "LESSOPEN : | /usr/bin/lesspipe %s\r\n",
      "XDG_DATA_DIRS : /usr/share/gnome-fallback:/usr/share/gnome:/usr/local/share/:/usr/share/\r\n",
      "GDM_LANG : en_US\r\n",
      "SHELL : /bin/bash\r\n",
      "COLORTERM : gnome-terminal\r\n",
      "LC_MONETARY : zh_CN.UTF-8\r\n",
      "LC_NAME : zh_CN.UTF-8\r\n",
      "SESSIONTYPE : gnome-session\r\n",
      "DEFAULTS_PATH : /usr/share/gconf/gnome-fallback.default.path\r\n",
      "LC_TIME : zh_CN.UTF-8\r\n",
      "PATH : /opt/anaconda2/bin:/opt/anaconda2/bin:/home/scratch/root/torch/bin:/opt/anaconda2/bin:/usr/local/sbin:/usr/local/bin:/usr/sbin:/usr/bin:/sbin:/bin:/usr/games:/usr/local/games:/usr/lib/cd-hit:/opt/MATLAB/R2010b/bin:/opt/jdk/bin:/opt/jdk/jre/bin\r\n",
      "LOADEDMODULES : \r\n",
      "GNOME_KEYRING_PID : 3080\r\n",
      "XDG_SESSION_ID : c5\r\n",
      "MODULE_VERSION : 3.2.10\r\n",
      "XDG_MENU_PREFIX : gnome-flashback-\r\n",
      "TEXTDOMAIN : im-config\r\n",
      "MODULESHOME : /usr/local/Modules/3.2.10\r\n",
      "GPG_AGENT_INFO : /run/user/1000/keyring-yv3Pc9/gpg:0:1\r\n",
      "LS_COLORS : rs=0:di=01;34:ln=01;36:mh=00:pi=40;33:so=01;35:do=01;35:bd=40;33;01:cd=40;33;01:or=40;31;01:su=37;41:sg=30;43:ca=30;41:tw=30;42:ow=34;42:st=37;44:ex=01;32:*.tar=01;31:*.tgz=01;31:*.arj=01;31:*.taz=01;31:*.lzh=01;31:*.lzma=01;31:*.tlz=01;31:*.txz=01;31:*.zip=01;31:*.z=01;31:*.Z=01;31:*.dz=01;31:*.gz=01;31:*.lz=01;31:*.xz=01;31:*.bz2=01;31:*.bz=01;31:*.tbz=01;31:*.tbz2=01;31:*.tz=01;31:*.deb=01;31:*.rpm=01;31:*.jar=01;31:*.war=01;31:*.ear=01;31:*.sar=01;31:*.rar=01;31:*.ace=01;31:*.zoo=01;31:*.cpio=01;31:*.7z=01;31:*.rz=01;31:*.jpg=01;35:*.jpeg=01;35:*.gif=01;35:*.bmp=01;35:*.pbm=01;35:*.pgm=01;35:*.ppm=01;35:*.tga=01;35:*.xbm=01;35:*.xpm=01;35:*.tif=01;35:*.tiff=01;35:*.png=01;35:*.svg=01;35:*.svgz=01;35:*.mng=01;35:*.pcx=01;35:*.mov=01;35:*.mpg=01;35:*.mpeg=01;35:*.m2v=01;35:*.mkv=01;35:*.webm=01;35:*.ogm=01;35:*.mp4=01;35:*.m4v=01;35:*.mp4v=01;35:*.vob=01;35:*.qt=01;35:*.nuv=01;35:*.wmv=01;35:*.asf=01;35:*.rm=01;35:*.rmvb=01;35:*.flc=01;35:*.avi=01;35:*.fli=01;35:*.flv=01;35:*.gl=01;35:*.dl=01;35:*.xcf=01;35:*.xwd=01;35:*.yuv=01;35:*.cgm=01;35:*.emf=01;35:*.axv=01;35:*.anx=01;35:*.ogv=01;35:*.ogx=01;35:*.aac=00;36:*.au=00;36:*.flac=00;36:*.mid=00;36:*.midi=00;36:*.mka=00;36:*.mp3=00;36:*.mpc=00;36:*.ogg=00;36:*.ra=00;36:*.wav=00;36:*.axa=00;36:*.oga=00;36:*.spx=00;36:*.xspf=00;36:\r\n",
      "DESKTOP_SESSION : gnome-fallback\r\n",
      "JRE_HOME : /opt/jdk/jre\r\n",
      "LC_ADDRESS : zh_CN.UTF-8\r\n",
      "QT4_IM_MODULE : ibus\r\n",
      "LC_TELEPHONE : zh_CN.UTF-8\r\n",
      "MODULEPATH : /usr/local/Modules/versions:/usr/local/Modules/$MODULE_VERSION/modulefiles:/usr/local/Modules/modulefiles\r\n",
      "JPY_PARENT_PID : 4650\r\n",
      "PAGER : cat\r\n",
      "GNOME_KEYRING_CONTROL : /run/user/1000/keyring-yv3Pc9\r\n",
      "SSH_AUTH_SOCK : /run/user/1000/keyring-yv3Pc9/ssh\r\n",
      "INSTANCE : \r\n",
      "JOB : dbus\r\n",
      "GTK_MODULES : overlay-scrollbar:unity-gtk-module\r\n",
      "HOME : /home/bio\r\n",
      "TERM : xterm\r\n",
      "SESSION_MANAGER : local/biostar:@/tmp/.ICE-unix/3267,unix/biostar:/tmp/.ICE-unix/3267\r\n",
      "MANDATORY_PATH : /usr/share/gconf/gnome-fallback.mandatory.path\r\n",
      "LANG : en_US.UTF-8\r\n",
      "XDG_RUNTIME_DIR : /run/user/1000\r\n",
      "LOGNAME : bio\r\n",
      "LC_MEASUREMENT : zh_CN.UTF-8\r\n",
      "XDG_VTNR : 7\r\n",
      "QT_IM_MODULE : ibus\r\n",
      "VTE_VERSION : 3409\r\n",
      "UBUNTU_MENUPROXY : 0\r\n",
      "LC_IDENTIFICATION : zh_CN.UTF-8\r\n",
      "_ : /usr/bin/awk\r\n",
      "USER : bio\r\n",
      "DISPLAY : :0.0\r\n",
      "AWKPATH : .:/usr/share/awk\r\n",
      "SESSION : gnome-fallback\r\n",
      "GTK_IM_MODULE : ibus\r\n",
      "XDG_SEAT_PATH : /org/freedesktop/DisplayManager/Seat0\r\n",
      "PS1 : "
     ]
    }
   ],
   "source": [
    "awk 'BEGIN{\n",
    "    for (k in ENVIRON) {\n",
    "        print k, \":\", ENVIRON[k];\n",
    "    }\n",
    "}'"
   ]
  },
  {
   "cell_type": "markdown",
   "metadata": {},
   "source": [
    "### `while`-loop"
   ]
  },
  {
   "cell_type": "code",
   "execution_count": 6,
   "metadata": {
    "collapsed": false
   },
   "outputs": [
    {
     "name": "stdout",
     "output_type": "stream",
     "text": [
      "1x1=1\t1x2=2\t1x3=3\t1x4=4\t1x5=5\t1x6=6\t1x7=7\t1x8=8\t1x9=9\t\r\n",
      "\r\n",
      "2x1=2\t2x2=4\t2x3=6\t2x4=8\t2x5=10\t2x6=12\t2x7=14\t2x8=16\t2x9=18\t\r\n",
      "\r\n",
      "3x1=3\t3x2=6\t3x3=9\t3x4=12\t3x5=15\t3x6=18\t3x7=21\t3x8=24\t3x9=27\t\r\n",
      "\r\n",
      "4x1=4\t4x2=8\t4x3=12\t4x4=16\t4x5=20\t4x6=24\t4x7=28\t4x8=32\t4x9=36\t\r\n",
      "\r\n",
      "5x1=5\t5x2=10\t5x3=15\t5x4=20\t5x5=25\t5x6=30\t5x7=35\t5x8=40\t5x9=45\t\r\n",
      "\r\n",
      "6x1=6\t6x2=12\t6x3=18\t6x4=24\t6x5=30\t6x6=36\t6x7=42\t6x8=48\t6x9=54\t\r\n",
      "\r\n",
      "7x1=7\t7x2=14\t7x3=21\t7x4=28\t7x5=35\t7x6=42\t7x7=49\t7x8=56\t7x9=63\t\r\n",
      "\r\n",
      "8x1=8\t8x2=16\t8x3=24\t8x4=32\t8x5=40\t8x6=48\t8x7=56\t8x8=64\t8x9=72\t\r\n",
      "\r\n",
      "9x1=9\t9x2=18\t9x3=27\t9x4=36\t9x5=45\t9x6=54\t9x7=63\t9x8=72\t9x9=81\t\r\n",
      "\r\n"
     ]
    }
   ],
   "source": [
    "awk 'BEGIN{\n",
    "    i = 1\n",
    "    while (i < 10) {\n",
    "        j=1;\n",
    "        while (j < 10) {\n",
    "            printf(\"%dx%d=%d\", i, j, i*j);\n",
    "            printf(\"\\t\");\n",
    "            j++;\n",
    "        }\n",
    "        print \"\\n\";\n",
    "        i++;\n",
    "    }\n",
    "}'"
   ]
  },
  {
   "cell_type": "markdown",
   "metadata": {},
   "source": [
    "### `do`-loop"
   ]
  },
  {
   "cell_type": "code",
   "execution_count": 50,
   "metadata": {
    "collapsed": false
   },
   "outputs": [
    {
     "name": "stdout",
     "output_type": "stream",
     "text": [
      "5050\r\n"
     ]
    }
   ],
   "source": [
    "awk 'BEGIN{\n",
    "    total=0;\n",
    "    i=0;\n",
    "    do\n",
    "    {\n",
    "        total+=i;\n",
    "        i++;\n",
    "    } while(i<=100)\n",
    "    print total;\n",
    "}'"
   ]
  },
  {
   "cell_type": "markdown",
   "metadata": {},
   "source": [
    "## Built-in string function\n",
    "| Function name | Description | Example |\n",
    "| :--- | --- | --- |\n",
    "| `gsub(r,s)` | 在整个\\$0中用s替代r | `awk 'gsub(/name/，\"xingming\") {print $0}' temp` |\n",
    "| `gsub(r,s,t)` |  在整个t中用s替代r |  |\n",
    "| `index(s,t)` | 返回s中字符串t的第一位置 | `awk'BEGIN {printindex(\"Sunny\"，\"ny\")}' temp ` |\n",
    "| `length(s)` | 返回s的长度 | |\n",
    "| `match(s,r)` | 测试s是否包含匹配模式r的字符串 | `awk '$1==\"J.Lulu\" {print match($1，\"u\")}'` temp` |\n",
    "| `split(s,a,fs)` | 根据fs将s分成数组a | `awk 'BEGIN {print split(\"12#345#6789\", myarray, \"#\")\"'` |\n",
    "| `sprint(fmt,exp)`  | 返回经fmt格式化后的exp | |\n",
    "| `sub(r,s)` | 从\\$0中最左边最长的子串中用s代替r(只更换第一遇到的匹配字符串) | |\n",
    "| `substr(s,p)` | 返回字符串s中从p开始的后缀部分 | |\n",
    "| `substr(s,p,n)` | 返回字符串s中从p开始长度为n的后缀部分 | |"
   ]
  },
  {
   "cell_type": "markdown",
   "metadata": {},
   "source": [
    "### control statements\n",
    "| Statements | Description |\n",
    "| --- | --- |\n",
    "| break | 当 break语句用于 while 或 for 语句时，导致退出程序循环。|\n",
    "| continue | 当 continue语句用于 while 或 for 语句时，使程序循环移动到下一个迭代。|\n",
    "| next | 能够导致读入下一个输入行，并返回到脚本的顶部。这可以避免对当前输入行执行其他的操作过程。|\n",
    "| exit | 语句使主输入循环退出并将控制转移到END,如果END存在的话。如果没有定义END规则，或在END中应用exit语句，则终止脚本的执行。|"
   ]
  }
 ],
 "metadata": {
  "kernelspec": {
   "display_name": "Bash",
   "language": "bash",
   "name": "bash"
  },
  "language_info": {
   "codemirror_mode": "shell",
   "file_extension": ".sh",
   "mimetype": "text/x-sh",
   "name": "bash"
  }
 },
 "nbformat": 4,
 "nbformat_minor": 0
}
