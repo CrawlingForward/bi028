{
 "cells": [
  {
   "cell_type": "markdown",
   "metadata": {},
   "source": [
    "# Chapter 04: awk Tutorial\n",
    "___"
   ]
  },
  {
   "cell_type": "markdown",
   "metadata": {},
   "source": [
    "`awk` is more like a \"language\" for pattern matching than just a tool. We say that it is a language since it contains \n",
    "* __variable definition__ (变量定义),\n",
    "* __branch/loop statements__ (分支/循环语句) and also \n",
    "* __function definition__ (函数定义)."
   ]
  },
  {
   "cell_type": "markdown",
   "metadata": {},
   "source": [
    "As `sed` deals with a single line each time for a given file, `awk` can process a \"record\" in a given file at a time (Each record can be separated by a __RS__, record separator).\n",
    "\n",
    "`sed`以文件行为单位进行处理，而`awk`以记录为单位进行处理，这里“记录”指的是用__RS__分隔的数据。"
   ]
  },
  {
   "cell_type": "markdown",
   "metadata": {},
   "source": [
    "### A small `awk` example "
   ]
  },
  {
   "cell_type": "code",
   "execution_count": 17,
   "metadata": {
    "collapsed": false
   },
   "outputs": [
    {
     "name": "stdout",
     "output_type": "stream",
     "text": [
      "root:x:0:0:root:/root:/bin/bash\r\n",
      "daemon:x:1:1:daemon:/usr/sbin:/usr/sbin/nologin\r\n",
      "bin:x:2:2:bin:/bin:/usr/sbin/nologin\r\n",
      "sys:x:3:3:sys:/dev:/usr/sbin/nologin\r\n",
      "sync:x:4:65534:sync:/bin:/bin/sync\r\n"
     ]
    }
   ],
   "source": [
    "cp /etc/passwd test\n",
    "cat test | head -5"
   ]
  },
  {
   "cell_type": "markdown",
   "metadata": {},
   "source": [
    "### `awk` syntax\n",
    "```\n",
    "awk -F FS 'PATTERN{ACTION}' FILENAMES\n",
    "awk -f SCRIPT-FILE FILENAMES\n",
    "```"
   ]
  },
  {
   "cell_type": "markdown",
   "metadata": {},
   "source": [
    "Here `PATTERN` can be regular expression (正则表达式)."
   ]
  },
  {
   "cell_type": "code",
   "execution_count": 88,
   "metadata": {
    "collapsed": false
   },
   "outputs": [
    {
     "name": "stdout",
     "output_type": "stream",
     "text": [
      "daemon\r\n",
      "bin\r\n",
      "sys\r\n",
      "sync\r\n",
      "games\r\n"
     ]
    }
   ],
   "source": [
    "awk -F: '$7!~/bash/{print $1}' test | head -5"
   ]
  },
  {
   "cell_type": "code",
   "execution_count": 89,
   "metadata": {
    "collapsed": false
   },
   "outputs": [
    {
     "name": "stdout",
     "output_type": "stream",
     "text": [
      "44\r\n"
     ]
    }
   ],
   "source": [
    "awk -F\":\" '$0!~/bash/{print $1}' test | wc -l"
   ]
  },
  {
   "cell_type": "code",
   "execution_count": 91,
   "metadata": {
    "collapsed": false
   },
   "outputs": [
    {
     "name": "stdout",
     "output_type": "stream",
     "text": [
      "root:x:0:0:root:/root:/bin/bash\r\n",
      "postgres:x:116:124:PostgreSQL administrator,,,:/var/lib/postgresql:/bin/bash\r\n",
      "bio:x:1000:1000:Ricky Woo,,,:/home/bio:/bin/bash\r\n",
      "hadoop:x:1001:1001::/home/hadoop:/bin/zsh\r\n",
      "couchdb:x:127:137:CouchDB Administrator,,,:/var/lib/couchdb:/bin/bash\r\n",
      "oprofile:x:128:138:OProfile JIT user,,,:/var/lib/oprofile:/bin/bash\r\n",
      "biotmp:x:1004:1000::/home/biotmp:/bin/bash\r\n"
     ]
    }
   ],
   "source": [
    "awk -F\":\" '$7~/bash|zsh/' test"
   ]
  },
  {
   "cell_type": "code",
   "execution_count": 93,
   "metadata": {
    "collapsed": false
   },
   "outputs": [
    {
     "name": "stdout",
     "output_type": "stream",
     "text": [
      "root:x:0:0:root:/root:/bin/bash\r\n",
      "postgres:x:116:124:PostgreSQL administrator,,,:/var/lib/postgresql:/bin/bash\r\n",
      "bio:x:1000:1000:Ricky Woo,,,:/home/bio:/bin/bash\r\n"
     ]
    }
   ],
   "source": [
    "awk -F\":\" '$7==\"/bin/bash\"' test | head -3"
   ]
  },
  {
   "cell_type": "code",
   "execution_count": 94,
   "metadata": {
    "collapsed": false
   },
   "outputs": [
    {
     "name": "stdout",
     "output_type": "stream",
     "text": [
      "nobody:x:65534:65534:nobody:/nonexistent:/usr/sbin/nologin\r\n",
      "hadoop:x:1001:1001::/home/hadoop:/bin/zsh\r\n",
      "biotmp:x:1004:1000::/home/biotmp:/bin/bash\r\n"
     ]
    }
   ],
   "source": [
    "awk -F\":\" '$3>1000' test"
   ]
  },
  {
   "cell_type": "code",
   "execution_count": 96,
   "metadata": {
    "collapsed": false
   },
   "outputs": [
    {
     "name": "stdout",
     "output_type": "stream",
     "text": [
      "usbmux:x:103:46:usbmux daemon,,,:/home/usbmux:/bin/false\r\n",
      "speech-dispatcher:x:110:29:Speech Dispatcher,,,:/var/run/speech-dispatcher:/bin/sh\r\n",
      "hplip:x:114:7:HPLIP system user,,,:/var/run/hplip:/bin/false\r\n",
      "biotmp:x:1004:1000::/home/biotmp:/bin/bash\r\n"
     ]
    }
   ],
   "source": [
    "awk 'BEGIN{FS=\":\"}{if ($3>$4) print }' test"
   ]
  },
  {
   "cell_type": "markdown",
   "metadata": {},
   "source": [
    "## Built-in variables"
   ]
  },
  {
   "cell_type": "markdown",
   "metadata": {
    "collapsed": true
   },
   "source": [
    "| Variable | Definition |\n",
    "| --- | --- |\n",
    "| ARGC | The number of command-line arguments including the command itself |\n",
    "| ARGV | The array of command-line arguments including the command itself |\n",
    "| ENVIRON | The environment variables |\n",
    "| FILENAME | The filename to read |\n",
    "| NF | Number of fields |\n",
    "| NR | Index of current record for all the processed files|\n",
    "| OFS | Output field separator |\n",
    "| ORS | Output record separator |\n",
    "| FNR | Current index for the current processing files |\n",
    "| RS | Record separator |\n",
    "| FS | Field separator |\n",
    "| SUBSEP | Separator for the \"multidimensional\" array subscript | \n"
   ]
  },
  {
   "cell_type": "code",
   "execution_count": 11,
   "metadata": {
    "collapsed": false
   },
   "outputs": [
    {
     "name": "stdout",
     "output_type": "stream",
     "text": []
    }
   ],
   "source": [
    "cp /etc/passwd test"
   ]
  },
  {
   "cell_type": "code",
   "execution_count": 32,
   "metadata": {
    "collapsed": false
   },
   "outputs": [
    {
     "name": "stdout",
     "output_type": "stream",
     "text": [
      "test\r\n"
     ]
    }
   ],
   "source": [
    "awk 'BEGIN { print ARGV[1] }' test"
   ]
  },
  {
   "cell_type": "code",
   "execution_count": 80,
   "metadata": {
    "collapsed": false
   },
   "outputs": [
    {
     "name": "stdout",
     "output_type": "stream",
     "text": [
      "daemon:x:1:1:daemon:/usr/sbin:/usr/sbin/nologin\r\n",
      "sys:x:3:3:sys:/dev:/usr/sbin/nologin\r\n",
      "games:x:5:60:games:/usr/games:/usr/sbin/nologin\r\n"
     ]
    }
   ],
   "source": [
    "head -6 test | awk 'NR%2==0{print}'"
   ]
  },
  {
   "cell_type": "code",
   "execution_count": 14,
   "metadata": {
    "collapsed": false
   },
   "outputs": [
    {
     "name": "stdout",
     "output_type": "stream",
     "text": [
      "1 1\r\n",
      "2 2\r\n",
      "3 3\r\n",
      "4 4\r\n",
      "5 5\r\n",
      "6 6\r\n",
      "7 7\r\n",
      "8 8\r\n",
      "9 9\r\n",
      "10 10\r\n"
     ]
    }
   ],
   "source": [
    "head test | awk '{print FNR, NR}'"
   ]
  },
  {
   "cell_type": "markdown",
   "metadata": {},
   "source": [
    "## Three special addresses\n",
    "| Blocks | Description |\n",
    "| --- | --- |\n",
    "| `BEGIN{...}` |  Before the whole file processing begins |\n",
    "| `{}` | Processing each record |\n",
    "| `END{}` | After processing the whole file |\n",
    "\n",
    "假设文件包含n个记录，BEGIN对应的是第0个记录，也就是说在未开始之前；而END对应的是第n+1个记录，也就是说，所有行都遍历完毕以后。"
   ]
  },
  {
   "cell_type": "code",
   "execution_count": 36,
   "metadata": {
    "collapsed": false
   },
   "outputs": [
    {
     "name": "stdout",
     "output_type": "stream",
     "text": [
      "UserName\tShell\r\n",
      "====================\r\n",
      "root\t/bin/bash\r\n",
      "postgres\t/bin/bash\r\n",
      "bio\t/bin/bash\r\n",
      "couchdb\t/bin/bash\r\n",
      "oprofile\t/bin/bash\r\n",
      "biotmp\t/bin/bash\r\n",
      "--------------------\r\n"
     ]
    }
   ],
   "source": [
    "awk '\n",
    "BEGIN {\n",
    "    print \"UserName\\tShell\"\n",
    "    print \"====================\";\n",
    "    FS = \":\";\n",
    "    OFS = \"\\t\";\n",
    "}\n",
    "$7==\"/bin/bash\" {\n",
    "    print $1, $7;\n",
    "}\n",
    "END {\n",
    "    print \"--------------------\";\n",
    "}' test"
   ]
  },
  {
   "cell_type": "code",
   "execution_count": 37,
   "metadata": {
    "collapsed": false
   },
   "outputs": [
    {
     "name": "stdout",
     "output_type": "stream",
     "text": []
    }
   ],
   "source": [
    "cat > numbers.txt <<EOF\n",
    "3,5,6,7\n",
    "2,3,1,0\n",
    "4,5,6,9\n",
    "2,3,4,4\n",
    "2,2,1,0\n",
    "4,5,0,9\n",
    "EOF"
   ]
  },
  {
   "cell_type": "code",
   "execution_count": 42,
   "metadata": {
    "collapsed": false
   },
   "outputs": [
    {
     "name": "stdout",
     "output_type": "stream",
     "text": [
      "3,5,6,7\r\n",
      "2,3,1,0\r\n",
      "4,5,6,9\r\n",
      "2,3,4,4\r\n",
      "2,2,1,0\r\n",
      "4,5,0,9\r\n"
     ]
    }
   ],
   "source": [
    "cat numbers.txt"
   ]
  },
  {
   "cell_type": "code",
   "execution_count": 69,
   "metadata": {
    "collapsed": false
   },
   "outputs": [
    {
     "name": "stdout",
     "output_type": "stream",
     "text": [
      "The average is  6.83333\r\n",
      "The numbers greater than average:  3\r\n"
     ]
    }
   ],
   "source": [
    "awk -F\",\" '{\n",
    "    x+=$2+$3;\n",
    "    a[NR]=$2+$3\n",
    "}\n",
    "END{\n",
    "    y=x/NR;\n",
    "    for(i in a){if(y<a[i]) z++;}\n",
    "    print \"The average is \", y\n",
    "    print \"The numbers greater than average: \", z\n",
    "}' numbers.txt"
   ]
  },
  {
   "cell_type": "code",
   "execution_count": 68,
   "metadata": {
    "collapsed": false
   },
   "outputs": [
    {
     "name": "stdout",
     "output_type": "stream",
     "text": [
      "The average is 6.833333\r\n",
      "The number of $5 greater than avg: 3\r\n"
     ]
    }
   ],
   "source": [
    "awk -F\",\" '\n",
    "BEGIN {\n",
    "    n=0\n",
    "    while (getline<\"numbers.txt\"){\n",
    "        x+=$2+$3;\n",
    "        i++;\n",
    "    };\n",
    "    avg = x/i; \n",
    "}\n",
    "{\n",
    "    if ($2+$3 > avg) n++;\n",
    "}\n",
    "END {\n",
    "    printf(\"The average is %f\\n\", avg);\n",
    "    printf(\"The number of $5 greater than avg: %d\\n\", n);\n",
    "}' numbers.txt"
   ]
  },
  {
   "cell_type": "code",
   "execution_count": 46,
   "metadata": {
    "collapsed": false
   },
   "outputs": [
    {
     "name": "stdout",
     "output_type": "stream",
     "text": [
      "2\r\n",
      "3\r\n",
      "3\r\n",
      "5\r\n",
      "5\r\n",
      "5\r\n"
     ]
    }
   ],
   "source": [
    "awk -F\",\" '\n",
    "{\n",
    "    a[NR] = $2;\n",
    "    b[NR] = $0\n",
    "}\n",
    "END{\n",
    "    asort(a, c);\n",
    "    for (i=1;i<=NR;i++) print c[i]\n",
    "}' numbers.txt"
   ]
  },
  {
   "cell_type": "markdown",
   "metadata": {},
   "source": [
    "从这里，我们可以看到awk支持变量的定义和数组，但awk仅支持1-D数组，且其下标实际上是字符串而非数值。对于所谓的高维数组，我们可以看到，其实际上是伪高维数组："
   ]
  },
  {
   "cell_type": "code",
   "execution_count": 16,
   "metadata": {
    "collapsed": false
   },
   "outputs": [
    {
     "name": "stdout",
     "output_type": "stream",
     "text": [
      "2 - 2 : 4\r\n",
      "2 - 3 : 6\r\n",
      "3 - 3 : 9\r\n",
      "1 - 1 : 1\r\n",
      "1 - 2 : 2\r\n",
      "1 - 3 : 3\r\n"
     ]
    }
   ],
   "source": [
    "awk 'BEGIN {\\\n",
    "    for(i=1;i<4;i++){\n",
    "        for(j=i;j<4;j++) a[i,j]=i*j;\n",
    "    }\\\n",
    "    for(k in a) {\n",
    "        split(k, subs, SUBSEP)\n",
    "        print subs[1], \"-\", subs[2], \":\", a[k];\n",
    "    }\\\n",
    "}'"
   ]
  },
  {
   "cell_type": "markdown",
   "metadata": {},
   "source": [
    "## Conditional statements and loop statements"
   ]
  },
  {
   "cell_type": "markdown",
   "metadata": {},
   "source": [
    "### `if`-condition"
   ]
  },
  {
   "cell_type": "code",
   "execution_count": 63,
   "metadata": {
    "collapsed": false
   },
   "outputs": [
    {
     "name": "stdout",
     "output_type": "stream",
     "text": [
      "1 6\r\n",
      "2 5\r\n"
     ]
    }
   ],
   "source": [
    "awk -F\",\" -v i=1 '{\n",
    "    if($4 == 0) {\n",
    "        z[i] = $1+$2+$3;\n",
    "        i++;\n",
    "    }\n",
    "}\n",
    "END{\n",
    "    for (i in z) {\n",
    "        print i, z[i]\n",
    "    }\n",
    "}' numbers.txt"
   ]
  },
  {
   "cell_type": "markdown",
   "metadata": {},
   "source": [
    "### `for`-loop"
   ]
  },
  {
   "cell_type": "code",
   "execution_count": 5,
   "metadata": {
    "collapsed": false
   },
   "outputs": [
    {
     "name": "stdout",
     "output_type": "stream",
     "text": [
      "4 4\r\n",
      "0 0\r\n",
      "1 1\r\n",
      "2 2\r\n",
      "3 3\r\n"
     ]
    }
   ],
   "source": [
    "awk 'BEGIN{\n",
    "    for (i=0;i<5;i++) {\n",
    "        a[i] = i;\n",
    "    }\n",
    "    for (i in a) {\n",
    "        print i, a[i];\n",
    "    }\n",
    "}'"
   ]
  },
  {
   "cell_type": "code",
   "execution_count": 3,
   "metadata": {
    "collapsed": false
   },
   "outputs": [
    {
     "name": "stdout",
     "output_type": "stream",
     "text": [
      "10\r\n",
      "\r\n"
     ]
    }
   ],
   "source": [
    "VAR=10 awk 'BEGIN{\n",
    "        print ENVIRON[\"VAR\"];\n",
    "        print $VAR\n",
    "}'"
   ]
  },
  {
   "cell_type": "markdown",
   "metadata": {},
   "source": [
    "### `while`-loop"
   ]
  },
  {
   "cell_type": "code",
   "execution_count": 5,
   "metadata": {
    "collapsed": false
   },
   "outputs": [
    {
     "name": "stdout",
     "output_type": "stream",
     "text": [
      "1x1=1\t1x2=2\t1x3=3\t1x4=4\t1x5=5\t1x6=6\t1x7=7\t1x8=8\t1x9=9\t\r\n",
      "\r\n",
      "2x1=2\t2x2=4\t2x3=6\t2x4=8\t2x5=10\t2x6=12\t2x7=14\t2x8=16\t2x9=18\t\r\n",
      "\r\n",
      "3x1=3\t3x2=6\t3x3=9\t3x4=12\t3x5=15\t3x6=18\t3x7=21\t3x8=24\t3x9=27\t\r\n",
      "\r\n",
      "4x1=4\t4x2=8\t4x3=12\t4x4=16\t4x5=20\t4x6=24\t4x7=28\t4x8=32\t4x9=36\t\r\n",
      "\r\n",
      "5x1=5\t5x2=10\t5x3=15\t5x4=20\t5x5=25\t5x6=30\t5x7=35\t5x8=40\t5x9=45\t\r\n",
      "\r\n",
      "6x1=6\t6x2=12\t6x3=18\t6x4=24\t6x5=30\t6x6=36\t6x7=42\t6x8=48\t6x9=54\t\r\n",
      "\r\n",
      "7x1=7\t7x2=14\t7x3=21\t7x4=28\t7x5=35\t7x6=42\t7x7=49\t7x8=56\t7x9=63\t\r\n",
      "\r\n",
      "8x1=8\t8x2=16\t8x3=24\t8x4=32\t8x5=40\t8x6=48\t8x7=56\t8x8=64\t8x9=72\t\r\n",
      "\r\n",
      "9x1=9\t9x2=18\t9x3=27\t9x4=36\t9x5=45\t9x6=54\t9x7=63\t9x8=72\t9x9=81\t\r\n",
      "\r\n"
     ]
    }
   ],
   "source": [
    "awk -v i=1 'BEGIN{\n",
    "    while (i < 10) {\n",
    "        j=1;\n",
    "        while (j < 10) {\n",
    "            printf(\"%dx%d=%d\", i, j, i*j);\n",
    "            printf(\"\\t\");\n",
    "            j++;\n",
    "        }\n",
    "        print \"\\n\";\n",
    "        i++;\n",
    "    }\n",
    "}'"
   ]
  },
  {
   "cell_type": "markdown",
   "metadata": {},
   "source": [
    "### `do`-loop"
   ]
  },
  {
   "cell_type": "code",
   "execution_count": 50,
   "metadata": {
    "collapsed": false
   },
   "outputs": [
    {
     "name": "stdout",
     "output_type": "stream",
     "text": [
      "5050\r\n"
     ]
    }
   ],
   "source": [
    "awk 'BEGIN{\n",
    "    total=0;\n",
    "    i=0;\n",
    "    do\n",
    "    {\n",
    "        total+=i;\n",
    "        i++;\n",
    "    } while(i<=100)\n",
    "    print total;\n",
    "}'"
   ]
  },
  {
   "cell_type": "markdown",
   "metadata": {},
   "source": [
    "## Arithmetic functions\n",
    "| Function name | Description |\n",
    "| --- | --- |\n",
    "| `atan2(y,x)` | 反正切函数 |\n",
    "| `cos(x)` | 余弦函数 |\n",
    "| `sin(x)` | 正弦函数 |\n",
    "| `exp(x)` | 以自然对数e为底指数函数 |\n",
    "| `log(x)` | 计算以$e$为底的对数值 |\n",
    "| `sqrt(x)` | 平方根函数 |\n",
    "| `abs(x)` | 绝对值函数 |\n",
    "| `int(x)` | 将数值转换成整数 |\n",
    "| `rand()`  | 返回0到1的一个随机数值，不包含1 |\n",
    "| `srand([expr])` | 设置随机种子，一般与rand函数配合使用，如果参数为空，默认使用当前时间为种子 |"
   ]
  },
  {
   "cell_type": "markdown",
   "metadata": {},
   "source": [
    "## Built-in string function\n",
    "| Function name | Description | Example |\n",
    "| :--- | --- | --- |\n",
    "| `gsub(r,s)` | 在整个\\$0中用s替代r | `awk 'gsub(/name/，\"xingming\") {print $0}' temp` |\n",
    "| `gsub(r,s,t)` |  在整个t中用s替代r | `awk '{gsub(/name/, \"xingming\", $3);}' temp` |\n",
    "| `index(s,t)` | 返回s中字符串t的第一位置 | `awk 'BEGIN {printindex(\"Sunny\"，\"ny\")}' temp ` |\n",
    "| `length(s)` | 返回s的长度 | `awk '{print length($2)}'`|\n",
    "| `match(s,r)` | 测试s是否包含匹配模式r的字符串 | `awk '$1==\"J.Lulu\" {print match($1，\"u\")}'` temp` |\n",
    "| `split(s,a,fs)` | 根据fs将s分成数组a | `awk 'BEGIN {print split(\"12#345#6789\", myarray, \"#\")\"'` |\n",
    "| `sprintf(fmt,exp)`  | 返回经fmt格式化后的exp |  `awk '{a=sprintf(\"%10s%20s\", $2, $3); print a}' test` |\n",
    "| `sub(r,s)` | 从\\$0中最左边最长的子串中用s代替r(只更换第一遇到的匹配字符串) | `awk '{sub(/bio/, \"student\"); print $0}' test` |\n",
    "| `substr(s,p)` | 返回字符串s中从p开始的后缀部分 | `awk '{print substr($7, 3)}' test` |\n",
    "| `substr(s,p,n)` | 返回字符串s中从p开始长度为n的后缀部分 | `awk '{print substr($7, 3, 3)}' test` |\n",
    "| `tolower(s)` | 返回字符串的小写 | `awk 'BEGIN{ print tolower(\"TEST\")}'` |\n",
    "| `toupper(s)` | 返回字符串的大写 | `awk 'BEGIN{ print toupper(\"test\")}'` |"
   ]
  },
  {
   "cell_type": "markdown",
   "metadata": {},
   "source": [
    "## I/O functions\n",
    "<table>\n",
    "<tr><td>Function name</td><td>Description</td><td>Example</td></tr>\n",
    "<tr><td>getline [var]</td><td>读取命令结果到变量</td><td>awk 'BEGIN{while(\"ls -l\" | getline text) print text}'</td></tr>\n",
    "<tr><td>getline [var]</td><td>读取文件内容到变量</td><td>awk 'BEGIN{while(getline) print NF, $0 }' test`</td></tr>\n",
    "<tr><td>close</td><td>关闭打开的文件或者管道</td><td>慎用</td>\n",
    "<tr><td>system(command)</td><td>执行系统命令</td><td>awk 'BEGIN{ system(\"uname -r\") }'</td></tr>\n",
    "</table>"
   ]
  },
  {
   "cell_type": "markdown",
   "metadata": {},
   "source": [
    "### control statements\n",
    "| Statements | Description |\n",
    "| --- | --- |\n",
    "| break | 当 break语句用于 while 或 for 语句时，导致退出程序循环。|\n",
    "| continue | 当 continue语句用于 while 或 for 语句时，使程序循环移动到下一个迭代。|\n",
    "| next | 能够导致读入下一个输入行，并返回到脚本的顶部。这可以避免对当前输入行执行其他的操作过程。|\n",
    "| exit | 语句使主输入循环退出并将控制转移到END,如果END存在的话。如果没有定义END规则，或在END中应用exit语句，则终止脚本的执行。|"
   ]
  },
  {
   "cell_type": "markdown",
   "metadata": {},
   "source": [
    "## User-defined Function\n",
    "\n",
    "Here is an example of function definition (Note that the functions should be defined outside all the addresses, since it should be GLOBAL):"
   ]
  },
  {
   "cell_type": "code",
   "execution_count": 32,
   "metadata": {
    "collapsed": false
   },
   "outputs": [
    {
     "name": "stdout",
     "output_type": "stream",
     "text": [
      "Before function run: b =  \r\n",
      "After function run: b =  hello\r\n"
     ]
    }
   ],
   "source": [
    "awk '\n",
    "function t(a) {\n",
    "    b = a;\n",
    "}\n",
    "BEGIN {\n",
    "    print \"Before function run: b = \", b;\n",
    "    t(\"hello\"); \n",
    "    print \"After function run: b = \", b;\n",
    "}\n",
    "'"
   ]
  },
  {
   "cell_type": "markdown",
   "metadata": {
    "collapsed": true
   },
   "source": [
    "If you want to know more about `awk`, please refer to [awk cheat sheet](http://www.catonmat.net/download/awk.cheat.sheet.pdf)."
   ]
  },
  {
   "cell_type": "markdown",
   "metadata": {},
   "source": [
    "## <font color=\"blue\">Exercise</font>\n",
    "1. Can you sort the above file \"numbers.txt\" according to the second field arithmetically in descending order, with `awk`?\n",
    "2. Compute the row sums, row products and column sums, column products.\n",
    "3. Compute the average score for each person:\n",
    "```\n",
    "Tom     Music   86.5\n",
    "Jerry   Math    97\n",
    "Kitty   English 64\n",
    "Tom     Math    77\n",
    "Jerry   English 33\n",
    "Kitty   Math    66\n",
    "Kitty   Music   99\n",
    "Jerry   Music   44\n",
    "Tom     English 88    \n",
    "Tom     History 77\n",
    "Kitty   Geography 99\n",
    "```"
   ]
  },
  {
   "cell_type": "markdown",
   "metadata": {},
   "source": [
    "## Conclusion remarks\n",
    "\n",
    "In this tutorial we have introduced some of the important concepts in `awk`:\n",
    "1. Some built-in variables\n",
    "2. Variable definition\n",
    "3. Conditional and loop statements\n",
    "4. Built-in functions\n",
    "5. User-defined function\n",
    "6. Arrays in `awk`\n",
    "7. Advanced usage for `awk`"
   ]
  }
 ],
 "metadata": {
  "kernelspec": {
   "display_name": "Bash",
   "language": "bash",
   "name": "bash"
  },
  "language_info": {
   "codemirror_mode": "shell",
   "file_extension": ".sh",
   "mimetype": "text/x-sh",
   "name": "bash"
  }
 },
 "nbformat": 4,
 "nbformat_minor": 0
}
