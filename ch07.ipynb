{
 "cells": [
  {
   "cell_type": "markdown",
   "metadata": {},
   "source": [
    "# Chapter 07: File I/O and Regular Expression\n",
    "___"
   ]
  },
  {
   "cell_type": "markdown",
   "metadata": {},
   "source": [
    "## Part 1: Files\n",
    "\n",
    "Python uses `file` objects to interact with external files on your computer. These file objects can be any sort of file you have on your computer, whether it be an audio file, a text file, emails, Excel documents, etc.\n",
    "\n",
    "__Note__: You will probably need to install certain libraries or modules to interact with those various file types, but they are easily available. (We will cover downloading modules later on in the course).\n",
    "\n",
    "Python has a built-in open function that allows us to open and play with basic file types. First we will need a file though. We're going to use some iPython magic to create a text file!"
   ]
  },
  {
   "cell_type": "code",
   "execution_count": null,
   "metadata": {
    "collapsed": false
   },
   "outputs": [],
   "source": [
    "%%writefile test.txt\n",
    "Hello, this is a quick test file"
   ]
  },
  {
   "cell_type": "markdown",
   "metadata": {},
   "source": [
    "### 1. Opening a file\n",
    "\n",
    "We can open a file with the `open()` function. The open function also takes in arguments (also called parameters). Lets see how this is used:"
   ]
  },
  {
   "cell_type": "code",
   "execution_count": null,
   "metadata": {
    "collapsed": true
   },
   "outputs": [],
   "source": [
    "# open the text.txt we made earlier\n",
    "my_file = open('test.txt')"
   ]
  },
  {
   "cell_type": "code",
   "execution_count": null,
   "metadata": {
    "collapsed": true
   },
   "outputs": [],
   "source": [
    "open?"
   ]
  },
  {
   "cell_type": "code",
   "execution_count": null,
   "metadata": {
    "collapsed": false
   },
   "outputs": [],
   "source": [
    "print file.__doc__"
   ]
  },
  {
   "cell_type": "markdown",
   "metadata": {},
   "source": [
    "### 2. Reading a file"
   ]
  },
  {
   "cell_type": "code",
   "execution_count": null,
   "metadata": {
    "collapsed": false
   },
   "outputs": [],
   "source": [
    "# we can now read the file\n",
    "my_file.read()"
   ]
  },
  {
   "cell_type": "code",
   "execution_count": null,
   "metadata": {
    "collapsed": false
   },
   "outputs": [],
   "source": [
    "# but what happens if we try to read it again?\n",
    "my_file.read()"
   ]
  },
  {
   "cell_type": "markdown",
   "metadata": {},
   "source": [
    "#### What happens?\n",
    "\n",
    "This happens because you can imagine the reading \"cursor\" is at the end of the file after having read it. So there is nothing left to read. But we can reset the \"cursor\" like this:"
   ]
  },
  {
   "cell_type": "code",
   "execution_count": null,
   "metadata": {
    "collapsed": true
   },
   "outputs": [],
   "source": [
    "# seek to the start of file (index 0)\n",
    "my_file.seek(0)"
   ]
  },
  {
   "cell_type": "code",
   "execution_count": null,
   "metadata": {
    "collapsed": false
   },
   "outputs": [],
   "source": [
    "# Now read again\n",
    "my_file.read()"
   ]
  },
  {
   "cell_type": "markdown",
   "metadata": {},
   "source": [
    "In order to not have to reset every time, we can also use the `readlines()` method. However be cautious to use this on large files, since everything will be held in memory. We will learn how to iterate over large files later."
   ]
  },
  {
   "cell_type": "code",
   "execution_count": null,
   "metadata": {
    "collapsed": false
   },
   "outputs": [],
   "source": [
    "# readlines returns a list of the lines in the file.\n",
    "my_file.seek(0)\n",
    "my_file.readlines()"
   ]
  },
  {
   "cell_type": "markdown",
   "metadata": {},
   "source": [
    "### 3. Writing a file"
   ]
  },
  {
   "cell_type": "markdown",
   "metadata": {},
   "source": [
    "By default, using the `open()` function will only grant the `read` permission for the file, we need to pass the argument 'w' to write over the file. For example:"
   ]
  },
  {
   "cell_type": "code",
   "execution_count": null,
   "metadata": {
    "collapsed": true
   },
   "outputs": [],
   "source": [
    "# add a second argument to the function, 'w' which stands for write\n",
    "my_file = open('test.txt','w+')"
   ]
  },
  {
   "cell_type": "code",
   "execution_count": null,
   "metadata": {
    "collapsed": true
   },
   "outputs": [],
   "source": [
    "# write to the file\n",
    "my_file.write('This is a new line')"
   ]
  },
  {
   "cell_type": "code",
   "execution_count": null,
   "metadata": {
    "collapsed": false
   },
   "outputs": [],
   "source": [
    "# read the file\n",
    "my_file.seek(0)\n",
    "my_file.read()"
   ]
  },
  {
   "cell_type": "markdown",
   "metadata": {},
   "source": [
    "### 4. Iterating through a File\n",
    "\n",
    "Lets get a quick preview of a `for` loop by iterating over a text file. First let's make a new text file with some iPython Magic:"
   ]
  },
  {
   "cell_type": "code",
   "execution_count": null,
   "metadata": {
    "collapsed": false
   },
   "outputs": [],
   "source": [
    "%%writefile test.txt\n",
    "First Line\n",
    "Second Line"
   ]
  },
  {
   "cell_type": "markdown",
   "metadata": {},
   "source": [
    "Now we can use a little bit of flow to tell the program to `for` through every line of the file and do something:"
   ]
  },
  {
   "cell_type": "code",
   "execution_count": null,
   "metadata": {
    "collapsed": false
   },
   "outputs": [],
   "source": [
    "for line in open('test.txt'):\n",
    "    print line"
   ]
  },
  {
   "cell_type": "markdown",
   "metadata": {},
   "source": [
    "<font color=\"red\">Be careful not to call `.read()` on the file, the whole text file was not stored in memory</font>."
   ]
  },
  {
   "cell_type": "code",
   "execution_count": null,
   "metadata": {
    "collapsed": false
   },
   "outputs": [],
   "source": [
    "with open('test.txt') as f:\n",
    "    f.readline()"
   ]
  },
  {
   "cell_type": "code",
   "execution_count": null,
   "metadata": {
    "collapsed": false
   },
   "outputs": [],
   "source": [
    "help(f.readline)"
   ]
  },
  {
   "cell_type": "markdown",
   "metadata": {},
   "source": [
    "### 5. Do we need to close the `file`?"
   ]
  },
  {
   "cell_type": "code",
   "execution_count": null,
   "metadata": {
    "collapsed": false
   },
   "outputs": [],
   "source": [
    "my_file.close()"
   ]
  },
  {
   "cell_type": "code",
   "execution_count": null,
   "metadata": {
    "collapsed": false
   },
   "outputs": [],
   "source": [
    "del f"
   ]
  },
  {
   "cell_type": "markdown",
   "metadata": {},
   "source": [
    "## Part 2: Regular Expression in Python\n",
    "\n",
    "As we mentioned in the previous chapter, regexes are one of the most useful things you can work with in programming. They are a mini-language for matching text.\n",
    "\n",
    "`re` is the python package (module) for conducting regular expression."
   ]
  },
  {
   "cell_type": "code",
   "execution_count": null,
   "metadata": {
    "collapsed": false,
    "scrolled": true
   },
   "outputs": [],
   "source": [
    "import re"
   ]
  },
  {
   "cell_type": "code",
   "execution_count": null,
   "metadata": {
    "collapsed": true
   },
   "outputs": [],
   "source": [
    "re?"
   ]
  },
  {
   "cell_type": "code",
   "execution_count": null,
   "metadata": {
    "collapsed": false
   },
   "outputs": [],
   "source": [
    "help(re)"
   ]
  },
  {
   "cell_type": "code",
   "execution_count": null,
   "metadata": {
    "collapsed": true
   },
   "outputs": [],
   "source": [
    "s = 'hello'"
   ]
  },
  {
   "cell_type": "markdown",
   "metadata": {},
   "source": [
    "### 1. `re.compile`: create a regex pattern object\n",
    "\n",
    "`re.compile()` will return an `SRE_Pattern` object."
   ]
  },
  {
   "cell_type": "code",
   "execution_count": null,
   "metadata": {
    "collapsed": true
   },
   "outputs": [],
   "source": [
    "re.compile?"
   ]
  },
  {
   "cell_type": "code",
   "execution_count": null,
   "metadata": {
    "collapsed": true
   },
   "outputs": [],
   "source": [
    "pat = re.compile('e')"
   ]
  },
  {
   "cell_type": "code",
   "execution_count": null,
   "metadata": {
    "collapsed": false
   },
   "outputs": [],
   "source": [
    "pat, type(pat)"
   ]
  },
  {
   "cell_type": "markdown",
   "metadata": {},
   "source": [
    "### 2. `re.search`: Looking for the first match to a given pattern\n",
    "\n",
    "`re.search()` will return an `SRE_Match` object."
   ]
  },
  {
   "cell_type": "code",
   "execution_count": null,
   "metadata": {
    "collapsed": false
   },
   "outputs": [],
   "source": [
    "re.search?"
   ]
  },
  {
   "cell_type": "code",
   "execution_count": null,
   "metadata": {
    "collapsed": false
   },
   "outputs": [],
   "source": [
    "result = re.search(pat, s)"
   ]
  },
  {
   "cell_type": "code",
   "execution_count": null,
   "metadata": {
    "collapsed": false
   },
   "outputs": [],
   "source": [
    "result"
   ]
  },
  {
   "cell_type": "code",
   "execution_count": null,
   "metadata": {
    "collapsed": false
   },
   "outputs": [],
   "source": [
    "help(result)"
   ]
  },
  {
   "cell_type": "code",
   "execution_count": null,
   "metadata": {
    "collapsed": false
   },
   "outputs": [],
   "source": [
    "result.group(0)"
   ]
  },
  {
   "cell_type": "markdown",
   "metadata": {},
   "source": [
    "You can try more complex regular expressions, of course."
   ]
  },
  {
   "cell_type": "code",
   "execution_count": null,
   "metadata": {
    "collapsed": false
   },
   "outputs": [],
   "source": [
    "sentence = (\"A symmetry of a pattern is, loosely speaking, a way of transforming \"\n",
    "            \"the pattern so that the pattern looks exactly the same after the \"\n",
    "            \"transformation.\")"
   ]
  },
  {
   "cell_type": "code",
   "execution_count": null,
   "metadata": {
    "collapsed": false
   },
   "outputs": [],
   "source": [
    "results = re.search(r\"(?P<PAT>pattern).*?(?P=PAT)\", sentence, re.DOTALL+re.M)"
   ]
  },
  {
   "cell_type": "markdown",
   "metadata": {},
   "source": [
    "Here `(?P<PAT>pattern)` creates a __named capturing (命名捕获)__ with name `PAT`, and the regular expression is `pattern`. Hence, this captured group can be __backreferenced (后向引用)__ by `(?P=PAT)`. "
   ]
  },
  {
   "cell_type": "code",
   "execution_count": null,
   "metadata": {
    "collapsed": false
   },
   "outputs": [],
   "source": [
    "print results.groupdict('PAT')"
   ]
  },
  {
   "cell_type": "markdown",
   "metadata": {},
   "source": [
    "For a __non-named capturing (非命名捕获)__, you can try"
   ]
  },
  {
   "cell_type": "code",
   "execution_count": null,
   "metadata": {
    "collapsed": true
   },
   "outputs": [],
   "source": [
    "results = re.search(r\"(pattern).*?\\1\", sentence, re.DOTALL+re.MULTILINE)"
   ]
  },
  {
   "cell_type": "code",
   "execution_count": null,
   "metadata": {
    "collapsed": false
   },
   "outputs": [],
   "source": [
    "print results.group(0)"
   ]
  },
  {
   "cell_type": "code",
   "execution_count": null,
   "metadata": {
    "collapsed": false
   },
   "outputs": [],
   "source": [
    "result = re.search(r\"([\\S]*?)(?=ing)\", sentence)"
   ]
  },
  {
   "cell_type": "markdown",
   "metadata": {},
   "source": [
    "Note here `(?=ing)` is a __lookahead zero-length assertion (前视零宽断言)__, which is also a __non-capturing group (非捕获组)__, but only a __positional assertion (位置断言)__."
   ]
  },
  {
   "cell_type": "code",
   "execution_count": null,
   "metadata": {
    "collapsed": false
   },
   "outputs": [],
   "source": [
    "result.group(1)"
   ]
  },
  {
   "cell_type": "code",
   "execution_count": null,
   "metadata": {
    "collapsed": false
   },
   "outputs": [],
   "source": [
    "result.group(2)"
   ]
  },
  {
   "cell_type": "markdown",
   "metadata": {},
   "source": [
    "### 3. `re.findall`: Find all matches to a given pattern"
   ]
  },
  {
   "cell_type": "code",
   "execution_count": null,
   "metadata": {
    "collapsed": true
   },
   "outputs": [],
   "source": [
    "re.findall?"
   ]
  },
  {
   "cell_type": "code",
   "execution_count": null,
   "metadata": {
    "collapsed": false
   },
   "outputs": [],
   "source": [
    "result = re.findall(r\"pattern\", sentence)"
   ]
  },
  {
   "cell_type": "code",
   "execution_count": null,
   "metadata": {
    "collapsed": false
   },
   "outputs": [],
   "source": [
    "result.count('pattern')"
   ]
  },
  {
   "cell_type": "code",
   "execution_count": null,
   "metadata": {
    "collapsed": false
   },
   "outputs": [],
   "source": [
    "type(result)"
   ]
  },
  {
   "cell_type": "code",
   "execution_count": null,
   "metadata": {
    "collapsed": false
   },
   "outputs": [],
   "source": [
    "results = re.findall(r\".at.\", sentence)"
   ]
  },
  {
   "cell_type": "code",
   "execution_count": null,
   "metadata": {
    "collapsed": false
   },
   "outputs": [],
   "source": [
    "results"
   ]
  },
  {
   "cell_type": "code",
   "execution_count": null,
   "metadata": {
    "collapsed": false
   },
   "outputs": [],
   "source": [
    "# Case-insensitive matching\n",
    "print(re.findall(r\"h\", \"Hello there! How may I help you?\"))\n",
    "print(re.findall(r\"h\", \"Hello there! How may I help you?\", re.IGNORECASE))"
   ]
  },
  {
   "cell_type": "markdown",
   "metadata": {},
   "source": [
    "### 4. `re.match`: Apply the pattern at the start of the string\n",
    "\n",
    "`re.match()` will also return an `SRE_Match` object."
   ]
  },
  {
   "cell_type": "code",
   "execution_count": null,
   "metadata": {
    "collapsed": true
   },
   "outputs": [],
   "source": [
    "result = re.match(r'.*?pattern', sentence)"
   ]
  },
  {
   "cell_type": "code",
   "execution_count": null,
   "metadata": {
    "collapsed": false
   },
   "outputs": [],
   "source": [
    "result"
   ]
  },
  {
   "cell_type": "code",
   "execution_count": null,
   "metadata": {
    "collapsed": false
   },
   "outputs": [],
   "source": [
    "result.group(0)"
   ]
  },
  {
   "cell_type": "markdown",
   "metadata": {},
   "source": [
    "### 5. `re.sub`, `re.subs`: substitution"
   ]
  },
  {
   "cell_type": "code",
   "execution_count": null,
   "metadata": {
    "collapsed": true
   },
   "outputs": [],
   "source": [
    "re.subn?"
   ]
  },
  {
   "cell_type": "code",
   "execution_count": null,
   "metadata": {
    "collapsed": false
   },
   "outputs": [],
   "source": [
    "re.sub('pattern', 'PATTERN', sentence)"
   ]
  },
  {
   "cell_type": "code",
   "execution_count": null,
   "metadata": {
    "collapsed": false
   },
   "outputs": [],
   "source": [
    "re.subn('pattern', 'PATTERN', sentence, count=1)"
   ]
  },
  {
   "cell_type": "markdown",
   "metadata": {},
   "source": [
    "### 6. `flags`: an 8-bit integers to indicate the options\n",
    "\n",
    "This can be written into binary number `00000000`:\n",
    "* For example, if we set `flags=2`, that means `flags=00000010`, indicating that `ignorecase=True`;"
   ]
  },
  {
   "cell_type": "code",
   "execution_count": null,
   "metadata": {
    "collapsed": false
   },
   "outputs": [],
   "source": [
    "re.IGNORECASE"
   ]
  },
  {
   "cell_type": "code",
   "execution_count": null,
   "metadata": {
    "collapsed": false
   },
   "outputs": [],
   "source": [
    "re.LOCALE"
   ]
  },
  {
   "cell_type": "code",
   "execution_count": null,
   "metadata": {
    "collapsed": false
   },
   "outputs": [],
   "source": [
    "re.MULTILINE"
   ]
  },
  {
   "cell_type": "code",
   "execution_count": null,
   "metadata": {
    "collapsed": false
   },
   "outputs": [],
   "source": [
    "re.DOTALL"
   ]
  },
  {
   "cell_type": "code",
   "execution_count": null,
   "metadata": {
    "collapsed": false
   },
   "outputs": [],
   "source": [
    "re.UNICODE"
   ]
  },
  {
   "cell_type": "code",
   "execution_count": null,
   "metadata": {
    "collapsed": false
   },
   "outputs": [],
   "source": [
    "re.VERBOSE"
   ]
  },
  {
   "cell_type": "code",
   "execution_count": null,
   "metadata": {
    "collapsed": false
   },
   "outputs": [],
   "source": [
    "re.DEBUG"
   ]
  },
  {
   "cell_type": "code",
   "execution_count": null,
   "metadata": {
    "collapsed": false
   },
   "outputs": [],
   "source": [
    "re.findall(r'this', \"This is a string\", flags=66)"
   ]
  },
  {
   "cell_type": "code",
   "execution_count": null,
   "metadata": {
    "collapsed": false
   },
   "outputs": [],
   "source": [
    "re.findall(r'this', \"This is a string\", re.IGNORECASE+re.VERBOSE)"
   ]
  },
  {
   "cell_type": "markdown",
   "metadata": {},
   "source": [
    "### 7. `re.escape`: Escape all non-alphanumeric in a pattern"
   ]
  },
  {
   "cell_type": "code",
   "execution_count": null,
   "metadata": {
    "collapsed": false
   },
   "outputs": [],
   "source": [
    "re.escape(r'str.*\\b')"
   ]
  },
  {
   "cell_type": "code",
   "execution_count": null,
   "metadata": {
    "collapsed": false
   },
   "outputs": [],
   "source": [
    "re.findall(re.escape(r'str.*\\b'), \"This is a string\", re.IGNORECASE+re.VERBOSE)"
   ]
  },
  {
   "cell_type": "code",
   "execution_count": null,
   "metadata": {
    "collapsed": true
   },
   "outputs": [],
   "source": []
  },
  {
   "cell_type": "markdown",
   "metadata": {},
   "source": [
    "## Exercises"
   ]
  },
  {
   "cell_type": "markdown",
   "metadata": {},
   "source": [
    "#### 1. What will output for the following python script?  "
   ]
  },
  {
   "cell_type": "code",
   "execution_count": null,
   "metadata": {
    "collapsed": false
   },
   "outputs": [],
   "source": [
    "re.search(r\"(a+b){2}\", \"abaaaabaab\").group(0)"
   ]
  },
  {
   "cell_type": "code",
   "execution_count": null,
   "metadata": {
    "collapsed": false
   },
   "outputs": [],
   "source": [
    "re.findall(r\"[\\.,;?!]\", sentence)"
   ]
  },
  {
   "cell_type": "code",
   "execution_count": null,
   "metadata": {
    "collapsed": false
   },
   "outputs": [],
   "source": [
    "re.findall(r\"[^A-Za-z0-9 ]\", sentence)"
   ]
  },
  {
   "cell_type": "code",
   "execution_count": null,
   "metadata": {
    "collapsed": false
   },
   "outputs": [],
   "source": [
    "re.search(r\"[0-9]{3}-[0-9]{3}-[0-9]{4}\", \"My phone number is 919-555-1212.\")"
   ]
  },
  {
   "cell_type": "markdown",
   "metadata": {},
   "source": [
    "#### 2. What will output for the following python script?"
   ]
  },
  {
   "cell_type": "code",
   "execution_count": null,
   "metadata": {
    "collapsed": false
   },
   "outputs": [],
   "source": [
    "re.findall(r\"\\d{3}-\\d{3}-\\d{4}\", \"My phone number is 919-555-1212.\")"
   ]
  },
  {
   "cell_type": "code",
   "execution_count": null,
   "metadata": {
    "collapsed": false
   },
   "outputs": [],
   "source": [
    "re.findall(r\"[^\\w\\s]\", sentence)"
   ]
  },
  {
   "cell_type": "code",
   "execution_count": null,
   "metadata": {
    "collapsed": false
   },
   "outputs": [],
   "source": [
    "re.findall(r\"[\\W\\S]\", sentence)"
   ]
  },
  {
   "cell_type": "markdown",
   "metadata": {},
   "source": [
    "There's a few odder ones:\n",
    "\n",
    "* `\\A` matches the beginning of the string. This is a lot like `^`, but different for multi-line strings.\n",
    "* `\\Z` matches the end of the string. This is a lot like `$`, but different for multi-line strings.\n",
    "* `\\b` matches a word boundary. This means it matches an empty string at the end of a word."
   ]
  },
  {
   "cell_type": "markdown",
   "metadata": {},
   "source": [
    "#### 3. What will output for the following python script?"
   ]
  },
  {
   "cell_type": "code",
   "execution_count": null,
   "metadata": {
    "collapsed": false
   },
   "outputs": [],
   "source": [
    "re.findall(r\"\\b\\w{3,5}\\b\", sentence)"
   ]
  },
  {
   "cell_type": "code",
   "execution_count": null,
   "metadata": {
    "collapsed": false
   },
   "outputs": [],
   "source": [
    "text = \"\"\"This is a multi-line string.\n",
    "It has newlines in it.\"\"\"\n",
    "\n",
    "print(re.findall(r\"\\w\\.$\", text, re.MULTILINE))\n",
    "print(re.findall(r\"\\w\\.\\Z\", text, re.MULTILINE))"
   ]
  },
  {
   "cell_type": "code",
   "execution_count": null,
   "metadata": {
    "collapsed": false
   },
   "outputs": [],
   "source": [
    "possible_emails = [\"clinton\", \"clinton@dreisbach.us\", \"beanguy@example.org\", \n",
    "                   \"Email help@example.org for more information\",\n",
    "                   \"terry@example.org\", \"@carmen\", \"what@what\", \"hi@example.org\"]\n",
    "[possibility \n",
    " for possibility in possible_emails \n",
    " if re.search(\"\\A\\w+@\\w+\\.\\w{2,3}\\Z\", possibility)]"
   ]
  },
  {
   "cell_type": "markdown",
   "metadata": {},
   "source": [
    "#### 4. Capturing matches"
   ]
  },
  {
   "cell_type": "code",
   "execution_count": null,
   "metadata": {
    "collapsed": false
   },
   "outputs": [],
   "source": [
    "possibilities = [\"Queenland, HK\", \"Xuhui, SH\", \"Nanjing\", \"Huairou, BJ\", \"CQ\"]\n",
    "for possibility in possibilities:\n",
    "    match = re.search(\"^([\\w\\s]+), ([A-Z]{2})\", possibility)\n",
    "    if match:\n",
    "        town, city = match.groups()\n",
    "        print \"Town:\", town, \"| City:\", city"
   ]
  },
  {
   "cell_type": "code",
   "execution_count": null,
   "metadata": {
    "collapsed": false
   },
   "outputs": [],
   "source": [
    "phone_nums = [\"999-555-1212\", \"(703) 555-9999\", \"800.555.7341\", \"3145558286\"]\n",
    "cleaned = []\n",
    "for num in phone_nums:\n",
    "    match = re.search(r\"\\(?(\\d{3})\\)?[\\-\\.]?\\s*(\\d{3})[\\-\\.]?(\\d{4})\", num)\n",
    "    cleaned.append(\"{}-{}-{}\".format(*match.groups()))\n",
    "print(cleaned)"
   ]
  },
  {
   "cell_type": "markdown",
   "metadata": {},
   "source": [
    "#### 5. Non-capturing group\n",
    "\n",
    "Use `(?:)` to make a group but not capture it."
   ]
  },
  {
   "cell_type": "code",
   "execution_count": null,
   "metadata": {
    "collapsed": false
   },
   "outputs": [],
   "source": [
    "phone_num_with_possible_area_code = r\"(?:\\(?(\\d{3})\\)?[\\-\\.]?\\s*)?(\\d{3})[\\-\\.]?(\\d{4})\"\n",
    "phone_nums = [\"999-555-1212\", \"(703) 555-9999\", \"800.555.7341\", \"3145558286\", \"555-1212\"]\n",
    "cleaned = []\n",
    "for num in phone_nums:\n",
    "    match = re.search(phone_num_with_possible_area_code, num)\n",
    "    cleaned.append(\"{}-{}-{}\".format(*match.groups()))\n",
    "print(cleaned)"
   ]
  },
  {
   "cell_type": "code",
   "execution_count": null,
   "metadata": {
    "collapsed": false
   },
   "outputs": [],
   "source": [
    "phone_num_with_possible_area_code = r\"(?:\\(?(\\d{3})\\)?[-.]?\\s*)?(\\d{3})[-.]?(\\d{4})\"\n",
    "phone_nums = [\"999-555-1212\", \"(703) 555-9999\", \"800.555.7341\", \"3145558286\", \"555-1212\"]\n",
    "for num in phone_nums:\n",
    "    match = re.search(phone_num_with_possible_area_code, num)\n",
    "    print(match.group(1))"
   ]
  },
  {
   "cell_type": "markdown",
   "metadata": {},
   "source": [
    "#### 6. Parsing a Genbank file\n",
    "\n",
    "Here is a [Genbank file](data/NT_033777.gbk) for Chr-3R of *__D.melanogaster__*. Try to extract the CDS (coding sequence) and save them all in a file as FASTA format, using the knowledge of regular expression you have learn.\n",
    "\n",
    "```\n",
    "     CDS             join(1115..1913,7784..8649,9439..9771)\n",
    "                     /gene=\"CG12581\"\n",
    "                     /locus_tag=\"Dmel_CG12581\"\n",
    "                     /note=\"CG12581 gene product from transcript CG12581-RA\"\n",
    "                     /codon_start=1\n",
    "                     /product=\"CG12581-PA, isoform A\"\n",
    "                     /protein_id=\"NP_649435.2\"\n",
    "                     /db_xref=\"GI:24643831\"\n",
    "                     /db_xref=\"FLYBASE:FBgn0037213\"\n",
    "                     /db_xref=\"GeneID:40522\"\n",
    "                     /translation=\"MGDSTPICRCRVLYLGSAVPRQSKDGLQGIQEPLRSLYPSEGAV\n",
    "                     GAKGIDSWLSVWSNGILLENVDENLKQITRFFPIESLHYCAAVRQVLIPERGNTHPEP\n",
    "                     KFLPLDSPFARMPRAQHPPIFAAILRRTTGIKVLECHVFICKREAAANALVRCCFHAY\n",
    "                     ADNSYARQLETGGGSSVYGTLKSGAISKSSSDLTGVGLANGVGNGSGGGNHHLSLSAQ\n",
    "                     GGWRSRTGSTTTLNSLGRASNGHANGSAIGMNGSSAVSAAEGYTSVKNFYGSSADLNV\n",
    "                     AVDDGDASFNGDENHKVWNGSQDQLDSIGPLESPYELFAGNTSTLGRPLRARQISTPI\n",
    "                     DVPPPPVKDERKTKRDKKLTKSSGSQSLSGTLIRPKPVHPAPQHRSGFQGPSGPGSVT\n",
    "                     YGHVSGHGLHAARYHTISHRGIPPGSHSHLTHHPPPHPSQNQVHMMHHPHIGGLPPMQ\n",
    "                     IPVMMPQQYATLQPSRSTGKKKKKDKKSGAGGGVPVGMPIVPPIYAFQQQVVGVPAPQ\n",
    "                     LAQSLIGETRPLGHSSRKLAASMGNGLDDSGNSGAESPSPGGTGIYKRKGHLNERAFS\n",
    "                     YSIRQEHRSRSHGSLASLQFNPPDIKKEREIAQMVAGLDLNEGERPMGPNTLQRKHAM\n",
    "                     TMSNGGLHGPGPSQHPHAHPPHPHAIYGPLGPASSFGMPRR\"\n",
    "```\n",
    "or\n",
    "```\n",
    "     CDS             complement(15530..15955)\n",
    "                     /gene=\"Dsk\"\n",
    "                     /locus_tag=\"Dmel_CG18090\"\n",
    "                     /note=\"CG18090 gene product from transcript CG18090-RA\"\n",
    "                     /codon_start=1\n",
    "                     /product=\"CG18090-PA\"\n",
    "                     /protein_id=\"NP_524845.2\"\n",
    "                     /db_xref=\"GI:28573265\"\n",
    "                     /db_xref=\"FLYBASE:FBgn0000500\"\n",
    "                     /db_xref=\"GeneID:45845\"\n",
    "                     /translation=\"MGPRSCTHFATLFMPLWALAFCFLVVLPIPAQTTSLQNAKDDRR\n",
    "                     LQELESKIGGEIDQPIANLVGPSFSLFGDRRNQKTMSFGRRVPLISRPIIPIELDLLM\n",
    "                     DNDDERTKAKRFDDYGHMRFGKRGGDDQFDDYGHMRFGR\"\n",
    "```\n",
    "\n",
    "This is a medium-size file. Be careful not to read all lines into a buffer, instead, use the streaming read."
   ]
  },
  {
   "cell_type": "code",
   "execution_count": null,
   "metadata": {
    "collapsed": true
   },
   "outputs": [],
   "source": []
  }
 ],
 "metadata": {
  "kernelspec": {
   "display_name": "Python 2",
   "language": "python",
   "name": "python2"
  },
  "language_info": {
   "codemirror_mode": {
    "name": "ipython",
    "version": 2
   },
   "file_extension": ".py",
   "mimetype": "text/x-python",
   "name": "python",
   "nbconvert_exporter": "python",
   "pygments_lexer": "ipython2",
   "version": "2.7.11"
  }
 },
 "nbformat": 4,
 "nbformat_minor": 0
}
