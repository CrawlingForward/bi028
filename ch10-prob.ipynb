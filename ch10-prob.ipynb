{
 "cells": [
  {
   "cell_type": "markdown",
   "metadata": {},
   "source": [
    "# Chapter 10: Probability and Statistics\n",
    "___"
   ]
  },
  {
   "cell_type": "markdown",
   "metadata": {},
   "source": [
    "## Probability for continuous and discrete\n",
    "$$\n",
    "\\begin{align}\n",
    "0 \\le P(x) \\ge 1\\\\\n",
    "\\sum_x P(x) = 1\\\\\n",
    "\\end{align}\n",
    "$$"
   ]
  },
  {
   "cell_type": "markdown",
   "metadata": {},
   "source": [
    "## Conditional probability and Bayesian Theorem\n",
    "$$\n",
    "\\begin{align}\n",
    "P(B_i | A) = \\frac{P(AB_i)}{P(A)}\\\\\n",
    "P(A) = \\sum_i P(A|B_i)P(B_i)\\\\\n",
    "P(B_i | A) = \\frac{P(A|B_i)P(B_i)}{\\sum_i P(A|B_i)P(B_i)}\n",
    "\\end{align}\n",
    "$$"
   ]
  },
  {
   "cell_type": "markdown",
   "metadata": {},
   "source": [
    "## Probability distributions\n",
    "\n",
    "#### Probability density function (pdf， 概率密度函数)\n",
    "\n",
    "#### Cumulative density function (cdf， 累计密度函数)\n",
    "\n",
    "#### Expectation (期望)\n",
    "\n",
    "#### Variance (方差)"
   ]
  },
  {
   "cell_type": "markdown",
   "metadata": {},
   "source": [
    "### Bernoulli distribution (a.k.a 0-1 distribution)\n",
    "\n",
    "The outcome for a single experiment can be either 0 or 1: $P(x=1) = p, P(x=0) = 1-p$.\n",
    "\n",
    "This can be denoted as $X \\sim \\operatorname{bern}(p)$."
   ]
  },
  {
   "cell_type": "markdown",
   "metadata": {},
   "source": [
    "### Binomial distribution\n",
    "\n",
    "$n$ trials, the count of success $X \\sim \\operatorname{Binom}(n, p)$."
   ]
  },
  {
   "cell_type": "markdown",
   "metadata": {},
   "source": [
    "### Negative Binomial distribution\n",
    "\n"
   ]
  },
  {
   "cell_type": "markdown",
   "metadata": {},
   "source": [
    "### Poisson distribution: $X \\sim \\textrm{Poisson}(\\lambda)$\n",
    "\n",
    "From Taylor expansion we have:\n",
    "$$\n",
    "e^x = 1 + x + \\frac{x^2}{2!} + \\cdots + \\frac{x^k}{k!} + \\cdots\n",
    "$$\n",
    "\n",
    "Therefore, we have\n",
    "$$\n",
    "e^{-x} + \\frac{x}{1}e^{-x} + \\frac{x^2}{2!}e^{-x} + \\cdots + \\frac{x^k}{k!}e^{-x} + \\cdots = 1\n",
    "$$\n",
    "\n",
    "That is, we can compute as:\n",
    "$$\n",
    "p(x=k) = \\frac{\\lambda^k}{k!} e^{-\\lambda}\n",
    "$$"
   ]
  },
  {
   "cell_type": "markdown",
   "metadata": {},
   "source": [
    "### Uniform distribution: $X \\sim U(a, b)$\n",
    "\n",
    "#### Probability density function (pdf):\n",
    "$$\n",
    "f(x) = \\left\\{ \\begin{array}{ll}\n",
    "1/(b-a) & x \\in [a, b]\\\\\n",
    "0 & \\mbox{otherwise}\n",
    "\\end{array}\\right.\n",
    "$$\n",
    "#### Cumulative density function (cdf):\n",
    "$$\n",
    "F(x) = \n",
    "$$\n",
    "#### Expectation\n",
    "$$\n",
    "E(x) = \\int_a^b xf(x)dx = \\frac{a+b}{2}\n",
    "$$\n",
    "#### Variance\n",
    "$$\n",
    "Var(x) = \\frac{(b-a)^2}{12}\n",
    "$$\n"
   ]
  },
  {
   "cell_type": "markdown",
   "metadata": {},
   "source": [
    "### Exponential distribution family (指数分布家族)\n",
    "\n",
    "指数家族分布的一般形式：\n",
    "$$\n",
    "p(y;\\eta) = b(y) \\exp(\\eta^T T(y) - a(\\eta))\n",
    "$$\n",
    "\n",
    "伯努利分布是一种特殊的指数分布家族成员。\n",
    "\n",
    "$$\n",
    "\\begin{array}{lcl}\n",
    "p(y;\\phi) &=& \\phi^y (1-\\phi)^{1-y}\\\\\n",
    "&=& \\exp(y \\log \\phi + (1-y) \\log (1-\\phi))\\\\\n",
    "&=& \\exp(\\log(\\frac{\\phi}{1-\\phi})y + \\log(1-\\phi))\n",
    "\\end{array}\n",
    "$$\n",
    "\n",
    "这样，\n",
    "$$\n",
    "\\begin{align}\n",
    "b(y) = 1\\\\\n",
    "a(\\eta) = - \\log(1-\\phi)\\\\\n",
    "\\eta = \\log(\\frac{\\phi}{1-\\phi})\\\\\n",
    "T(y) = y\\\\\n",
    "\\end{align}\n",
    "$$\n",
    "\n",
    "也就是说\n",
    "$$\n",
    "\\begin{align}\n",
    "\\phi = \\frac{1}{1+e^{-\\eta}}\\\\\n",
    "a(\\eta) = -\\log \\frac{e^{-\\eta}}{1+e^{-\\eta}}\n",
    "\\end{align}\n",
    "$$\n",
    "\n",
    "值得注意的是，$\\phi = \\frac{1}{1+e^{-\\eta}}$是logistic/sigmoid function的形式，被广泛应用在logistic regression和neural network中。\n",
    "\n",
    "Logistic function的导数形式非常符合数学的美学特征：\n",
    "$$\n",
    "f'(x) = f(x)(1 - f(x))\n",
    "$$\n",
    "这在后续的应用中会提到，在这里就不多赘述了。"
   ]
  },
  {
   "cell_type": "markdown",
   "metadata": {},
   "source": [
    "## Gamma分布\n",
    "\n",
    "\n",
    "Gamma函数是阶乘在实数域的推广。\n",
    "$$\n",
    "\\begin{align}\n",
    "\\Gamma(\\alpha) = \\int_0^{\\infty} t^{\\alpha - 1} e^{-t} dt\\\\\n",
    "\\Gamma(n) = (n-1)!\n",
    "\\end{align}\n",
    "$$"
   ]
  },
  {
   "cell_type": "code",
   "execution_count": null,
   "metadata": {
    "collapsed": true
   },
   "outputs": [],
   "source": []
  }
 ],
 "metadata": {
  "kernelspec": {
   "display_name": "Python 2",
   "language": "python",
   "name": "python2"
  },
  "language_info": {
   "codemirror_mode": {
    "name": "ipython",
    "version": 2
   },
   "file_extension": ".py",
   "mimetype": "text/x-python",
   "name": "python",
   "nbconvert_exporter": "python",
   "pygments_lexer": "ipython2",
   "version": "2.7.11"
  }
 },
 "nbformat": 4,
 "nbformat_minor": 0
}
