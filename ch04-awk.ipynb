{
 "cells": [
  {
   "cell_type": "markdown",
   "metadata": {},
   "source": [
    "# Ch04: `sed`, `awk`, `perl` regular expressions\n",
    "___"
   ]
  },
  {
   "cell_type": "markdown",
   "metadata": {},
   "source": [
    "## SESSION 2: `awk` tutorial"
   ]
  },
  {
   "cell_type": "markdown",
   "metadata": {},
   "source": [
    "* [Lesson 01: Basics of Awk](awk-lessons/Lesson 01 Basics of Awk.ipynb)\n",
    "\n",
    "* [Lesson 02: Built in Functions](awk-lessons/Lesson 02 Built in Functions.ipynb)\n",
    "\n",
    "* [Lesson 03: Arrays](awk-lessons/Lesson 03 Arrays.ipynb)\n",
    "\n",
    "* [Lesson 04: Actions](awk-lessons/Lesson 04 Actions.ipynb)\n",
    "\n",
    "* [Lesson 05: Built-in Variables](awk-lessons/Lesson 05 Built in Variables.ipynb)\n",
    "\n",
    "* [Lesson 06: Patterns](awk-lessons/Lesson 06 Patterns.ipynb)\n",
    "\n",
    "* [Lesson 07: Other Tools](awk-lessons/Lesson 07 Other Tools.ipynb)"
   ]
  }
 ],
 "metadata": {
  "kernelspec": {
   "display_name": "Bash",
   "language": "bash",
   "name": "bash"
  },
  "language_info": {
   "codemirror_mode": "shell",
   "file_extension": ".sh",
   "mimetype": "text/x-sh",
   "name": "bash"
  }
 },
 "nbformat": 4,
 "nbformat_minor": 0
}
