{
 "cells": [
  {
   "cell_type": "markdown",
   "metadata": {},
   "source": [
    "# Study proposal\n",
    "\n",
    "In this study, you need to explore the association of autism spectrum disorder (ASD) and variants of the OXT (oxytocin) receptor gene (OXTR) using meta-analysis.\n",
    "\n",
    "\n",
    "1. Search for the publications in Pubmed.\n",
    "\n",
    "2. Extract the data out of the publications.\n",
    "\n",
    "3. Use the R package, `meta`, to conduct a comprehensive meta-analysis on the publications."
   ]
  },
  {
   "cell_type": "code",
   "execution_count": null,
   "metadata": {
    "collapsed": true
   },
   "outputs": [],
   "source": []
  }
 ],
 "metadata": {
  "kernelspec": {
   "display_name": "R",
   "language": "R",
   "name": "ir"
  },
  "language_info": {
   "codemirror_mode": "r",
   "file_extension": ".r",
   "mimetype": "text/x-r-source",
   "name": "R",
   "pygments_lexer": "r",
   "version": "3.2.3"
  }
 },
 "nbformat": 4,
 "nbformat_minor": 0
}
