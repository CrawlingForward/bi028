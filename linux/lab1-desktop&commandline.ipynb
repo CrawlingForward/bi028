{
 "cells": [
  {
   "cell_type": "markdown",
   "metadata": {},
   "source": [
    "# 实验一：Linux桌面与命令行环境初体验\n",
    "___"
   ]
  },
  {
   "cell_type": "markdown",
   "metadata": {},
   "source": [
    "## 实验内容\n",
    "\n",
    "1. Linux操作系统下的桌面与命令行的基本环境\n",
    "2. 命令行模式下的常用快捷键的使用\n",
    "3. 命令行模式下的通配符的常规使用\n",
    "4. 常用shell命令以及使用技巧"
   ]
  },
  {
   "cell_type": "markdown",
   "metadata": {},
   "source": [
    "## 1. Linux桌面环境介绍\n",
    "\n",
    "UNIX/LINUX操作系统本身是没有图形界面的，我们所看到的图形界面是运行在操作系统之上的一套软件——Xorg，而这套软件又是通过X窗口系统（X Window System，也称为X11或X）实现的。\n",
    "\n",
    "如同Apache是实现了HTTP协议的Web服务器一般，Xorg也是实现了X协议规范的提供GUI服务的服务器。\n",
    "\n",
    "除了服务器之外，还需要一个客户端环境实现一个完整的图形用户界面，这就是X Client，包括我们常说的GNOME，KDE等等。\n",
    "\n",
    "我们用的就是GNOME。"
   ]
  },
  {
   "cell_type": "markdown",
   "metadata": {},
   "source": [
    "## 2. Linux终端\n",
    "\n",
    "### 2.1 终端（terminal）\n",
    "\n",
    "通常我们并无法直接与操作系统进行交互，而是通过一个成为shell（外壳）的中间程序，如图形用户界面下的终端模拟器（Terminal）程序，常用的终端模拟器包括gnome-terminal，kconsole，xterm等等。\n",
    "\n",
    "一般我们使用的就是gnome-terminal。\n",
    "\n",
    "终端本质上对应的是`/dev/tty`设备，Linux的多用户登录就是通过不同的该设备完成的。默认系统提供6个纯命令行界面的“terminal”（确切的说是6个虚拟控制台，virtual console）。在物理机系统下可通过CTRL+ALT+[F1-F7]进行切换，如果需要切回GUI，按下CTRL+ALT+F7即可。\n",
    "\n",
    "注意Terminal和Console的区别。"
   ]
  },
  {
   "cell_type": "markdown",
   "metadata": {},
   "source": [
    "### 2.2 Shell（壳程序）\n",
    "\n",
    "用户体验的差异通常是由于不同的Shell程序引起的，那么什么是shell呢？\n",
    "\n",
    "shell是相对于系统内核（Kernel）来说的，其本质就是提供用户使用界面的软件，也就是命令解释器，与window下的cmd.exe有一定的相似之处，但要强大许多。\n",
    "\n",
    "shell之所以被称为shell，是因为其隐藏了操作系统底层的细节。\n",
    "\n",
    "UNIX比较流行的shell有bash，zsh，csh，ksh等等。\n",
    "\n",
    "本实验室环境中默认的是bash。"
   ]
  },
  {
   "cell_type": "markdown",
   "metadata": {},
   "source": [
    "## 3. 命令行环境\n",
    "\n",
    "打开模拟终端genome-terminal后，我们就处于命令行环境了。\n",
    "\n",
    "这时候我们就可以看到命令行提示符\n",
    "```\n",
    "[USER@HOST DIR]$\n",
    "```\n",
    "这里USER表示当前用户，而HOST表示的是主机名，DIR则对应当前的工作路径。\n",
    "\n",
    "这是由环境变量PS1定义的，我们是可以对其进行修改的，不过这是后话，暂且按下不提。"
   ]
  },
  {
   "cell_type": "markdown",
   "metadata": {},
   "source": [
    "### 3.1 常用快捷键\n",
    "\n",
    "真正学习命令之前，先了解几个常用的快捷键，能帮助我们快速的掌握命令。\n",
    "\n",
    "#### TAB键\n",
    "\n",
    "TAB键能帮助你补全命令、目录、文件、参数等等。\n",
    "\n",
    "#### CTRL+C\n",
    "\n",
    "当输入错误的命令，或者运行时间过长不愿意等待的话，可以用CTRL+C中止命令的执行。\n",
    "\n",
    "例如输入`tail`命令，长时间停住没有响应，这时候就可以按下CTRL+C，中止该命令，返回命令提示符。\n",
    "\n",
    "或者输入`find /`命令，输出大量的内容，但不是我们想要的，果断按下CTRL+C。"
   ]
  },
  {
   "cell_type": "markdown",
   "metadata": {},
   "source": [
    "#### 其他常用的快捷键\n",
    "\n",
    "| 快捷键 | 作用 |\n",
    "| --- | --- |\n",
    "| CTRL+D | 键盘输入结束或退出终端 |\n",
    "| CTRL+S | 暂停当前程序，按下任意键继续 |\n",
    "| CTRL+Z | 将程序置入后台运行，如需恢复，用fg命令 |\n",
    "| CTRL+A | 将光标移至输入行头，与HOME相同 |\n",
    "| CTRL+E | 将光标移至行尾，与END相同 |\n",
    "| CTRL+K| 删除从光标位置直到行尾 |\n",
    "| ALT+BACKSPACE | 删除光标前的字符 |\n",
    "| SHIFT+PageUp | 将终端显示向前翻页 |\n",
    "| SHIFT+PageDown | 将终端显示向后翻页 |\n",
    "| 上下方向键 | 历史命令 |"
   ]
  },
  {
   "cell_type": "markdown",
   "metadata": {},
   "source": [
    "### 3.2 学会使用通配符（Wildcard characters）\n",
    "\n",
    "所谓通配符，就是指能够在命令行下指代若干个字符的符号，主要有`*`和`?`符号。\n",
    "\n",
    "| 字符 | 含义 | 示例 |\n",
    "| --- | --- | --- |\n",
    "| `*` | 指代0-n个任意字符 | `ls a*.txt`|\n",
    "| `?` | 指代单个任意字符 | `ls a?.txt` |\n",
    "| `[list]` | 指代包含在`list`中的单个字符 | `ls a[bcd]`|\n",
    "| `[!list]` | 指代不包含在`list`中的任意单个字符 | `ls a[!z]` |\n",
    "| `[c1-c2]` | 指代在`c1-c2`范围内的单个字符 | `ls a[3-5]` |\n",
    "| `{string1, string2, ...}` | 匹配`string1`，`string2`，...的其中之一字符串 | `ls a{11,bc,23}` |\n",
    "| `{c1..c2}` | 匹配`c1-c2`范围的全部字符 | `touch a{1..5}.txt` |"
   ]
  },
  {
   "cell_type": "markdown",
   "metadata": {},
   "source": [
    "### 3.3 获取帮助\n",
    "\n",
    "在Linux命令行下，当遇到困难时，需要学会如何去获取帮助，主要的方式有三种：\n",
    "\n",
    "- `man`命令，是`manual page`的缩写，也就是查看命令的手册。\n",
    "\n",
    "- `info`命令，是查看命令详细手册的手段。\n",
    "\n",
    "- 查看命令本身的help，一般用`command --help`或者`command -h`进行查看。"
   ]
  },
  {
   "cell_type": "markdown",
   "metadata": {},
   "source": [
    "#### `man`命令\n",
    "\n",
    "`man`命令在现阶段对我们来说是最有用的命令，其基本用法是：\n",
    "\n",
    "```bash\n",
    "man [number] command\n",
    "```\n",
    "\n",
    "这里`[number]`表示的是man pager的节（section），也就是说在第`[number]`节中查找对应的命令`command`的帮助信息。\n",
    "\n",
    "`man pager`包括以下几节：\n",
    "\n",
    "| 分节 | 说明 | 举例 |\n",
    "| --- | --- | --- |\n",
    "| 1 | 可执行程序或者shell命令 | `echo` |\n",
    "| 2 | 系统调用 （内核库提供的函数）| `open(fname, O_CREAT, S_IRWXU);` |\n",
    "| 3 | 库调用（程序库提供的函数）| `printf (3)` |\n",
    "| 4 | 特殊文件（通常是/dev中的设备）和驱动程序 | `/dev/sda` |\n",
    "| 5 | 文件类型与约定 | `/etc/passwd` |\n",
    "| 6 | 游戏和屏保 | |\n",
    "| 7 | 杂项 （包含宏包及约定）| `groff`| \n",
    "| 8 | 系统管理命令和守护进程 | `service mysqld start` | \n",
    "| 9 | 内核事务约定 | 等等 |\n"
   ]
  },
  {
   "cell_type": "markdown",
   "metadata": {},
   "source": [
    "#### `man`的手册页\n",
    "\n",
    "常规的`man`手册页一般包含以下内容：\n",
    "\n",
    "- **NAME**：名称\n",
    "> 该命令/函数的名称，紧接着一行简介。\n",
    "\n",
    "```\n",
    "ls - list directory contents.\n",
    "```\n",
    "\n",
    "- **SYNOPSIS**：概要\n",
    "> 描述命令的运行方式，以及需要什么样的命令行参数；介绍函数所需的参数，以及哪个头文件包含该函数的定义。\n",
    "\n",
    "```\n",
    "ls [OPTION]... [FILE]...\n",
    "```\n",
    "\n",
    "\n",
    "- **DESCRIPTION**：说明\n",
    "> 命令或函数功能的文本描述。\n",
    "\n",
    "```\n",
    "       List  information  about the FILEs (the current directory by default).  Sort entries alphabeti‐\n",
    "       cally if none of -cftuvSUX nor --sort is specified.\n",
    "\n",
    "       Mandatory arguments to long options are mandatory for short options too.\n",
    "\n",
    "       -a, --all\n",
    "              do not ignore entries starting with .\n",
    "\n",
    "       -A, --almost-all\n",
    "              do not list implied . and ..\n",
    "\n",
    "       --author\n",
    "              with -l, print the author of each file\n",
    "\n",
    "       -b, --escape\n",
    "              print C-style escapes for nongraphic characters\n",
    "\n",
    "```\n",
    "\n",
    "- **EXAMPLES**：示例\n",
    "> 常用示例。\n",
    "\n",
    "- **SEE ALSO**：参见\n",
    "> 相关命令或函数的列表。"
   ]
  },
  {
   "cell_type": "markdown",
   "metadata": {},
   "source": [
    "#### `man`手册的使用小技巧\n",
    "\n",
    "- 用`/<关键词>`查找想要获取的关键内容\n",
    "- 用`n`切换到下一个关键字所在位置\n",
    "- 用`Shift+n`往前切换到前一个关键字位置\n",
    "- 用`Space`键翻页\n",
    "- 按下`ENTER`换行\n",
    "- 按下`j`，`k`前后换行\n",
    "- 按下`q`退出"
   ]
  },
  {
   "cell_type": "markdown",
   "metadata": {},
   "source": [
    "## 4. 上机作业\n",
    "\n",
    "### 4.1 使用`yum`安装`banner`和`figlet`软件\n",
    "```bash\n",
    "sudo yum install banner figlet\n",
    "```\n",
    "\n",
    "### 4.2 运行`banner`程序：\n",
    "```bash\n",
    "banner I love linux\n",
    "```\n",
    "\n",
    "### 4.3 运行`figlet`程序：\n",
    "```bash\n",
    "figlet sb\n",
    "```\n",
    "\n",
    "### 4.4 查看`man cd`并回答以下问题：\n",
    "\n",
    "#### (1) `cd`是什么条目的缩写？\n",
    "#### (2) `cd`（后面不接任何参数）默认转换目录到哪里？\n",
    "#### (3) `cd ~root`的意义是什么，运行后返回什么结果？\n",
    "#### (4) `cd -`的意义是什么？\n",
    "#### (5) 谈谈`cd`命令的用法\n",
    "\n",
    "### 4.5 查看命令`ls`的`man`手册并回答以下问题\n",
    "\n",
    "#### (1) `ls`命令属于哪一节？\n",
    "#### (2) 从`NAME`看，`ls`能干什么？\n",
    "#### (3) 从`SYNOPSIS`看，`ls`的基本用法是什么？\n",
    "#### (4) 从`DESCRIPTION`看，\n",
    "    - 默认的目录参数是什么？\n",
    "    - 选项`-a`与`-A`的区别是什么？\n",
    "    - 选项`--color`如何去改变默认的对颜色显示的设置？\n",
    "    - `atime`、`ctime`和`mtime`有什么区别？\n",
    "    - `-l`与默认的输出有什么区别？\n",
    "#### (5) 从`Exit status`看，不同的退出状态分别对应什么情境？\n",
    "#### (6) 从底行看，该命令属于哪个软件包？开发者是谁？"
   ]
  }
 ],
 "metadata": {
  "kernelspec": {
   "display_name": "Bash",
   "language": "bash",
   "name": "bash"
  },
  "language_info": {
   "codemirror_mode": "shell",
   "file_extension": ".sh",
   "mimetype": "text/x-sh",
   "name": "bash"
  }
 },
 "nbformat": 4,
 "nbformat_minor": 0
}
