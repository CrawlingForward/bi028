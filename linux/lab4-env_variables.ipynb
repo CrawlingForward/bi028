{
 "cells": [
  {
   "cell_type": "markdown",
   "metadata": {},
   "source": [
    "# 实验四：环境变量与文件查找\n",
    "___"
   ]
  },
  {
   "cell_type": "markdown",
   "metadata": {},
   "source": [
    "## 实验目的与内容\n",
    "\n",
    "### 实验目的\n",
    "\n",
    "1. 掌握环境变量的作用与用法\n",
    "2. 如何高效查找文件\n",
    "\n",
    "### 实验内容"
   ]
  },
  {
   "cell_type": "markdown",
   "metadata": {},
   "source": [
    "## 1. 环境变量 (Environment variables)"
   ]
  },
  {
   "cell_type": "markdown",
   "metadata": {},
   "source": [
    "### 1.1 变量（Variables）\n",
    "\n",
    "- 所谓变量，也称为shell变量，就是计算机中记录某个值的符号，变量可用于各种运算和处理中；\n",
    "- 通常变量与值是一一对应的关系，可以通过变量名获取值，也可以对变量名赋值；\n",
    "- 变量通常有类型的区分，如数值类型、字符类型、字符串类型或自定义类型等；\n",
    "- 变量具有作用域，如全局变量（global）、局部变量（local）或者静态变量（static）等等\n",
    "> 变量只在其作用域内有效，一旦离开作用域，该变量无效。在该作用域内，只允许有一个同名的变量。\n",
    "\n",
    "#### 如何创建变量\n",
    "\n",
    "在shell中可以用`declare`命令声明一个变量：\n",
    "```bash\n",
    "declare tmp\n",
    "```\n",
    "就是在当前环境下创建了一个名为`tmp`的变量。\n",
    "\n",
    "这个`declare`仅在声明数组变量的时候是必须的，通常只需要对变量进行赋值就可以完成变量的声明和定义了。\n",
    "\n",
    "#### 如何对变量进行赋值\n",
    "\n",
    "变量的赋值比较简单，只需要用`=`就可以了：\n",
    "```bash\n",
    "tmp=linux\n",
    "```\n",
    "值得注意的是，`=`的左右两边不允许存在空格。\n",
    "\n",
    "如果变量的值是存在空格的字符串，则必须加入引号：\n",
    "```bash\n",
    "tmp=\"linux is fun and powerful\"\n",
    "```\n",
    "\n",
    "#### 如何读取变量的值\n",
    "\n",
    "用`echo`以及`$`符号就可以完成变量值的读取：\n",
    "```bash\n",
    "echo $tmp\n",
    "```\n",
    "\n",
    "有时候为了避免混淆，我们还在变量名中加入`{}`：\n",
    "```bash\n",
    "tmp=\"linux\"\n",
    "tmper=\"linux is fine\"\n",
    "echo ${tmp}er\n",
    "```\n",
    "\n",
    "#### 变量名的命名规范\n",
    "\n",
    "注意，变量名只允许有字母、数字、下划线，且不能以数字开头。"
   ]
  },
  {
   "cell_type": "markdown",
   "metadata": {},
   "source": [
    "### 1.2 环境变量\n",
    "\n",
    "- 相对于一般变量而言，环境变量的作用域要大一些。Shell的环境变量作用于自身及其子进程。\n",
    "- 每个进程具有自身的环境变量设置。\n",
    "- 子进程将继承父进程绝大部分的环境变量设置。\n",
    "\n",
    "#### 环境变量的分类\n",
    "\n",
    "一般来说，环境变量分为三类：\n",
    "- 当前进程私有的（private）用户自定义变量（user-defined variable），如此前定义的`tmp`；\n",
    "- Shell本身内建的变量（built-in variable）;\n",
    "- 由自定义变量导出的环境变量（exported variable）\n",
    "\n",
    "#### 环境变量相关的命令\n",
    "\n",
    "环境变量相关的命令主要有`export`和`env`，它们涉及不同范围的环境变量：\n",
    "\n",
    "| 命令 | 说明 |\n",
    "| --- | --- |\n",
    "| `env` |  显示与当前用户相关的环境变量，还可以让命令在指定环境中运行 |\n",
    "| `export` | 显示从 Shell 中导出成环境变量的变量，也能通过它将自定义变量导出为环境变量 |\n",
    "\n",
    "这样，说明`set` $\\supseteq$ `env` $\\supseteq$ `export`。\n",
    "\n",
    "为了区分一般变量与环境变量，我们一般将环境变量全部用大写表示。"
   ]
  },
  {
   "cell_type": "markdown",
   "metadata": {},
   "source": [
    "### 1.3 几个特殊的环境变量\n",
    "\n",
    "#### 与命令查找有关的环境变量\n",
    "\n",
    "我们在shell中输入命令，命令被执行，那么系统是如何去查找这个命令并执行的呢？这跟一个环境变量——PATH有关。你可以输出当前的PATH变量的值看看：\n",
    "```bash\n",
    "export $PATH\n",
    "```\n",
    "输出的就是这些命令的所有搜索路径，路径之间用`:`分隔，依次搜索，当搜索到的时候就停止。所以，如果多个路径中存在同一个命令，则优先级是按照先后顺序的。\n",
    "\n",
    "#### 与动态加载库有关的环境变量\n",
    "\n",
    "`LD_LIBRARY_PATH`\n",
    "`LIBRARY_PATH`\n",
    "`INCLUDE_PATH`\n",
    "\n",
    "#### 与JAVA库相关的环境变量\n",
    "\n",
    "`CLASSPATH`\n",
    "\n",
    "\n",
    "### 1.4 环境变量的配置文件\n",
    "\n",
    "常用的环境变量配置文件（对bash）包括：\n",
    "- `/etc/profile`，`/etc/bashrc`\n",
    "- `~/bash_profile`， `~/.bashrc`\n",
    "\n",
    "能否查询将这些配置文件的意义一一说明？\n",
    "\n",
    "如需加载文件中的配置，只需要运行`source`或者`.`即可。"
   ]
  },
  {
   "cell_type": "markdown",
   "metadata": {},
   "source": [
    "### 1.5 环境变量的修改和删除\n",
    "\n",
    "#### 修改环境变量的方法\n",
    "| 变量设置方式 |\t说明 |\n",
    "| --- | --- |\n",
    "| `${变量名#匹配字串}` |\t从头向后开始匹配，删除符合匹配字串的最短数据 |\n",
    "| `${变量名##匹配字串}`\t| 从头向后开始匹配，删除符合匹配字串的最长数据 |\n",
    "| `${变量名%匹配字串}` |\t从尾向前开始匹配，删除符合匹配字串的最短数据 |\n",
    "| `${变量名%%匹配字串}`\t| 从尾向前开始匹配，删除符合匹配字串的最长数据 |\n",
    "| `${变量名/旧的字串/新的字串}`\t| 将符合旧字串的第一个字串替换为新的字串 |\n",
    "| `${变量名//旧的字串/新的字串}`\t| 将符合旧字串的全部字串替换为新的字串 |"
   ]
  },
  {
   "cell_type": "markdown",
   "metadata": {},
   "source": [
    "#### 删除变量\n",
    "\n",
    "删除变量的方法比较简单，只需要运行`unset`命令即可。"
   ]
  },
  {
   "cell_type": "markdown",
   "metadata": {},
   "source": [
    "## 2. 文件搜索（File search）\n",
    "\n",
    "与文件搜索相关的常用命令包括：\n",
    "- `whereis`\n",
    "- `which`\n",
    "- `find` \n",
    "- `locate`"
   ]
  },
  {
   "cell_type": "markdown",
   "metadata": {},
   "source": [
    "### 2.1 `whereis`\n",
    "\n",
    "- `whereis`只能搜索二进制文件（`-b`）、man帮助文件（`-m`）以及源代码文件（`-s`）\n",
    "- `whereis`搜索速度快，是因为其并非从硬盘中进行搜索，而是从数据库中进行搜索。\n",
    "\n",
    "#### 案例：搜索命令`who`\n",
    "```bash\n",
    "whereis who\n",
    "```"
   ]
  },
  {
   "cell_type": "markdown",
   "metadata": {},
   "source": [
    "### 2.2 `which`\n",
    "\n",
    "`which`只从环境变量`PATH`中去搜索是否存在某个可执行命令。\n",
    "\n",
    "#### 举例\n",
    "```bash\n",
    "which ls\n",
    "```"
   ]
  },
  {
   "cell_type": "markdown",
   "metadata": {},
   "source": [
    "### 2.3 `locate`\n",
    "\n",
    "- `locate`是一种快而全的搜索方式\n",
    "- `locate`从数据库`/var/lib/mlocate/mlocate.db`数据库中进行搜索，该数据库定期执行`updatedb`\n",
    "\n",
    "#### 举例：用`locate`查找`/usr/share`目录下的所有`*.jpg`图片文件\n",
    "```bash\n",
    "locate /usr/share/\\*.jpg\n",
    "```"
   ]
  },
  {
   "cell_type": "markdown",
   "metadata": {},
   "source": [
    "### 2.4 `find`\n",
    "\n",
    "`find`是四者当中最为强大的工具，它可通过文件名、文件类型、文件属性（如时间戳、权限等）进行文件搜索。\n",
    "\n",
    "#### 查找特定文件名\n",
    "```bash\n",
    "find /etc -name interfaces\n",
    "```\n",
    "\n",
    "#### 查找文件类型\n",
    "```bash\n",
    "find /usr -type l\n",
    "```\n",
    "查找目录下的符号链接文件。\n",
    "\n",
    "#### 查找特定时间戳文件\n",
    "```bash\n",
    "find /tmp -mtime +n\n",
    "```\n",
    "查找`n`天之前（不包括`n`本身）修改过的文件。\n",
    "\n",
    "#### 时间戳的类型\n",
    "\n",
    "| 参数\t| 说明 | 举例 |\n",
    "| --- | --- | --- | --- |\n",
    "| `-atime` |\t最后访问时间 |  `-atime +n`：最近一次访问时间在`n`天之前  |\n",
    "| `-ctime` |\t创建时间 |  `-ctime -n`：创建于`n`天之内 |\n",
    "| `-mtime` | 最后修改时间 | `-mtime n`：最后一次修改时间在`n`天之前的一天内  |\n",
    "| `-newer` | 比指定文件新 | `-newer file` |"
   ]
  }
 ],
 "metadata": {
  "kernelspec": {
   "display_name": "Bash",
   "language": "bash",
   "name": "bash"
  },
  "language_info": {
   "codemirror_mode": "shell",
   "file_extension": ".sh",
   "mimetype": "text/x-sh",
   "name": "bash"
  }
 },
 "nbformat": 4,
 "nbformat_minor": 0
}
