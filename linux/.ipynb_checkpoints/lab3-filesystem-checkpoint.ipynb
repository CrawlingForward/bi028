{
 "cells": [
  {
   "cell_type": "markdown",
   "metadata": {},
   "source": [
    "# 实验三：Linux文件系统\n",
    "___"
   ]
  },
  {
   "cell_type": "markdown",
   "metadata": {},
   "source": [
    "## 实验目的与内容\n",
    "\n",
    "### 实验目的\n",
    "\n",
    "1. 掌握基本的Linux 的层次文件组织目录结构；\n",
    "2. 了解相对路径（relative path）和绝对路径（absolute path）的区别；\n",
    "3. 掌握对文件的移动、复制、重命名、编辑等操作。\n",
    "\n",
    "\n",
    "### 实验内容\n",
    "\n",
    "- [1. Linux目录结构](#1.-Linux目录结构)\n",
    "\n",
    "- [2. 目录路径](#2.-目录路径) \n",
    "\n",
    "- [3. 文件操作](#3.-文件操作)\n",
    "\n",
    "- [上机练习](#$\\S$-上机练习)"
   ]
  },
  {
   "cell_type": "markdown",
   "metadata": {},
   "source": [
    "## 1. Linux目录结构\n",
    "\n",
    "Linux 是以树形目录结构的形式来构建整个系统的，可以理解为一个用户可操作系统的骨架。\n",
    " \n",
    "虽然本质上无论是目录结构还是操作系统内核都是存储在硬盘上的，但从逻辑上来说 Linux 的硬盘是“挂载” （`mount`） 到目录上的，每一个目录不仅能使用本地磁盘分区的文件系统，也可以使用网络上的文件系统。举例来说，可以利用网络文件系统（Network File System，NFS）服务器载入某特定目录等。"
   ]
  },
  {
   "cell_type": "markdown",
   "metadata": {},
   "source": [
    "### 1.1 FHS标准\n",
    "\n",
    "> FHS（Filesystem Hierarchy Standard，文件系统层次结构标准）是多数 Linux 发行版本采用的文件组织形式。FHS 定义了系统中每个目录的用途、所需要的最小构成的文件和目录同时还给出了例外处理与矛盾处理。\n",
    "\n",
    "FHS 定义了两层规范：\n",
    "- 第一层是规定了`/` 下面的各个目录应该要放什么文件数据。例如 `/etc` 应该要存放配置文件，`/bin` 与 `/sbin` 则应该要存放可执行文件等；\n",
    "- 第二层则是针对 `/usr` 及 `/var` 这两个目录的子目录来定义。例如 `/var/log` 存放系统日志文件、`/usr/share` 放置共享数据等等。\n",
    "\n",
    "|  | 可共享的 （shareable） |  不可共享的（non-shareable）|\n",
    "| --- | --- | --- |\n",
    "| 相对静态的（static） |  `/usr`（存放软件可执行文件、库、头文件、帮助文档等信息）；`/opt`（第三方软件信息）|`/etc`（配置文件）；`/boot`（开机以及内核文件） |\n",
    "| 相对变化的（variable）| `/var/mail`（用户邮件信箱）；`/var/news`（新闻组）| `/var/run`（运行进程信息）；`/var/lock`（文件锁相关信息） |"
   ]
  },
  {
   "cell_type": "markdown",
   "metadata": {},
   "source": [
    "## 2. 目录路径\n",
    "\n",
    "- 用`cd`命令切换路径；\n",
    "- 以`.`开头的文件或目录是隐藏的；\n",
    "- `.`表示当前工作路径，而`..`表示上一级目录，`-`表示此前所在路径，`~`表示家目录路径；\n",
    "- `pwd`可获取当前工作路径；\n",
    "- `mkdir`可用来创建路径；\n",
    "- `touch`可创建空白文件；\n",
    "- `cp src dest`复制文件；`cp -r src dest`复制目录；\n",
    "- `mv src dest`改变文件名或者移动文件；\n",
    "- `rm file`删除文件；`rm -r dir`删除目录。\n",
    "\n",
    "### 2.1 绝对路径\n",
    "\n",
    "所有以`/`根目录为起点的路径都是绝对路径，如`/usr/local/bin/tabix`等等。\n",
    "\n",
    "### 2.2 相对路径\n",
    "\n",
    "以当前工作目录为起点的路径就是相对路径，如`../bin/tabix`（当前工作路径为`/usr/local/lib`）。"
   ]
  },
  {
   "cell_type": "markdown",
   "metadata": {},
   "source": [
    "## 3. 文件操作\n",
    "\n",
    "### 3.1 批量更改文件名\n",
    "\n",
    "#### 我们可用`rename`辅助正则表达式（regular expression）批量更改文件名\n",
    "\n",
    "```bash\n",
    "touch file{1..5}.txt\n",
    "rename 's/\\.txt/\\.c/' file?.txt\n",
    "rename 'y/a-z/A-Z/' *.c\n",
    "```"
   ]
  },
  {
   "cell_type": "markdown",
   "metadata": {},
   "source": [
    "### 3.2 查看文件内容\n",
    "\n",
    "- `cat /etc/passwd`：正序输出文件内容\n",
    "- `tac /etc/passwd`：逆序输出文件内容\n",
    "- `nl -n rz /etc/passwd`：加入行号并输出文件内容\n",
    "- 用`more`和`less`分页查看文件内容\n",
    "- 用`head`和`tail`查看文件内容的头部和尾部；\n",
    "- `tail -n`可用于查看日志并实时监视的效果"
   ]
  },
  {
   "cell_type": "markdown",
   "metadata": {},
   "source": [
    "### 3.3 查看文件类型\n",
    "\n",
    "用命令`file /bin/ls`查看文件类型：\n",
    "```\n",
    "/bin/ls: ELF 64-bit LSB executable, x86-64, version 1 (SYSV), dynamically linked (uses shared libs), for GNU/Linux 2.6.32, BuildID[sha1]=c71f424abdfcbb4b69a5e062a78168c72521e0e4, stripped\n",
    "```\n",
    "表示这是一个可执行文件，运行在 64 位平台，并使用了动态链接文件（共享库）。"
   ]
  },
  {
   "cell_type": "markdown",
   "metadata": {},
   "source": [
    "### 3.4 编辑文件\n",
    "\n",
    "Linux下常用的编辑器包括`emacs`、`vim`、`gedit`、`nano`等等。\n",
    "\n",
    "输入`vimtutor`即可进入`vim`的教程，回答下列问题："
   ]
  },
  {
   "cell_type": "markdown",
   "metadata": {},
   "source": [
    "## <font color=\"red\">$\\S$ 上机练习</font>\n",
    "\n",
    "1. 用哪些键可以实现光标的移动？比如，上移一行，移动到行首，移动到行末，移动到文件首、尾等等。\n",
    "2. 在编辑模式和命令（底行）模式之间如何切换？\n",
    "3. 如何删除多行内容？例如从当前光标起往后删除10行内容。\n",
    "4. 如何剪切和粘贴文件内容？\n",
    "5. 如何进行内容的查找和替换？"
   ]
  }
 ],
 "metadata": {
  "kernelspec": {
   "display_name": "Bash",
   "language": "bash",
   "name": "bash"
  },
  "language_info": {
   "codemirror_mode": "shell",
   "file_extension": ".sh",
   "mimetype": "text/x-sh",
   "name": "bash"
  }
 },
 "nbformat": 4,
 "nbformat_minor": 0
}
