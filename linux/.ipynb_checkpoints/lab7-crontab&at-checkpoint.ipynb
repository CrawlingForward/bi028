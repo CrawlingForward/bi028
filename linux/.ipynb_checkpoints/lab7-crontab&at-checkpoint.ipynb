{
 "cells": [
  {
   "cell_type": "markdown",
   "metadata": {},
   "source": [
    "# 实验七：Linux计划任务\n",
    "___"
   ]
  },
  {
   "cell_type": "markdown",
   "metadata": {},
   "source": [
    "## 实验目的与任务\n",
    "\n",
    "### 实验目的\n",
    "\n",
    "1. 掌握用crontab设置定时定期任务的方法。\n",
    "2. 掌握用at设置定时定期任务的方法。\n",
    "\n",
    "\n",
    "### 实验内容\n",
    "\n"
   ]
  },
  {
   "cell_type": "markdown",
   "metadata": {},
   "source": [
    "## 1. crontab的使用\n",
    "\n",
    "### 1.1 `crontab`简介\n",
    "\n",
    "`crontab`是类UNIX系统中用来设置周期性执行指令的工具：\n",
    "- 将周期性执行的指令放入文件`crontab`中；\n",
    "- 守护进程（daemon）`crond`从文件中获取指令，并按照预订的时间执行该指令。\n",
    "- 通过`crontab`命令，在固定的间隔时间内执行系统指令或shell脚本。\n",
    "- 时间间隔的单位可以是分钟、小时、日、月、周的任意组合。"
   ]
  },
  {
   "cell_type": "markdown",
   "metadata": {},
   "source": [
    "### 1.2 准备工作\n",
    "\n",
    "#### 启动`rsyslog`守护进程\n",
    "\n",
    "```bash\n",
    "sudo service rsyslog start\n",
    "```\n",
    "`rsyslog`守护进程能够帮我们记录系统执行的任务。\n",
    "\n",
    "#### 启动`crond`守护进程\n",
    "\n",
    "```bash\n",
    "sudo service crond start\n",
    "```"
   ]
  },
  {
   "cell_type": "markdown",
   "metadata": {},
   "source": [
    "### 1.3 `crontab`的使用\n",
    "\n",
    "启动命令\n",
    "```bash\n",
    "crontab -e\n",
    "```\n",
    "开始编辑`/tmp/*`文件，这就是`crontab`的定期任务设置文件。\n",
    "\n",
    "#### 如何设置文件\n",
    "文件的一般格式是：\n",
    "```\n",
    "minute  hour   dayofmonth  month dayofweek  command \n",
    "```\n",
    "- `minute`：分钟（0-59）\n",
    "- `hour`：小时（0-23）\n",
    "- `dayofmonth`：日期（1-31）\n",
    "- `month`：月份（1-12）\n",
    "- `dayofweek`：周几（0-7）\n",
    "- `command`：执行的命令\n",
    "\n",
    "#### 时间格式\n",
    "\n",
    "| 特殊符号 |  意义 | 示例 |\n",
    "| --- | --- | --- |\n",
    "| `*` | 所有时间 | `0 0 *  * 5 command`：每周五的0:00执行`command` |\n",
    "| `,` | 这些时间列表 | `0 0,12 * * 6 command`：每周六的0:00以及12:00执行`command` |\n",
    "| `-` | 时间范围内 |  `0 5-8 * * 7 command`：每周日的5-8点正点执行`command` |\n",
    "| `/n` | 每隔n个单位时间 | `0 */3 * * * command`：每隔3小时的0分执行`command` | \n",
    "\n",
    "#### 示例\n",
    "\n",
    "```\n",
    "*/1   *   *   *   *       touch /home/bio/$(date +\\%Y\\%m\\%d\\%H\\%M\\%S)\n",
    "```\n",
    "每隔1分钟在`/home/bio`目录下写入空白文件，文件名为当前时间。"
   ]
  },
  {
   "cell_type": "markdown",
   "metadata": {},
   "source": [
    "### 1.4 删除`crontab`任务\n",
    "\n",
    "执行下面命令即可\n",
    "```bash\n",
    "crontab -r\n",
    "```"
   ]
  },
  {
   "cell_type": "markdown",
   "metadata": {},
   "source": [
    "### 1.5 系统任务\n",
    "\n",
    "对于系统任务，必须由`root`执行，编辑文件`/etc/crontab`。该文件格式与此前的区别是：\n",
    "> 在时间和指令之间，增加了执行指令的用户的用户名。"
   ]
  },
  {
   "cell_type": "markdown",
   "metadata": {},
   "source": [
    "## <font color=\"red\">$\\S$ 上机任务</font>\n",
    "\n",
    "1. 用我们此前所学的知识，搜索指令`crontab`所在的文件路径。\n",
    "2. `crontab`命令的文件权限是什么？运用我们此前所学的知识，谈谈其功能。\n",
    "3. 增加系统任务，每周日晚上12:00清空目录`/tmp`。\n",
    "4. 每年的元旦向所有用户发送新年祝福。"
   ]
  }
 ],
 "metadata": {
  "kernelspec": {
   "display_name": "Bash",
   "language": "bash",
   "name": "bash"
  },
  "language_info": {
   "codemirror_mode": "shell",
   "file_extension": ".sh",
   "mimetype": "text/x-sh",
   "name": "bash"
  }
 },
 "nbformat": 4,
 "nbformat_minor": 0
}
