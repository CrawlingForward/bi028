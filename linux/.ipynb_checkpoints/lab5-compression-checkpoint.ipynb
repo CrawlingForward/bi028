{
 "cells": [
  {
   "cell_type": "markdown",
   "metadata": {},
   "source": [
    "# 实验五：文件打包与解压缩\n",
    "___"
   ]
  },
  {
   "cell_type": "markdown",
   "metadata": {},
   "source": [
    "## 实验目的与内容\n",
    "\n",
    "### 实验目的\n",
    "\n",
    "1. 掌握常用的文件压缩、打包格式\n",
    "2. 学会用`tar`、`gzip`、`bzip2`、`zip`、`rar`等压缩/解压缩/打包工具\n",
    "\n",
    "### 实验内容"
   ]
  },
  {
   "cell_type": "markdown",
   "metadata": {},
   "source": [
    "## 文件压缩格式、压缩与解压缩命令\n",
    "\n",
    "| 文件后缀名 |  说明 |  压缩/打包命令  | 解压缩命令 |\n",
    "| --- | --- | --- | --- |\n",
    "| `*.zip`\t| `zip`程序打包压缩的文件 | `zip file` | `unzip file.zip` |\n",
    "| `*.rar`\t| `rar`程序压缩的文件 | `rar a file.rar file` | `unrar x file.rar` |\n",
    "| `*.7z`    | `7zip`程序压缩的文件 | `7zip file` | `7unzip file.6z` |\n",
    "| `*.tar`\t| `tar`程序打包，未压缩的文件 | `tar -cf dir.tar dir` | `tar -xf file.tar` |\n",
    "| `*.gz` |\t`gzip`程序(GNU zip)压缩的文件 | `gzip file` | `gunzip file.gz` |\n",
    "| `*.xz` |\t`xz`程序压缩的文件 | `xzip file` | `xzip -x file.xz` |\n",
    "| `*.bz2` |  `bzip2`程序压缩的文件 | `bzip2 file` | `bzip2 -zf file.bz2` |\n",
    "| `*.tar.gz` |\t`tar`打包，`gzip`程序压缩的文件 | `tar -czvf dir.tar.gz dir` | `tar -xzvf dir.tar.gz` |\n",
    "| `*.tar.xz` |`tar`打包，`xz`程序压缩的文件 | `tar -cJvf dir.tar.xz dir` | `tar -xJvf dir.tar.gz` |\n",
    "| `*tar.bz2`\t| `tar`打包，`bzip2`程序压缩的文件 | `tar -cjvf dir.tar.bz2 dir` | `tar -xjvf dir.tar.bz2` |"
   ]
  },
  {
   "cell_type": "code",
   "execution_count": null,
   "metadata": {
    "collapsed": true
   },
   "outputs": [],
   "source": []
  }
 ],
 "metadata": {
  "kernelspec": {
   "display_name": "Bash",
   "language": "bash",
   "name": "bash"
  },
  "language_info": {
   "codemirror_mode": "shell",
   "file_extension": ".sh",
   "mimetype": "text/x-sh",
   "name": "bash"
  }
 },
 "nbformat": 4,
 "nbformat_minor": 0
}
