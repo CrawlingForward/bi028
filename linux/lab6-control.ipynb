{
 "cells": [
  {
   "cell_type": "markdown",
   "metadata": {},
   "source": [
    "# 实验六：命令行顺序控制\n",
    "___"
   ]
  },
  {
   "cell_type": "markdown",
   "metadata": {},
   "source": [
    "## 实验目的与内容\n",
    "\n",
    "### 实验目的\n",
    "\n",
    "本实验的目的是掌握命令行下控制顺序执行的`&&`与`||`的用法。\n",
    "\n",
    "\n",
    "### 实验内容"
   ]
  },
  {
   "cell_type": "markdown",
   "metadata": {},
   "source": [
    "## 1. 命令执行顺序控制\n",
    "\n",
    "- `&&` 表示如果前面的命令执行状态返回0则执行后面的，否则不执行：\n",
    "```bash\n",
    "which cowsay >/dev/null && echo \"Haha\"\n",
    "```\n",
    "\n",
    "对于`which`命令来说，如果指令`cowsay`存在则返回0，否则返回非零值。但这里将`which owsay`的输出重定向到黑洞文件，也就没有返回到标准输出。\n",
    "\n",
    "对于一个命令，其返回状态可用`$?`查看："
   ]
  },
  {
   "cell_type": "code",
   "execution_count": 1,
   "metadata": {
    "collapsed": false
   },
   "outputs": [
    {
     "name": "stdout",
     "output_type": "stream",
     "text": [
      "/usr/bin/cowsay\r\n",
      "0\r\n"
     ]
    }
   ],
   "source": [
    "which cowsay\n",
    "echo $?"
   ]
  },
  {
   "cell_type": "markdown",
   "metadata": {},
   "source": [
    "这里因为`cowsay`存在，所以返回状态`$?=0`。我们来看看一个不存在的命令："
   ]
  },
  {
   "cell_type": "code",
   "execution_count": 2,
   "metadata": {
    "collapsed": false
   },
   "outputs": [
    {
     "name": "stdout",
     "output_type": "stream",
     "text": [
      "/usr/bin/which: no says in (/home/bio/bin/:/usr/local/lib/apt-1.17.0-x86_64-intel-linux/bin:/home/bio/perl5/bin:/opt/bio/bin:/usr/local/activator/bin:/opt/anaconda2/bin:/opt/anaconda2/bin:/usr/lib64/qt-3.3/bin:/home/bio/bin:/usr/local/edirect:/opt/bio/bin:/usr/java/default/bin:/usr/java/default/jre/bin:/usr/scala/default/bin:/usr/spark/default/bin:/home/bio/perl5/bin:/opt/bio/bin:/usr/local/activator/bin:/opt/anaconda2/bin:/opt/anaconda2/bin:/usr/lib64/qt-3.3/bin:/home/bio/bin:/usr/local/edirect:/opt/bio/bin:/usr/java/default/bin:/usr/java/default/jre/bin:/usr/scala/default/bin:/usr/spark/default/bin:/opt/anaconda2/bin:/usr/lib64/qt-3.3/bin:/usr/local/edirect:/opt/bio/bin:/usr/java/default/bin:/usr/java/default/jre/bin:/usr/scala/default/bin:/usr/spark/default/bin:/usr/lib64/qt-3.3/bin:/usr/lib64/ccache:/usr/local/bin:/usr/local/sbin:/usr/bin:/usr/sbin:/bin:/sbin:/home/bio/.local/bin:/home/bio/bin:/home/bio/perl5/bin:/opt/bio/bin:/usr/local/activator/bin:/opt/anaconda2/bin:/opt/anaconda2/bin:/usr/lib64/qt-3.3/bin:/home/bio/bin:/usr/local/edirect:/opt/bio/bin:/usr/java/default/bin:/usr/java/default/jre/bin:/usr/scala/default/bin:/usr/spark/default/bin:/home/bio/bin/:/usr/local/lib/apt-1.17.0-x86_64-intel-linux/bin:/home/bio/perl5/bin:/opt/bio/bin:/usr/local/activator/bin:/opt/anaconda2/bin:/opt/anaconda2/bin:/usr/lib64/qt-3.3/bin:/home/bio/bin:/usr/local/edirect:/opt/bio/bin:/usr/java/default/bin:/usr/java/default/jre/bin:/usr/scala/default/bin:/usr/spark/default/bin:/home/bio/perl5/bin:/opt/bio/bin:/usr/local/activator/bin:/opt/anaconda2/bin:/opt/anaconda2/bin:/usr/lib64/qt-3.3/bin:/home/bio/bin:/usr/local/edirect:/opt/bio/bin:/usr/java/default/bin:/usr/java/default/jre/bin:/usr/scala/default/bin:/usr/spark/default/bin:/opt/anaconda2/bin:/usr/lib64/qt-3.3/bin:/usr/local/edirect:/opt/bio/bin:/usr/java/default/bin:/usr/java/default/jre/bin:/usr/scala/default/bin:/usr/spark/default/bin:/usr/lib64/qt-3.3/bin:/usr/lib64/ccache:/usr/local/bin:/usr/local/sbin:/usr/bin:/usr/sbin:/bin:/sbin:/home/bio/.local/bin:/home/bio/bin:/home/bio/perl5/bin:/opt/bio/bin:/usr/local/activator/bin:/opt/anaconda2/bin:/opt/anaconda2/bin:/usr/lib64/qt-3.3/bin:/home/bio/bin:/usr/local/edirect:/opt/bio/bin:/usr/java/default/bin:/usr/java/default/jre/bin:/usr/scala/default/bin:/usr/spark/default/bin:/home/bio/bin/:/usr/local/lib/apt-1.17.0-x86_64-intel-linux/bin:/home/bio/perl5/bin:/opt/bio/bin:/usr/local/activator/bin:/opt/anaconda2/bin:/opt/anaconda2/bin:/usr/lib64/qt-3.3/bin:/home/bio/bin:/usr/local/edirect:/opt/bio/bin:/usr/java/default/bin:/usr/java/default/jre/bin:/usr/scala/default/bin:/usr/spark/default/bin:/home/bio/perl5/bin:/opt/bio/bin:/usr/local/activator/bin:/opt/anaconda2/bin:/opt/anaconda2/bin:/usr/lib64/qt-3.3/bin:/home/bio/bin:/usr/local/edirect:/opt/bio/bin:/usr/java/default/bin:/usr/java/default/jre/bin:/usr/scala/default/bin:/usr/spark/default/bin:/opt/anaconda2/bin:/usr/lib64/qt-3.3/bin:/usr/local/edirect:/opt/bio/bin:/usr/java/default/bin:/usr/java/default/jre/bin:/usr/scala/default/bin:/usr/spark/default/bin:/usr/lib64/qt-3.3/bin:/usr/lib64/ccache:/usr/local/bin:/usr/local/sbin:/usr/bin:/usr/sbin:/bin:/sbin:/home/bio/.local/bin:/home/bio/bin:/home/bio/perl5/bin:/opt/bio/bin:/usr/local/activator/bin:/opt/anaconda2/bin:/opt/anaconda2/bin:/usr/lib64/qt-3.3/bin:/home/bio/bin:/usr/local/edirect:/opt/bio/bin:/usr/java/default/bin:/usr/java/default/jre/bin:/usr/scala/default/bin:/usr/spark/default/bin:/opt/anaconda2/bin:/usr/lib64/qt-3.3/bin:/usr/local/edirect:/opt/bio/bin:/usr/java/default/bin:/usr/java/default/jre/bin:/usr/scala/default/bin:/usr/spark/default/bin:/usr/lib64/qt-3.3/bin:/usr/lib64/ccache:/usr/local/bin:/usr/local/sbin:/usr/bin:/usr/sbin:/bin:/sbin:/home/bio/.local/bin:/home/bio/bin)\r\n",
      "1\r\n"
     ]
    }
   ],
   "source": [
    "which says\n",
    "echo $?"
   ]
  },
  {
   "cell_type": "markdown",
   "metadata": {},
   "source": [
    "可以看到返回值为1。"
   ]
  },
  {
   "cell_type": "markdown",
   "metadata": {},
   "source": [
    "- `||` 表示如果前面的命令执行结果不为0，则执行后面的命令："
   ]
  },
  {
   "cell_type": "code",
   "execution_count": 3,
   "metadata": {
    "collapsed": false
   },
   "outputs": [
    {
     "name": "stdout",
     "output_type": "stream",
     "text": []
    }
   ],
   "source": [
    "which cowsay>/dev/null || echo \"hah\"  "
   ]
  },
  {
   "cell_type": "markdown",
   "metadata": {},
   "source": [
    "所以这里不执行，没有任何输出。"
   ]
  },
  {
   "cell_type": "markdown",
   "metadata": {},
   "source": [
    "- `&&` 与 `||` 结合使用"
   ]
  },
  {
   "cell_type": "code",
   "execution_count": 5,
   "metadata": {
    "collapsed": false
   },
   "outputs": [
    {
     "name": "stdout",
     "output_type": "stream",
     "text": [
      "exist\r\n"
     ]
    }
   ],
   "source": [
    "which cowsay > /dev/null && echo \"exist\" || echo \"not exist\""
   ]
  },
  {
   "cell_type": "code",
   "execution_count": 6,
   "metadata": {
    "collapsed": false
   },
   "outputs": [
    {
     "name": "stdout",
     "output_type": "stream",
     "text": [
      "exist\r\n"
     ]
    }
   ],
   "source": [
    "which cowsay>/dev/null || echo \"not exist\" && echo \"exist\""
   ]
  },
  {
   "cell_type": "markdown",
   "metadata": {},
   "source": [
    "`&&` 和 `||` 可以任意顺序，不影响结果。下图是上述第一行代码的流程图：\n",
    "![](../images/codeflow.png)"
   ]
  },
  {
   "cell_type": "code",
   "execution_count": null,
   "metadata": {
    "collapsed": true
   },
   "outputs": [],
   "source": []
  }
 ],
 "metadata": {
  "kernelspec": {
   "display_name": "Bash",
   "language": "bash",
   "name": "bash"
  },
  "language_info": {
   "codemirror_mode": "shell",
   "file_extension": ".sh",
   "mimetype": "text/x-sh",
   "name": "bash"
  }
 },
 "nbformat": 4,
 "nbformat_minor": 0
}
