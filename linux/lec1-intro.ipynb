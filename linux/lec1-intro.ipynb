{
 "cells": [
  {
   "cell_type": "markdown",
   "metadata": {},
   "source": [
    "# 第一讲：Linux操作系统简介\n",
    "___"
   ]
  },
  {
   "cell_type": "markdown",
   "metadata": {},
   "source": [
    "## 1. 操作系统\n",
    "\n",
    "操作系统是计算机用户与计算机硬件之间的接口，包括系统调用（System call）和操作系统的内核两部分。\n",
    "\n",
    "[插入图片，用同心圆表示，最内层为硬件，从内往外依次为内核、系统调用、应用程序、用户]"
   ]
  },
  {
   "cell_type": "markdown",
   "metadata": {},
   "source": [
    "## 2. Linux操作系统发展简史\n",
    "\n",
    "- 1950s：首批操作系统，无用户交互、文件、穿孔卡片读取数据，输出到另一个文件或打印机；\n",
    "- 1960s：交互式操作系统：分时操作系统；Multics项目；\n",
    "- 1970s：贝尔实验室：UNIX操作系统；\n",
    "- 1990：商业版的UNIX + 学校内用于教学的MINIX\n",
    "- 1991：Linus Torwalds"
   ]
  },
  {
   "cell_type": "markdown",
   "metadata": {},
   "source": [
    "## 3. Linux操作系统的组成\n",
    "\n",
    "- **内核 （kernel）**：其他程序能够运行的基础，实现了多任务和硬件管理。用户或者系统管理员交互运行的所有程序实际上都运行在内核之上；\n",
    "\n",
    "- **命令行解释器（shell）**：用于用户交互和编写shell脚本程序；基于已有的自由软件。\n",
    "\n",
    "- **C编译器（C compiler）**：来自于GNU项目。"
   ]
  },
  {
   "cell_type": "markdown",
   "metadata": {},
   "source": [
    "## 4. Linux发展关键节点\n",
    "\n",
    "- 1965 年，Bell 实验室、MIT、GE（通用电气公司）准备开发 Multics 系统，为了同时支持 300 个终端访问主机，但是 1969 年失败了；\n",
    "> 刚开始并没有鼠标、键盘，输入设备只有卡片机，因此如果要测试某个程序，则需要将读卡纸插入卡片机，如果有错误，还需要重新来过； Multics：Multiplexed Information and Computing Service\n",
    "\n",
    "- 1969 年，Ken Thompson（C语言之父）利用汇编语言开发了 FIle Server System（Unics，即 UNIX 的原型）\n",
    "> 因为汇编语言对于硬件的依赖性，因此只能针对特定硬件； 只是为了移植一款“太空旅游”的游戏；\n",
    "\n",
    "- 1973 年，Dennis Ritchie 和 Ken Thompson 发明了 C 语言，而后写出了 UNIX 的内核\n",
    ">将 B 语言改成 C 语言，由此产生了 C 语言之父； 90% 的代码是 C 语言写的，10% 的代码用汇编写的，因此移植时只要修改那 10% 的代码即可；\n",
    "\n",
    "- 1977 年，Berkeley 大学的 Bill Joy 针对他的机器修改 UNIX 源码，称为BSD（Berkeley Software Distribution）\n",
    "> Bill Joy 是 Sun 公司的创始人；\n",
    "\n",
    "- 1979 年，UNIX 发布 System V，用于个人计算机；\n",
    "\n",
    "- 1984 年，因为 UNIX 规定：“不能对学生提供源码”，Tanenbaum 老师自己编写兼容于 UNIX 的Minix，用于教学；\n",
    "\n",
    "- 1984 年，Stallman 开始 GNU（GNU's Not Unix）项目，创办 FSF（Free Software Foundation）基金会；\n",
    "\n",
    "> 产品：GCC、Emacs、Bash Shell、GLIBC； 倡导“自由软件”； GNU 的软件缺乏一个开放的平台运行，只能在 UNIX 上运行； 自由软件指用户可以对软件做任何修改，甚至再发行，但是始终要挂着 GPL 的版权； 自由软件是可以卖的，但是不能只卖软件，而是卖服务、手册等；\n",
    "\n",
    "- 1985 年，为了避免 GNU 开发的自由软件被其他人用作专利软件，因此创建 GPL（General Public License）版权声明；\n",
    "\n",
    "- 1988 年，MIT 为了开发 GUI，成立了 XFree86 的组织；\n",
    "\n",
    "- 1991 年，芬兰赫尔辛基大学的研究生 Linus Torvalds 基于 gcc、bash 开发了针对 386 机器的 Linux 内核；\n",
    "\n",
    "- 1994 年，Torvalds 发布 Linux-v1.0；\n",
    "\n",
    "- 1996 年，Torvalds 发布 Linux-v2.0，确定了 Linux 的吉祥物：企鹅。"
   ]
  },
  {
   "cell_type": "markdown",
   "metadata": {},
   "source": [
    "## 5. Linux发展的关键人物\n",
    "\n",
    "- Ken Thompson和Dennis Ritchie：C语言之父和UNIX之父\n",
    "![](../images/ken_thompson.png)\n",
    "![](../images/dennis_ritchie.jpg)\n",
    "- Stallman：著名黑客，GNU和FSF创始人\n",
    "![](../images/stallman.jpg)\n",
    "- Bill Joy：BSD开发者\n",
    "![](../images/bill_joy.jpg)\n",
    "- Tanenbaum：MINIX开发者\n",
    "![](../images/tanenbaum.jpg)\n",
    "- Linus Torvalds：Linux之父\n",
    "![](../images/torvalds.jpg)"
   ]
  },
  {
   "cell_type": "markdown",
   "metadata": {},
   "source": [
    "## 6. Linux vs. Windows\n",
    "\n",
    "| | Linux | Windows |\n",
    "| --- | --- | --- |\n",
    "| 费用 | 免费或者很少费用 | 收费 |\n",
    "| 应用软件支持 | 大部分为开源自由软件；大部分用户体验比较一般；全球所有Linux开发者和自由软件社区提供支持 | 数量和质量上的优势；大部分为收费软件；由微软提供支持和服务 |\n",
    "| 安全性 | 不断的补丁；病毒、木马肆虐 | 相对安全 |\n",
    "| 使用习惯 | 兼具图形界面和命令行；入门相对难一些；入门后相对更高效 | 纯图形界面；上手容易 |\n",
    "| 可定制性 | 开放源代码；容易实现定制 | 相对封闭，不支持定制 |\n",
    "| 应用范畴 | 绝大多数的服务器 | 绝大多数的个人电脑 |\n",
    "| 缺乏的 | 没有特定的支持厂商；游戏娱乐支持度不足；专业软件支持度不足 | 稳定的系统；安全性和漏洞的快速修补；多用户；用户和用户组的规划；相对较少的系统资源占用；可定制裁剪，移植到嵌入式平台（如安卓设备）；可选择的多种图形用户界面（如 GNOME，KDE）|"
   ]
  },
  {
   "cell_type": "markdown",
   "metadata": {},
   "source": [
    "## 7. Linux发行版\n",
    "\n",
    "- Fedora\n",
    "    * 从Red Hat Linux发展出来的免费Linux系统\n",
    "    * 开放的、创新的、前瞻性的操作系统和平台，基于Linux\n",
    "    * Fedora 项目由 Fedora 基金会管理和控制，得到了 Red Hat, Inc. 的支持\n",
    "    \n",
    "- Debian\n",
    "    * 一个稳定容错的Linux版本\n",
    "    * Debian用户便可以自由地选择是使用一个完全开源的系统还是添加一些闭源驱动\n",
    "    \n",
    "- Ubuntu\n",
    "    * 一个以桌面应用为主的Linux操作系统\n",
    "    * 基于Debian发行版和unity桌面环境，与Debian的不同在于它每6个月会发布一个新版本\n",
    "    * Ubuntu具有庞大的社区力量，用户可以方便地从社区获得帮助\n",
    "    \n",
    "- RedHat Linux\n",
    "    * 最著名的Linux版本\n",
    "    * 是公共环境中表现上佳的服务器\n",
    "    \n",
    "- SuSE\n",
    "    * 一个连接数据库的最佳Linux版本\n",
    "    \n",
    "- CentOS\n",
    "    * Community ENTerprise Operating System\n",
    "    * 来自于Red Hat Enterprise Linux依照开放源代码规定释出的源代码所编译而成\n",
    "    * CentOS 是RHEL（Red Hat Enterprise Linux）源代码再编译的产物，而且在RHEL的基础上修正了不少已知的 Bug"
   ]
  },
  {
   "cell_type": "markdown",
   "metadata": {},
   "source": [
    "## 8. 如何学习Linux操作系统\n",
    "\n",
    "### 8.1 明确学习目的\n",
    "\n",
    "明确你是要用 Linux 来干什么，搭建服务器，做程序开发，还是日常办公，还是娱乐游戏。后两者的话，我建议你绕路。\n",
    "\n",
    "### 8.2 尽量用命令行\n",
    "\n",
    "如果你不习惯用命令行的话，请自觉绕路。一开始的时候是有些困难，但有一天你会爱上命令行的。\n",
    "\n",
    "### 8.3 注重基础\n",
    "\n",
    "#### (1) 首先你要了解计算机的软硬件基础知识\n",
    "#### (2) 在你的机器上安装Linux操作系统的某一个发行版本，入门推荐安装Ubutu或者CentOS系统\n",
    "#### (3) 学习Linux下的常用命令\n",
    "\n",
    "### 8.4 逐渐进阶\n",
    "\n",
    "#### (1) 熟悉Linux用户以及文件系统的管理和配置\n",
    "#### (2) 掌握Linux下的软件的安装与配置：RPM安装和源代码安装\n",
    "#### (3) 熟悉网络管理配置和系统的运行维护\n",
    "#### (4) 了解shell编程基础，推荐从bash学起\n",
    "\n",
    "### 8.5 高阶开发与应用\n",
    "\n",
    "#### (1) 掌握服务器领域的配置和管理：数据库、邮件、Web、FTP等等\n",
    "#### (2) 掌握集群的配置和管理：NFS、ssh等等\n",
    "#### (3) 掌握shell的高级编程、C/C++、JAVA、Python等高级语言的开发\n",
    "\n",
    "### 8.6 发烧友级别\n",
    "\n",
    "#### (1) 研究内核源代码\n",
    "#### (2) 进行操作系统的开发"
   ]
  }
 ],
 "metadata": {
  "kernelspec": {
   "display_name": "Bash",
   "language": "bash",
   "name": "bash"
  },
  "language_info": {
   "codemirror_mode": "shell",
   "file_extension": ".sh",
   "mimetype": "text/x-sh",
   "name": "bash"
  }
 },
 "nbformat": 4,
 "nbformat_minor": 0
}
