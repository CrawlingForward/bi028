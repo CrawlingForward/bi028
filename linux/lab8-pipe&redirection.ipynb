{
 "cells": [
  {
   "cell_type": "markdown",
   "metadata": {},
   "source": [
    "# 实验八：管道与重定向\n",
    "___"
   ]
  },
  {
   "cell_type": "markdown",
   "metadata": {},
   "source": [
    "## 实验目的与内容\n",
    "\n",
    "### 实验目的\n",
    "\n",
    "1. 掌握命令之间用管道连接的策略与方法\n",
    "2. 了解标准输入、标准输出与标准错误等信息\n",
    "3. 掌握重定向的方法与策略\n",
    "\n",
    "### 实验内容"
   ]
  },
  {
   "cell_type": "markdown",
   "metadata": {},
   "source": [
    "## 1. 管道（pipe）"
   ]
  },
  {
   "cell_type": "markdown",
   "metadata": {},
   "source": [
    "管道是一种通讯机制，通常用于进程间的通讯（另一种进程间通信的机制是socket网络通讯），它表现出来的形式就是将前一个进程的输出(stdout)直接作为下一个进程的输入(stdin)。\n",
    "\n",
    "这是一个例子：\n",
    "```bash\n",
    "ls -al /etc | less\n",
    "```"
   ]
  },
  {
   "cell_type": "markdown",
   "metadata": {},
   "source": [
    "这是另一个例子："
   ]
  },
  {
   "cell_type": "code",
   "execution_count": 22,
   "metadata": {
    "collapsed": false
   },
   "outputs": [
    {
     "name": "stdout",
     "output_type": "stream",
     "text": [
      "postfix:/sbin/nologin\r\n",
      "sshd:/sbin/nologin\r\n",
      "ntp:/sbin/nologin\r\n",
      "tcpdump:/sbin/nologin\r\n",
      "bio:/bin/bash\r\n",
      "apache:/sbin/nologin\r\n",
      "mysql:/sbin/nologin\r\n",
      "dockerroot:/sbin/nologin\r\n",
      "hadoop:/bin/bash\r\n",
      "redis:/sbin/nologin\r\n"
     ]
    }
   ],
   "source": [
    "cat /etc/passwd | tail | cut -d: -f1,7"
   ]
  },
  {
   "cell_type": "markdown",
   "metadata": {},
   "source": [
    "### 1.1 管道中的常用命令"
   ]
  },
  {
   "cell_type": "markdown",
   "metadata": {},
   "source": [
    "#### `wc`：简单小巧的计数工具\n",
    "\n",
    "wc命令用于统计并输出一个文件中行、单词和字节的数目：\n",
    "```bash\n",
    "ls -ld /etc/*/ | wc -l\n",
    "```\n",
    "\n",
    "#### `cut`：打印每一行的某个字段\n",
    "```bash\n",
    "cut /etc/passwd -d ':' -f 1,6\n",
    "```\n",
    "\n",
    "#### `grep`：在文本中或 stdin 中查找匹配字符串\n",
    "\n",
    "该命令的一般形式为：\n",
    "```bash\n",
    "grep [命令选项] 用于匹配的表达式 [文件]\n",
    "```\n",
    "\n",
    "#### `sort`：排序命令\n",
    "\n",
    "通常在查看命令后面结合管道使用：\n",
    "```bash\n",
    "cat /etc/passwd | sort -t':' -k 3 -n\n",
    "```\n",
    "\n",
    "#### `uniq`：去重命令\n",
    "\n",
    "uniq命令只能去连续重复的行，不是全文去重，所以要达到预期效果，可以在去重之前先排序：\n",
    "```bash\n",
    "history | cut -c 8- | cut -d ' ' -f 1 | sort | uniq\n",
    "```"
   ]
  },
  {
   "cell_type": "markdown",
   "metadata": {},
   "source": [
    "## <font color=\"red\">$\\S$ 上机练习1</font>\n",
    "\n",
    "说说下面这些命令的作用分别是什么。\n",
    "```bash\n",
    "history | cut -c 8- | cut -d ' ' -f 1 | sort | uniq\n",
    "\n",
    "history|cut -c 8- |cut -d ' ' -f 1|sort|uniq -dc\n",
    "\n",
    "history | cut -c 8- | cut -d ' ' -f 1 |sort |uniq -D\n",
    "```"
   ]
  },
  {
   "cell_type": "markdown",
   "metadata": {},
   "source": [
    "## 2. 重定向（redirection）\n",
    "\n",
    "在此前的课程中你可能已经多次看到`>`和`>>`出现在命令行之中了，没错，这就是所谓的输出重定向。\n",
    "\n",
    "一般来说，命令的输出一般是定向到`/dev/stdout`，输入一般为`/dev/stdin`，而命令的错误输出一般重定向到`/dev/stderr`。`/dev/stdin`一般指的是键盘等输入设备，而`/dev/stdout`和`/dev/stderr`一般都是定向到输出设备如显示屏终端等。\n",
    "\n",
    "|  文件描述符 | 设备文件 | 说明 |\n",
    "| --- | --- | --- |\n",
    "| 0 | `/dev/stdin` | 标准输入文件 |\n",
    "| 1 | `/dev/stdout` | 标准输出文件|\n",
    "| 2 | `/dev/stderr` | 标准错误文件 |"
   ]
  },
  {
   "cell_type": "markdown",
   "metadata": {},
   "source": [
    "### 2.1 简单重定向\n",
    "\n",
    "- `> filename`是输出重定向到另一个文件当中，`>> filename`则是将输出追加到一个文件当中；\n",
    "- 相应地，`< filename`则是输入重定向，即从文件中读取输入"
   ]
  },
  {
   "cell_type": "markdown",
   "metadata": {},
   "source": [
    "### 2.2 heredoc重定向\n",
    "\n",
    "heredoc重定向是一种比较特殊的方式，将多行内容输出到一个文件当中的方式：\n",
    "```bash\n",
    "cat > test.c <<EOF\n",
    "#include <stdio.h>\n",
    "\n",
    "int main()\n",
    "{\n",
    "    printf(\"hello world!\");\n",
    "    return 0;\n",
    "}\n",
    "\n",
    "EOF\n",
    "```\n",
    "\n",
    "这就是把`<<EOF`以及`EOF`之间的内容写入文件`test.c`。"
   ]
  },
  {
   "cell_type": "markdown",
   "metadata": {},
   "source": [
    "> 注意不要混淆重定向与管道：\n",
    "- 管道是默认连接前一个命令的输出到下一个命令的输入\n",
    "- 重定向通常需要一个文件来建立两个命令的连接"
   ]
  },
  {
   "cell_type": "markdown",
   "metadata": {},
   "source": [
    "### 2.3 标准错误重定向\n",
    "\n",
    "比如在我们的目录下存在一个文件`test0.c`，但不存在另一个文件`test1.c`："
   ]
  },
  {
   "cell_type": "code",
   "execution_count": 1,
   "metadata": {
    "collapsed": false
   },
   "outputs": [
    {
     "name": "stdout",
     "output_type": "stream",
     "text": []
    }
   ],
   "source": [
    "echo \"hello world\" > test0.c"
   ]
  },
  {
   "cell_type": "markdown",
   "metadata": {},
   "source": [
    "那么，运行下面的命令同时会输出`test0.c`的内容，并输出`test1.c`不存在的错误信息："
   ]
  },
  {
   "cell_type": "code",
   "execution_count": 2,
   "metadata": {
    "collapsed": false
   },
   "outputs": [
    {
     "name": "stdout",
     "output_type": "stream",
     "text": [
      "hello world\r\n",
      "cat: test1.c: 没有那个文件或目录\r\n"
     ]
    }
   ],
   "source": [
    "cat test0.c test1.c"
   ]
  },
  {
   "cell_type": "markdown",
   "metadata": {},
   "source": [
    "如果我们将输出重定向到一个文件`test.log`："
   ]
  },
  {
   "cell_type": "code",
   "execution_count": 3,
   "metadata": {
    "collapsed": false
   },
   "outputs": [
    {
     "name": "stdout",
     "output_type": "stream",
     "text": [
      "cat: test1.c: 没有那个文件或目录\r\n"
     ]
    }
   ],
   "source": [
    "cat test0.c test1.c > test.log"
   ]
  },
  {
   "cell_type": "markdown",
   "metadata": {},
   "source": [
    "错误仍然在，为什么？这是因为标准输出与标准错误虽然都输出到伪终端，但它们的文件描述符不同，并不是同一个东西。那么，如果我们需要将标准输出和标准错误都重定向到一个文件，怎么办呢？"
   ]
  },
  {
   "cell_type": "code",
   "execution_count": 4,
   "metadata": {
    "collapsed": false
   },
   "outputs": [
    {
     "name": "stdout",
     "output_type": "stream",
     "text": []
    }
   ],
   "source": [
    "cat test0.c test1.c > test.log 2>&1"
   ]
  },
  {
   "cell_type": "markdown",
   "metadata": {},
   "source": [
    "这时候标准输出和标准错误都被重定向到`test.log`："
   ]
  },
  {
   "cell_type": "code",
   "execution_count": 5,
   "metadata": {
    "collapsed": false
   },
   "outputs": [
    {
     "name": "stdout",
     "output_type": "stream",
     "text": [
      "hello world\r\n",
      "cat: test1.c: 没有那个文件或目录\r\n"
     ]
    }
   ],
   "source": [
    "cat test.log"
   ]
  },
  {
   "cell_type": "markdown",
   "metadata": {},
   "source": [
    "还可以写成这种形式："
   ]
  },
  {
   "cell_type": "code",
   "execution_count": 6,
   "metadata": {
    "collapsed": false
   },
   "outputs": [
    {
     "name": "stdout",
     "output_type": "stream",
     "text": []
    }
   ],
   "source": [
    "cat test0.c test1.c &>test.log"
   ]
  },
  {
   "cell_type": "code",
   "execution_count": 7,
   "metadata": {
    "collapsed": false
   },
   "outputs": [
    {
     "name": "stdout",
     "output_type": "stream",
     "text": [
      "hello world\r\n",
      "cat: test1.c: 没有那个文件或目录\r\n"
     ]
    }
   ],
   "source": [
    "cat test.log"
   ]
  },
  {
   "cell_type": "markdown",
   "metadata": {},
   "source": [
    "### 2.4 多重重定向\n",
    "\n",
    "我们可以使用`tee`命令，不但可以在标准输出上输出，还可以同时重定向到其他文件。"
   ]
  },
  {
   "cell_type": "code",
   "execution_count": 8,
   "metadata": {
    "collapsed": false
   },
   "outputs": [
    {
     "name": "stdout",
     "output_type": "stream",
     "text": [
      "cat: test1.c: 没有那个文件或目录\r\n",
      "hello world\r\n"
     ]
    }
   ],
   "source": [
    "cat test0.c test1.c | tee test.log"
   ]
  },
  {
   "cell_type": "code",
   "execution_count": 9,
   "metadata": {
    "collapsed": false
   },
   "outputs": [
    {
     "name": "stdout",
     "output_type": "stream",
     "text": [
      "hello world\r\n"
     ]
    }
   ],
   "source": [
    "cat test.log"
   ]
  },
  {
   "cell_type": "markdown",
   "metadata": {},
   "source": [
    "注意：`tee`只会重定向标准输出，而标准错误并没有重定向到文件。"
   ]
  },
  {
   "cell_type": "markdown",
   "metadata": {},
   "source": [
    "### 2.5 创建和关闭文件描述符\n",
    "\n",
    "我们这里只用到了0，1，2这三个文件描述符。事实上，还可以有3-8这些文件描述符可用，但需要我们去创建这些文件描述符。\n",
    "\n",
    "首先，让我们看看都有哪些文件描述符在被使用："
   ]
  },
  {
   "cell_type": "code",
   "execution_count": 11,
   "metadata": {
    "collapsed": false
   },
   "outputs": [
    {
     "name": "stdout",
     "output_type": "stream",
     "text": [
      "总用量 0\r\n",
      "lrwx------ 1 bio bio 64 1月  11 14:27 \u001b[0m\u001b[38;5;51m0\u001b[0m -> \u001b[48;5;232;38;5;3m/dev/pts/4\u001b[0m\r\n",
      "lrwx------ 1 bio bio 64 1月  11 14:27 \u001b[38;5;51m1\u001b[0m -> \u001b[48;5;232;38;5;3m/dev/pts/4\u001b[0m\r\n",
      "lrwx------ 1 bio bio 64 1月  11 14:27 \u001b[38;5;51m2\u001b[0m -> \u001b[48;5;232;38;5;3m/dev/pts/4\u001b[0m\r\n",
      "lr-x------ 1 bio bio 64 1月  11 14:27 \u001b[38;5;51m3\u001b[0m -> \u001b[38;5;27m/proc/19739/fd\u001b[0m\r\n"
     ]
    }
   ],
   "source": [
    "ls -Al /dev/fd/"
   ]
  },
  {
   "cell_type": "markdown",
   "metadata": {},
   "source": [
    "那么，如果我们要创建文件描述符4，怎么做呢？我们可以用`exec`命令辅助创建文件描述符："
   ]
  },
  {
   "cell_type": "code",
   "execution_count": 12,
   "metadata": {
    "collapsed": false
   },
   "outputs": [
    {
     "name": "stdout",
     "output_type": "stream",
     "text": []
    }
   ],
   "source": [
    "exec 4>myfile"
   ]
  },
  {
   "cell_type": "code",
   "execution_count": 13,
   "metadata": {
    "collapsed": false
   },
   "outputs": [
    {
     "name": "stdout",
     "output_type": "stream",
     "text": [
      "总用量 0\r\n",
      "lrwx------ 1 bio bio 64 1月  11 14:28 \u001b[0m\u001b[38;5;51m0\u001b[0m -> \u001b[48;5;232;38;5;3m/dev/pts/4\u001b[0m\r\n",
      "lrwx------ 1 bio bio 64 1月  11 14:28 \u001b[38;5;51m1\u001b[0m -> \u001b[48;5;232;38;5;3m/dev/pts/4\u001b[0m\r\n",
      "lrwx------ 1 bio bio 64 1月  11 14:28 \u001b[38;5;51m2\u001b[0m -> \u001b[48;5;232;38;5;3m/dev/pts/4\u001b[0m\r\n",
      "lr-x------ 1 bio bio 64 1月  11 14:28 \u001b[38;5;51m3\u001b[0m -> \u001b[38;5;27m/proc/19764/fd\u001b[0m\r\n",
      "l-wx------ 1 bio bio 64 1月  11 14:28 \u001b[38;5;51m4\u001b[0m -> /home/bio/science/courses/bi028/linux/myfile\r\n"
     ]
    }
   ],
   "source": [
    "ls -Al /dev/fd/"
   ]
  },
  {
   "cell_type": "markdown",
   "metadata": {},
   "source": [
    "然后我们在执行命令的时候，就可以用重定向到这个文件描述符了："
   ]
  },
  {
   "cell_type": "code",
   "execution_count": 15,
   "metadata": {
    "collapsed": false
   },
   "outputs": [
    {
     "name": "stdout",
     "output_type": "stream",
     "text": []
    }
   ],
   "source": [
    "cat test0.c test1.c 1>&4 2>&4"
   ]
  },
  {
   "cell_type": "code",
   "execution_count": 16,
   "metadata": {
    "collapsed": false
   },
   "outputs": [
    {
     "name": "stdout",
     "output_type": "stream",
     "text": [
      "hello world\r\n",
      "cat: test1.c: 没有那个文件或目录\r\n"
     ]
    }
   ],
   "source": [
    "cat myfile"
   ]
  },
  {
   "cell_type": "markdown",
   "metadata": {},
   "source": [
    "如果需要关闭这个文件描述符，同样要用到`exec`命令："
   ]
  },
  {
   "cell_type": "code",
   "execution_count": 17,
   "metadata": {
    "collapsed": false
   },
   "outputs": [
    {
     "name": "stdout",
     "output_type": "stream",
     "text": []
    }
   ],
   "source": [
    "exec 4>&-"
   ]
  },
  {
   "cell_type": "code",
   "execution_count": 18,
   "metadata": {
    "collapsed": false
   },
   "outputs": [
    {
     "name": "stdout",
     "output_type": "stream",
     "text": [
      "总用量 0\r\n",
      "lrwx------ 1 bio bio 64 1月  11 14:32 \u001b[0m\u001b[38;5;51m0\u001b[0m -> \u001b[48;5;232;38;5;3m/dev/pts/4\u001b[0m\r\n",
      "lrwx------ 1 bio bio 64 1月  11 14:32 \u001b[38;5;51m1\u001b[0m -> \u001b[48;5;232;38;5;3m/dev/pts/4\u001b[0m\r\n",
      "lrwx------ 1 bio bio 64 1月  11 14:32 \u001b[38;5;51m2\u001b[0m -> \u001b[48;5;232;38;5;3m/dev/pts/4\u001b[0m\r\n",
      "lr-x------ 1 bio bio 64 1月  11 14:32 \u001b[38;5;51m3\u001b[0m -> \u001b[38;5;27m/proc/19982/fd\u001b[0m\r\n"
     ]
    }
   ],
   "source": [
    "ls -Al /dev/fd/"
   ]
  },
  {
   "cell_type": "markdown",
   "metadata": {},
   "source": [
    "### 2.6 使用黑洞文件完全屏蔽输出和错误\n",
    "\n",
    "> 在类 UNIX 系统中，/dev/null，或称空设备，是一个特殊的设备文件，它通常被用于丢弃不需要的输出流，或作为用于输入流的空文件，这些操作通常由重定向完成。读取它则会立即得到一个EOF。\n",
    "\n",
    "我们可以灵活运用这个文件，起到屏蔽输出或者错误的功能："
   ]
  },
  {
   "cell_type": "code",
   "execution_count": 19,
   "metadata": {
    "collapsed": false
   },
   "outputs": [
    {
     "name": "stdout",
     "output_type": "stream",
     "text": []
    }
   ],
   "source": [
    "cat test0.c test1.c &>/dev/null"
   ]
  },
  {
   "cell_type": "markdown",
   "metadata": {},
   "source": [
    "或者只要输出，不要错误："
   ]
  },
  {
   "cell_type": "code",
   "execution_count": 20,
   "metadata": {
    "collapsed": false
   },
   "outputs": [
    {
     "name": "stdout",
     "output_type": "stream",
     "text": [
      "hello world\r\n"
     ]
    }
   ],
   "source": [
    "cat test0.c test1.c 2>/dev/null"
   ]
  },
  {
   "cell_type": "markdown",
   "metadata": {},
   "source": [
    "## <font color=\"red\">$\\S$上机练习2</font>\n",
    "\n",
    "试着理解下面这段代码的作用，实际这段代码不会正常工作。请结合本章知识分析这段代码没有正确工作的原因，并设法解决这个问题。\n",
    "```bash\n",
    "while read filename; do\n",
    "   echo $filename\n",
    "done <<(ls)\n",
    "```\n",
    "\n",
    "<font color=\"red\">提示</font>：想想管道与重定向的区别。"
   ]
  }
 ],
 "metadata": {
  "kernelspec": {
   "display_name": "Bash",
   "language": "bash",
   "name": "bash"
  },
  "language_info": {
   "codemirror_mode": "shell",
   "file_extension": ".sh",
   "mimetype": "text/x-sh",
   "name": "bash"
  }
 },
 "nbformat": 4,
 "nbformat_minor": 0
}
