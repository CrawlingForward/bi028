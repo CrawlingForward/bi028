{
 "cells": [
  {
   "cell_type": "markdown",
   "metadata": {},
   "source": [
    "\n",
    "# Chapter 04: `sed`, `awk` and Perl regular expression\n",
    "\n",
    "___\n",
    "\n"
   ]
  },
  {
   "cell_type": "markdown",
   "metadata": {},
   "source": [
    "\n",
    "## SECTION ONE: `sed` tutorial\n",
    "\n"
   ]
  },
  {
   "cell_type": "markdown",
   "metadata": {},
   "source": [
    "`sed` is the stream editor which can conduct text transformation on the input stream (text file or input pipeline).\n",
    "\n",
    "Here is the basic command synopsis for `sed`:\n",
    "```bash\n",
    "sed SCRIPT INPUTFILE\n",
    "```\n",
    "\n",
    "And of course `sed` has its own full synopsis:\n",
    "```bash\n",
    "sed [OPTIONS] SCRIPT INPUTFILE\n",
    "```"
   ]
  },
  {
   "cell_type": "code",
   "execution_count": 3,
   "metadata": {
    "collapsed": false
   },
   "outputs": [
    {
     "name": "stdout",
     "output_type": "stream",
     "text": [
      "Usage: sed [OPTION]... {script-only-if-no-other-script} [input-file]...\r\n",
      "\r\n",
      "  -n, --quiet, --silent\r\n",
      "                 suppress automatic printing of pattern space\r\n",
      "  -e script, --expression=script\r\n",
      "                 add the script to the commands to be executed\r\n",
      "  -f script-file, --file=script-file\r\n",
      "                 add the contents of script-file to the commands to be executed\r\n",
      "  --follow-symlinks\r\n",
      "                 follow symlinks when processing in place\r\n",
      "  -i[SUFFIX], --in-place[=SUFFIX]\r\n",
      "                 edit files in place (makes backup if SUFFIX supplied)\r\n",
      "  -l N, --line-length=N\r\n",
      "                 specify the desired line-wrap length for the `l' command\r\n",
      "  --posix\r\n",
      "                 disable all GNU extensions.\r\n",
      "  -r, --regexp-extended\r\n",
      "                 use extended regular expressions in the script.\r\n",
      "  -s, --separate\r\n",
      "                 consider files as separate rather than as a single continuous\r\n",
      "                 long stream.\r\n",
      "  -u, --unbuffered\r\n",
      "                 load minimal amounts of data from the input files and flush\r\n",
      "                 the output buffers more often\r\n",
      "  -z, --null-data\r\n",
      "                 separate lines by NUL characters\r\n",
      "      --help     display this help and exit\r\n",
      "      --version  output version information and exit\r\n",
      "\r\n",
      "If no -e, --expression, -f, or --file option is given, then the first\r\n",
      "non-option argument is taken as the sed script to interpret.  All\r\n",
      "remaining arguments are names of input files; if no input files are\r\n",
      "specified, then the standard input is read.\r\n",
      "\r\n",
      "GNU sed home page: <http://www.gnu.org/software/sed/>.\r\n",
      "General help using GNU software: <http://www.gnu.org/gethelp/>.\r\n",
      "E-mail bug reports to: <bug-sed@gnu.org>.\r\n",
      "Be sure to include the word ``sed'' somewhere in the ``Subject:'' field.\r\n"
     ]
    }
   ],
   "source": [
    "sed --help"
   ]
  },
  {
   "cell_type": "markdown",
   "metadata": {},
   "source": [
    "### Synopsis\n",
    "```bash\n",
    "sed -n -e '{COMMAND}' FILENAME\n",
    "sed -n -e 'ADDR1{COMMAND}' FILENAME\n",
    "sed -n -e 'ADDR1,ADDR2{COMMAND}' FILENAME\n",
    "```\n",
    "\n",
    "<font color='red'>NOTE</font>: Although the option `-e` is not compulsory, we still recommend you to use this option especially when you have multiple commands (scripts) to run."
   ]
  },
  {
   "cell_type": "code",
   "execution_count": 4,
   "metadata": {
    "collapsed": false
   },
   "outputs": [
    {
     "name": "stdout",
     "output_type": "stream",
     "text": []
    }
   ],
   "source": [
    "sed -e 'p' re/numbers.txt\n",
    "#sed -e '' re/numbers.txt"
   ]
  },
  {
   "cell_type": "markdown",
   "metadata": {},
   "source": [
    "* You could find that without -n to suppress the auto-print, so each line was printed twice. Thus we can add this option."
   ]
  },
  {
   "cell_type": "code",
   "execution_count": 5,
   "metadata": {
    "collapsed": false
   },
   "outputs": [
    {
     "name": "stdout",
     "output_type": "stream",
     "text": [
      "zero\r\n",
      "one\r\n",
      "two\r\n",
      "three\r\n",
      "four\r\n",
      "five\r\n",
      "six\r\n",
      "seven\r\n",
      "eight\r\n",
      "nine"
     ]
    }
   ],
   "source": [
    "sed -n -e 'p' re/numbers.txt"
   ]
  },
  {
   "cell_type": "markdown",
   "metadata": {},
   "source": [
    "### Addresses\n",
    "\n",
    "1. When no addresses are given, command will be executed on all the input lines;\n",
    "2. When only one address is given, command will be executed on the matching line;\n",
    "3. When two addresses are given, commmand will be executed on the range between the two lines.\n",
    "\n",
    "\n",
    "\n",
    "#### <font color='blue'>Exercise</font>\n",
    "Have a look at the manual of `sed`, tell what the following command will do:\n",
    "```bash\n",
    "sed -n -e '0~5p' re/numbers.txt\n",
    "sed -n -e '1,+5p' re/numbers.txt\n",
    "sed -n -e '1,~5p' re/numbers.txt\n",
    "sed -n -e '1,1p' re/numbers.txt\n",
    "```"
   ]
  },
  {
   "cell_type": "markdown",
   "metadata": {},
   "source": [
    "If no address is given, the operation will be conducted on all the lines."
   ]
  },
  {
   "cell_type": "code",
   "execution_count": 6,
   "metadata": {
    "collapsed": false
   },
   "outputs": [
    {
     "name": "stdout",
     "output_type": "stream",
     "text": [
      "zero\r\n",
      "one\r\n",
      "two\r\n",
      "three\r\n",
      "four\r\n",
      "five\r\n",
      "six\r\n",
      "seven\r\n",
      "eight\r\n",
      "nine"
     ]
    }
   ],
   "source": [
    "sed -n -e 'p' re/numbers.txt"
   ]
  },
  {
   "cell_type": "markdown",
   "metadata": {},
   "source": [
    "* With a single address, the command will be conducted only on the line."
   ]
  },
  {
   "cell_type": "code",
   "execution_count": 7,
   "metadata": {
    "collapsed": false
   },
   "outputs": [
    {
     "name": "stdout",
     "output_type": "stream",
     "text": [
      "two\r\n"
     ]
    }
   ],
   "source": [
    "sed -n -e '3p' re/numbers.txt"
   ]
  },
  {
   "cell_type": "markdown",
   "metadata": {},
   "source": [
    "* This can also be a regular expression."
   ]
  },
  {
   "cell_type": "code",
   "execution_count": 8,
   "metadata": {
    "collapsed": false
   },
   "outputs": [
    {
     "name": "stdout",
     "output_type": "stream",
     "text": [
      "two\r\n",
      "three\r\n"
     ]
    }
   ],
   "source": [
    "sed -n -e '/^t/p' re/numbers.txt"
   ]
  },
  {
   "cell_type": "markdown",
   "metadata": {},
   "source": [
    "* The two-address format can be `NUM1,NUM2`:"
   ]
  },
  {
   "cell_type": "code",
   "execution_count": 9,
   "metadata": {
    "collapsed": false
   },
   "outputs": [
    {
     "name": "stdout",
     "output_type": "stream",
     "text": [
      "two\r\n",
      "three\r\n",
      "four\r\n"
     ]
    }
   ],
   "source": [
    "sed -n -e '3,5p' re/numbers.txt"
   ]
  },
  {
   "cell_type": "code",
   "execution_count": 10,
   "metadata": {
    "collapsed": false
   },
   "outputs": [
    {
     "name": "stdout",
     "output_type": "stream",
     "text": [
      "sed: -e expression #1, char 4: invalid usage of line address 0\r\n"
     ]
    }
   ],
   "source": [
    "sed -n -e '0,4p' re/numbers.txt"
   ]
  },
  {
   "cell_type": "markdown",
   "metadata": {},
   "source": [
    "* You can find that with `NUM1,NUM2` format, `ADDR1` cannot be 0.\n",
    "* But if `ADDR2` is a regular expresion, `ADDR1` can be 0. "
   ]
  },
  {
   "cell_type": "code",
   "execution_count": 11,
   "metadata": {
    "collapsed": false
   },
   "outputs": [
    {
     "name": "stdout",
     "output_type": "stream",
     "text": [
      "zero\r\n"
     ]
    }
   ],
   "source": [
    "sed -n -e '0,/^z/p' re/numbers.txt"
   ]
  },
  {
   "cell_type": "markdown",
   "metadata": {},
   "source": [
    "The `two-address` can also be `/REGEX1/, /REGEX2/`:"
   ]
  },
  {
   "cell_type": "code",
   "execution_count": 12,
   "metadata": {
    "collapsed": false
   },
   "outputs": [
    {
     "name": "stdout",
     "output_type": "stream",
     "text": [
      "one\r\n",
      "two\r\n",
      "three\r\n",
      "four\r\n",
      "five\r\n",
      "six\r\n",
      "seven\r\n",
      "eight\r\n",
      "nine"
     ]
    }
   ],
   "source": [
    "sed -n -e '/^o/,/^o/p' re/numbers.txt"
   ]
  },
  {
   "cell_type": "markdown",
   "metadata": {},
   "source": [
    "But if we only want to print the first line starting with `o`, we can use two commands:"
   ]
  },
  {
   "cell_type": "code",
   "execution_count": 13,
   "metadata": {
    "collapsed": false
   },
   "outputs": [
    {
     "name": "stdout",
     "output_type": "stream",
     "text": [
      "one\r\n"
     ]
    }
   ],
   "source": [
    "sed -n -e '/^o/{p;q}' re/numbers.txt"
   ]
  },
  {
   "cell_type": "markdown",
   "metadata": {},
   "source": [
    "* Do NOT forget to use the `{p;q}`, otherwise nothing will be output since here `q` will be conducted on all the lines, therefore at first line `sed` quit. "
   ]
  },
  {
   "cell_type": "code",
   "execution_count": 14,
   "metadata": {
    "collapsed": false
   },
   "outputs": [
    {
     "name": "stdout",
     "output_type": "stream",
     "text": []
    }
   ],
   "source": [
    "sed -n -e '/^o/p;q' re/numbers.txt"
   ]
  },
  {
   "cell_type": "code",
   "execution_count": 15,
   "metadata": {
    "collapsed": false
   },
   "outputs": [
    {
     "name": "stdout",
     "output_type": "stream",
     "text": [
      "four\r\n",
      "five\r\n",
      "six\r\n",
      "seven\r\n",
      "eight\r\n",
      "nine"
     ]
    }
   ],
   "source": [
    "sed -n -e '5,+6p' re/numbers.txt"
   ]
  },
  {
   "cell_type": "code",
   "execution_count": 16,
   "metadata": {
    "collapsed": false
   },
   "outputs": [
    {
     "name": "stdout",
     "output_type": "stream",
     "text": [
      "zero\r\n",
      "one\r\n",
      "six\r\n",
      "seven\r\n",
      "eight\r\n",
      "nine"
     ]
    }
   ],
   "source": [
    "sed -n -e '3,~6!p' re/numbers.txt"
   ]
  },
  {
   "cell_type": "markdown",
   "metadata": {},
   "source": [
    "### Options\n",
    "\n",
    "`sed` can have different options:\n",
    "\n",
    "| Option | Description |\n",
    "| --- | --- |\n",
    "| -n, --quiet, --silent | Suppress automatic printing of pattern space. |\n",
    "| -e SCRIPT, --expression=SCRIPT | Add the script to the commands to be executed. |\n",
    "| -f SCRIPT-FILE, --file=SCRIPT-FILE | Use the scripts in SCRIPT-FILE. |\n",
    "| -i[SUFFIX], --in-place[=SUFFIX] | Edit files in place (backup if SUFFIX is supplied). |\n",
    "|  -l N, --line-length=N | Specify the desired line-wrap length for command `l`. |\n",
    "| -r, --regrexp-extended | Use ERE in the script. |\n",
    "| -s, --separate | Consider files as separate rather than as a single continuous stream. |\n",
    "| -u, --unbuffered | Load minimal amounts of data from the input files and flush the output buffers more often. |\n",
    "| -z, --null-data | Separate lines by NUL characters. |\n"
   ]
  },
  {
   "cell_type": "markdown",
   "metadata": {
    "collapsed": true
   },
   "source": [
    "\n",
    "### Commands for `sed` SCRIPTS\n",
    "\n",
    "`sed` has many different commands:\n",
    "\n",
    "##### 1. Commands for non-address\n",
    "\n",
    "| Command | Description | Example |\n",
    "| --- | --- | --- |\n",
    "| : label | **label for b and t commands ** | : loop |\n",
    "| #comment | The comment extends until the next new line | |\n",
    "| } | The closing bracket of a { } block | {;} |\n",
    "\n",
    "##### 2. Commands for zero- or one-address\n",
    "\n",
    "| Command | Description | Example |\n",
    "| --- | --- | --- | \n",
    "| = | Print the line number of current address | `sed -n '1,~5=' test` |\n",
    "| i \\TEXT   | Insert TEXT before the current address | `sed '1~5i \\NEW' test` |\n",
    "| a \\TEXT   | Append TEXT after the current address | `sed '1~5a \\NEW' test` |\n",
    "| q [EXIT_CODE] | Quit immediately without any further processing; will print the content space if auto-print is enabled. | `sed -e '1~5p' -e '14q' test` |\n",
    "| Q [EXIT_CODE] | Quit immediately without any further processing | `sed -e '1~5p' -e '14Q' test` |\n",
    "| r FILENAME | Append the text read from FILE | `sed -n -e '1～5p;1~5r test2' test` |\n",
    "| R FILENAME | Append a line read from FILE | `sed -n -e '1～5p;1~5R test2' test` |\n",
    "\n",
    "##### 3. Commands for 1+-addresses\n",
    "\n",
    "| Command | Description | Example |\n",
    "| --- | --- | --- |\n",
    "| c \\TEXT   | Change the range with TEXT   | `sed '1,5c \\NEW' test` |\n",
    "| d | Delete the pattern space and start a new cycle. | `sed -n -e '1,5d;p' test`  |\n",
    "| D | Delete the first line in the pattern space if the pattern space contains a newline. | `sed -e '1,5{N;D}' test` |\n",
    "| n | Copy the next line to the pattern space. | `sed -e 'n;p' test` |\n",
    "| N | Append the next line to the pattern space. | `sed -n -e 'N;p' test` |\n",
    "| g | Copy the hold space to the pattern space . |                        |\n",
    "| G | Append the hold space to the pattern space. | `sed -n -e '1!G;h;$p' test3` |\n",
    "| h | Copy the pattern space to the hold space. | `sed -n -e '1!G;h;$p' test3`  |\n",
    "| H | Append the pattern space to the hold space. |                       |\n",
    "| x | Exchange the pattern space and the hold space. |                    |\n",
    "| b LABEL | Branch to LABEL; if LABEL is omitted, branch to end of script.|        |\n",
    "| t LABEL | If  a  s///  has done a successful substitution since the last input line was  read  and  since the  last t or T command, then branch to LABEL; if LABEL is omitted, branch to end of script. |             |\n",
    "| T LABEL | If  NO  s///  has done a successful substitution since the last input line was  read  and  since the  last t or T command, then branch to LABEL; if LABEL is omitted, branch to end of script.|              |\n",
    "| s/REGEX/REPLACE/ | Substitute the pattern REGEX into REPLACE. |                    |\n",
    "| y/SRC/DEST/  | Transliterate the char in SRC to correponding char in DEST | `sed 'y/a-z/A-Z/' test` |\n",
    "| p |   Print the current pattern space.             | `sed -n -e '1~5N;p' test` |\n",
    "| P |   Print the first line of the current space.   | `sed -n -e '1~5N;P' test` |\n",
    "| w FILENAME | Write the pattern space into FILENAME.|  `sed -n -e '1~5w test3' test`  |\n",
    "| W FILENAME | Write the first line of the pattern space into the FILENAME. |  `sed -e '1~5N;W test3' test` |\n",
    "\n",
    "\n",
    "<font color=\"red\">NOTE</font>: We can add \"!\" before any command, which means ACTION on all the other lines with the exception of the given line.\n",
    "\n",
    "\n",
    "### <font color='blue'>Exercise</font>\n",
    "#### 1. What is the difference between `sed -n -e '1,5{p;N;D}' test` and `sed -n -e '1,5{p;N;d}' test`?\n",
    "#### 2. Here is a complete example of *commify* (Add commas as thousands separator)\n",
    "\n",
    "(1) This is the file `numbers.txt`:\n",
    "```1\n",
    "12\n",
    "123\n",
    "1234\n",
    "12345\n",
    "123456\n",
    "1234567\n",
    "12345678\n",
    "123456789\n",
    "1234567890\n",
    "1234567890.1234\n",
    "+1234567890.1234\n",
    "-1234567890.1234\n",
    "$1234567890.1234\n",
    "```\n",
    "\n",
    "(2) `sed` command:\n",
    "```bash\n",
    "sed -r ':a; s@(^|[^0-9.])([0-9]+)([0-9]{3})@\\1\\2,\\3@g;t a' numbers.txt\n",
    "```\n",
    "\n",
    "#### 3. Rewrite the file so that all the numbers in the file have 2 valid decimal digits. \n",
    "```\n",
    "name marks grade\n",
    "abc 50.5 CB\n",
    "def 45 CC\n",
    "ghhi 55 CA\n",
    "jkl 85 A\n",
    "mno 75.0 BA\n",
    "pqr 77 BA\n",
    "stu 89.50 A\n",
    "```\n",
    "\n",
    "#### 4. There is a file containing 1 to 100, with each on one line. Rewrite the file so that the numbers will be printed on one single line, separated by TAB."
   ]
  },
  {
   "cell_type": "code",
   "execution_count": 17,
   "metadata": {
    "collapsed": false
   },
   "outputs": [
    {
     "name": "stdout",
     "output_type": "stream",
     "text": [
      "zero\r\n",
      "one\r\n",
      "two\r\n",
      "three\r\n",
      "four\r\n",
      "five\r\n",
      "NEW\r\n",
      "NEW\r\n",
      "NEW\r\n",
      "NEW\r\n"
     ]
    }
   ],
   "source": [
    "sed '1,+5!c\\NEW' re/numbers.txt"
   ]
  },
  {
   "cell_type": "code",
   "execution_count": 28,
   "metadata": {
    "collapsed": false
   },
   "outputs": [
    {
     "name": "stdout",
     "output_type": "stream",
     "text": [
      "nine eight seven six five four three two one zero\r\n"
     ]
    }
   ],
   "source": [
    "sed -n -e '1!G;$!h;${s/\\n/ /g;p}' re/numbers.txt"
   ]
  },
  {
   "cell_type": "markdown",
   "metadata": {},
   "source": [
    "Here is the explantion for the above command:\n",
    "* For first line, `1h` will copy the pattern space to the hold space.\n",
    "* For the other lines, `G;h` will append the hold space to the pattern space, and then copy back to the hold space. `s/\\n/ /g` will replace all the newlines with a space.\n",
    "* For the final line, `p` will print out the pattern space."
   ]
  },
  {
   "cell_type": "code",
   "execution_count": 18,
   "metadata": {
    "collapsed": false
   },
   "outputs": [
    {
     "name": "stdout",
     "output_type": "stream",
     "text": [
      "zero one two three four five six seven eight nine"
     ]
    }
   ],
   "source": [
    "sed -n -e '1h;1!H;${g;s/\\n/ /g;p}' re/numbers.txt"
   ]
  },
  {
   "cell_type": "markdown",
   "metadata": {},
   "source": [
    "Here is the explanation:\n",
    "* For line 1, `1h;1!H` will copy the pattern space to the hold space.\n",
    "* For the other lines, `1!H` will append the pattern space to the hold space.\n",
    "* For the last line `$`, `g` will copy the hold space to the pattern space, and `s/\\n/ /g` will replace all the newlines with a space, and then print out the pattern space."
   ]
  }
 ],
 "metadata": {
  "kernelspec": {
   "display_name": "Bash",
   "language": "bash",
   "name": "bash"
  },
  "language_info": {
   "codemirror_mode": "shell",
   "file_extension": ".sh",
   "mimetype": "text/x-sh",
   "name": "bash"
  }
 },
 "nbformat": 4,
 "nbformat_minor": 0
}
