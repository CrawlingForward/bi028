{
 "cells": [
  {
   "cell_type": "markdown",
   "metadata": {},
   "source": [
    "\n",
    "\n",
    "# Linux Command Line Interface (CLI)\n",
    "\n",
    "This chapter is designed to be something the students can complete in about a day to a week and then get enough skill at the command line to graduate to other chapters. This chapter is NOT about mastering wizardry system administration. It's just a quick introduction to get newbies going."
   ]
  },
  {
   "cell_type": "markdown",
   "metadata": {},
   "source": [
    "## Comand prompt\n",
    "\n",
    "The command prompt can be\n",
    "```\n",
    "bio@localhost:/home/bio $\n",
    "```\n",
    "if you are a plain user, or \n",
    "```\n",
    "root@localhost:/root #\n",
    "```\n",
    "if you login as the system privileged administrator, root.\n",
    "\n",
    "You can enter the command right after the command prompt and press ENTER to run the command."
   ]
  },
  {
   "cell_type": "markdown",
   "metadata": {},
   "source": [
    "## Command syntax\n",
    "\n",
    "```\n",
    "COMMAND [OPTIONS] [ARGUMENTS]\n",
    "```\n",
    "\n",
    "Here the options and arguments are not mandatory, instead they are optional.\n",
    "\n",
    "### Options\n",
    "Options can be either long or short. A long option starts with \"--\", while a short option starts with only a single dash \"-\". Some of the options are followed by a mandatory argument.\n",
    "\n",
    "Here is a command without arguments and options:"
   ]
  },
  {
   "cell_type": "code",
   "execution_count": 4,
   "metadata": {
    "collapsed": false
   },
   "outputs": [
    {
     "name": "stdout",
     "output_type": "stream",
     "text": [
      "ch01.html  ch01.ipynb  ch02.ipynb  \u001b[0m\u001b[01;34mimages\u001b[0m/\r\n"
     ]
    }
   ],
   "source": [
    "%ls"
   ]
  },
  {
   "cell_type": "markdown",
   "metadata": {},
   "source": [
    "And here is a command with options, but no arguments:"
   ]
  },
  {
   "cell_type": "code",
   "execution_count": 5,
   "metadata": {
    "collapsed": false
   },
   "outputs": [
    {
     "name": "stdout",
     "output_type": "stream",
     "text": [
      "total 236\r\n",
      "-rw-r----- 1 bio bio 205844  2月 16 13:07 ch01.html\r\n",
      "-rw-rw-r-- 1 bio bio  16467  2月 16 13:42 ch01.ipynb\r\n",
      "-rw-rw-r-- 1 bio bio   3261  2月 16 15:38 ch02.ipynb\r\n",
      "drwxrwxr-x 2 bio bio   4096  2月 16 13:43 \u001b[0m\u001b[01;34mimages\u001b[0m/\r\n"
     ]
    }
   ],
   "source": [
    "%ls -l"
   ]
  },
  {
   "cell_type": "markdown",
   "metadata": {},
   "source": [
    "And this is a command with one argument, but no options:"
   ]
  },
  {
   "cell_type": "code",
   "execution_count": 3,
   "metadata": {
    "collapsed": false
   },
   "outputs": [
    {
     "name": "stdout",
     "output_type": "stream",
     "text": [
      "\u001b[0m\u001b[01;34mCytoscapeConfiguration\u001b[0m/  \u001b[01;34mnltk_data\u001b[0m/       SqlViewerHistory.props\r\n",
      "\u001b[01;34mDesktop\u001b[0m/                 \u001b[01;34mperl5\u001b[0m/           \u001b[01;34mtexmf\u001b[0m/\r\n",
      "\u001b[01;34mDocuments\u001b[0m/               \u001b[01;34mPictures\u001b[0m/        \u001b[01;34mthesis\u001b[0m/\r\n",
      "\u001b[01;34mDownloads\u001b[0m/               \u001b[01;34mR\u001b[0m/               \u001b[01;34mtmp\u001b[0m/\r\n",
      "\u001b[01;34migv\u001b[0m/                     \u001b[01;36mrunJalview\u001b[0m@      \u001b[01;34mtutorials\u001b[0m/\r\n",
      "\u001b[01;34mJalview\u001b[0m/                 SimpleCLI.props  week-7-blast.ppt_1odp\r\n",
      "\u001b[01;34mlibs\u001b[0m/                    \u001b[01;34msoftware\u001b[0m/\r\n",
      "list_reads.txt           spark.odp\r\n"
     ]
    }
   ],
   "source": [
    "%ls /home/bio"
   ]
  },
  {
   "cell_type": "markdown",
   "metadata": {},
   "source": [
    "To get the usage of the command `ls`, we can type:"
   ]
  },
  {
   "cell_type": "code",
   "execution_count": 7,
   "metadata": {
    "collapsed": true
   },
   "outputs": [],
   "source": [
    "%man ls"
   ]
  },
  {
   "cell_type": "markdown",
   "metadata": {},
   "source": [
    "### `pwd`: print working directory\n",
    "\n",
    "`pwd` is a command to print the name of current/working directory"
   ]
  },
  {
   "cell_type": "code",
   "execution_count": 18,
   "metadata": {
    "collapsed": false
   },
   "outputs": [
    {
     "name": "stdout",
     "output_type": "stream",
     "text": [
      "/home/bio/tutorials/python/optimization/python-notebook/Linux/Pwd\n"
     ]
    },
    {
     "data": {
      "text/plain": [
       "u'/home/bio/tutorials/python/optimization/python-notebook/Linux/Pwd'"
      ]
     },
     "execution_count": 18,
     "metadata": {},
     "output_type": "execute_result"
    }
   ],
   "source": [
    "%cd Pwd\n",
    "%pwd"
   ]
  },
  {
   "cell_type": "code",
   "execution_count": 24,
   "metadata": {
    "collapsed": false
   },
   "outputs": [
    {
     "name": "stdout",
     "output_type": "stream",
     "text": [
      "/home/bio/tutorials/python/optimization/python-notebook/Linux\n",
      "/home/bio/tutorials/python/optimization/python-notebook/Linux/Pwd\n"
     ]
    },
    {
     "data": {
      "text/plain": [
       "u'/home/bio/tutorials/python/optimization/python-notebook/Linux/Pwd'"
      ]
     },
     "execution_count": 24,
     "metadata": {},
     "output_type": "execute_result"
    }
   ],
   "source": [
    "%cd ..\n",
    "%cd pwd\n",
    "%pwd -L"
   ]
  },
  {
   "cell_type": "markdown",
   "metadata": {
    "collapsed": true
   },
   "source": [
    "### `hostname`: tell your computer name\n",
    "\n",
    "`hostname` is a command to print your computer's name."
   ]
  },
  {
   "cell_type": "code",
   "execution_count": 32,
   "metadata": {
    "collapsed": false
   },
   "outputs": [
    {
     "name": "stderr",
     "output_type": "stream",
     "text": [
      "ERROR: Line magic function `%/bin/hostname` not found.\n"
     ]
    }
   ],
   "source": [
    "%/bin/hostname"
   ]
  },
  {
   "cell_type": "markdown",
   "metadata": {
    "collapsed": true
   },
   "source": [
    "### `mkdir`: make directory\n",
    "\n",
    "`mkdir` is used to build a new directory if the directory does not exist."
   ]
  },
  {
   "cell_type": "code",
   "execution_count": 33,
   "metadata": {
    "collapsed": false
   },
   "outputs": [
    {
     "name": "stdout",
     "output_type": "stream",
     "text": [
      "\u001b[0m\u001b[01;34mtemp\u001b[0m/\r\n"
     ]
    }
   ],
   "source": [
    "%mkdir temp\n",
    "%mkdir temp/bioinformatics\n",
    "%mkdir -p temp/biostat/multivariate"
   ]
  },
  {
   "cell_type": "code",
   "execution_count": 37,
   "metadata": {
    "collapsed": false
   },
   "outputs": [
    {
     "data": {
      "text/plain": [
       "u'/home/bio/tutorials/python/optimization/python-notebook/Linux/Pwd'"
      ]
     },
     "execution_count": 37,
     "metadata": {},
     "output_type": "execute_result"
    }
   ],
   "source": [
    "%pwd"
   ]
  },
  {
   "cell_type": "markdown",
   "metadata": {},
   "source": [
    "### `cd`: change directory\n",
    "\n",
    "With command `pwd`, you can know \"**where-you-are**\"? And `cd` can bring you to \"**where-you-want-to-go**\"."
   ]
  },
  {
   "cell_type": "code",
   "execution_count": 38,
   "metadata": {
    "collapsed": false
   },
   "outputs": [
    {
     "name": "stdout",
     "output_type": "stream",
     "text": [
      "/home/bio/tutorials/python/optimization/python-notebook/Linux/Pwd/temp\n"
     ]
    },
    {
     "data": {
      "text/plain": [
       "u'/home/bio/tutorials/python/optimization/python-notebook/Linux/Pwd/temp'"
      ]
     },
     "execution_count": 38,
     "metadata": {},
     "output_type": "execute_result"
    }
   ],
   "source": [
    "% cd temp\n",
    "% pwd"
   ]
  },
  {
   "cell_type": "markdown",
   "metadata": {},
   "source": [
    "For command `cd`, We can use either **abstract path** or **absolute path**. "
   ]
  },
  {
   "cell_type": "code",
   "execution_count": null,
   "metadata": {
    "collapsed": true
   },
   "outputs": [],
   "source": []
  },
  {
   "cell_type": "code",
   "execution_count": null,
   "metadata": {
    "collapsed": true
   },
   "outputs": [],
   "source": []
  },
  {
   "cell_type": "code",
   "execution_count": null,
   "metadata": {
    "collapsed": true
   },
   "outputs": [],
   "source": []
  }
 ],
 "metadata": {
  "kernelspec": {
   "display_name": "Python 2",
   "language": "python",
   "name": "python2"
  },
  "language_info": {
   "codemirror_mode": {
    "name": "ipython",
    "version": 2
   },
   "file_extension": ".py",
   "mimetype": "text/x-python",
   "name": "python",
   "nbconvert_exporter": "python",
   "pygments_lexer": "ipython2",
   "version": "2.7.11"
  }
 },
 "nbformat": 4,
 "nbformat_minor": 0
}
