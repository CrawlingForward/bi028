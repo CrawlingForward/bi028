{
 "cells": [
  {
   "cell_type": "markdown",
   "metadata": {},
   "source": [
    "\n",
    "\n",
    "# Chapter 02: Linux Command Line Interface (CLI)\n",
    "___\n",
    "\n",
    "This chapter is designed to be something the students can complete in about a day to a week and then get enough skill at the command line to graduate to other chapters. This chapter is NOT about mastering wizardry system administration. It's just a quick introduction to get newbies going."
   ]
  },
  {
   "cell_type": "markdown",
   "metadata": {},
   "source": [
    "## Comand prompt\n",
    "\n",
    "The command prompt can be\n",
    "```\n",
    "bio@localhost:/home/bio $\n",
    "```\n",
    "if you are a plain user, or \n",
    "```\n",
    "root@localhost:/root #\n",
    "```\n",
    "if you login as the system privileged administrator, root.\n",
    "\n",
    "You can enter the command right after the command prompt and press ENTER to run the command."
   ]
  },
  {
   "cell_type": "markdown",
   "metadata": {},
   "source": [
    "## Command syntax\n",
    "\n",
    "```\n",
    "COMMAND [OPTIONS] [ARGUMENTS]\n",
    "```\n",
    "\n",
    "Here the options and arguments are not mandatory.\n",
    "\n",
    "### Options\n",
    "In fact optpions are a kind of special arguments starting with a dash. Options can be either long or short. A long option starts with \"--\", while a short option starts with only a single dash \"-\". Some of the options are followed by a mandatory argument.\n",
    "\n",
    "Here is a command without arguments and options:"
   ]
  },
  {
   "cell_type": "markdown",
   "metadata": {},
   "source": [
    "## 1. Working with directory\n",
    "___"
   ]
  },
  {
   "cell_type": "code",
   "execution_count": 66,
   "metadata": {
    "collapsed": false
   },
   "outputs": [
    {
     "name": "stdout",
     "output_type": "stream",
     "text": [
      "\u001b[0m\u001b[01;34mawk-lessons\u001b[0m  ch03.html              \u001b[01;34mlearnit\u001b[0m         test003  test011\r\n",
      "\u001b[30;42mbash\u001b[0m         ch03.ipynb             new             test004  test012\r\n",
      "ch00.ipynb   ch03.pdf               \u001b[01;36mpwd\u001b[0m             test005  test013\r\n",
      "ch01.html    ch04.ipynb             \u001b[01;34mPwd\u001b[0m             test006  test014\r\n",
      "ch01.ipynb   ch04-perl.ipynb        \u001b[01;34mre\u001b[0m              test007  test015\r\n",
      "ch01.pdf     ch04-sed.ipynb         syllabus.ipynb  test008  xaaa\r\n",
      "ch02.ipynb   \u001b[01;34mimages\u001b[0m                 test001         test009  xaab\r\n",
      "ch02.pdf     \u001b[01;34mintro-to-scikit-learn\u001b[0m  test002         test010\r\n"
     ]
    }
   ],
   "source": [
    "ls"
   ]
  },
  {
   "cell_type": "code",
   "execution_count": null,
   "metadata": {
    "collapsed": true
   },
   "outputs": [],
   "source": []
  },
  {
   "cell_type": "markdown",
   "metadata": {},
   "source": [
    "And here is a command with options, but no arguments:"
   ]
  },
  {
   "cell_type": "code",
   "execution_count": 2,
   "metadata": {
    "collapsed": false
   },
   "outputs": [
    {
     "name": "stdout",
     "output_type": "stream",
     "text": [
      "total 1740\r\n",
      "drwxrwxr-x 5 bio bio   4096  2月 29 22:18 \u001b[0m\u001b[01;34mawk-lessons\u001b[0m\r\n",
      "-rw-r--r-- 1 bio bio   7766  3月  1 11:55 ch00.ipynb\r\n",
      "-rw-r----- 1 bio bio 205844  2月 16 13:07 ch01.html\r\n",
      "-rw-rw-r-- 1 bio bio  14969  2月 26 09:51 ch01.ipynb\r\n",
      "-rw------- 1 bio bio 645763  2月 26 09:50 ch01.pdf\r\n",
      "-rw-rw-r-- 1 bio bio   8900  2月 17 08:10 ch02.ipynb\r\n",
      "-rw-r----- 1 bio bio 213199  2月 18 12:47 ch03.html\r\n",
      "-rw-rw-r-- 1 bio bio  28241  3月  1 12:05 ch03.ipynb\r\n",
      "-rw------- 1 bio bio 555746  2月 18 12:51 ch03.pdf\r\n",
      "-rw-rw-r-- 1 bio bio  22038  2月 29 22:38 ch04.ipynb\r\n",
      "-rw-rw-r-- 1 bio bio  21238  3月  1 12:03 ch04-sed.ipynb\r\n",
      "drwxrwxr-x 2 bio bio   4096  2月 16 13:43 \u001b[01;34mimages\u001b[0m\r\n",
      "drwxrwxr-x 3 bio bio   4096  2月 22 22:30 \u001b[01;34mintro-to-scikit-learn\u001b[0m\r\n",
      "drwxrwxr-x 3 bio bio   4096  2月 19 16:37 \u001b[01;34mlearnit\u001b[0m\r\n",
      "lrwxrwxrwx 1 bio bio      3  2月 16 21:07 \u001b[01;36mpwd\u001b[0m -> \u001b[01;34mPwd\u001b[0m\r\n",
      "drwxrwxr-x 3 bio bio   4096  2月 17 06:23 \u001b[01;34mPwd\u001b[0m\r\n",
      "drwxrwxr-x 3 bio bio   4096  3月  1 10:12 \u001b[01;34mre\u001b[0m\r\n",
      "-rw-rw-r-- 1 bio bio   2006  2月 26 09:51 syllabus.ipynb\r\n"
     ]
    }
   ],
   "source": [
    "ls -l"
   ]
  },
  {
   "cell_type": "markdown",
   "metadata": {},
   "source": [
    "And this is a command with one argument, but no options:"
   ]
  },
  {
   "cell_type": "code",
   "execution_count": 3,
   "metadata": {
    "collapsed": false
   },
   "outputs": [
    {
     "name": "stdout",
     "output_type": "stream",
     "text": [
      "\u001b[0m\u001b[01;34mCytoscapeConfiguration\u001b[0m  \u001b[01;34mnltk_data\u001b[0m        spark.odp\r\n",
      "\u001b[01;34mDesktop\u001b[0m                 \u001b[01;34mperl5\u001b[0m            SqlViewerHistory.props\r\n",
      "\u001b[01;34mDocuments\u001b[0m               \u001b[01;34mPictures\u001b[0m         \u001b[01;34mtexmf\u001b[0m\r\n",
      "\u001b[01;34mDownloads\u001b[0m               \u001b[01;34mR\u001b[0m                \u001b[01;34mthesis\u001b[0m\r\n",
      "\u001b[01;34migv\u001b[0m                     \u001b[01;36mrunJalview\u001b[0m       \u001b[01;34mtmp\u001b[0m\r\n",
      "\u001b[01;34mJalview\u001b[0m                 SimpleCLI.props  \u001b[01;34mtutorials\u001b[0m\r\n",
      "\u001b[01;34mlibs\u001b[0m                    \u001b[01;34msoftware\u001b[0m         week-7-blast.ppt_1odp\r\n"
     ]
    }
   ],
   "source": [
    "ls /home/bio"
   ]
  },
  {
   "cell_type": "markdown",
   "metadata": {},
   "source": [
    "To get the usage of the command `ls`, we can type:\n",
    "```bash\n",
    "man ls\n",
    "```"
   ]
  },
  {
   "cell_type": "code",
   "execution_count": 1,
   "metadata": {
    "collapsed": false,
    "scrolled": true
   },
   "outputs": [
    {
     "name": "stdout",
     "output_type": "stream",
     "text": [
      "Usage: ls [OPTION]... [FILE]...\r\n",
      "List information about the FILEs (the current directory by default).\r\n",
      "Sort entries alphabetically if none of -cftuvSUX nor --sort is specified.\r\n",
      "\r\n",
      "Mandatory arguments to long options are mandatory for short options too.\r\n",
      "  -a, --all                  do not ignore entries starting with .\r\n",
      "  -A, --almost-all           do not list implied . and ..\r\n",
      "      --author               with -l, print the author of each file\r\n",
      "  -b, --escape               print C-style escapes for nongraphic characters\r\n",
      "      --block-size=SIZE      scale sizes by SIZE before printing them.  E.g.,\r\n",
      "                               '--block-size=M' prints sizes in units of\r\n",
      "                               1,048,576 bytes.  See SIZE format below.\r\n",
      "  -B, --ignore-backups       do not list implied entries ending with ~\r\n",
      "  -c                         with -lt: sort by, and show, ctime (time of last\r\n",
      "                               modification of file status information)\r\n",
      "                               with -l: show ctime and sort by name\r\n",
      "                               otherwise: sort by ctime, newest first\r\n",
      "  -C                         list entries by columns\r\n",
      "      --color[=WHEN]         colorize the output.  WHEN defaults to 'always'\r\n",
      "                               or can be 'never' or 'auto'.  More info below\r\n",
      "  -d, --directory            list directory entries instead of contents,\r\n",
      "                               and do not dereference symbolic links\r\n",
      "  -D, --dired                generate output designed for Emacs' dired mode\r\n",
      "  -f                         do not sort, enable -aU, disable -ls --color\r\n",
      "  -F, --classify             append indicator (one of */=>@|) to entries\r\n",
      "      --file-type            likewise, except do not append '*'\r\n",
      "      --format=WORD          across -x, commas -m, horizontal -x, long -l,\r\n",
      "                               single-column -1, verbose -l, vertical -C\r\n",
      "      --full-time            like -l --time-style=full-iso\r\n",
      "  -g                         like -l, but do not list owner\r\n",
      "      --group-directories-first\r\n",
      "                             group directories before files.\r\n",
      "                               augment with a --sort option, but any\r\n",
      "                               use of --sort=none (-U) disables grouping\r\n",
      "  -G, --no-group             in a long listing, don't print group names\r\n",
      "  -h, --human-readable       with -l, print sizes in human readable format\r\n",
      "                               (e.g., 1K 234M 2G)\r\n",
      "      --si                   likewise, but use powers of 1000 not 1024\r\n",
      "  -H, --dereference-command-line\r\n",
      "                             follow symbolic links listed on the command line\r\n",
      "      --dereference-command-line-symlink-to-dir\r\n",
      "                             follow each command line symbolic link\r\n",
      "                             that points to a directory\r\n",
      "      --hide=PATTERN         do not list implied entries matching shell PATTERN\r\n",
      "                               (overridden by -a or -A)\r\n",
      "      --indicator-style=WORD  append indicator with style WORD to entry names:\r\n",
      "                               none (default), slash (-p),\r\n",
      "                               file-type (--file-type), classify (-F)\r\n",
      "  -i, --inode                print the index number of each file\r\n",
      "  -I, --ignore=PATTERN       do not list implied entries matching shell PATTERN\r\n",
      "  -k, --kibibytes            use 1024-byte blocks\r\n",
      "  -l                         use a long listing format\r\n",
      "  -L, --dereference          when showing file information for a symbolic\r\n",
      "                               link, show information for the file the link\r\n",
      "                               references rather than for the link itself\r\n",
      "  -m                         fill width with a comma separated list of entries\r\n",
      "  -n, --numeric-uid-gid      like -l, but list numeric user and group IDs\r\n",
      "  -N, --literal              print raw entry names (don't treat e.g. control\r\n",
      "                               characters specially)\r\n",
      "  -o                         like -l, but do not list group information\r\n",
      "  -p, --indicator-style=slash\r\n",
      "                             append / indicator to directories\r\n",
      "  -q, --hide-control-chars   print ? instead of non graphic characters\r\n",
      "      --show-control-chars   show non graphic characters as-is (default\r\n",
      "                             unless program is 'ls' and output is a terminal)\r\n",
      "  -Q, --quote-name           enclose entry names in double quotes\r\n",
      "      --quoting-style=WORD   use quoting style WORD for entry names:\r\n",
      "                               literal, locale, shell, shell-always, c, escape\r\n",
      "  -r, --reverse              reverse order while sorting\r\n",
      "  -R, --recursive            list subdirectories recursively\r\n",
      "  -s, --size                 print the allocated size of each file, in blocks\r\n",
      "  -S                         sort by file size\r\n",
      "      --sort=WORD            sort by WORD instead of name: none -U,\r\n",
      "                             extension -X, size -S, time -t, version -v\r\n",
      "      --time=WORD            with -l, show time as WORD instead of modification\r\n",
      "                             time: atime -u, access -u, use -u, ctime -c,\r\n",
      "                             or status -c; use specified time as sort key\r\n",
      "                             if --sort=time\r\n",
      "      --time-style=STYLE     with -l, show times using style STYLE:\r\n",
      "                             full-iso, long-iso, iso, locale, +FORMAT.\r\n",
      "                             FORMAT is interpreted like 'date'; if FORMAT is\r\n",
      "                             FORMAT1<newline>FORMAT2, FORMAT1 applies to\r\n",
      "                             non-recent files and FORMAT2 to recent files;\r\n",
      "                             if STYLE is prefixed with 'posix-', STYLE\r\n",
      "                             takes effect only outside the POSIX locale\r\n",
      "  -t                         sort by modification time, newest first\r\n",
      "  -T, --tabsize=COLS         assume tab stops at each COLS instead of 8\r\n",
      "  -u                         with -lt: sort by, and show, access time\r\n",
      "                               with -l: show access time and sort by name\r\n",
      "                               otherwise: sort by access time\r\n",
      "  -U                         do not sort; list entries in directory order\r\n",
      "  -v                         natural sort of (version) numbers within text\r\n",
      "  -w, --width=COLS           assume screen width instead of current value\r\n",
      "  -x                         list entries by lines instead of by columns\r\n",
      "  -X                         sort alphabetically by entry extension\r\n",
      "  -Z, --context              print any SELinux security context of each file\r\n",
      "  -1                         list one file per line\r\n",
      "      --help     display this help and exit\r\n",
      "      --version  output version information and exit\r\n",
      "\r\n",
      "SIZE is an integer and optional unit (example: 10M is 10*1024*1024).  Units\r\n",
      "are K, M, G, T, P, E, Z, Y (powers of 1024) or KB, MB, ... (powers of 1000).\r\n",
      "\r\n",
      "Using color to distinguish file types is disabled both by default and\r\n",
      "with --color=never.  With --color=auto, ls emits color codes only when\r\n",
      "standard output is connected to a terminal.  The LS_COLORS environment\r\n",
      "variable can change the settings.  Use the dircolors command to set it.\r\n",
      "\r\n",
      "Exit status:\r\n",
      " 0  if OK,\r\n",
      " 1  if minor problems (e.g., cannot access subdirectory),\r\n",
      " 2  if serious trouble (e.g., cannot access command-line argument).\r\n",
      "\r\n",
      "Report ls bugs to bug-coreutils@gnu.org\r\n",
      "GNU coreutils home page: <http://www.gnu.org/software/coreutils/>\r\n",
      "General help using GNU software: <http://www.gnu.org/gethelp/>\r\n",
      "For complete documentation, run: info coreutils 'ls invocation'\r\n"
     ]
    }
   ],
   "source": [
    "ls --help"
   ]
  },
  {
   "cell_type": "markdown",
   "metadata": {},
   "source": [
    "### `pwd`: print working directory\n",
    "\n",
    "`pwd` is a command to print the name of current/working directory.\n",
    "```bash\n",
    "man pwd\n",
    "```"
   ]
  },
  {
   "cell_type": "code",
   "execution_count": 2,
   "metadata": {
    "collapsed": false
   },
   "outputs": [
    {
     "name": "stdout",
     "output_type": "stream",
     "text": [
      "/home/bio/tutorials/python/python-notebook/linux/Pwd\r\n"
     ]
    }
   ],
   "source": [
    "cd Pwd\n",
    "pwd"
   ]
  },
  {
   "cell_type": "code",
   "execution_count": 3,
   "metadata": {
    "collapsed": false
   },
   "outputs": [
    {
     "name": "stdout",
     "output_type": "stream",
     "text": [
      "/home/bio/tutorials/python/python-notebook/linux/pwd\r\n"
     ]
    }
   ],
   "source": [
    "cd ..\n",
    "cd pwd\n",
    "pwd -L # if this is a link, print the symbolic link"
   ]
  },
  {
   "cell_type": "code",
   "execution_count": 4,
   "metadata": {
    "collapsed": false
   },
   "outputs": [
    {
     "name": "stdout",
     "output_type": "stream",
     "text": [
      "/home/bio/tutorials/python/python-notebook/Linux/Pwd\r\n"
     ]
    }
   ],
   "source": [
    "pwd -P # print the physical directory"
   ]
  },
  {
   "cell_type": "markdown",
   "metadata": {
    "collapsed": true
   },
   "source": [
    "### `hostname`: tell your computer name\n",
    "\n",
    "`hostname` is a command to print your computer's name."
   ]
  },
  {
   "cell_type": "code",
   "execution_count": 5,
   "metadata": {
    "collapsed": false
   },
   "outputs": [
    {
     "name": "stdout",
     "output_type": "stream",
     "text": [
      "biostar\r\n"
     ]
    }
   ],
   "source": [
    "hostname"
   ]
  },
  {
   "cell_type": "markdown",
   "metadata": {
    "collapsed": true
   },
   "source": [
    "### `mkdir`: make directory\n",
    "\n",
    "`mkdir` is used to build a new directory if the directory does not exist."
   ]
  },
  {
   "cell_type": "code",
   "execution_count": 7,
   "metadata": {
    "collapsed": false
   },
   "outputs": [
    {
     "name": "stdout",
     "output_type": "stream",
     "text": []
    }
   ],
   "source": [
    "mkdir temp\n",
    "mkdir temp/bioinformatics\n",
    "mkdir -p temp/biostat/multivariate"
   ]
  },
  {
   "cell_type": "code",
   "execution_count": 1,
   "metadata": {
    "collapsed": false
   },
   "outputs": [
    {
     "name": "stdout",
     "output_type": "stream",
     "text": [
      "Usage: mkdir [OPTION]... DIRECTORY...\r\n",
      "Create the DIRECTORY(ies), if they do not already exist.\r\n",
      "\r\n",
      "Mandatory arguments to long options are mandatory for short options too.\r\n",
      "  -m, --mode=MODE   set file mode (as in chmod), not a=rwx - umask\r\n",
      "  -p, --parents     no error if existing, make parent directories as needed\r\n",
      "  -v, --verbose     print a message for each created directory\r\n",
      "  -Z, --context=CTX  set the SELinux security context of each created\r\n",
      "                      directory to CTX\r\n",
      "      --help     display this help and exit\r\n",
      "      --version  output version information and exit\r\n",
      "\r\n",
      "Report mkdir bugs to bug-coreutils@gnu.org\r\n",
      "GNU coreutils home page: <http://www.gnu.org/software/coreutils/>\r\n",
      "General help using GNU software: <http://www.gnu.org/gethelp/>\r\n",
      "For complete documentation, run: info coreutils 'mkdir invocation'\r\n"
     ]
    }
   ],
   "source": [
    "mkdir --help"
   ]
  },
  {
   "cell_type": "code",
   "execution_count": 6,
   "metadata": {
    "collapsed": false
   },
   "outputs": [
    {
     "name": "stdout",
     "output_type": "stream",
     "text": [
      "/home/bio/tutorials/python/python-notebook/linux/pwd\r\n"
     ]
    }
   ],
   "source": [
    "pwd"
   ]
  },
  {
   "cell_type": "markdown",
   "metadata": {},
   "source": [
    "### `cd`: change directory\n",
    "\n",
    "With command `pwd`, you can know \"**where-you-are**\"? And `cd` can bring you to \"**where-you-want-to-go**\"."
   ]
  },
  {
   "cell_type": "code",
   "execution_count": 8,
   "metadata": {
    "collapsed": false
   },
   "outputs": [
    {
     "name": "stdout",
     "output_type": "stream",
     "text": [
      "/home/bio/tutorials/python/python-notebook/linux/pwd/temp\r\n"
     ]
    }
   ],
   "source": [
    "cd temp\n",
    "pwd"
   ]
  },
  {
   "cell_type": "markdown",
   "metadata": {},
   "source": [
    "For command `cd`, We can use either **abstract path** or **absolute path**. "
   ]
  },
  {
   "cell_type": "markdown",
   "metadata": {
    "collapsed": true
   },
   "source": [
    "The other commands with directory include `rmdir`, `mv`, `cp`, `rm`, which is the same as those for file."
   ]
  },
  {
   "cell_type": "markdown",
   "metadata": {
    "collapsed": true
   },
   "source": [
    "## 2. Deal with file: `ls`, `file`, `touch`, `cp`, `mv`, `rename`, `rm` \n",
    "___"
   ]
  },
  {
   "cell_type": "markdown",
   "metadata": {},
   "source": [
    "### `file`: determine the file type"
   ]
  },
  {
   "cell_type": "code",
   "execution_count": 2,
   "metadata": {
    "collapsed": false
   },
   "outputs": [
    {
     "name": "stdout",
     "output_type": "stream",
     "text": [
      "Usage: file [OPTION...] [FILE...]\r\n",
      "Determine type of FILEs.\r\n",
      "\r\n",
      "      --help                 display this help and exit\r\n",
      "  -v, --version              output version information and exit\r\n",
      "  -m, --magic-file LIST      use LIST as a colon-separated list of magic\r\n",
      "                               number files\r\n",
      "  -z, --uncompress           try to look inside compressed files\r\n",
      "  -b, --brief                do not prepend filenames to output lines\r\n",
      "  -c, --checking-printout    print the parsed form of the magic file, use in\r\n",
      "                               conjunction with -m to debug a new magic file\r\n",
      "                               before installing it\r\n",
      "  -e, --exclude TEST         exclude TEST from the list of test to be\r\n",
      "                               performed for file. Valid tests are:\r\n",
      "                               apptype, ascii, cdf, compress, elf, encoding,\r\n",
      "                               soft, tar, text, tokens\r\n",
      "  -f, --files-from FILE      read the filenames to be examined from FILE\r\n",
      "  -F, --separator STRING     use string as separator instead of `:'\r\n",
      "  -i, --mime                 output MIME type strings (--mime-type and\r\n",
      "                               --mime-encoding)\r\n",
      "      --apple                output the Apple CREATOR/TYPE\r\n",
      "      --mime-type            output the MIME type\r\n",
      "      --mime-encoding        output the MIME encoding\r\n",
      "  -k, --keep-going           don't stop at the first match\r\n",
      "  -l, --list                 list magic strength\r\n",
      "  -L, --dereference          follow symlinks (default if POSIXLY_CORRECT is set)\r\n",
      "  -h, --no-dereference       don't follow symlinks (default if POSIXLY_CORRECT is not set)\r\n",
      "  -n, --no-buffer            do not buffer output\r\n",
      "  -N, --no-pad               do not pad output\r\n",
      "  -0, --print0               terminate filenames with ASCII NUL\r\n",
      "  -p, --preserve-date        preserve access times on files\r\n",
      "  -r, --raw                  don't translate unprintable chars to \\ooo\r\n",
      "  -R, --recursion            set maximum recursion level\r\n",
      "  -s, --special-files        treat special (block/char devices) files as\r\n",
      "                             ordinary ones\r\n",
      "  -C, --compile              compile file specified by -m\r\n",
      "  -d, --debug                print debugging messages\r\n",
      "\r\n",
      "Report bugs to http://bugs.gw.com/\r\n"
     ]
    }
   ],
   "source": [
    "file --help"
   ]
  },
  {
   "cell_type": "code",
   "execution_count": 3,
   "metadata": {
    "collapsed": false
   },
   "outputs": [
    {
     "name": "stdout",
     "output_type": "stream",
     "text": [
      "/bin/bash: ELF 64-bit LSB  executable, x86-64, version 1 (SYSV), dynamically linked (uses shared libs), for GNU/Linux 2.6.24, BuildID[sha1]=54967822da027467f21e65a1eac7576dec7dd821, stripped\r\n"
     ]
    }
   ],
   "source": [
    "file /bin/bash"
   ]
  },
  {
   "cell_type": "markdown",
   "metadata": {},
   "source": [
    "Here **`ELF`** is the abbreviation of **`Executable and Linkable Format`**."
   ]
  },
  {
   "cell_type": "code",
   "execution_count": 4,
   "metadata": {
    "collapsed": false
   },
   "outputs": [
    {
     "name": "stdout",
     "output_type": "stream",
     "text": [
      "/etc/passwd: ASCII text\r\n"
     ]
    }
   ],
   "source": [
    "file /etc/passwd"
   ]
  },
  {
   "cell_type": "code",
   "execution_count": 5,
   "metadata": {
    "collapsed": false
   },
   "outputs": [
    {
     "name": "stdout",
     "output_type": "stream",
     "text": [
      "/lib32/libc-2.19.so: ELF 32-bit LSB  shared object, Intel 80386, version 1 (SYSV), dynamically linked (uses shared libs), BuildID[sha1]=0e1a9dd2ea0a174b53ad15979b049628cb2d7fd0, for GNU/Linux 2.6.24, stripped\r\n"
     ]
    }
   ],
   "source": [
    "file /lib32/libc-2.19.so"
   ]
  },
  {
   "cell_type": "code",
   "execution_count": 6,
   "metadata": {
    "collapsed": false
   },
   "outputs": [
    {
     "name": "stdout",
     "output_type": "stream",
     "text": [
      "/dev/sda1: block special \r\n"
     ]
    }
   ],
   "source": [
    "file /dev/sda1"
   ]
  },
  {
   "cell_type": "code",
   "execution_count": 7,
   "metadata": {
    "collapsed": false
   },
   "outputs": [
    {
     "name": "stdout",
     "output_type": "stream",
     "text": [
      "/dev/kvm: character special \r\n"
     ]
    }
   ],
   "source": [
    "file /dev/kvm"
   ]
  },
  {
   "cell_type": "code",
   "execution_count": 8,
   "metadata": {
    "collapsed": false
   },
   "outputs": [
    {
     "name": "stdout",
     "output_type": "stream",
     "text": [
      "/tmp/mongodb-27017.sock: socket \r\n"
     ]
    }
   ],
   "source": [
    "file /tmp/mongodb-27017.sock"
   ]
  },
  {
   "cell_type": "code",
   "execution_count": 10,
   "metadata": {
    "collapsed": false
   },
   "outputs": [
    {
     "name": "stdout",
     "output_type": "stream",
     "text": [
      "/usr/bin: directory \r\n"
     ]
    }
   ],
   "source": [
    "file /usr/bin"
   ]
  },
  {
   "cell_type": "markdown",
   "metadata": {},
   "source": [
    "### `touch`: change the file timestamp"
   ]
  },
  {
   "cell_type": "code",
   "execution_count": 11,
   "metadata": {
    "collapsed": false
   },
   "outputs": [
    {
     "name": "stdout",
     "output_type": "stream",
     "text": [
      "Usage: touch [OPTION]... FILE...\r\n",
      "Update the access and modification times of each FILE to the current time.\r\n",
      "\r\n",
      "A FILE argument that does not exist is created empty, unless -c or -h\r\n",
      "is supplied.\r\n",
      "\r\n",
      "A FILE argument string of - is handled specially and causes touch to\r\n",
      "change the times of the file associated with standard output.\r\n",
      "\r\n",
      "Mandatory arguments to long options are mandatory for short options too.\r\n",
      "  -a                     change only the access time\r\n",
      "  -c, --no-create        do not create any files\r\n",
      "  -d, --date=STRING      parse STRING and use it instead of current time\r\n",
      "  -f                     (ignored)\r\n",
      "  -h, --no-dereference   affect each symbolic link instead of any referenced\r\n",
      "                         file (useful only on systems that can change the\r\n",
      "                         timestamps of a symlink)\r\n",
      "  -m                     change only the modification time\r\n",
      "  -r, --reference=FILE   use this file's times instead of current time\r\n",
      "  -t STAMP               use [[CC]YY]MMDDhhmm[.ss] instead of current time\r\n",
      "      --time=WORD        change the specified time:\r\n",
      "                           WORD is access, atime, or use: equivalent to -a\r\n",
      "                           WORD is modify or mtime: equivalent to -m\r\n",
      "      --help     display this help and exit\r\n",
      "      --version  output version information and exit\r\n",
      "\r\n",
      "Note that the -d and -t options accept different time-date formats.\r\n",
      "\r\n",
      "Report touch bugs to bug-coreutils@gnu.org\r\n",
      "GNU coreutils home page: <http://www.gnu.org/software/coreutils/>\r\n",
      "General help using GNU software: <http://www.gnu.org/gethelp/>\r\n",
      "For complete documentation, run: info coreutils 'touch invocation'\r\n"
     ]
    }
   ],
   "source": [
    "touch --help"
   ]
  },
  {
   "cell_type": "markdown",
   "metadata": {},
   "source": [
    "If the FILE does not exist, this command will create a new file. "
   ]
  },
  {
   "cell_type": "code",
   "execution_count": 12,
   "metadata": {
    "collapsed": false
   },
   "outputs": [
    {
     "name": "stdout",
     "output_type": "stream",
     "text": []
    }
   ],
   "source": [
    "touch new"
   ]
  },
  {
   "cell_type": "code",
   "execution_count": 13,
   "metadata": {
    "collapsed": false
   },
   "outputs": [
    {
     "name": "stdout",
     "output_type": "stream",
     "text": [
      "-rw-rw-r-- 1 bio bio 0  3月  1 12:49 new\r\n"
     ]
    }
   ],
   "source": [
    "ls -l new"
   ]
  },
  {
   "cell_type": "markdown",
   "metadata": {},
   "source": [
    "If the FILE exists, this command will change the access time and modification time."
   ]
  },
  {
   "cell_type": "code",
   "execution_count": 22,
   "metadata": {
    "collapsed": false
   },
   "outputs": [
    {
     "name": "stdout",
     "output_type": "stream",
     "text": [
      "-rw-rw-r-- 1 bio bio 0  3月  1 12:58 new\r\n"
     ]
    }
   ],
   "source": [
    "#touch new\n",
    "ls -lu new # atime - time of last access time"
   ]
  },
  {
   "cell_type": "code",
   "execution_count": 23,
   "metadata": {
    "collapsed": false
   },
   "outputs": [
    {
     "name": "stdout",
     "output_type": "stream",
     "text": [
      "-rw-rw-r-- 1 bio bio 0  3月  1 12:53 new\r\n"
     ]
    }
   ],
   "source": [
    "ls -l new # mtime - time of last modification"
   ]
  },
  {
   "cell_type": "code",
   "execution_count": 24,
   "metadata": {
    "collapsed": false
   },
   "outputs": [
    {
     "name": "stdout",
     "output_type": "stream",
     "text": [
      "-rw-rw-r-- 1 bio bio 0  3月  1 12:53 new\r\n"
     ]
    }
   ],
   "source": [
    "ls -lc new # ctime - time of last modification of file status information"
   ]
  },
  {
   "cell_type": "markdown",
   "metadata": {},
   "source": [
    "### <font color='blue'>Exercise</font>\n",
    "\n",
    "Tell what is the difference between `atime`, `ctime` and `mtime`. What kind of operations on the file will change the `atime`, `ctime`, and `mtime`?"
   ]
  },
  {
   "cell_type": "markdown",
   "metadata": {},
   "source": [
    "### `mv`: rename a file or move it"
   ]
  },
  {
   "cell_type": "code",
   "execution_count": 25,
   "metadata": {
    "collapsed": false
   },
   "outputs": [
    {
     "name": "stdout",
     "output_type": "stream",
     "text": [
      "Usage: mv [OPTION]... [-T] SOURCE DEST\r\n",
      "  or:  mv [OPTION]... SOURCE... DIRECTORY\r\n",
      "  or:  mv [OPTION]... -t DIRECTORY SOURCE...\r\n",
      "Rename SOURCE to DEST, or move SOURCE(s) to DIRECTORY.\r\n",
      "\r\n",
      "Mandatory arguments to long options are mandatory for short options too.\r\n",
      "      --backup[=CONTROL]       make a backup of each existing destination file\r\n",
      "  -b                           like --backup but does not accept an argument\r\n",
      "  -f, --force                  do not prompt before overwriting\r\n",
      "  -i, --interactive            prompt before overwrite\r\n",
      "  -n, --no-clobber             do not overwrite an existing file\r\n",
      "If you specify more than one of -i, -f, -n, only the final one takes effect.\r\n",
      "      --strip-trailing-slashes  remove any trailing slashes from each SOURCE\r\n",
      "                                 argument\r\n",
      "  -S, --suffix=SUFFIX          override the usual backup suffix\r\n",
      "  -t, --target-directory=DIRECTORY  move all SOURCE arguments into DIRECTORY\r\n",
      "  -T, --no-target-directory    treat DEST as a normal file\r\n",
      "  -u, --update                 move only when the SOURCE file is newer\r\n",
      "                                 than the destination file or when the\r\n",
      "                                 destination file is missing\r\n",
      "  -v, --verbose                explain what is being done\r\n",
      "      --help     display this help and exit\r\n",
      "      --version  output version information and exit\r\n",
      "\r\n",
      "The backup suffix is '~', unless set with --suffix or SIMPLE_BACKUP_SUFFIX.\r\n",
      "The version control method may be selected via the --backup option or through\r\n",
      "the VERSION_CONTROL environment variable.  Here are the values:\r\n",
      "\r\n",
      "  none, off       never make backups (even if --backup is given)\r\n",
      "  numbered, t     make numbered backups\r\n",
      "  existing, nil   numbered if numbered backups exist, simple otherwise\r\n",
      "  simple, never   always make simple backups\r\n",
      "\r\n",
      "Report mv bugs to bug-coreutils@gnu.org\r\n",
      "GNU coreutils home page: <http://www.gnu.org/software/coreutils/>\r\n",
      "General help using GNU software: <http://www.gnu.org/gethelp/>\r\n",
      "For complete documentation, run: info coreutils 'mv invocation'\r\n"
     ]
    }
   ],
   "source": [
    "mv --help"
   ]
  },
  {
   "cell_type": "markdown",
   "metadata": {},
   "source": [
    "If the SOURCE and DESTINATION directories are the same, the command will change the name of the file. Otherwise, it will move the file to DESTINATION directory, changing or not changing the name."
   ]
  },
  {
   "cell_type": "markdown",
   "metadata": {},
   "source": [
    "### `rename`: renames multiple files"
   ]
  },
  {
   "cell_type": "markdown",
   "metadata": {},
   "source": [
    "`rename` renames the supplied `FILENAMES` according to the rule specified as the first argument `PERLREG`.\n",
    "\n",
    "#### Synopsis\n",
    "```rename [ -v ] [ -n ] [ -f ] PERLREG [ FILENAMES ]\n",
    "```"
   ]
  },
  {
   "cell_type": "code",
   "execution_count": 2,
   "metadata": {
    "collapsed": false
   },
   "outputs": [
    {
     "name": "stdout",
     "output_type": "stream",
     "text": [
      "test1\r\n",
      "test10\r\n",
      "test11\r\n",
      "test12\r\n",
      "test13\r\n",
      "test14\r\n",
      "test15\r\n",
      "test2\r\n",
      "test3\r\n",
      "test4\r\n",
      "test5\r\n",
      "test6\r\n",
      "test7\r\n",
      "test8\r\n",
      "test9\r\n"
     ]
    }
   ],
   "source": [
    "ls -1p test*"
   ]
  },
  {
   "cell_type": "code",
   "execution_count": 6,
   "metadata": {
    "collapsed": false
   },
   "outputs": [
    {
     "name": "stdout",
     "output_type": "stream",
     "text": [
      "test001\r\n",
      "test002\r\n",
      "test003\r\n",
      "test004\r\n",
      "test005\r\n",
      "test006\r\n",
      "test007\r\n",
      "test008\r\n",
      "test009\r\n",
      "test010\r\n",
      "test011\r\n",
      "test012\r\n",
      "test013\r\n",
      "test014\r\n",
      "test015\r\n"
     ]
    }
   ],
   "source": [
    "rename 's/test/$&0/' test?\n",
    "rename 's/test/$&0/' test??\n",
    "ls -1p test*"
   ]
  },
  {
   "cell_type": "markdown",
   "metadata": {},
   "source": [
    "### `rm`: removes files"
   ]
  },
  {
   "cell_type": "code",
   "execution_count": 7,
   "metadata": {
    "collapsed": false
   },
   "outputs": [
    {
     "name": "stdout",
     "output_type": "stream",
     "text": [
      "Usage: rm [OPTION]... FILE...\r\n",
      "Remove (unlink) the FILE(s).\r\n",
      "\r\n",
      "  -f, --force           ignore nonexistent files and arguments, never prompt\r\n",
      "  -i                    prompt before every removal\r\n",
      "  -I                    prompt once before removing more than three files, or\r\n",
      "                          when removing recursively.  Less intrusive than -i,\r\n",
      "                          while still giving protection against most mistakes\r\n",
      "      --interactive[=WHEN]  prompt according to WHEN: never, once (-I), or\r\n",
      "                          always (-i).  Without WHEN, prompt always\r\n",
      "      --one-file-system  when removing a hierarchy recursively, skip any\r\n",
      "                          directory that is on a file system different from\r\n",
      "                          that of the corresponding command line argument\r\n",
      "      --no-preserve-root  do not treat '/' specially\r\n",
      "      --preserve-root   do not remove '/' (default)\r\n",
      "  -r, -R, --recursive   remove directories and their contents recursively\r\n",
      "  -d, --dir             remove empty directories\r\n",
      "  -v, --verbose         explain what is being done\r\n",
      "      --help     display this help and exit\r\n",
      "      --version  output version information and exit\r\n",
      "\r\n",
      "By default, rm does not remove directories.  Use the --recursive (-r or -R)\r\n",
      "option to remove each listed directory, too, along with all of its contents.\r\n",
      "\r\n",
      "To remove a file whose name starts with a '-', for example '-foo',\r\n",
      "use one of these commands:\r\n",
      "  rm -- -foo\r\n",
      "\r\n",
      "  rm ./-foo\r\n",
      "\r\n",
      "Note that if you use rm to remove a file, it might be possible to recover\r\n",
      "some of its contents, given sufficient expertise and/or time.  For greater\r\n",
      "assurance that the contents are truly unrecoverable, consider using shred.\r\n",
      "\r\n",
      "Report rm bugs to bug-coreutils@gnu.org\r\n",
      "GNU coreutils home page: <http://www.gnu.org/software/coreutils/>\r\n",
      "General help using GNU software: <http://www.gnu.org/gethelp/>\r\n",
      "For complete documentation, run: info coreutils 'rm invocation'\r\n"
     ]
    }
   ],
   "source": [
    "rm --help"
   ]
  },
  {
   "cell_type": "markdown",
   "metadata": {},
   "source": [
    "For `rm`, the two options `-r` and `-f` are two mostly used."
   ]
  },
  {
   "cell_type": "markdown",
   "metadata": {},
   "source": [
    "## 3. View the content of the files: `cat`, `tac`, `less`, `more`, `head`, `tail`, `strings`\n",
    "___"
   ]
  },
  {
   "cell_type": "markdown",
   "metadata": {},
   "source": [
    "* `cat` can concatenate files and print on the standard output - screen, while `tac` print the contents in reverse."
   ]
  },
  {
   "cell_type": "code",
   "execution_count": 8,
   "metadata": {
    "collapsed": false
   },
   "outputs": [
    {
     "name": "stdout",
     "output_type": "stream",
     "text": [
      "root:x:0:0:root:/root:/bin/bash\r\n",
      "bin:x:1:1:bin:/bin:/bin/false,aaa,bbbb,cccc,aaaaaa\r\n",
      "DADddd:x:2:2:daemon:/sbin:/bin/false\r\n",
      "mail:x:8:12:mail:/var/spool/mail:/bin/false\r\n",
      "ftp:x:14:11:ftp:/home/ftp:/bin/false\r\n",
      "nobody:$:99:99:nobody:/:/bin/false\r\n",
      "bio:x:500:500:,,,:/home/bio:/bin/bash\r\n",
      "http:x:33:33::/srv/http:/bin/false\r\n",
      "dbus:x:81:81:System message bus:/:/bin/false\r\n",
      "hal:x:82:82:HAL daemon:/:/bin/false\r\n",
      "mysql:x:89:89::/var/lib/mysql:/bin/false\r\n",
      "aaa:x:1001:1001::/home/aaa:/bin/bash\r\n",
      "ba:x:1002:1002::/home/zhangy:/bin/bash\r\n",
      "test:x:1003:1003::/home/test:/bin/bash\r\n",
      "@bio:*:1004:1004::/home/test:/bin/bash\r\n",
      "policykit:x:102:1005:Po:/home/polichkit:/bin/nologin\r\n"
     ]
    }
   ],
   "source": [
    "cat re/test"
   ]
  },
  {
   "cell_type": "markdown",
   "metadata": {},
   "source": [
    "If the file is very long, you'd better to use `less` or `more` to view it page-by-page or line-by-line.\n",
    "\n",
    "\n",
    "#### <font color='blue'>Exercise</font>\n",
    "\n",
    "1. What is the difference between `cat`, `less` and `more`?\n",
    "2. What is the default arguments for `head` and `tail`?"
   ]
  },
  {
   "cell_type": "markdown",
   "metadata": {},
   "source": [
    "## 4. Operating the file contents: `cut`, `paste`, `split`, `join`"
   ]
  },
  {
   "cell_type": "markdown",
   "metadata": {},
   "source": [
    "### `cut`: print selected fields of lines to the standard output"
   ]
  },
  {
   "cell_type": "code",
   "execution_count": 2,
   "metadata": {
    "collapsed": false
   },
   "outputs": [
    {
     "name": "stdout",
     "output_type": "stream",
     "text": [
      "Usage: cut OPTION... [FILE]...\r\n",
      "Print selected parts of lines from each FILE to standard output.\r\n",
      "\r\n",
      "Mandatory arguments to long options are mandatory for short options too.\r\n",
      "  -b, --bytes=LIST        select only these bytes\r\n",
      "  -c, --characters=LIST   select only these characters\r\n",
      "  -d, --delimiter=DELIM   use DELIM instead of TAB for field delimiter\r\n",
      "  -f, --fields=LIST       select only these fields;  also print any line\r\n",
      "                            that contains no delimiter character, unless\r\n",
      "                            the -s option is specified\r\n",
      "  -n                      (ignored)\r\n",
      "      --complement        complement the set of selected bytes, characters\r\n",
      "                            or fields\r\n",
      "  -s, --only-delimited    do not print lines not containing delimiters\r\n",
      "      --output-delimiter=STRING  use STRING as the output delimiter\r\n",
      "                            the default is to use the input delimiter\r\n",
      "      --help     display this help and exit\r\n",
      "      --version  output version information and exit\r\n",
      "\r\n",
      "Use one, and only one of -b, -c or -f.  Each LIST is made up of one\r\n",
      "range, or many ranges separated by commas.  Selected input is written\r\n",
      "in the same order that it is read, and is written exactly once.\r\n",
      "Each range is one of:\r\n",
      "\r\n",
      "  N     N'th byte, character or field, counted from 1\r\n",
      "  N-    from N'th byte, character or field, to end of line\r\n",
      "  N-M   from N'th to M'th (included) byte, character or field\r\n",
      "  -M    from first to M'th (included) byte, character or field\r\n",
      "\r\n",
      "With no FILE, or when FILE is -, read standard input.\r\n",
      "\r\n",
      "Report cut bugs to bug-coreutils@gnu.org\r\n",
      "GNU coreutils home page: <http://www.gnu.org/software/coreutils/>\r\n",
      "General help using GNU software: <http://www.gnu.org/gethelp/>\r\n",
      "For complete documentation, run: info coreutils 'cut invocation'\r\n"
     ]
    }
   ],
   "source": [
    "cut --help"
   ]
  },
  {
   "cell_type": "code",
   "execution_count": 1,
   "metadata": {
    "collapsed": false
   },
   "outputs": [
    {
     "name": "stdout",
     "output_type": "stream",
     "text": [
      "root:x:0:0:/root:/bin/bash\r\n",
      "bin:x:1:1:/bin:/bin/false,aaa,bbbb,cccc,aaaaaa\r\n",
      "DADddd:x:2:2:/sbin:/bin/false\r\n",
      "mail:x:8:12:/var/spool/mail:/bin/false\r\n",
      "ftp:x:14:11:/home/ftp:/bin/false\r\n",
      "nobody:$:99:99:/:/bin/false\r\n",
      "bio:x:500:500:/home/bio:/bin/bash\r\n",
      "http:x:33:33:/srv/http:/bin/false\r\n",
      "dbus:x:81:81:/:/bin/false\r\n",
      "hal:x:82:82:/:/bin/false\r\n",
      "mysql:x:89:89:/var/lib/mysql:/bin/false\r\n",
      "aaa:x:1001:1001:/home/aaa:/bin/bash\r\n",
      "ba:x:1002:1002:/home/zhangy:/bin/bash\r\n",
      "test:x:1003:1003:/home/test:/bin/bash\r\n",
      "@bio:*:1004:1004:/home/test:/bin/bash\r\n",
      "policykit:x:102:1005:/home/polichkit:/bin/nologin\r\n"
     ]
    }
   ],
   "source": [
    "cat re/test | cut -d: -f5 --complement"
   ]
  },
  {
   "cell_type": "markdown",
   "metadata": {},
   "source": [
    "### paste: Merges the corresponding lines of multiple files"
   ]
  },
  {
   "cell_type": "code",
   "execution_count": 3,
   "metadata": {
    "collapsed": false
   },
   "outputs": [
    {
     "name": "stdout",
     "output_type": "stream",
     "text": [
      "Usage: paste [OPTION]... [FILE]...\r\n",
      "Write lines consisting of the sequentially corresponding lines from\r\n",
      "each FILE, separated by TABs, to standard output.\r\n",
      "With no FILE, or when FILE is -, read standard input.\r\n",
      "\r\n",
      "Mandatory arguments to long options are mandatory for short options too.\r\n",
      "  -d, --delimiters=LIST   reuse characters from LIST instead of TABs\r\n",
      "  -s, --serial            paste one file at a time instead of in parallel\r\n",
      "      --help     display this help and exit\r\n",
      "      --version  output version information and exit\r\n",
      "\r\n",
      "Report paste bugs to bug-coreutils@gnu.org\r\n",
      "GNU coreutils home page: <http://www.gnu.org/software/coreutils/>\r\n",
      "General help using GNU software: <http://www.gnu.org/gethelp/>\r\n",
      "For complete documentation, run: info coreutils 'paste invocation'\r\n"
     ]
    }
   ],
   "source": [
    "paste --help"
   ]
  },
  {
   "cell_type": "code",
   "execution_count": 4,
   "metadata": {
    "collapsed": false
   },
   "outputs": [
    {
     "name": "stdout",
     "output_type": "stream",
     "text": [
      "root:/bin/bash\r\n",
      "bin:/bin/false,aaa,bbbb,cccc,aaaaaa\r\n",
      "DADddd:/bin/false\r\n",
      "mail:/bin/false\r\n",
      "ftp:/bin/false\r\n",
      "nobody:/bin/false\r\n",
      "bio:/bin/bash\r\n",
      "http:/bin/false\r\n",
      "dbus:/bin/false\r\n",
      "hal:/bin/false\r\n",
      "mysql:/bin/false\r\n",
      "aaa:/bin/bash\r\n",
      "ba:/bin/bash\r\n",
      "test:/bin/bash\r\n",
      "@bio:/bin/bash\r\n",
      "policykit:/bin/nologin\r\n"
     ]
    }
   ],
   "source": [
    "cut -d: -f1 re/test > re/test3\n",
    "cut -d: -f7 re/test > re/test4\n",
    "paste -d: re/test3 re/test4"
   ]
  },
  {
   "cell_type": "markdown",
   "metadata": {},
   "source": [
    "### `split`: split a file into pieces"
   ]
  },
  {
   "cell_type": "code",
   "execution_count": 5,
   "metadata": {
    "collapsed": false
   },
   "outputs": [
    {
     "name": "stdout",
     "output_type": "stream",
     "text": [
      "Usage: split [OPTION]... [INPUT [PREFIX]]\r\n",
      "Output fixed-size pieces of INPUT to PREFIXaa, PREFIXab, ...; default\r\n",
      "size is 1000 lines, and default PREFIX is 'x'.  With no INPUT, or when INPUT\r\n",
      "is -, read standard input.\r\n",
      "\r\n",
      "Mandatory arguments to long options are mandatory for short options too.\r\n",
      "  -a, --suffix-length=N   generate suffixes of length N (default 2)\r\n",
      "      --additional-suffix=SUFFIX  append an additional SUFFIX to file names.\r\n",
      "  -b, --bytes=SIZE        put SIZE bytes per output file\r\n",
      "  -C, --line-bytes=SIZE   put at most SIZE bytes of lines per output file\r\n",
      "  -d, --numeric-suffixes[=FROM]  use numeric suffixes instead of alphabetic.\r\n",
      "                                   FROM changes the start value (default 0).\r\n",
      "  -e, --elide-empty-files  do not generate empty output files with '-n'\r\n",
      "      --filter=COMMAND    write to shell COMMAND; file name is $FILE\r\n",
      "  -l, --lines=NUMBER      put NUMBER lines per output file\r\n",
      "  -n, --number=CHUNKS     generate CHUNKS output files.  See below\r\n",
      "  -u, --unbuffered        immediately copy input to output with '-n r/...'\r\n",
      "      --verbose           print a diagnostic just before each\r\n",
      "                            output file is opened\r\n",
      "      --help     display this help and exit\r\n",
      "      --version  output version information and exit\r\n",
      "\r\n",
      "SIZE is an integer and optional unit (example: 10M is 10*1024*1024).  Units\r\n",
      "are K, M, G, T, P, E, Z, Y (powers of 1024) or KB, MB, ... (powers of 1000).\r\n",
      "\r\n",
      "CHUNKS may be:\r\n",
      "N       split into N files based on size of input\r\n",
      "K/N     output Kth of N to stdout\r\n",
      "l/N     split into N files without splitting lines\r\n",
      "l/K/N   output Kth of N to stdout without splitting lines\r\n",
      "r/N     like 'l' but use round robin distribution\r\n",
      "r/K/N   likewise but only output Kth of N to stdout\r\n",
      "\r\n",
      "Report split bugs to bug-coreutils@gnu.org\r\n",
      "GNU coreutils home page: <http://www.gnu.org/software/coreutils/>\r\n",
      "General help using GNU software: <http://www.gnu.org/gethelp/>\r\n",
      "For complete documentation, run: info coreutils 'split invocation'\r\n"
     ]
    }
   ],
   "source": [
    "split --help"
   ]
  },
  {
   "cell_type": "code",
   "execution_count": 7,
   "metadata": {
    "collapsed": false
   },
   "outputs": [
    {
     "name": "stdout",
     "output_type": "stream",
     "text": [
      "-rw-rw-r-- 1 bio bio 390  3月  1 15:11 re/test.000\r\n",
      "-rw-rw-r-- 1 bio bio 248  3月  1 15:11 re/test.001\r\n"
     ]
    }
   ],
   "source": [
    "split -a 3 -d -l 10 re/test re/test.\n",
    "ls -l re/test.*"
   ]
  },
  {
   "cell_type": "markdown",
   "metadata": {},
   "source": [
    "Now the file `test` is splitted into two files: `test.000` and `test.001`."
   ]
  },
  {
   "cell_type": "markdown",
   "metadata": {},
   "source": [
    "### `join`: join lines of two files on a common field"
   ]
  },
  {
   "cell_type": "code",
   "execution_count": 8,
   "metadata": {
    "collapsed": false
   },
   "outputs": [
    {
     "name": "stdout",
     "output_type": "stream",
     "text": [
      "Usage: join [OPTION]... FILE1 FILE2\r\n",
      "For each pair of input lines with identical join fields, write a line to\r\n",
      "standard output.  The default join field is the first, delimited\r\n",
      "by whitespace.  When FILE1 or FILE2 (not both) is -, read standard input.\r\n",
      "\r\n",
      "  -a FILENUM        also print unpairable lines from file FILENUM, where\r\n",
      "                      FILENUM is 1 or 2, corresponding to FILE1 or FILE2\r\n",
      "  -e EMPTY          replace missing input fields with EMPTY\r\n",
      "  -i, --ignore-case  ignore differences in case when comparing fields\r\n",
      "  -j FIELD          equivalent to '-1 FIELD -2 FIELD'\r\n",
      "  -o FORMAT         obey FORMAT while constructing output line\r\n",
      "  -t CHAR           use CHAR as input and output field separator\r\n",
      "  -v FILENUM        like -a FILENUM, but suppress joined output lines\r\n",
      "  -1 FIELD          join on this FIELD of file 1\r\n",
      "  -2 FIELD          join on this FIELD of file 2\r\n",
      "  --check-order     check that the input is correctly sorted, even\r\n",
      "                      if all input lines are pairable\r\n",
      "  --nocheck-order   do not check that the input is correctly sorted\r\n",
      "  --header          treat the first line in each file as field headers,\r\n",
      "                      print them without trying to pair them\r\n",
      "      --help     display this help and exit\r\n",
      "      --version  output version information and exit\r\n",
      "\r\n",
      "Unless -t CHAR is given, leading blanks separate fields and are ignored,\r\n",
      "else fields are separated by CHAR.  Any FIELD is a field number counted\r\n",
      "from 1.  FORMAT is one or more comma or blank separated specifications,\r\n",
      "each being 'FILENUM.FIELD' or '0'.  Default FORMAT outputs the join field,\r\n",
      "the remaining fields from FILE1, the remaining fields from FILE2, all\r\n",
      "separated by CHAR.  If FORMAT is the keyword 'auto', then the first\r\n",
      "line of each file determines the number of fields output for each line.\r\n",
      "\r\n",
      "Important: FILE1 and FILE2 must be sorted on the join fields.\r\n",
      "E.g., use \"sort -k 1b,1\" if 'join' has no options,\r\n",
      "or use \"join -t ''\" if 'sort' has no options.\r\n",
      "Note, comparisons honor the rules specified by 'LC_COLLATE'.\r\n",
      "If the input is not sorted and some lines cannot be joined, a\r\n",
      "warning message will be given.\r\n",
      "\r\n",
      "Report join bugs to bug-coreutils@gnu.org\r\n",
      "GNU coreutils home page: <http://www.gnu.org/software/coreutils/>\r\n",
      "General help using GNU software: <http://www.gnu.org/gethelp/>\r\n",
      "For complete documentation, run: info coreutils 'join invocation'\r\n"
     ]
    }
   ],
   "source": [
    "join --help"
   ]
  },
  {
   "cell_type": "code",
   "execution_count": 19,
   "metadata": {
    "collapsed": false
   },
   "outputs": [
    {
     "name": "stdout",
     "output_type": "stream",
     "text": [
      "root:/root:/bin/bash\r\n",
      "bin:/bin:/bin/false\r\n",
      "DADddd:/sbin:/bin/false\r\n",
      "mail:/var/spool/mail:/bin/false\r\n",
      "ftp:/home/ftp:/bin/false\r\n",
      "nobody:/:/bin/false\r\n",
      "bio:/home/bio:/bin/bash\r\n",
      "http:/srv/http:/bin/false\r\n",
      "dbus:/:/bin/false\r\n",
      "hal:/:/bin/false\r\n",
      "mysql:/var/lib/mysql:/bin/false\r\n",
      "aaa:/home/aaa:/bin/bash\r\n",
      "ba:/home/zhangy:/bin/bash\r\n",
      "test:/home/test:/bin/bash\r\n",
      "@bio:/home/test:/bin/bash\r\n",
      "policykit:/home/polichkit:/bin/nologin\r\n"
     ]
    }
   ],
   "source": [
    "#cut -f1,6 -d: --output-delimiter=' ' re/test > re/test5\n",
    "#cut -f1,7 -d: --output-delimiter=' ' re/test > re/test6\n",
    "join -j 1 re/test5 re/test6 | awk -F\" \" 'BEGIN{OFS=\":\"}{print $1,$2,$3}'"
   ]
  },
  {
   "cell_type": "markdown",
   "metadata": {},
   "source": [
    "## 5. File permissions: `chmod`, `chown`, `chgrp`"
   ]
  },
  {
   "cell_type": "markdown",
   "metadata": {},
   "source": [
    "### `chmod`: changes the file mode bits of  each  given  file according to _mode_\n",
    "\n",
    "#### mode\n",
    "* **symbolic representation**: [ugoa...][[+-=][perms...]...]\n",
    "* **octal number representation**\n",
    "\n",
    "#### ugoa\n",
    "* **u**: the user that owns the file\n",
    "* **g**: the other users in the file's group\n",
    "* **o**: the other users not in the file's group\n",
    "* **a**: all users\n",
    "\n",
    "### +-=\n",
    "* **+**: add the permissions\n",
    "* **-**: free the permissions\n",
    "* **=**: assign the permissions\n",
    "\n",
    "#### permission\n",
    "* **symbolic**: rwxXst\n",
    "    - r: read\n",
    "    - w: write\n",
    "    - x: execute (or search for directories)\n",
    "    - X: execute/search  only  if the file is a directory or already has execute permission for some user\n",
    "    - s: set user or group ID on execution\n",
    "    - t: restricted deletion flag or sticky bit\n",
    "* **Octal numbers**: 755, 644, 777"
   ]
  },
  {
   "cell_type": "code",
   "execution_count": 22,
   "metadata": {
    "collapsed": false
   },
   "outputs": [
    {
     "name": "stdout",
     "output_type": "stream",
     "text": []
    }
   ],
   "source": [
    "cat > bash/test.sh <<EOF\n",
    "#!/bin/bash\n",
    "echo \"Welcome to bash\"\n",
    "EOF"
   ]
  },
  {
   "cell_type": "code",
   "execution_count": 23,
   "metadata": {
    "collapsed": false
   },
   "outputs": [
    {
     "name": "stdout",
     "output_type": "stream",
     "text": [
      "-rw-rw-r-- 1 bio bio 35  3月  1 15:50 bash/test.sh\r\n"
     ]
    }
   ],
   "source": [
    "ls -l bash/test.sh"
   ]
  },
  {
   "cell_type": "markdown",
   "metadata": {},
   "source": [
    "The file `bash/test.sh` has the permission: `rw-rw-r--`. It means that user `bio` has the privilege of both read and write, but no execution; the users in group `bio` have the same privileges; however, for the other users, only read is allowed. This can also be represented as the octal string `664`.\n",
    "\n",
    "To enable the `execute` of the file, we need to add `x` permission to user `bio`: "
   ]
  },
  {
   "cell_type": "code",
   "execution_count": 24,
   "metadata": {
    "collapsed": false
   },
   "outputs": [
    {
     "name": "stdout",
     "output_type": "stream",
     "text": [
      "bash: bash/test.sh: Permission denied\r\n"
     ]
    }
   ],
   "source": [
    "bash/test.sh"
   ]
  },
  {
   "cell_type": "code",
   "execution_count": 27,
   "metadata": {
    "collapsed": false
   },
   "outputs": [
    {
     "name": "stdout",
     "output_type": "stream",
     "text": []
    }
   ],
   "source": [
    "chmod u+x bash/test.sh"
   ]
  },
  {
   "cell_type": "code",
   "execution_count": 28,
   "metadata": {
    "collapsed": false
   },
   "outputs": [
    {
     "name": "stdout",
     "output_type": "stream",
     "text": [
      "-rwxrw-r-- 1 bio bio 35  3月  1 15:50 \u001b[0m\u001b[01;32mbash/test.sh\u001b[0m\r\n"
     ]
    }
   ],
   "source": [
    "ls -l bash/test.sh"
   ]
  },
  {
   "cell_type": "markdown",
   "metadata": {},
   "source": [
    "Now the user `bio` can run the script like that:"
   ]
  },
  {
   "cell_type": "code",
   "execution_count": 29,
   "metadata": {
    "collapsed": false
   },
   "outputs": [
    {
     "name": "stdout",
     "output_type": "stream",
     "text": [
      "Welcome to bash\r\n"
     ]
    }
   ],
   "source": [
    "bash/test.sh"
   ]
  },
  {
   "cell_type": "markdown",
   "metadata": {},
   "source": [
    "If we do want the file cannot be modified:"
   ]
  },
  {
   "cell_type": "code",
   "execution_count": 31,
   "metadata": {
    "collapsed": false
   },
   "outputs": [
    {
     "name": "stdout",
     "output_type": "stream",
     "text": []
    }
   ],
   "source": [
    "chmod ug-w bash/test.sh"
   ]
  },
  {
   "cell_type": "code",
   "execution_count": 32,
   "metadata": {
    "collapsed": false
   },
   "outputs": [
    {
     "name": "stdout",
     "output_type": "stream",
     "text": [
      "-r-xr--r-- 1 bio bio 35  3月  1 15:50 \u001b[0m\u001b[01;32mbash/test.sh\u001b[0m\r\n"
     ]
    }
   ],
   "source": [
    "ls -l bash/test.sh"
   ]
  },
  {
   "cell_type": "markdown",
   "metadata": {},
   "source": [
    "Or"
   ]
  },
  {
   "cell_type": "code",
   "execution_count": 33,
   "metadata": {
    "collapsed": false
   },
   "outputs": [
    {
     "name": "stdout",
     "output_type": "stream",
     "text": []
    }
   ],
   "source": [
    "chmod 544 bash/test.sh"
   ]
  },
  {
   "cell_type": "markdown",
   "metadata": {},
   "source": [
    "The other command also works:"
   ]
  },
  {
   "cell_type": "code",
   "execution_count": 36,
   "metadata": {
    "collapsed": false
   },
   "outputs": [
    {
     "name": "stdout",
     "output_type": "stream",
     "text": []
    }
   ],
   "source": [
    "chmod ugo=r-xr--r-- bash/test.sh"
   ]
  },
  {
   "cell_type": "markdown",
   "metadata": {},
   "source": [
    "The other two kind of important permissions include:\n",
    "* s: have a look at the file `/usr/bin/passwd`"
   ]
  },
  {
   "cell_type": "code",
   "execution_count": 38,
   "metadata": {
    "collapsed": false
   },
   "outputs": [
    {
     "name": "stdout",
     "output_type": "stream",
     "text": [
      "-rwsr-xr-x 1 root root 47032  1月 27 08:50 \u001b[0m\u001b[37;41m/usr/bin/passwd\u001b[0m\r\n"
     ]
    }
   ],
   "source": [
    "ls -l /usr/bin/passwd"
   ]
  },
  {
   "cell_type": "markdown",
   "metadata": {},
   "source": [
    "which means that the other user can obtain the privileges to modify the file `/etc/passwd`, `/etc/shadow` for the administrator, `root` when running the `/usr/bin/passwd` command.\n",
    "\n",
    "* t: the sticky bit which allows any users to add file under the directory, but do NOT have the permission to view/modify/delete the files own by the other users. Please have a look at the directory `/tmp`: "
   ]
  },
  {
   "cell_type": "code",
   "execution_count": 39,
   "metadata": {
    "collapsed": false
   },
   "outputs": [
    {
     "name": "stdout",
     "output_type": "stream",
     "text": [
      "drwxrwxrwt 8 root root 335872  3月  1 16:09 \u001b[0m\u001b[30;42m/tmp\u001b[0m\r\n"
     ]
    }
   ],
   "source": [
    "ls -ld /tmp"
   ]
  },
  {
   "cell_type": "markdown",
   "metadata": {},
   "source": [
    "To get the similar permission, we can use the command:"
   ]
  },
  {
   "cell_type": "code",
   "execution_count": 42,
   "metadata": {
    "collapsed": false
   },
   "outputs": [
    {
     "name": "stdout",
     "output_type": "stream",
     "text": []
    }
   ],
   "source": [
    "chmod 4755 bash/test.sh"
   ]
  },
  {
   "cell_type": "code",
   "execution_count": 43,
   "metadata": {
    "collapsed": false
   },
   "outputs": [
    {
     "name": "stdout",
     "output_type": "stream",
     "text": [
      "-rwsr-xr-x 1 bio bio 35  3月  1 15:50 \u001b[0m\u001b[37;41mbash/test.sh\u001b[0m\r\n"
     ]
    }
   ],
   "source": [
    "ls -l bash/test.sh"
   ]
  },
  {
   "cell_type": "code",
   "execution_count": 44,
   "metadata": {
    "collapsed": false
   },
   "outputs": [
    {
     "name": "stdout",
     "output_type": "stream",
     "text": [
      "-rwxr-sr-x 1 bio bio 35  3月  1 15:50 \u001b[0m\u001b[30;43mbash/test.sh\u001b[0m\r\n"
     ]
    }
   ],
   "source": [
    "chmod 2755 bash/test.sh\n",
    "ls -l bash/test.sh"
   ]
  },
  {
   "cell_type": "code",
   "execution_count": 48,
   "metadata": {
    "collapsed": false
   },
   "outputs": [
    {
     "name": "stdout",
     "output_type": "stream",
     "text": [
      "drwsrwxrwt 2 bio bio 4096  3月  1 15:50 \u001b[0m\u001b[30;42mbash\u001b[0m\r\n"
     ]
    }
   ],
   "source": [
    "chmod 1777 bash\n",
    "ls -ld bash"
   ]
  },
  {
   "cell_type": "markdown",
   "metadata": {},
   "source": [
    "Here we don't want to mention too much about the usage of `chown` and `chgrp`. "
   ]
  },
  {
   "cell_type": "code",
   "execution_count": 49,
   "metadata": {
    "collapsed": false
   },
   "outputs": [
    {
     "name": "stdout",
     "output_type": "stream",
     "text": [
      "Usage: chown [OPTION]... [OWNER][:[GROUP]] FILE...\r\n",
      "  or:  chown [OPTION]... --reference=RFILE FILE...\r\n",
      "Change the owner and/or group of each FILE to OWNER and/or GROUP.\r\n",
      "With --reference, change the owner and group of each FILE to those of RFILE.\r\n",
      "\r\n",
      "  -c, --changes          like verbose but report only when a change is made\r\n",
      "  -f, --silent, --quiet  suppress most error messages\r\n",
      "  -v, --verbose          output a diagnostic for every file processed\r\n",
      "      --dereference      affect the referent of each symbolic link (this is\r\n",
      "                         the default), rather than the symbolic link itself\r\n",
      "  -h, --no-dereference   affect symbolic links instead of any referenced file\r\n",
      "                         (useful only on systems that can change the\r\n",
      "                         ownership of a symlink)\r\n",
      "      --from=CURRENT_OWNER:CURRENT_GROUP\r\n",
      "                         change the owner and/or group of each file only if\r\n",
      "                         its current owner and/or group match those specified\r\n",
      "                         here.  Either may be omitted, in which case a match\r\n",
      "                         is not required for the omitted attribute\r\n",
      "      --no-preserve-root  do not treat '/' specially (the default)\r\n",
      "      --preserve-root    fail to operate recursively on '/'\r\n",
      "      --reference=RFILE  use RFILE's owner and group rather than\r\n",
      "                         specifying OWNER:GROUP values\r\n",
      "  -R, --recursive        operate on files and directories recursively\r\n",
      "\r\n",
      "The following options modify how a hierarchy is traversed when the -R\r\n",
      "option is also specified.  If more than one is specified, only the final\r\n",
      "one takes effect.\r\n",
      "\r\n",
      "  -H                     if a command line argument is a symbolic link\r\n",
      "                         to a directory, traverse it\r\n",
      "  -L                     traverse every symbolic link to a directory\r\n",
      "                         encountered\r\n",
      "  -P                     do not traverse any symbolic links (default)\r\n",
      "\r\n",
      "      --help     display this help and exit\r\n",
      "      --version  output version information and exit\r\n",
      "\r\n",
      "Owner is unchanged if missing.  Group is unchanged if missing, but changed\r\n",
      "to login group if implied by a ':' following a symbolic OWNER.\r\n",
      "OWNER and GROUP may be numeric as well as symbolic.\r\n",
      "\r\n",
      "Examples:\r\n",
      "  chown root /u        Change the owner of /u to \"root\".\r\n",
      "  chown root:staff /u  Likewise, but also change its group to \"staff\".\r\n",
      "  chown -hR root /u    Change the owner of /u and subfiles to \"root\".\r\n",
      "\r\n",
      "Report chown bugs to bug-coreutils@gnu.org\r\n",
      "GNU coreutils home page: <http://www.gnu.org/software/coreutils/>\r\n",
      "General help using GNU software: <http://www.gnu.org/gethelp/>\r\n",
      "For complete documentation, run: info coreutils 'chown invocation'\r\n"
     ]
    }
   ],
   "source": [
    "chown --help"
   ]
  },
  {
   "cell_type": "code",
   "execution_count": 50,
   "metadata": {
    "collapsed": false
   },
   "outputs": [
    {
     "name": "stdout",
     "output_type": "stream",
     "text": [
      "Usage: chgrp [OPTION]... GROUP FILE...\r\n",
      "  or:  chgrp [OPTION]... --reference=RFILE FILE...\r\n",
      "Change the group of each FILE to GROUP.\r\n",
      "With --reference, change the group of each FILE to that of RFILE.\r\n",
      "\r\n",
      "  -c, --changes          like verbose but report only when a change is made\r\n",
      "  -f, --silent, --quiet  suppress most error messages\r\n",
      "  -v, --verbose          output a diagnostic for every file processed\r\n",
      "      --dereference      affect the referent of each symbolic link (this is\r\n",
      "                         the default), rather than the symbolic link itself\r\n",
      "  -h, --no-dereference   affect symbolic links instead of any referenced file\r\n",
      "                         (useful only on systems that can change the\r\n",
      "                         ownership of a symlink)\r\n",
      "      --no-preserve-root  do not treat '/' specially (the default)\r\n",
      "      --preserve-root    fail to operate recursively on '/'\r\n",
      "      --reference=RFILE  use RFILE's group rather than specifying a\r\n",
      "                         GROUP value\r\n",
      "  -R, --recursive        operate on files and directories recursively\r\n",
      "\r\n",
      "The following options modify how a hierarchy is traversed when the -R\r\n",
      "option is also specified.  If more than one is specified, only the final\r\n",
      "one takes effect.\r\n",
      "\r\n",
      "  -H                     if a command line argument is a symbolic link\r\n",
      "                         to a directory, traverse it\r\n",
      "  -L                     traverse every symbolic link to a directory\r\n",
      "                         encountered\r\n",
      "  -P                     do not traverse any symbolic links (default)\r\n",
      "\r\n",
      "      --help     display this help and exit\r\n",
      "      --version  output version information and exit\r\n",
      "\r\n",
      "Examples:\r\n",
      "  chgrp staff /u      Change the group of /u to \"staff\".\r\n",
      "  chgrp -hR staff /u  Change the group of /u and subfiles to \"staff\".\r\n",
      "\r\n",
      "Report chgrp bugs to bug-coreutils@gnu.org\r\n",
      "GNU coreutils home page: <http://www.gnu.org/software/coreutils/>\r\n",
      "General help using GNU software: <http://www.gnu.org/gethelp/>\r\n",
      "For complete documentation, run: info coreutils 'chgrp invocation'\r\n"
     ]
    }
   ],
   "source": [
    "chgrp --help"
   ]
  },
  {
   "cell_type": "markdown",
   "metadata": {},
   "source": [
    "## 6. User administration: `useradd`, `usermod`, `passwd`, `userdel`, `newusers`"
   ]
  },
  {
   "cell_type": "markdown",
   "metadata": {},
   "source": [
    "### `useradd`: create a new user or update default new user information"
   ]
  },
  {
   "cell_type": "code",
   "execution_count": 51,
   "metadata": {
    "collapsed": false,
    "scrolled": true
   },
   "outputs": [
    {
     "name": "stdout",
     "output_type": "stream",
     "text": [
      "Usage: useradd [options] LOGIN\r\n",
      "       useradd -D\r\n",
      "       useradd -D [options]\r\n",
      "\r\n",
      "Options:\r\n",
      "  -b, --base-dir BASE_DIR       base directory for the home directory of the\r\n",
      "                                new account\r\n",
      "  -c, --comment COMMENT         GECOS field of the new account\r\n",
      "  -d, --home-dir HOME_DIR       home directory of the new account\r\n",
      "  -D, --defaults                print or change default useradd configuration\r\n",
      "  -e, --expiredate EXPIRE_DATE  expiration date of the new account\r\n",
      "  -f, --inactive INACTIVE       password inactivity period of the new account\r\n",
      "  -g, --gid GROUP               name or ID of the primary group of the new\r\n",
      "                                account\r\n",
      "  -G, --groups GROUPS           list of supplementary groups of the new\r\n",
      "                                account\r\n",
      "  -h, --help                    display this help message and exit\r\n",
      "  -k, --skel SKEL_DIR           use this alternative skeleton directory\r\n",
      "  -K, --key KEY=VALUE           override /etc/login.defs defaults\r\n",
      "  -l, --no-log-init             do not add the user to the lastlog and\r\n",
      "                                faillog databases\r\n",
      "  -m, --create-home             create the user's home directory\r\n",
      "  -M, --no-create-home          do not create the user's home directory\r\n",
      "  -N, --no-user-group           do not create a group with the same name as\r\n",
      "                                the user\r\n",
      "  -o, --non-unique              allow to create users with duplicate\r\n",
      "                                (non-unique) UID\r\n",
      "  -p, --password PASSWORD       encrypted password of the new account\r\n",
      "  -r, --system                  create a system account\r\n",
      "  -R, --root CHROOT_DIR         directory to chroot into\r\n",
      "  -s, --shell SHELL             login shell of the new account\r\n",
      "  -u, --uid UID                 user ID of the new account\r\n",
      "  -U, --user-group              create a group with the same name as the user\r\n",
      "  -Z, --selinux-user SEUSER     use a specific SEUSER for the SELinux user mapping\r\n",
      "\r\n"
     ]
    }
   ],
   "source": [
    "useradd --help"
   ]
  },
  {
   "cell_type": "markdown",
   "metadata": {},
   "source": [
    "### `usermod`: modify a user account"
   ]
  },
  {
   "cell_type": "code",
   "execution_count": 52,
   "metadata": {
    "collapsed": false
   },
   "outputs": [
    {
     "name": "stdout",
     "output_type": "stream",
     "text": [
      "Usage: usermod [options] LOGIN\r\n",
      "\r\n",
      "Options:\r\n",
      "  -c, --comment COMMENT         new value of the GECOS field\r\n",
      "  -d, --home HOME_DIR           new home directory for the user account\r\n",
      "  -e, --expiredate EXPIRE_DATE  set account expiration date to EXPIRE_DATE\r\n",
      "  -f, --inactive INACTIVE       set password inactive after expiration\r\n",
      "                                to INACTIVE\r\n",
      "  -g, --gid GROUP               force use GROUP as new primary group\r\n",
      "  -G, --groups GROUPS           new list of supplementary GROUPS\r\n",
      "  -a, --append                  append the user to the supplemental GROUPS\r\n",
      "                                mentioned by the -G option without removing\r\n",
      "                                him/her from other groups\r\n",
      "  -h, --help                    display this help message and exit\r\n",
      "  -l, --login NEW_LOGIN         new value of the login name\r\n",
      "  -L, --lock                    lock the user account\r\n",
      "  -m, --move-home               move contents of the home directory to the\r\n",
      "                                new location (use only with -d)\r\n",
      "  -o, --non-unique              allow using duplicate (non-unique) UID\r\n",
      "  -p, --password PASSWORD       use encrypted password for the new password\r\n",
      "  -R, --root CHROOT_DIR         directory to chroot into\r\n",
      "  -s, --shell SHELL             new login shell for the user account\r\n",
      "  -u, --uid UID                 new UID for the user account\r\n",
      "  -U, --unlock                  unlock the user account\r\n",
      "  -v, --add-subuids FIRST-LAST  add range of subordinate uids\r\n",
      "  -V, --del-subuids FIRST-LAST  remvoe range of subordinate uids\r\n",
      "  -w, --add-subgids FIRST-LAST  add range of subordinate gids\r\n",
      "  -W, --del-subgids FIRST-LAST  remvoe range of subordinate gids\r\n",
      "  -Z, --selinux-user SEUSER     new SELinux user mapping for the user account\r\n",
      "\r\n"
     ]
    }
   ],
   "source": [
    "usermod --help"
   ]
  },
  {
   "cell_type": "markdown",
   "metadata": {},
   "source": [
    "### `passwd`: change user password"
   ]
  },
  {
   "cell_type": "code",
   "execution_count": 53,
   "metadata": {
    "collapsed": false
   },
   "outputs": [
    {
     "name": "stdout",
     "output_type": "stream",
     "text": [
      "Usage: passwd [options] [LOGIN]\r\n",
      "\r\n",
      "Options:\r\n",
      "  -a, --all                     report password status on all accounts\r\n",
      "  -d, --delete                  delete the password for the named account\r\n",
      "  -e, --expire                  force expire the password for the named account\r\n",
      "  -h, --help                    display this help message and exit\r\n",
      "  -k, --keep-tokens             change password only if expired\r\n",
      "  -i, --inactive INACTIVE       set password inactive after expiration\r\n",
      "                                to INACTIVE\r\n",
      "  -l, --lock                    lock the password of the named account\r\n",
      "  -n, --mindays MIN_DAYS        set minimum number of days before password\r\n",
      "                                change to MIN_DAYS\r\n",
      "  -q, --quiet                   quiet mode\r\n",
      "  -r, --repository REPOSITORY   change password in REPOSITORY repository\r\n",
      "  -R, --root CHROOT_DIR         directory to chroot into\r\n",
      "  -S, --status                  report password status on the named account\r\n",
      "  -u, --unlock                  unlock the password of the named account\r\n",
      "  -w, --warndays WARN_DAYS      set expiration warning days to WARN_DAYS\r\n",
      "  -x, --maxdays MAX_DAYS        set maximum number of days before password\r\n",
      "                                change to MAX_DAYS\r\n",
      "\r\n"
     ]
    }
   ],
   "source": [
    "passwd --help"
   ]
  },
  {
   "cell_type": "markdown",
   "metadata": {},
   "source": [
    "### `userdel`: delete the user account and the related files"
   ]
  },
  {
   "cell_type": "code",
   "execution_count": 54,
   "metadata": {
    "collapsed": false
   },
   "outputs": [
    {
     "name": "stdout",
     "output_type": "stream",
     "text": [
      "Usage: userdel [options] LOGIN\r\n",
      "\r\n",
      "Options:\r\n",
      "  -f, --force                   force removal of files,\r\n",
      "                                even if not owned by user\r\n",
      "  -h, --help                    display this help message and exit\r\n",
      "  -r, --remove                  remove home directory and mail spool\r\n",
      "  -R, --root CHROOT_DIR         directory to chroot into\r\n",
      "  -Z, --selinux-user            remove any SELinux user mapping for the user\r\n",
      "\r\n"
     ]
    }
   ],
   "source": [
    "userdel --help"
   ]
  },
  {
   "cell_type": "markdown",
   "metadata": {},
   "source": [
    "### `newusers`: update and create new users in batch"
   ]
  },
  {
   "cell_type": "code",
   "execution_count": 55,
   "metadata": {
    "collapsed": false
   },
   "outputs": [
    {
     "name": "stdout",
     "output_type": "stream",
     "text": [
      "Usage: newusers [options]\r\n",
      "\r\n",
      "Options:\r\n",
      "  -h, --help                    display this help message and exit\r\n",
      "  -r, --system                  create system accounts\r\n",
      "  -R, --root CHROOT_DIR         directory to chroot into\r\n",
      "\r\n"
     ]
    }
   ],
   "source": [
    "newusers --help"
   ]
  },
  {
   "cell_type": "markdown",
   "metadata": {},
   "source": [
    "## 7. System information: `uname`"
   ]
  },
  {
   "cell_type": "code",
   "execution_count": 56,
   "metadata": {
    "collapsed": false
   },
   "outputs": [
    {
     "name": "stdout",
     "output_type": "stream",
     "text": [
      "Usage: uname [OPTION]...\r\n",
      "Print certain system information.  With no OPTION, same as -s.\r\n",
      "\r\n",
      "  -a, --all                print all information, in the following order,\r\n",
      "                             except omit -p and -i if unknown:\r\n",
      "  -s, --kernel-name        print the kernel name\r\n",
      "  -n, --nodename           print the network node hostname\r\n",
      "  -r, --kernel-release     print the kernel release\r\n",
      "  -v, --kernel-version     print the kernel version\r\n",
      "  -m, --machine            print the machine hardware name\r\n",
      "  -p, --processor          print the processor type or \"unknown\"\r\n",
      "  -i, --hardware-platform  print the hardware platform or \"unknown\"\r\n",
      "  -o, --operating-system   print the operating system\r\n",
      "      --help     display this help and exit\r\n",
      "      --version  output version information and exit\r\n",
      "\r\n",
      "Report uname bugs to bug-coreutils@gnu.org\r\n",
      "GNU coreutils home page: <http://www.gnu.org/software/coreutils/>\r\n",
      "General help using GNU software: <http://www.gnu.org/gethelp/>\r\n",
      "For complete documentation, run: info coreutils 'uname invocation'\r\n"
     ]
    }
   ],
   "source": [
    "uname --help"
   ]
  },
  {
   "cell_type": "code",
   "execution_count": 57,
   "metadata": {
    "collapsed": false
   },
   "outputs": [
    {
     "name": "stdout",
     "output_type": "stream",
     "text": [
      "Linux biostar 3.13.0-79-generic #123-Ubuntu SMP Fri Feb 19 14:27:58 UTC 2016 x86_64 x86_64 x86_64 GNU/Linux\r\n"
     ]
    }
   ],
   "source": [
    "uname -a"
   ]
  },
  {
   "cell_type": "code",
   "execution_count": 58,
   "metadata": {
    "collapsed": false
   },
   "outputs": [
    {
     "name": "stdout",
     "output_type": "stream",
     "text": [
      "Linux\r\n"
     ]
    }
   ],
   "source": [
    "uname -s"
   ]
  },
  {
   "cell_type": "code",
   "execution_count": 59,
   "metadata": {
    "collapsed": false
   },
   "outputs": [
    {
     "name": "stdout",
     "output_type": "stream",
     "text": [
      "biostar\r\n"
     ]
    }
   ],
   "source": [
    "uname -n"
   ]
  },
  {
   "cell_type": "code",
   "execution_count": 60,
   "metadata": {
    "collapsed": false
   },
   "outputs": [
    {
     "name": "stdout",
     "output_type": "stream",
     "text": [
      "3.13.0-79-generic\r\n"
     ]
    }
   ],
   "source": [
    "uname -r"
   ]
  },
  {
   "cell_type": "code",
   "execution_count": 61,
   "metadata": {
    "collapsed": false
   },
   "outputs": [
    {
     "name": "stdout",
     "output_type": "stream",
     "text": [
      "#123-Ubuntu SMP Fri Feb 19 14:27:58 UTC 2016\r\n"
     ]
    }
   ],
   "source": [
    "uname -v"
   ]
  },
  {
   "cell_type": "code",
   "execution_count": 62,
   "metadata": {
    "collapsed": false
   },
   "outputs": [
    {
     "name": "stdout",
     "output_type": "stream",
     "text": [
      "x86_64\r\n"
     ]
    }
   ],
   "source": [
    "uname -i"
   ]
  },
  {
   "cell_type": "code",
   "execution_count": 63,
   "metadata": {
    "collapsed": false
   },
   "outputs": [
    {
     "name": "stdout",
     "output_type": "stream",
     "text": [
      "x86_64\r\n"
     ]
    }
   ],
   "source": [
    "uname -p"
   ]
  },
  {
   "cell_type": "code",
   "execution_count": 64,
   "metadata": {
    "collapsed": false
   },
   "outputs": [
    {
     "name": "stdout",
     "output_type": "stream",
     "text": [
      "GNU/Linux\r\n"
     ]
    }
   ],
   "source": [
    "uname -o"
   ]
  },
  {
   "cell_type": "code",
   "execution_count": 65,
   "metadata": {
    "collapsed": false
   },
   "outputs": [
    {
     "name": "stdout",
     "output_type": "stream",
     "text": [
      "x86_64\r\n"
     ]
    }
   ],
   "source": [
    "uname -m"
   ]
  },
  {
   "cell_type": "markdown",
   "metadata": {},
   "source": [
    "This is important for the different directives in compiling the C/C++ code."
   ]
  },
  {
   "cell_type": "markdown",
   "metadata": {},
   "source": [
    "## 8. Storage management: `df`, `du`, `tar`, `gzip`, `bzip2`, `zip`"
   ]
  },
  {
   "cell_type": "markdown",
   "metadata": {},
   "source": [
    "### `df`: disk space usage"
   ]
  },
  {
   "cell_type": "code",
   "execution_count": 2,
   "metadata": {
    "collapsed": false
   },
   "outputs": [
    {
     "name": "stdout",
     "output_type": "stream",
     "text": [
      "Usage: df [OPTION]... [FILE]...\r\n",
      "Show information about the file system on which each FILE resides,\r\n",
      "or all file systems by default.\r\n",
      "\r\n",
      "Mandatory arguments to long options are mandatory for short options too.\r\n",
      "  -a, --all             include dummy file systems\r\n",
      "  -B, --block-size=SIZE  scale sizes by SIZE before printing them.  E.g.,\r\n",
      "                           '-BM' prints sizes in units of 1,048,576 bytes.\r\n",
      "                           See SIZE format below.\r\n",
      "  -h, --human-readable  print sizes in human readable format (e.g., 1K 234M 2G)\r\n",
      "  -H, --si              likewise, but use powers of 1000 not 1024\r\n",
      "  -i, --inodes          list inode information instead of block usage\r\n",
      "  -k                    like --block-size=1K\r\n",
      "  -l, --local           limit listing to local file systems\r\n",
      "      --no-sync         do not invoke sync before getting usage info (default)\r\n",
      "      --output[=FIELD_LIST]  use the output format defined by FIELD_LIST,\r\n",
      "                               or print all fields if FIELD_LIST is omitted.\r\n",
      "  -P, --portability     use the POSIX output format\r\n",
      "      --sync            invoke sync before getting usage info\r\n",
      "      --total           elide all entries insignificant to available space,\r\n",
      "                          and produce a grand total\r\n",
      "  -t, --type=TYPE       limit listing to file systems of type TYPE\r\n",
      "  -T, --print-type      print file system type\r\n",
      "  -x, --exclude-type=TYPE   limit listing to file systems not of type TYPE\r\n",
      "  -v                    (ignored)\r\n",
      "      --help     display this help and exit\r\n",
      "      --version  output version information and exit\r\n",
      "\r\n",
      "Display values are in units of the first available SIZE from --block-size,\r\n",
      "and the DF_BLOCK_SIZE, BLOCK_SIZE and BLOCKSIZE environment variables.\r\n",
      "Otherwise, units default to 1024 bytes (or 512 if POSIXLY_CORRECT is set).\r\n",
      "\r\n",
      "SIZE is an integer and optional unit (example: 10M is 10*1024*1024).  Units\r\n",
      "are K, M, G, T, P, E, Z, Y (powers of 1024) or KB, MB, ... (powers of 1000).\r\n",
      "\r\n",
      "FIELD_LIST is a comma-separated list of columns to be included.  Valid\r\n",
      "field names are: 'source', 'fstype', 'itotal', 'iused', 'iavail', 'ipcent',\r\n",
      "'size', 'used', 'avail', 'pcent' and 'target' (see info page).\r\n",
      "\r\n",
      "Report df bugs to bug-coreutils@gnu.org\r\n",
      "GNU coreutils home page: <http://www.gnu.org/software/coreutils/>\r\n",
      "General help using GNU software: <http://www.gnu.org/gethelp/>\r\n",
      "For complete documentation, run: info coreutils 'df invocation'\r\n"
     ]
    }
   ],
   "source": [
    "df --help"
   ]
  },
  {
   "cell_type": "code",
   "execution_count": 1,
   "metadata": {
    "collapsed": false
   },
   "outputs": [
    {
     "name": "stdout",
     "output_type": "stream",
     "text": [
      "Filesystem      Size  Used Avail Use% Mounted on\r\n",
      "udev            2.6G  4.0K  2.6G   1% /dev\r\n",
      "tmpfs           533M  1.4M  532M   1% /run\r\n",
      "/dev/sda1       230G  187G   32G  86% /\r\n",
      "none            4.0K     0  4.0K   0% /sys/fs/cgroup\r\n",
      "none            5.0M     0  5.0M   0% /run/lock\r\n",
      "none            2.7G  189M  2.5G   8% /run/shm\r\n",
      "none            100M  104K  100M   1% /run/user\r\n"
     ]
    }
   ],
   "source": [
    "df -h"
   ]
  },
  {
   "cell_type": "markdown",
   "metadata": {},
   "source": [
    "### `du`: estimate file space usage"
   ]
  },
  {
   "cell_type": "code",
   "execution_count": 3,
   "metadata": {
    "collapsed": false
   },
   "outputs": [
    {
     "name": "stdout",
     "output_type": "stream",
     "text": [
      "Usage: du [OPTION]... [FILE]...\r\n",
      "  or:  du [OPTION]... --files0-from=F\r\n",
      "Summarize disk usage of each FILE, recursively for directories.\r\n",
      "\r\n",
      "Mandatory arguments to long options are mandatory for short options too.\r\n",
      "  -0, --null            end each output line with 0 byte rather than newline\r\n",
      "  -a, --all             write counts for all files, not just directories\r\n",
      "      --apparent-size   print apparent sizes, rather than disk usage; although\r\n",
      "                          the apparent size is usually smaller, it may be\r\n",
      "                          larger due to holes in ('sparse') files, internal\r\n",
      "                          fragmentation, indirect blocks, and the like\r\n",
      "  -B, --block-size=SIZE  scale sizes by SIZE before printing them.  E.g.,\r\n",
      "                           '-BM' prints sizes in units of 1,048,576 bytes.\r\n",
      "                           See SIZE format below.\r\n",
      "  -b, --bytes           equivalent to '--apparent-size --block-size=1'\r\n",
      "  -c, --total           produce a grand total\r\n",
      "  -D, --dereference-args  dereference only symlinks that are listed on the\r\n",
      "                          command line\r\n",
      "  -d, --max-depth=N     print the total for a directory (or file, with --all)\r\n",
      "                          only if it is N or fewer levels below the command\r\n",
      "                          line argument;  --max-depth=0 is the same as\r\n",
      "                          --summarize\r\n",
      "      --files0-from=F   summarize disk usage of the NUL-terminated file\r\n",
      "                          names specified in file F;\r\n",
      "                          If F is - then read names from standard input\r\n",
      "  -H                    equivalent to --dereference-args (-D)\r\n",
      "  -h, --human-readable  print sizes in human readable format (e.g., 1K 234M 2G)\r\n",
      "  -k                    like --block-size=1K\r\n",
      "  -L, --dereference     dereference all symbolic links\r\n",
      "  -l, --count-links     count sizes many times if hard linked\r\n",
      "  -m                    like --block-size=1M\r\n",
      "  -P, --no-dereference  don't follow any symbolic links (this is the default)\r\n",
      "  -S, --separate-dirs   do not include size of subdirectories\r\n",
      "      --si              like -h, but use powers of 1000 not 1024\r\n",
      "  -s, --summarize       display only a total for each argument\r\n",
      "  -t, --threshold=SIZE  exclude entries smaller than SIZE if positive,\r\n",
      "                          or entries greater than SIZE if negative\r\n",
      "      --time            show time of the last modification of any file in the\r\n",
      "                          directory, or any of its subdirectories\r\n",
      "      --time=WORD       show time as WORD instead of modification time:\r\n",
      "                          atime, access, use, ctime or status\r\n",
      "      --time-style=STYLE  show times using style STYLE:\r\n",
      "                          full-iso, long-iso, iso, +FORMAT\r\n",
      "                          FORMAT is interpreted like 'date'\r\n",
      "  -X, --exclude-from=FILE  exclude files that match any pattern in FILE\r\n",
      "      --exclude=PATTERN    exclude files that match PATTERN\r\n",
      "  -x, --one-file-system    skip directories on different file systems\r\n",
      "      --help     display this help and exit\r\n",
      "      --version  output version information and exit\r\n",
      "\r\n",
      "Display values are in units of the first available SIZE from --block-size,\r\n",
      "and the DU_BLOCK_SIZE, BLOCK_SIZE and BLOCKSIZE environment variables.\r\n",
      "Otherwise, units default to 1024 bytes (or 512 if POSIXLY_CORRECT is set).\r\n",
      "\r\n",
      "SIZE is an integer and optional unit (example: 10M is 10*1024*1024).  Units\r\n",
      "are K, M, G, T, P, E, Z, Y (powers of 1024) or KB, MB, ... (powers of 1000).\r\n",
      "\r\n",
      "Report du bugs to bug-coreutils@gnu.org\r\n",
      "GNU coreutils home page: <http://www.gnu.org/software/coreutils/>\r\n",
      "General help using GNU software: <http://www.gnu.org/gethelp/>\r\n",
      "For complete documentation, run: info coreutils 'du invocation'\r\n"
     ]
    }
   ],
   "source": [
    "du --help"
   ]
  },
  {
   "cell_type": "code",
   "execution_count": 5,
   "metadata": {
    "collapsed": false
   },
   "outputs": [
    {
     "name": "stdout",
     "output_type": "stream",
     "text": [
      "48K\tre\r\n"
     ]
    }
   ],
   "source": [
    "du -sh re"
   ]
  },
  {
   "cell_type": "markdown",
   "metadata": {},
   "source": [
    "### `tar`: archive and unarchive"
   ]
  },
  {
   "cell_type": "code",
   "execution_count": 8,
   "metadata": {
    "collapsed": false
   },
   "outputs": [
    {
     "name": "stdout",
     "output_type": "stream",
     "text": [
      "Usage: tar [OPTION...] [FILE]...\r\n",
      "GNU 'tar' saves many files together into a single tape or disk archive, and can\r\n",
      "restore individual files from the archive.\r\n",
      "\r\n",
      "Examples:\r\n",
      "  tar -cf archive.tar foo bar  # Create archive.tar from files foo and bar.\r\n",
      "  tar -tvf archive.tar         # List all files in archive.tar verbosely.\r\n",
      "  tar -xf archive.tar          # Extract all files from archive.tar.\r\n",
      "\r\n",
      " Main operation mode:\r\n",
      "\r\n",
      "  -A, --catenate, --concatenate   append tar files to an archive\r\n",
      "  -c, --create               create a new archive\r\n",
      "  -d, --diff, --compare      find differences between archive and file system\r\n",
      "      --delete               delete from the archive (not on mag tapes!)\r\n",
      "  -r, --append               append files to the end of an archive\r\n",
      "  -t, --list                 list the contents of an archive\r\n",
      "      --test-label           test the archive volume label and exit\r\n",
      "  -u, --update               only append files newer than copy in archive\r\n",
      "  -x, --extract, --get       extract files from an archive\r\n",
      "\r\n",
      " Operation modifiers:\r\n",
      "\r\n",
      "      --check-device         check device numbers when creating incremental\r\n",
      "                             archives (default)\r\n",
      "  -g, --listed-incremental=FILE   handle new GNU-format incremental backup\r\n",
      "  -G, --incremental          handle old GNU-format incremental backup\r\n",
      "      --ignore-failed-read   do not exit with nonzero on unreadable files\r\n",
      "      --level=NUMBER         dump level for created listed-incremental archive\r\n",
      "  -n, --seek                 archive is seekable\r\n",
      "      --no-check-device      do not check device numbers when creating\r\n",
      "                             incremental archives\r\n",
      "      --no-seek              archive is not seekable\r\n",
      "      --occurrence[=NUMBER]  process only the NUMBERth occurrence of each file\r\n",
      "                             in the archive; this option is valid only in\r\n",
      "                             conjunction with one of the subcommands --delete,\r\n",
      "                             --diff, --extract or --list and when a list of\r\n",
      "                             files is given either on the command line or via\r\n",
      "                             the -T option; NUMBER defaults to 1\r\n",
      "      --sparse-version=MAJOR[.MINOR]\r\n",
      "                             set version of the sparse format to use (implies\r\n",
      "                             --sparse)\r\n",
      "  -S, --sparse               handle sparse files efficiently\r\n",
      "\r\n",
      " Overwrite control:\r\n",
      "\r\n",
      "  -k, --keep-old-files       don't replace existing files when extracting,\r\n",
      "                             treat them as errors\r\n",
      "      --keep-directory-symlink   preserve existing symlinks to directories when\r\n",
      "                             extracting\r\n",
      "      --keep-newer-files     don't replace existing files that are newer than\r\n",
      "                             their archive copies\r\n",
      "      --no-overwrite-dir     preserve metadata of existing directories\r\n",
      "      --overwrite            overwrite existing files when extracting\r\n",
      "      --overwrite-dir        overwrite metadata of existing directories when\r\n",
      "                             extracting (default)\r\n",
      "      --recursive-unlink     empty hierarchies prior to extracting directory\r\n",
      "      --remove-files         remove files after adding them to the archive\r\n",
      "      --skip-old-files       don't replace existing files when extracting,\r\n",
      "                             silently skip over them\r\n",
      "  -U, --unlink-first         remove each file prior to extracting over it\r\n",
      "  -W, --verify               attempt to verify the archive after writing it\r\n",
      "\r\n",
      " Select output stream:\r\n",
      "\r\n",
      "      --ignore-command-error ignore exit codes of children\r\n",
      "      --no-ignore-command-error   treat non-zero exit codes of children as\r\n",
      "                             error\r\n",
      "  -O, --to-stdout            extract files to standard output\r\n",
      "      --to-command=COMMAND   pipe extracted files to another program\r\n",
      "\r\n",
      " Handling of file attributes:\r\n",
      "\r\n",
      "      --atime-preserve[=METHOD]   preserve access times on dumped files, either\r\n",
      "                             by restoring the times after reading\r\n",
      "                             (METHOD='replace'; default) or by not setting the\r\n",
      "                             times in the first place (METHOD='system')\r\n",
      "      --delay-directory-restore   delay setting modification times and\r\n",
      "                             permissions of extracted directories until the end\r\n",
      "                             of extraction\r\n",
      "      --group=NAME           force NAME as group for added files\r\n",
      "      --mode=CHANGES         force (symbolic) mode CHANGES for added files\r\n",
      "      --mtime=DATE-OR-FILE   set mtime for added files from DATE-OR-FILE\r\n",
      "  -m, --touch                don't extract file modified time\r\n",
      "      --no-delay-directory-restore\r\n",
      "                             cancel the effect of --delay-directory-restore\r\n",
      "                             option\r\n",
      "      --no-same-owner        extract files as yourself (default for ordinary\r\n",
      "                             users)\r\n",
      "      --no-same-permissions  apply the user's umask when extracting permissions\r\n",
      "                             from the archive (default for ordinary users)\r\n",
      "      --numeric-owner        always use numbers for user/group names\r\n",
      "      --owner=NAME           force NAME as owner for added files\r\n",
      "  -p, --preserve-permissions, --same-permissions\r\n",
      "                             extract information about file permissions\r\n",
      "                             (default for superuser)\r\n",
      "      --preserve             same as both -p and -s\r\n",
      "      --same-owner           try extracting files with the same ownership as\r\n",
      "                             exists in the archive (default for superuser)\r\n",
      "  -s, --preserve-order, --same-order\r\n",
      "                             member arguments are listed in the same order as\r\n",
      "                             the files in the archive\r\n",
      "\r\n",
      " Handling of extended file attributes:\r\n",
      "\r\n",
      "      --acls                 Enable the POSIX ACLs support\r\n",
      "      --no-acls              Disable the POSIX ACLs support\r\n",
      "      --no-selinux           Disable the SELinux context support\r\n",
      "      --no-xattrs            Disable extended attributes support\r\n",
      "      --selinux              Enable the SELinux context support\r\n",
      "      --xattrs               Enable extended attributes support\r\n",
      "      --xattrs-exclude=MASK  specify the exclude pattern for xattr keys\r\n",
      "      --xattrs-include=MASK  specify the include pattern for xattr keys\r\n",
      "\r\n",
      " Device selection and switching:\r\n",
      "\r\n",
      "  -f, --file=ARCHIVE         use archive file or device ARCHIVE\r\n",
      "      --force-local          archive file is local even if it has a colon\r\n",
      "  -F, --info-script=NAME, --new-volume-script=NAME\r\n",
      "                             run script at end of each tape (implies -M)\r\n",
      "  -L, --tape-length=NUMBER   change tape after writing NUMBER x 1024 bytes\r\n",
      "  -M, --multi-volume         create/list/extract multi-volume archive\r\n",
      "      --rmt-command=COMMAND  use given rmt COMMAND instead of rmt\r\n",
      "      --rsh-command=COMMAND  use remote COMMAND instead of rsh\r\n",
      "      --volno-file=FILE      use/update the volume number in FILE\r\n",
      "\r\n",
      " Device blocking:\r\n",
      "\r\n",
      "  -b, --blocking-factor=BLOCKS   BLOCKS x 512 bytes per record\r\n",
      "  -B, --read-full-records    reblock as we read (for 4.2BSD pipes)\r\n",
      "  -i, --ignore-zeros         ignore zeroed blocks in archive (means EOF)\r\n",
      "      --record-size=NUMBER   NUMBER of bytes per record, multiple of 512\r\n",
      "\r\n",
      " Archive format selection:\r\n",
      "\r\n",
      "  -H, --format=FORMAT        create archive of the given format\r\n",
      "\r\n",
      " FORMAT is one of the following:\r\n",
      "\r\n",
      "    gnu                      GNU tar 1.13.x format\r\n",
      "    oldgnu                   GNU format as per tar <= 1.12\r\n",
      "    pax                      POSIX 1003.1-2001 (pax) format\r\n",
      "    posix                    same as pax\r\n",
      "    ustar                    POSIX 1003.1-1988 (ustar) format\r\n",
      "    v7                       old V7 tar format\r\n",
      "\r\n",
      "      --old-archive, --portability\r\n",
      "                             same as --format=v7\r\n",
      "      --pax-option=keyword[[:]=value][,keyword[[:]=value]]...\r\n",
      "                             control pax keywords\r\n",
      "      --posix                same as --format=posix\r\n",
      "  -V, --label=TEXT           create archive with volume name TEXT; at\r\n",
      "                             list/extract time, use TEXT as a globbing pattern\r\n",
      "                             for volume name\r\n",
      "\r\n",
      " Compression options:\r\n",
      "\r\n",
      "  -a, --auto-compress        use archive suffix to determine the compression\r\n",
      "                             program\r\n",
      "  -I, --use-compress-program=PROG\r\n",
      "                             filter through PROG (must accept -d)\r\n",
      "  -j, --bzip2                filter the archive through bzip2\r\n",
      "  -J, --xz                   filter the archive through xz\r\n",
      "      --lzip                 filter the archive through lzip\r\n",
      "      --lzma                 filter the archive through xz\r\n",
      "      --lzop\r\n",
      "      --no-auto-compress     do not use archive suffix to determine the\r\n",
      "                             compression program\r\n",
      "  -z, --gzip, --gunzip, --ungzip   filter the archive through gzip\r\n",
      "  -Z, --compress, --uncompress   filter the archive through compress\r\n",
      "\r\n",
      " Local file selection:\r\n",
      "\r\n",
      "      --add-file=FILE        add given FILE to the archive (useful if its name\r\n",
      "                             starts with a dash)\r\n",
      "      --backup[=CONTROL]     backup before removal, choose version CONTROL\r\n",
      "  -C, --directory=DIR        change to directory DIR\r\n",
      "      --exclude=PATTERN      exclude files, given as a PATTERN\r\n",
      "      --exclude-backups      exclude backup and lock files\r\n",
      "      --exclude-caches       exclude contents of directories containing\r\n",
      "                             CACHEDIR.TAG, except for the tag file itself\r\n",
      "      --exclude-caches-all   exclude directories containing CACHEDIR.TAG\r\n",
      "      --exclude-caches-under exclude everything under directories containing\r\n",
      "                             CACHEDIR.TAG\r\n",
      "      --exclude-tag=FILE     exclude contents of directories containing FILE,\r\n",
      "                             except for FILE itself\r\n",
      "      --exclude-tag-all=FILE exclude directories containing FILE\r\n",
      "      --exclude-tag-under=FILE   exclude everything under directories\r\n",
      "                             containing FILE\r\n",
      "      --exclude-vcs          exclude version control system directories\r\n",
      "  -h, --dereference          follow symlinks; archive and dump the files they\r\n",
      "                             point to\r\n",
      "      --hard-dereference     follow hard links; archive and dump the files they\r\n",
      "                             refer to\r\n",
      "  -K, --starting-file=MEMBER-NAME\r\n",
      "                             begin at member MEMBER-NAME when reading the\r\n",
      "                             archive\r\n",
      "      --newer-mtime=DATE     compare date and time when data changed only\r\n",
      "      --no-null              disable the effect of the previous --null option\r\n",
      "      --no-recursion         avoid descending automatically in directories\r\n",
      "      --no-unquote           do not unquote filenames read with -T\r\n",
      "      --null                 -T reads null-terminated names, disable -C\r\n",
      "  -N, --newer=DATE-OR-FILE, --after-date=DATE-OR-FILE\r\n",
      "                             only store files newer than DATE-OR-FILE\r\n",
      "      --one-file-system      stay in local file system when creating archive\r\n",
      "  -P, --absolute-names       don't strip leading '/'s from file names\r\n",
      "      --recursion            recurse into directories (default)\r\n",
      "      --suffix=STRING        backup before removal, override usual suffix ('~'\r\n",
      "                             unless overridden by environment variable\r\n",
      "                             SIMPLE_BACKUP_SUFFIX)\r\n",
      "  -T, --files-from=FILE      get names to extract or create from FILE\r\n",
      "      --unquote              unquote filenames read with -T (default)\r\n",
      "  -X, --exclude-from=FILE    exclude patterns listed in FILE\r\n",
      "\r\n",
      " File name transformations:\r\n",
      "\r\n",
      "      --strip-components=NUMBER   strip NUMBER leading components from file\r\n",
      "                             names on extraction\r\n",
      "      --transform=EXPRESSION, --xform=EXPRESSION\r\n",
      "                             use sed replace EXPRESSION to transform file\r\n",
      "                             names\r\n",
      "\r\n",
      " File name matching options (affect both exclude and include patterns):\r\n",
      "\r\n",
      "      --anchored             patterns match file name start\r\n",
      "      --ignore-case          ignore case\r\n",
      "      --no-anchored          patterns match after any '/' (default for\r\n",
      "                             exclusion)\r\n",
      "      --no-ignore-case       case sensitive matching (default)\r\n",
      "      --no-wildcards         verbatim string matching\r\n",
      "      --no-wildcards-match-slash   wildcards do not match '/'\r\n",
      "      --wildcards            use wildcards (default for exclusion)\r\n",
      "      --wildcards-match-slash   wildcards match '/' (default for exclusion)\r\n",
      "\r\n",
      " Informative output:\r\n",
      "\r\n",
      "      --checkpoint[=NUMBER]  display progress messages every NUMBERth record\r\n",
      "                             (default 10)\r\n",
      "      --checkpoint-action=ACTION   execute ACTION on each checkpoint\r\n",
      "      --full-time            print file time to its full resolution\r\n",
      "      --index-file=FILE      send verbose output to FILE\r\n",
      "  -l, --check-links          print a message if not all links are dumped\r\n",
      "      --no-quote-chars=STRING   disable quoting for characters from STRING\r\n",
      "      --quote-chars=STRING   additionally quote characters from STRING\r\n",
      "      --quoting-style=STYLE  set name quoting style; see below for valid STYLE\r\n",
      "                             values\r\n",
      "  -R, --block-number         show block number within archive with each message\r\n",
      "                            \r\n",
      "      --show-defaults        show tar defaults\r\n",
      "      --show-omitted-dirs    when listing or extracting, list each directory\r\n",
      "                             that does not match search criteria\r\n",
      "      --show-snapshot-field-ranges\r\n",
      "                             show valid ranges for snapshot-file fields\r\n",
      "      --show-transformed-names, --show-stored-names\r\n",
      "                             show file or archive names after transformation\r\n",
      "      --totals[=SIGNAL]      print total bytes after processing the archive;\r\n",
      "                             with an argument - print total bytes when this\r\n",
      "                             SIGNAL is delivered; Allowed signals are: SIGHUP,\r\n",
      "                             SIGQUIT, SIGINT, SIGUSR1 and SIGUSR2; the names\r\n",
      "                             without SIG prefix are also accepted\r\n",
      "      --utc                  print file modification times in UTC\r\n",
      "  -v, --verbose              verbosely list files processed\r\n",
      "      --warning=KEYWORD      warning control\r\n",
      "  -w, --interactive, --confirmation\r\n",
      "                             ask for confirmation for every action\r\n",
      "\r\n",
      " Compatibility options:\r\n",
      "\r\n",
      "  -o                         when creating, same as --old-archive; when\r\n",
      "                             extracting, same as --no-same-owner\r\n",
      "\r\n",
      " Other options:\r\n",
      "\r\n",
      "  -?, --help                 give this help list\r\n",
      "      --restrict             disable use of some potentially harmful options\r\n",
      "      --usage                give a short usage message\r\n",
      "      --version              print program version\r\n",
      "\r\n",
      "Mandatory or optional arguments to long options are also mandatory or optional\r\n",
      "for any corresponding short options.\r\n",
      "\r\n",
      "The backup suffix is '~', unless set with --suffix or SIMPLE_BACKUP_SUFFIX.\r\n",
      "The version control may be set with --backup or VERSION_CONTROL, values are:\r\n",
      "\r\n",
      "  none, off       never make backups\r\n",
      "  t, numbered     make numbered backups\r\n",
      "  nil, existing   numbered if numbered backups exist, simple otherwise\r\n",
      "  never, simple   always make simple backups\r\n",
      "\r\n",
      "Valid arguments for the --quoting-style option are:\r\n",
      "\r\n",
      "  literal\r\n",
      "  shell\r\n",
      "  shell-always\r\n",
      "  c\r\n",
      "  c-maybe\r\n",
      "  escape\r\n",
      "  locale\r\n",
      "  clocale\r\n",
      "\r\n",
      "*This* tar defaults to:\r\n",
      "--format=gnu -f- -b20 --quoting-style=escape --rmt-command=/usr/lib/tar/rmt\r\n",
      "--rsh-command=/usr/bin/rsh\r\n",
      "\r\n",
      "Report bugs to <bug-tar@gnu.org>.\r\n"
     ]
    }
   ],
   "source": [
    "tar --help"
   ]
  },
  {
   "cell_type": "code",
   "execution_count": 6,
   "metadata": {
    "collapsed": false
   },
   "outputs": [
    {
     "name": "stdout",
     "output_type": "stream",
     "text": [
      "re/\r\n",
      "re/test.001\r\n",
      "re/numbers.txt\r\n",
      "re/test5\r\n",
      "re/.ipynb_checkpoints/\r\n",
      "re/test6\r\n",
      "re/test2\r\n",
      "re/test.000\r\n",
      "re/test4\r\n",
      "re/test3\r\n",
      "re/test\r\n",
      "re/numbers.bak\r\n"
     ]
    }
   ],
   "source": [
    "tar -cvf re.tar re/"
   ]
  },
  {
   "cell_type": "code",
   "execution_count": 7,
   "metadata": {
    "collapsed": false
   },
   "outputs": [
    {
     "name": "stdout",
     "output_type": "stream",
     "text": [
      "\u001b[0m\u001b[01;31mre.tar\u001b[0m\r\n"
     ]
    }
   ],
   "source": [
    "ls *.tar"
   ]
  },
  {
   "cell_type": "code",
   "execution_count": 9,
   "metadata": {
    "collapsed": false
   },
   "outputs": [
    {
     "name": "stdout",
     "output_type": "stream",
     "text": [
      "re/\r\n",
      "re/test.001\r\n",
      "re/numbers.txt\r\n",
      "re/test5\r\n",
      "re/.ipynb_checkpoints/\r\n",
      "re/test6\r\n",
      "re/test2\r\n",
      "re/test.000\r\n",
      "re/test4\r\n",
      "re/test3\r\n",
      "re/test\r\n",
      "re/numbers.bak\r\n"
     ]
    }
   ],
   "source": [
    "tar -xvf re.tar"
   ]
  },
  {
   "cell_type": "markdown",
   "metadata": {},
   "source": [
    "Here is the common commands for **archiving/unchiving and compression/decompression**:\n",
    "\n",
    "| File format | Archive/Compress | Unarchive/Decompress |\n",
    "| --- | --- | --- |\n",
    "| x.tar | tar -cf x.tar x | tar -xf x.tar |\n",
    "| x.gz | gzip x | gzip -d x.gz |\n",
    "| x.bz2 | bzip2 x | bzip2 -d x.bz2 |\n",
    "| x.tar.gz | tar -czf x.tar.gz x | tar -xzvf x.tar.gz |\n",
    "| x.tar.bz2 | tar -cjf x.tar.bz2 x | tar -xjvf x.tar.bz2 |\n",
    "| x.zip | zip -r x.zip x | unzip x.zip |"
   ]
  },
  {
   "cell_type": "markdown",
   "metadata": {},
   "source": [
    "### 9. File Search Engines: `which`, `whereis`, `locate`, `find` "
   ]
  },
  {
   "cell_type": "markdown",
   "metadata": {},
   "source": [
    "#### `which`: locate a command\n",
    "\n",
    "`which` searches the `$PATH` for executable files matching the names of the given arguments."
   ]
  },
  {
   "cell_type": "code",
   "execution_count": 1,
   "metadata": {
    "collapsed": false
   },
   "outputs": [
    {
     "name": "stdout",
     "output_type": "stream",
     "text": [
      "/bin/ls\r\n"
     ]
    }
   ],
   "source": [
    "which ls"
   ]
  },
  {
   "cell_type": "markdown",
   "metadata": {
    "collapsed": true
   },
   "source": [
    "#### `whereis`: locate the binary, source, or manual page for a command"
   ]
  },
  {
   "cell_type": "code",
   "execution_count": 2,
   "metadata": {
    "collapsed": false
   },
   "outputs": [
    {
     "name": "stdout",
     "output_type": "stream",
     "text": [
      "\r\n",
      "Usage:\r\n",
      " whereis [options] file\r\n",
      "\r\n",
      "Options:\r\n",
      " -f <file>  define search scope\r\n",
      " -b         search only binaries\r\n",
      " -B <dirs>  define binaries lookup path\r\n",
      " -m         search only manual paths\r\n",
      " -M <dirs>  define man lookup path\r\n",
      " -s         search only sources path\r\n",
      " -S <dirs>  define sources lookup path\r\n",
      " -u         search from unusual enties\r\n",
      " -V         output version information and exit\r\n",
      " -h         display this help and exit\r\n",
      "\r\n",
      "See how to use file and dirs arguments from whereis(1) manual.\r\n"
     ]
    }
   ],
   "source": [
    "whereis -h"
   ]
  },
  {
   "cell_type": "code",
   "execution_count": 3,
   "metadata": {
    "collapsed": false
   },
   "outputs": [
    {
     "name": "stdout",
     "output_type": "stream",
     "text": [
      "sed: /bin/sed /usr/share/man/man1/sed.1.gz\r\n"
     ]
    }
   ],
   "source": [
    "whereis sed"
   ]
  },
  {
   "cell_type": "code",
   "execution_count": 4,
   "metadata": {
    "collapsed": false
   },
   "outputs": [
    {
     "name": "stdout",
     "output_type": "stream",
     "text": [
      "sed: /usr/share/man/man1/sed.1.gz\r\n"
     ]
    }
   ],
   "source": [
    "whereis -m sed"
   ]
  },
  {
   "cell_type": "markdown",
   "metadata": {},
   "source": [
    "#### `locate`:  find files by name\n",
    "\n",
    "`locate` find files by searching against the database `/var/lib/mlocate/mlocate.db` through pattern matching. The database is updated by the command `updatedb`."
   ]
  },
  {
   "cell_type": "code",
   "execution_count": 5,
   "metadata": {
    "collapsed": false
   },
   "outputs": [
    {
     "name": "stdout",
     "output_type": "stream",
     "text": [
      "Usage: locate [OPTION]... [PATTERN]...\r\n",
      "Search for entries in a mlocate database.\r\n",
      "\r\n",
      "  -A, --all              only print entries that match all patterns\r\n",
      "  -b, --basename         match only the base name of path names\r\n",
      "  -c, --count            only print number of found entries\r\n",
      "  -d, --database DBPATH  use DBPATH instead of default database (which is\r\n",
      "                         /var/lib/mlocate/mlocate.db)\r\n",
      "  -e, --existing         only print entries for currently existing files\r\n",
      "  -L, --follow           follow trailing symbolic links when checking file\r\n",
      "                         existence (default)\r\n",
      "  -h, --help             print this help\r\n",
      "  -i, --ignore-case      ignore case distinctions when matching patterns\r\n",
      "  -l, --limit, -n LIMIT  limit output (or counting) to LIMIT entries\r\n",
      "  -m, --mmap             ignored, for backward compatibility\r\n",
      "  -P, --nofollow, -H     don't follow trailing symbolic links when checking file\r\n",
      "                         existence\r\n",
      "  -0, --null             separate entries with NUL on output\r\n",
      "  -S, --statistics       don't search for entries, print statistics about each\r\n",
      "                         used database\r\n",
      "  -q, --quiet            report no error messages about reading databases\r\n",
      "  -r, --regexp REGEXP    search for basic regexp REGEXP instead of patterns\r\n",
      "      --regex            patterns are extended regexps\r\n",
      "  -s, --stdio            ignored, for backward compatibility\r\n",
      "  -V, --version          print version information\r\n",
      "  -w, --wholename        match whole path name (default)\r\n",
      "\r\n",
      "Report bugs to mitr@redhat.com.\r\n"
     ]
    }
   ],
   "source": [
    "locate --help"
   ]
  },
  {
   "cell_type": "code",
   "execution_count": 6,
   "metadata": {
    "collapsed": false
   },
   "outputs": [
    {
     "name": "stdout",
     "output_type": "stream",
     "text": [
      "/etc/printcap\r\n",
      "/etc/cups/printers.conf\r\n",
      "/etc/cups/printers.conf.O\r\n",
      "/etc/gufw/app_profiles/printserver.ufw_app\r\n",
      "/etc/xdg/autostart/print-applet.desktop\r\n",
      "/home/bio/.config/google-chrome/Default/Extensions/afkccfnochoebimhhniekgcegeeiepmi/1.0.5_0/print.html\r\n",
      "/home/bio/.cpan/build/BioPerl-1.6.923-uVpy9c/t/data/prints.out\r\n",
      "/home/bio/.cpan/build/BioPerl-1.6.924-SG5gF9/t/data/prints.out\r\n",
      "/home/bio/.cpan/sources/authors/id/C/CJ/CJFIELDS/BioPerl-1.6.924/t/data/prints.out\r\n",
      "/home/bio/.wine/drive_c/windows/system32/printui.dll\r\n",
      "/home/bio/.wine/drive_c/windows/system32/spool/printers\r\n",
      "/home/bio/.wine/drive_c/windows/syswow64/printui.dll\r\n",
      "/home/bio/Jalview/examples/groovy/printtitle.groovy\r\n",
      "/home/bio/R/x86_64-pc-linux-gnu-library/3.2/BH/include/boost/geometry/algorithms/detail/turns/print_turns.hpp\r\n",
      "/home/bio/R/x86_64-pc-linux-gnu-library/3.2/BH/include/boost/geometry/index/detail/rtree/utilities/print.hpp\r\n",
      "/home/bio/R/x86_64-pc-linux-gnu-library/3.2/BH/include/boost/mpl/print.hpp\r\n",
      "/home/bio/R/x86_64-pc-linux-gnu-library/3.2/BH/include/boost/spirit/home/x3/support/traits/print_attribute.hpp\r\n",
      "/home/bio/R/x86_64-pc-linux-gnu-library/3.2/BH/include/boost/spirit/home/x3/support/traits/print_token.hpp\r\n",
      "/home/bio/R/x86_64-pc-linux-gnu-library/3.2/StanHeaders/include/src/stan/services/mcmc/print_progress.hpp\r\n",
      "/home/bio/R/x86_64-pc-linux-gnu-library/3.2/StanHeaders/include/stan/math/rev/core/print_stack.hpp\r\n",
      "/home/bio/R/x86_64-pc-linux-gnu-library/3.2/UsingR/answers/print-answers.pdf\r\n",
      "/home/bio/R/x86_64-pc-linux-gnu-library/3.2/knitr/themes/print.css\r\n",
      "/home/bio/tutorials/R/training/r-novice-gapminder/deck.js/core/print.css\r\n",
      "/home/bio/tutorials/R/training/r-novice-inflammation/print-args-trailing.R\r\n",
      "/home/bio/tutorials/R/training/r-novice-inflammation/print-args.R\r\n",
      "/home/bio/tutorials/bioinformatics/PPI/cl1/src/web/img/print.png\r\n",
      "/home/bio/tutorials/bioinformatics/mapping/k-mer/genometools-1.5.7/src/external/lua-5.1.5/src/print.c\r\n",
      "/home/bio/tutorials/bioinformatics/mapping/k-mer/genometools-1.5.7/src/external/lua-5.1.5/test/printf.lua\r\n",
      "/home/bio/tutorials/bioinformatics/mapping/seed-and-extend/ncbi/webdesign/designs/pmc/printstyle.css\r\n",
      "/home/bio/tutorials/datascience/brisk/fmriTools/R/print.brisk.R\r\n",
      "/home/bio/tutorials/datascience/python/basic/VIDLIX-Data-Analytics/venv/lib/python3.4/site-packages/numpy/testing/print_coercion_tables.py\r\n",
      "/home/bio/tutorials/datascience/python/basic/VIDLIX-Data-Analytics/venv/lib/python3.4/site-packages/numpy/testing/__pycache__/print_coercion_tables.cpython-34.pyc\r\n",
      "/home/bio/tutorials/datascience/python/basic/VIDLIX-Data-Analytics/venv/lib/python3.4/site-packages/pandas/util/print_versions.py\r\n",
      "/home/bio/tutorials/datascience/python/basic/VIDLIX-Data-Analytics/venv/lib/python3.4/site-packages/pandas/util/__pycache__/print_versions.cpython-34.pyc\r\n",
      "/home/bio/tutorials/datascience/spark/advanced/pig-on-spark/sql/hive/src/test/resources/golden/print_header-0-860e298a0b70e7a531431e9386ddc0e7\r\n",
      "/home/bio/tutorials/datascience/spark/advanced/pig-on-spark/sql/hive/src/test/resources/golden/print_header-1-8540676fc16ac91f3629c40f393a890a\r\n",
      "/home/bio/tutorials/datascience/spark/advanced/pig-on-spark/sql/hive/src/test/resources/golden/print_header-2-5cff10d4b561206e7e0b2e81d862ff93\r\n",
      "/home/bio/tutorials/datascience/spark/advanced/pig-on-spark/sql/hive/src/test/resources/golden/print_header-3-e86d559aeb84a4cc017a103182c22bfb\r\n",
      "/home/bio/tutorials/datascience/spark/advanced/pig-on-spark/sql/hive/src/test/resources/ql/src/test/queries/clientpositive/print_header.q\r\n",
      "/home/bio/tutorials/datascience/spark/basic/spark-training/spark/sql/hive/src/test/resources/golden/print_header-0-860e298a0b70e7a531431e9386ddc0e7\r\n",
      "/home/bio/tutorials/datascience/spark/basic/spark-training/spark/sql/hive/src/test/resources/golden/print_header-1-8540676fc16ac91f3629c40f393a890a\r\n",
      "/home/bio/tutorials/datascience/spark/basic/spark-training/spark/sql/hive/src/test/resources/golden/print_header-2-5cff10d4b561206e7e0b2e81d862ff93\r\n",
      "/home/bio/tutorials/datascience/spark/basic/spark-training/spark/sql/hive/src/test/resources/golden/print_header-3-e86d559aeb84a4cc017a103182c22bfb\r\n",
      "/home/bio/tutorials/datascience/spark/basic/spark-training/spark/sql/hive/src/test/resources/ql/src/test/queries/clientpositive/print_header.q\r\n",
      "/home/bio/tutorials/datascience/textmining/txt_mining/print_pickle.py\r\n",
      "/home/bio/tutorials/linux/C/apue/apue.3e/printer\r\n",
      "/home/bio/tutorials/linux/C/apue/apue.3e/printer/print.c\r\n",
      "/home/bio/tutorials/linux/C/apue/apue.3e/printer/print.h\r\n",
      "/home/bio/tutorials/linux/C/apue/apue.3e/printer/printd.c\r\n",
      "/home/bio/tutorials/linux/C/mariadb-10.0.17/storage/ndb/src/common/debugger/signaldata/print.awk\r\n",
      "/home/bio/tutorials/linux/C/mariadb-10.0.17/storage/ndb/src/common/mgmcommon/printConfig\r\n",
      "/home/bio/tutorials/linux/C/mariadb-10.0.17/storage/ndb/src/common/mgmcommon/printConfig/printConfig.cpp\r\n",
      "/home/bio/tutorials/linux/C/mariadb-10.0.17/storage/ndb/src/kernel/blocks/print_file.cpp\r\n",
      "/home/bio/tutorials/linux/C/mariadb-10.0.17/storage/ndb/src/kernel/blocks/dbdict/printSchemaFile.cpp\r\n",
      "/home/bio/tutorials/linux/C/mariadb-10.0.17/storage/ndb/src/kernel/blocks/dbdih/printSysfile\r\n",
      "/home/bio/tutorials/linux/C/mariadb-10.0.17/storage/ndb/src/kernel/blocks/dbdih/printSysfile.cpp\r\n",
      "/home/bio/tutorials/linux/C/mariadb-10.0.17/storage/ndb/src/kernel/blocks/dbdih/printSysfile/printSysfile.cpp\r\n",
      "/home/bio/tutorials/linux/C/mariadb-10.0.17/storage/tokudb/ft-index/src/tests/print_engine_status.cc\r\n",
      "/home/bio/tutorials/linux/exam/kernel/Linux_Programming/code/blp3e/printdir.c\r\n",
      "/home/bio/tutorials/linux/exam/kernel/Linux_Programming/code/blp3e/printdir2.c\r\n",
      "/home/bio/tutorials/linux/exam/kernel/linux_kernel_driver/data/0.11_build_ok/linux-0.11-deb/kernel/printk.c\r\n",
      "/home/bio/tutorials/linux/exam/kernel/linux_kernel_driver/data/0.11_build_ok/linux-0.11-deb/kernel/printk.o\r\n",
      "/home/bio/tutorials/linux/exam/kernel/linux_kernel_driver/data/Linux0.11内核源代码/kernel/printk.c\r\n",
      "/home/bio/tutorials/linux/exam/kernel/linux_kernel_driver/data/linux-0.11_qemu_gdb/kernel/printk.c\r\n",
      "/home/bio/tutorials/linux/exam/kernel/linux_kernel_driver/data/linux-0.11_qemu_gdb/kernel/printk.o\r\n",
      "/home/bio/tutorials/linux/exam/kernel/linux_kernel_driver/data/linux-0.12-v5_build_for_4.8/kernel/printk.c\r\n",
      "/home/bio/tutorials/linux/exam/kernel/linux_kernel_driver/data/linux-cd/linux-0.11/kernel/printk.c\r\n",
      "/home/bio/tutorials/linux/exam/kernel/linux_kernel_driver/example/LDDP_JP/JP-samples/chap16/printk\r\n",
      "/home/bio/tutorials/linux/exam/kernel/linux_kernel_driver/example/LDDP_JP/JP-samples/chap6/64bit_kernel/printf.c\r\n",
      "/home/bio/tutorials/linux/exam/kernel/linux_kernel_driver/example/LDDP_JP/TW-samples/chap16/printk\r\n",
      "/home/bio/tutorials/linux/exam/kernel/linux_kernel_driver/example/LDDP_JP/TW-samples/chap6/64bit_kernel/printf.c\r\n",
      "/home/bio/tutorials/linux/exam/python/python_ebook/Python入門教學/ez2learn/ez2learn.com/images/M_images/printButton.png\r\n",
      "/home/bio/tutorials/linux/exam/python/python_ebook/wxPython in Action/wxPythonInAction-src/Chapter-17/printing.py\r\n",
      "/home/bio/tutorials/linux/java/cytoscape/jd-gui/build/tmp/expandedArchives/jd-core-0.7.1.jar_bt1hx07q31drr84xffd1t37d7/jd/core/printer\r\n",
      "/home/bio/tutorials/linux/java/cytoscape/jd-gui/build/tmp/expandedArchives/rsyntaxtextarea-2.5.6.jar_cs7p8k9y1l6h7forwoq2h1j0o/org/fife/print\r\n",
      "/home/bio/tutorials/linux/perl/bioperl/bioperl-live/t/data/prints.out\r\n",
      "/home/bio/tutorials/linux/perl/bioperl/bioperl-pipeline/t/data/prints.dat\r\n",
      "/home/bio/tutorials/linux/perl/bioperl/bioperl-pipeline/xml/examples/protein_annotation_pipeline/data/prints.dat\r\n",
      "/home/bio/tutorials/linux/python/biopython/biopython_workshop/reading_sequence_files/print_seq.py\r\n",
      "/home/bio/tutorials/linux/python/theano/pylearn2/pylearn2/scripts/print_channel_doc.py\r\n",
      "/home/bio/tutorials/linux/python/theano/pylearn2/pylearn2/scripts/print_model.py\r\n",
      "/home/bio/tutorials/linux/python/theano/pylearn2/pylearn2/scripts/print_monitor.py\r\n",
      "/home/bio/tutorials/linux/python/theano/pylearn2/pylearn2/scripts/print_monitor_cv.py\r\n",
      "/home/bio/tutorials/ml/gbm/R/print.gbm.R\r\n",
      "/home/bio/tutorials/ml/gbm/demo/printExamples.R\r\n",
      "/home/bio/tutorials/ml/gbm/man/print.gbm.Rd\r\n",
      "/home/bio/tutorials/ngs/abyss/algorithms/HMMK11_0.1.0/bin/hmmK11LogR_mcr/toolbox/compiler/deploy/printdlg.m\r\n",
      "/home/bio/tutorials/ngs/abyss/algorithms/HMMK11_0.1.0/bin/hmmK11LogR_mcr/toolbox/local/printopt.m\r\n",
      "/home/bio/tutorials/ngs/assembly/GAGE-B_ an evaluation of genome assemblers for bacterial organisms — GAGE-B_ an evaluation of genome assemblers for bacterial organisms — Supplementary Data_files/print.css\r\n",
      "/home/bio/tutorials/ngs/assembly/Minia/minia-2.0.3-Source/thirdparty/gatb-core/thirdparty/boost/mpl/print.hpp\r\n",
      "/home/bio/tutorials/ngs/cnv/AS-GENSENG1.0.2/simulated/InHouseScripts/2CovariatesGeneration/print_oligo.pl\r\n",
      "/home/bio/tutorials/ngs/cortex/CORTEX_release_v1.0.5.21/libs/gsl-1.15/ieee-utils/print.c\r\n",
      "/home/bio/tutorials/ngs/cortex/CORTEX_release_v1.0.5.21/libs/gsl-1.15/ieee-utils/print.lo\r\n",
      "/home/bio/tutorials/ngs/cortex/CORTEX_release_v1.0.5.21/libs/gsl-1.15/ieee-utils/print.o\r\n",
      "/home/bio/tutorials/ngs/cortex/CORTEX_release_v1.0.5.21/libs/gsl-1.15/ieee-utils/.deps/print.Plo\r\n",
      "/home/bio/tutorials/ngs/cortex/CORTEX_release_v1.0.5.21/libs/gsl-1.15/ieee-utils/.libs/print.o\r\n",
      "/home/bio/tutorials/ngs/cortex/CORTEX_release_v1.0.5.21/scripts/analyse_variants/bioinf-perl/cortex_scripts/print_5p_flank.pl\r\n",
      "/home/bio/tutorials/ngs/cortex/code/CORTEX_v1.0.5.14_prerelease/libs/gsl-1.15/ieee-utils/print.c\r\n",
      "/home/bio/tutorials/ngs/cortex/code/CORTEX_v1.0.5.14_prerelease/libs/gsl-1.15/ieee-utils/print.lo\r\n",
      "/home/bio/tutorials/ngs/cortex/code/CORTEX_v1.0.5.14_prerelease/libs/gsl-1.15/ieee-utils/print.o\r\n",
      "/home/bio/tutorials/ngs/cortex/code/CORTEX_v1.0.5.14_prerelease/libs/gsl-1.15/ieee-utils/.deps/print.Plo\r\n",
      "/home/bio/tutorials/ngs/cortex/code/CORTEX_v1.0.5.14_prerelease/libs/gsl-1.15/ieee-utils/.libs/print.o\r\n",
      "/home/bio/tutorials/ngs/cortex/code/CORTEX_v1.0.5.14_prerelease/scripts/analyse_variants/bioinf-perl/cortex_scripts/print_5p_flank.pl\r\n",
      "/home/bio/tutorials/ngs/exome/ABSOLUTE/R/print_PP_call_table.R\r\n",
      "/home/bio/tutorials/ngs/formats/biopython/print_seq.py\r\n",
      "/home/bio/tutorials/ngs/phylogenetics/software/prottest3/build/classes/es/uvigo/darwin/prottest/selection/printer\r\n",
      "/home/bio/tutorials/ngs/phylogenetics/software/prottest3/build/classes/es/uvigo/darwin/prottest/util/printer\r\n",
      "/home/bio/tutorials/ngs/phylogenetics/software/prottest3/src/main/java/es/uvigo/darwin/prottest/selection/printer\r\n",
      "/home/bio/tutorials/ngs/phylogenetics/software/prottest3/src/main/java/es/uvigo/darwin/prottest/util/printer\r\n",
      "/home/bio/tutorials/ngs/rnaseq/Trinityrnaseq-2.0.6/util/misc/print.pl\r\n",
      "/home/bio/tutorials/ngs/rnaseq/Trinityrnaseq-2.0.6/util/misc/print_kmers.pl\r\n",
      "/home/bio/tutorials/ngs/rnaseq/Trinityrnaseq-2.0.6/util/support_scripts/print_butterfly_assemblies.pl\r\n",
      "/home/bio/tutorials/ngs/rnaseq/detonate/ref-eval/boost/tools/build/v2/test/print.py\r\n",
      "/home/bio/tutorials/ngs/rnaseq/detonate/ref-eval/boost/tools/build/v2/util/print.jam\r\n",
      "/home/bio/tutorials/ngs/rnaseq/non-model/tools/khmer/sandbox/print-stoptags.py\r\n",
      "/home/bio/tutorials/ngs/rnaseq/non-model/tools/khmer/sandbox/print-tagset.py\r\n",
      "/home/bio/tutorials/ngs/rnaseq/non-model/tools/trinity/util/misc/print.pl\r\n",
      "/home/bio/tutorials/ngs/rnaseq/non-model/tools/trinity/util/misc/print_kmers.pl\r\n",
      "/home/bio/tutorials/ngs/rnaseq/non-model/tools/trinity/util/support_scripts/print_butterfly_assemblies.pl\r\n",
      "/home/bio/tutorials/python/biostar-central/biostar-central/libs/docutils/writers/s5_html/themes/default/print.css\r\n",
      "/home/bio/tutorials/python/lecture-notes/deep_learning/ATLAS/CONFIG/src/print_enums.c\r\n",
      "/home/bio/tutorials/python/lecture-notes/deep_learning/ATLAS/bin/print_buildinfo.c\r\n",
      "/home/bio/tutorials/python/lecture-notes/deep_learning/ATLAS/bin/printblk.c\r\n",
      "/home/bio/tutorials/python/ml/deep/Theano/doc/library/printing.txt\r\n",
      "/home/bio/tutorials/python/ml/deep/Theano/doc/tutorial/printing_drawing.txt\r\n",
      "/home/bio/tutorials/python/ml/deep/Theano/theano/printing.py\r\n",
      "/home/bio/tutorials/python/protein_functions/ProteinFunctionPrediction/Experiments/BinsMKL/cvxopt-1.1.7/build/lib.linux-x86_64-2.7/cvxopt/printing.py\r\n",
      "/home/bio/tutorials/python/protein_functions/ProteinFunctionPrediction/Experiments/BinsMKL/cvxopt-1.1.7/doc/html/printing.html\r\n",
      "/home/bio/tutorials/python/protein_functions/ProteinFunctionPrediction/Experiments/BinsMKL/cvxopt-1.1.7/doc/source/printing.rst\r\n",
      "/home/bio/tutorials/python/protein_functions/ProteinFunctionPrediction/Experiments/BinsMKL/cvxopt-1.1.7/src/python/printing.py\r\n",
      "/home/bio/tutorials/python/protein_functions/ProteinFunctionPrediction/Experiments/BinsMKL/savefigure/print2array.m\r\n",
      "/home/bio/tutorials/python/protein_functions/ProteinFunctionPrediction/Experiments/BinsMKL/savefigure/print2eps.m\r\n",
      "/home/bio/tutorials/python/protein_functions/ProteinFunctionPrediction/Experiments/BinsSVM/savefigure/print2array.m\r\n",
      "/home/bio/tutorials/python/protein_functions/ProteinFunctionPrediction/Experiments/BinsSVM/savefigure/print2eps.m\r\n",
      "/home/bio/tutorials/python/protein_functions/interproscan-read-only/core/business/src/main/java/uk/ac/ebi/interpro/scan/business/postprocessing/prints\r\n",
      "/home/bio/tutorials/python/protein_functions/interproscan-read-only/core/business/src/test/java/uk/ac/ebi/interpro/scan/business/postprocessing/prints\r\n",
      "/home/bio/tutorials/python/protein_functions/interproscan-read-only/core/business/src/test/resources/testdata/prints_raw_to_pp.tsv\r\n",
      "/home/bio/tutorials/python/protein_functions/interproscan-read-only/core/business/src/test/resources/uk/ac/ebi/interpro/scan/business/postprocessing/prints\r\n",
      "/home/bio/tutorials/python/protein_functions/interproscan-read-only/core/io/src/main/java/uk/ac/ebi/interpro/scan/io/prints\r\n",
      "/home/bio/tutorials/python/protein_functions/interproscan-read-only/core/io/src/main/java/uk/ac/ebi/interpro/scan/io/match/prints\r\n",
      "/home/bio/tutorials/python/protein_functions/interproscan-read-only/core/io/src/test/java/uk/ac/ebi/interpro/scan/io/prints\r\n",
      "/home/bio/tutorials/python/protein_functions/interproscan-read-only/core/io/src/test/java/uk/ac/ebi/interpro/scan/io/match/prints\r\n",
      "/home/bio/tutorials/python/protein_functions/interproscan-read-only/core/io/src/test/resources/data/prints\r\n",
      "/home/bio/tutorials/python/protein_functions/interproscan-read-only/core/io/src/test/resources/data/prints/prints_10_only.kdat\r\n",
      "/home/bio/tutorials/python/protein_functions/interproscan-read-only/core/io/src/test/resources/data/prints/prints_10_only.pval\r\n",
      "/home/bio/tutorials/python/protein_functions/interproscan-read-only/core/jms-implementation/support-mini-x86-32/bin/prints\r\n",
      "/home/bio/tutorials/python/protein_functions/interproscan-read-only/core/jms-implementation/support-mini-x86-32/data/prints\r\n",
      "/home/bio/tutorials/python/protein_functions/interproscan-read-only/core/jms-implementation/support-mini-x86-32/data/prints/41.1/prints.pval\r\n",
      "/home/bio/tutorials/python/protein_functions/interproscan-read-only/core/jms-implementation/support-mini-x86-32/data/prints/41.1/prints41_1.kdat\r\n",
      "/home/bio/tutorials/python/protein_functions/interproscan-read-only/core/jms-implementation/support-mini-x86-32/data/prints/42.0/prints.pval\r\n",
      "/home/bio/tutorials/python/protein_functions/interproscan-read-only/core/jms-implementation/support-mini-x86-32/data/prints/42.0/prints42_0.kdat\r\n",
      "/home/bio/tutorials/python/protein_functions/interproscan-read-only/core/management/src/main/java/uk/ac/ebi/interpro/scan/management/model/implementations/prints\r\n",
      "/home/bio/tutorials/python/python-notebook/python/git_intro/plugin/print-pdf\r\n",
      "/home/bio/tutorials/python/python-notebook/python/git_intro/plugin/print-pdf/print-pdf.js\r\n",
      "/home/bio/tutorials/python/python-notebook/python/pcc/chapter_08/printing_models.py\r\n",
      "/home/bio/tutorials/python/stochastic_process/GPmat/ndlutil/printLatexOptions.m\r\n",
      "/home/bio/tutorials/python/stochastic_process/GPmat/ndlutil/printLatexPlot.m\r\n",
      "/home/bio/tutorials/python/stochastic_process/GPmat/ndlutil/printLatexText.m\r\n",
      "/home/bio/tutorials/python/stochastic_process/GPmat/ndlutil/printPlot.m\r\n",
      "/home/bio/tutorials/python/stochastic_process/ndlutil/printLatexOptions.m\r\n",
      "/home/bio/tutorials/python/stochastic_process/ndlutil/printLatexPlot.m\r\n",
      "/home/bio/tutorials/python/stochastic_process/ndlutil/printLatexText.m\r\n",
      "/home/bio/tutorials/python/stochastic_process/ndlutil/printPlot.m\r\n",
      "/home/bio/tutorials/python/stochastic_process/vargplvm/vargplvm/matlab/utils/printGlobalOptions.m\r\n",
      "/home/bio/tutorials/python/stochastic_process/vargplvm/vargplvmR/R/printPlot.R\r\n",
      "/home/bio/tutorials/python/stochastic_process/vargplvm/vargplvmR/man/printPlot.Rd\r\n",
      "/home/bio/tutorials/stat/survival/cmprsk/man/print.crr.Rd\r\n",
      "/home/bio/tutorials/stat/survival/cmprsk/man/print.cuminc.Rd\r\n",
      "/home/bio/tutorials/workshop/PPI/course_EMBO_at_TGAC_PPI_Sep2015/trainingMaterial/aidanBudd/commonFiles/dataFiles/1smd_vs_1bf2_blast2sequences_files/print.css\r\n",
      "/home/bio/tutorials/workshop/PPI/course_EMBO_at_TGAC_PPI_Sep2015/trainingMaterial/aidanBudd/commonFiles/dataFiles/1smd_vs_1bf2_needlemanWunsch_files/head_data/print_icon.gif\r\n",
      "/home/bio/tutorials/workshop/PPI/course_EMBO_at_TGAC_PPI_Sep2015/trainingMaterial/aidanBudd/commonFiles/dataFiles/1smd_vs_1bf2_smithWaterman_files/head_data/print_icon.gif\r\n",
      "/home/bio/tutorials/workshop/PPI/course_EMBO_at_TGAC_PPI_Sep2015/trainingMaterial/aidanBudd/commonFiles/dataFiles/5ptp_vs_1ton_blast2sequences_files/print.css\r\n",
      "/home/bio/tutorials/workshop/PPI/course_EMBO_at_TGAC_PPI_Sep2015/trainingMaterial/aidanBudd/commonFiles/staticVersionsOfRemotePages/2014_09_27_UniProt_G3QRR6_GORGO_gorilla_AdrenergicReceptor_files/print.css\r\n",
      "/home/bio/tutorials/workshop/PPI/course_EMBO_at_TGAC_PPI_Sep2015/trainingMaterial/aidanBudd/commonFiles/staticVersionsOfRemotePages/2014_09_27_UniProt_P07550_ADRB2Beta2AdrenergicReceptor_files/print.css\r\n",
      "/home/bio/tutorials/workshop/PPI/course_EMBO_at_TGAC_PPI_Sep2015/trainingMaterial/aidanBudd/commonFiles/staticVersionsOfRemotePages/uniprot_section_manual_in_Help_files/print.css\r\n",
      "/home/bio/tutorials/workshop/PPI/course_EMBO_at_TGAC_PPI_Sep2015/trainingMaterial/aidanBudd/commonFiles/toolResultsPages/cyr61_blast_resultPages/CYR61_HUMAN_default_SwissProt_ncbiBlast_100Seqs.cgi_files/print.css\r\n",
      "/home/bio/tutorials/workshop/PPI/course_EMBO_at_TGAC_PPI_Sep2015/trainingMaterial/aidanBudd/commonFiles/toolResultsPages/cyr61_blast_resultPages/CYR61_HUMAN_default_nr_ncbiBlast_100Seqs_files/print.css\r\n",
      "/home/bio/tutorials/workshop/PPI/course_EMBO_at_TGAC_PPI_Sep2015/trainingMaterial/aidanBudd/commonFiles/toolResultsPages/cyr61_blast_resultPages/CYR61_HUMAN_nr_ncbiBlast_orgnRestricted_250Seqs_files/print.css\r\n",
      "/home/bio/tutorials/workshop/PPI/course_EMBO_at_TGAC_PPI_Sep2015/trainingMaterial/aidanBudd/commonFiles/webpages/cox1_human_sp_lowCompFilter_NCBI_EvalFilter_E_1_5_files/print.css\r\n",
      "/home/bio/tutorials/workshop/PPI/course_EMBO_at_TGAC_PPI_Sep2015/trainingMaterial/aidanBudd/commonFiles/webpages/cox1_human_sp_lowCompFilter_NCBI_EvalFilter_NonMammalChordates_files/print.css\r\n",
      "/home/bio/tutorials/workshop/PPI/course_EMBO_at_TGAC_PPI_Sep2015/trainingMaterial/aidanBudd/commonFiles/webpages/cox1_human_sp_lowCompFilter_NCBI_files/print.css\r\n",
      "/home/bio/tutorials/workshop/datascience/SA2B/py_dev/print_colors.py\r\n",
      "/home/bio/tutorials/workshop/hadoop/hadoop-2.7.1-src/hadoop-common-project/hadoop-auth/target/site/css/print.css\r\n",
      "/home/bio/tutorials/workshop/hadoop/protobuf-2.5.0/src/printer.lo\r\n",
      "/home/bio/tutorials/workshop/hadoop/protobuf-2.5.0/src/printer.o\r\n",
      "/home/bio/tutorials/workshop/hadoop/protobuf-2.5.0/src/.deps/printer.Plo\r\n",
      "/home/bio/tutorials/workshop/hadoop/protobuf-2.5.0/src/.libs/printer.o\r\n",
      "/home/bio/tutorials/workshop/hadoop/protobuf-2.5.0/src/google/protobuf/io/printer.cc\r\n",
      "/home/bio/tutorials/workshop/hadoop/protobuf-2.5.0/src/google/protobuf/io/printer.h\r\n",
      "/home/bio/tutorials/workshop/hadoop/protobuf-2.5.0/src/google/protobuf/io/printer_unittest.cc\r\n",
      "/home/bio/tutorials/workshop/meta-analysis/tuma/man/printStats.Rd\r\n",
      "/home/bio/tutorials/workshop/rnaseq/tools/bam-readcount/vendor/boost-src/tools/build/v2/test/print.py\r\n",
      "/home/bio/tutorials/workshop/rnaseq/tools/bam-readcount/vendor/boost-src/tools/build/v2/util/print.jam\r\n",
      "/home/bio/tutorials/workshop/sparse+lowrank/lmfit-py/lmfit/printfuncs.py\r\n",
      "/lib/firmware/carl9170fw/carlfw/include/printf.h\r\n",
      "/lib/firmware/carl9170fw/carlfw/src/printf.c\r\n",
      "/opt/MATLAB/R2010b/extern/examples/compiler/printmatrix.m\r\n",
      "/opt/MATLAB/R2010b/help/techdoc/graphics_csh/printing\r\n",
      "/opt/MATLAB/R2010b/help/techdoc/graphics_csh/printing/printing.map\r\n",
      "/opt/MATLAB/R2010b/help/techdoc/graphics_csh/printing/printingindex.xml\r\n",
      "/opt/MATLAB/R2010b/help/techdoc/graphics_csh/printing/printingtoc.xml\r\n",
      "/opt/MATLAB/R2010b/sys/gs8x/ps_files/printafm.ps\r\n",
      "/opt/MATLAB/R2010b/sys/jade/docbook/print\r\n",
      "/opt/MATLAB/R2010b/sys/jade/docbook/contrib/print\r\n",
      "/opt/MATLAB/R2010b/toolbox/bioinfo/microarray/+bioma/+util/printOneLineMultiNames.m\r\n",
      "/opt/MATLAB/R2010b/toolbox/bioinfo/proteins/icons/print.gif\r\n",
      "/opt/MATLAB/R2010b/toolbox/compiler/deploy/printdlg.m\r\n",
      "/opt/MATLAB/R2010b/toolbox/compiler/mcr/compiler/printdlg.m\r\n",
      "/opt/MATLAB/R2010b/toolbox/compiler/mcr/matlab/graphics/print.m\r\n",
      "/opt/MATLAB/R2010b/toolbox/compiler/mcr/matlab/graphics/printdlg.m\r\n",
      "/opt/MATLAB/R2010b/toolbox/compiler/mcr/matlab/graphics/printdmfile.m\r\n",
      "/opt/MATLAB/R2010b/toolbox/compiler/mcr/matlab/graphics/printjob.m\r\n",
      "/opt/MATLAB/R2010b/toolbox/compiler/mcr/matlab/graphics/printprepare.m\r\n",
      "/opt/MATLAB/R2010b/toolbox/compiler/mcr/matlab/graphics/printpreview.m\r\n",
      "/opt/MATLAB/R2010b/toolbox/compiler/mcr/matlab/graphics/printrestore.m\r\n",
      "/opt/MATLAB/R2010b/toolbox/compiler/mcr/matlab/graphics/printtables.m\r\n",
      "/opt/MATLAB/R2010b/toolbox/compiler/mcr/matlab/graphics/printtemplate.m\r\n",
      "/opt/MATLAB/R2010b/toolbox/compiler/mcr/matlab/graphics/private/printtransform.m\r\n",
      "/opt/MATLAB/R2010b/toolbox/compiler/mcr/matlab/guide/private/printdmfile.m\r\n",
      "/opt/MATLAB/R2010b/toolbox/compiler/mcr/matlab/icons/printdoc.mat\r\n",
      "/opt/MATLAB/R2010b/toolbox/control/ctrlguis/@sisogui/@sisotool/print.m\r\n",
      "/opt/MATLAB/R2010b/toolbox/control/ctrlguis/@viewgui/@SisoToolViewer/printsetup.m\r\n",
      "/opt/MATLAB/R2010b/toolbox/control/ctrlguis/@viewgui/@ltiviewer/print.m\r\n",
      "/opt/MATLAB/R2010b/toolbox/control/ctrlguis/@viewgui/@ltiviewer/printsetup.m\r\n",
      "/opt/MATLAB/R2010b/toolbox/control/ctrlguis/@viewgui/@viewer/printsetup.m\r\n",
      "/opt/MATLAB/R2010b/toolbox/control/ctrlobsolete/printmat.m\r\n",
      "/opt/MATLAB/R2010b/toolbox/control/ctrlobsolete/printsys.m\r\n",
      "/opt/MATLAB/R2010b/toolbox/control/ctrlutil/printdamp.m\r\n",
      "/opt/MATLAB/R2010b/toolbox/hdlcoder/hdlcoder/@hdldefaults/@ThirdPartyBlackBox/printdatatype.p\r\n",
      "/opt/MATLAB/R2010b/toolbox/hdlcoder/hdlcoder/@hdldefaults/@XilinxBlackBoxHDLInstantiation/printdatatype.p\r\n",
      "/opt/MATLAB/R2010b/toolbox/hdlfilter/hdlfilter/@filterhdlcoder/@HDLTestbench/printFileLink.m\r\n",
      "/opt/MATLAB/R2010b/toolbox/hdlfilter/hdlfilter/@filterhdlcoder/@HDLTestbench/printFileLink.p\r\n",
      "/opt/MATLAB/R2010b/toolbox/images/imuitools/private/printImageToFigure.m\r\n",
      "/opt/MATLAB/R2010b/toolbox/local/printopt.m\r\n",
      "/opt/MATLAB/R2010b/toolbox/map/map/@MapViewer/@MapView/printMap.m\r\n",
      "/opt/MATLAB/R2010b/toolbox/matlab/graphics/print.m\r\n",
      "/opt/MATLAB/R2010b/toolbox/matlab/graphics/printdlg.m\r\n",
      "/opt/MATLAB/R2010b/toolbox/matlab/graphics/printdmfile.m\r\n",
      "/opt/MATLAB/R2010b/toolbox/matlab/graphics/printjob.m\r\n",
      "/opt/MATLAB/R2010b/toolbox/matlab/graphics/printprepare.m\r\n",
      "/opt/MATLAB/R2010b/toolbox/matlab/graphics/printpreview.m\r\n",
      "/opt/MATLAB/R2010b/toolbox/matlab/graphics/printrestore.m\r\n",
      "/opt/MATLAB/R2010b/toolbox/matlab/graphics/printtables.m\r\n",
      "/opt/MATLAB/R2010b/toolbox/matlab/graphics/printtemplate.m\r\n",
      "/opt/MATLAB/R2010b/toolbox/matlab/guide/private/printdmfile.m\r\n",
      "/opt/MATLAB/R2010b/toolbox/matlab/icons/printdoc.mat\r\n",
      "/opt/MATLAB/R2010b/toolbox/optim/optimdemos/printofficeassign.m\r\n",
      "/opt/MATLAB/R2010b/toolbox/rptgen/rptgendemos/print-verbose.rgs\r\n",
      "/opt/MATLAB/R2010b/toolbox/rtw/rtw/@RTW/@BuildInfo/printToFile.p\r\n",
      "/opt/MATLAB/R2010b/toolbox/shared/dastudio/depviewer/printDepViewer.m\r\n",
      "/opt/MATLAB/R2010b/toolbox/shared/dastudio/resources/print.gif\r\n",
      "/opt/MATLAB/R2010b/toolbox/shared/dastudio/resources/print.png\r\n",
      "/opt/MATLAB/R2010b/toolbox/shared/hdlshared/@hdlshared/@AbstractHDLTestBench/printFileLink.p\r\n",
      "/opt/MATLAB/R2010b/toolbox/shared/sigbldr/private/printCmd.p\r\n",
      "/opt/MATLAB/R2010b/toolbox/shared/sigbldr/private/printUD.p\r\n",
      "/opt/MATLAB/R2010b/toolbox/shared/spcuilib/@uimgr/@uigroup/private/printGroupInfoString.m\r\n",
      "/opt/MATLAB/R2010b/toolbox/signal/sigtools/@siggui/@winviewer/print.m\r\n",
      "/opt/MATLAB/R2010b/toolbox/signal/sigtools/@siggui/@winviewer/printpreview.m\r\n",
      "/opt/MATLAB/R2010b/toolbox/signal/sigtools/@sigresp/@analysisaxis/print.m\r\n",
      "/opt/MATLAB/R2010b/toolbox/signal/sigtools/@sigresp/@analysisaxis/printpreview.m\r\n",
      "/opt/MATLAB/R2010b/toolbox/signal/sigtools/@sigresp/@listboxanalysis/print.m\r\n",
      "/opt/MATLAB/R2010b/toolbox/signal/sigtools/@sigresp/@listboxanalysis/printpreview.m\r\n",
      "/opt/MATLAB/R2010b/toolbox/signal/sigtools/@sigtools/@sigfig/print.m\r\n",
      "/opt/MATLAB/R2010b/toolbox/signal/sigtools/@sigtools/@sigfig/printdlg.m\r\n",
      "/opt/MATLAB/R2010b/toolbox/signal/sigtools/@sigtools/@sigfig/printpreview.m\r\n",
      "/opt/MATLAB/R2010b/toolbox/signal/sptoolgui/printcomp.m\r\n",
      "/opt/MATLAB/R2010b/toolbox/simbio/simbio/private/printfiguretofile.p\r\n",
      "/opt/MATLAB/R2010b/toolbox/simulink/simulink/+Simulink/+exportCS/@ExportToM/print.m\r\n",
      "/opt/MATLAB/R2010b/toolbox/simulink/simulink/+Simulink/+exportCS/@ExportToM/print.p\r\n",
      "/opt/MATLAB/R2010b/toolbox/simulink/simulink/+Simulink/+exportCS/@ExportToM/printToBridge.m\r\n",
      "/opt/MATLAB/R2010b/toolbox/simulink/simulink/+Simulink/+exportCS/@ExportToM/printToBridge.p\r\n",
      "/opt/MATLAB/R2010b/toolbox/simulink/simulink/@Simulink/@SampleTimeLegend/printLegend.p\r\n",
      "/opt/MATLAB/R2010b/toolbox/simulink/simulink/private/printtext.p\r\n",
      "/opt/MATLAB/R2010b/toolbox/simulink/simulink/private/printtext2.p\r\n",
      "/opt/MATLAB/R2010b/toolbox/slcontrol/slctrlguis/@frestviews/@SimviewPlot/print.m\r\n",
      "/opt/MATLAB/R2010b/toolbox/sldv/sldv/+Sldv/+xform/@MdlHierAnalyzer/printResults.m\r\n",
      "/opt/MATLAB/R2010b/toolbox/stateflow/stateflow/private/print_btn.mat\r\n",
      "/opt/MATLAB/R2010b/toolbox/stateflow/stateflow/private/print_html_str.m\r\n",
      "/opt/kingsoft/wps-office/office6/mui/default/config/printpaper.cfg\r\n",
      "/opt/kingsoft/wps-office/office6/mui/zh_CN/config/printpaper.cfg\r\n",
      "/opt/kingsoft/wps-office/office6/mui/zh_CN/templates/wps/daily life/printing edition of manuscript paper.wpt\r\n",
      "/opt/rstudio-tools/boost/boost_1_50_0/include/boost/mpl/print.hpp\r\n",
      "/usr/bin/print\r\n",
      "/usr/bin/printafm\r\n",
      "/usr/bin/printenv\r\n",
      "/usr/bin/printer-profile\r\n",
      "/usr/bin/printerbanner\r\n",
      "/usr/bin/printf\r\n",
      "/usr/bin/printjob\r\n",
      "/usr/bin/printserverdb\r\n",
      "/usr/bin/printsextract\r\n",
      "/usr/bin/printtracking\r\n",
      "/usr/include/printf.h\r\n",
      "/usr/include/boost/geometry/index/detail/rtree/utilities/print.hpp\r\n",
      "/usr/include/boost/mpl/print.hpp\r\n",
      "/usr/include/ggobi/print.h\r\n",
      "/usr/include/google/protobuf/io/printer.h\r\n",
      "/usr/include/x86_64-linux-gnu/bits/printf-ldbl.h\r\n",
      "/usr/lib/R/site-library/RGtk2/demo/printing.R\r\n",
      "/usr/lib/R/site-library/Rcpp/include/Rcpp/print.h\r\n",
      "/usr/lib/cups/cgi-bin/printers.cgi\r\n",
      "/usr/lib/emboss/printsextract\r\n",
      "/usr/lib/erlang/lib/inets-5.9.7/examples/server_root/cgi-bin/printenv.sh\r\n",
      "/usr/lib/fastdnaml/bin/printdata\r\n",
      "/usr/lib/galaxy-server/eggs/Paste-1.7.5.1-py2.7.egg/paste/debug/prints.py\r\n",
      "/usr/lib/galaxy-server/eggs/Paste-1.7.5.1-py2.7.egg/paste/debug/prints.pyc\r\n",
      "/usr/lib/galaxy-server/eggs/docutils-0.7-py2.7.egg/docutils/writers/s5_html/themes/default/print.css\r\n",
      "/usr/lib/galaxy-server/eggs/numpy-1.6.0-py2.7-linux-x86_64-ucs4.egg/numpy/testing/print_coercion_tables.py\r\n",
      "/usr/lib/galaxy-server/eggs/numpy-1.6.0-py2.7-linux-x86_64-ucs4.egg/numpy/testing/print_coercion_tables.pyc\r\n",
      "/usr/lib/gimp/2.0/plug-ins/print\r\n",
      "/usr/lib/i386-linux-gnu/gtk-2.0/2.10.0/printbackends\r\n",
      "/usr/lib/i386-linux-gnu/wine/printui.dll.so\r\n",
      "/usr/lib/i386-linux-gnu/wine/fakedlls/printui.dll\r\n",
      "/usr/lib/libreoffice/share/config/soffice.cfg/modules/scalc/ui/printareasdialog.ui\r\n",
      "/usr/lib/libreoffice/share/config/soffice.cfg/modules/scalc/ui/printeroptions.ui\r\n",
      "/usr/lib/libreoffice/share/config/soffice.cfg/modules/sdraw/ui/printeroptions.ui\r\n",
      "/usr/lib/libreoffice/share/config/soffice.cfg/modules/simpress/ui/printeroptions.ui\r\n",
      "/usr/lib/libreoffice/share/config/soffice.cfg/modules/smath/ui/printeroptions.ui\r\n",
      "/usr/lib/libreoffice/share/config/soffice.cfg/modules/swriter/ui/printeroptions.ui\r\n",
      "/usr/lib/libreoffice/share/config/soffice.cfg/modules/swriter/ui/printmonitordialog.ui\r\n",
      "/usr/lib/libreoffice/share/config/soffice.cfg/modules/swriter/ui/printoptionspage.ui\r\n",
      "/usr/lib/libreoffice/share/config/soffice.cfg/sfx/ui/printeroptionsdialog.ui\r\n",
      "/usr/lib/libreoffice/share/config/soffice.cfg/spa/ui/printerdevicepage.ui\r\n",
      "/usr/lib/libreoffice/share/config/soffice.cfg/spa/ui/printerpaperpage.ui\r\n",
      "/usr/lib/libreoffice/share/config/soffice.cfg/spa/ui/printerpropertiesdialog.ui\r\n",
      "/usr/lib/libreoffice/share/config/soffice.cfg/svt/ui/printersetupdialog.ui\r\n",
      "/usr/lib/libreoffice/share/config/soffice.cfg/vcl/ui/printdialog.ui\r\n",
      "/usr/lib/openmpi/include/openmpi/opal/util/printf.h\r\n",
      "/usr/lib/python2.7/dist-packages/cvxopt/printing.py\r\n",
      "/usr/lib/python2.7/dist-packages/cvxopt/printing.pyc\r\n",
      "/usr/lib/python2.7/dist-packages/numpy/testing/print_coercion_tables.py\r\n",
      "/usr/lib/python2.7/dist-packages/numpy/testing/print_coercion_tables.pyc\r\n",
      "/usr/lib/python2.7/dist-packages/pandas/util/print_versions.py\r\n",
      "/usr/lib/python2.7/dist-packages/pandas/util/print_versions.pyc\r\n",
      "/usr/lib/python2.7/dist-packages/statsmodels/tools/print_version.py\r\n",
      "/usr/lib/python2.7/dist-packages/statsmodels/tools/print_version.pyc\r\n",
      "/usr/lib/python2.7/dist-packages/wx-2.8-gtk2-unicode/wx/lib/printout.py\r\n",
      "/usr/lib/python2.7/dist-packages/wx-2.8-gtk2-unicode/wx/lib/printout.pyc\r\n",
      "/usr/lib/python2.7/dist-packages/wx-2.8-gtk2-unicode/wxPython/lib/printout.py\r\n",
      "/usr/lib/python2.7/dist-packages/wx-2.8-gtk2-unicode/wxPython/lib/printout.pyc\r\n",
      "/usr/lib/python3/dist-packages/gnome_sudoku/printing.py\r\n",
      "/usr/lib/python3/dist-packages/gnome_sudoku/__pycache__/printing.cpython-34.pyc\r\n",
      "/usr/lib/qiime/bin/print_metadata_stats.py\r\n",
      "/usr/lib/qiime/bin/print_metadata_stats.pyc\r\n",
      "/usr/lib/qiime/bin/print_qiime_config.py\r\n",
      "/usr/lib/qiime/bin/print_qiime_config.pyc\r\n",
      "/usr/lib/qiime/bin/print_qiime_config_all\r\n",
      "/usr/lib/rstudio/resources/presentation/revealjs/css/print\r\n",
      "/usr/lib/unity-settings-daemon-1.0/print-notifications.gnome-settings-plugin\r\n",
      "/usr/lib/x86_64-linux-gnu/freerdp/printer.so\r\n",
      "/usr/lib/x86_64-linux-gnu/gtk-2.0/2.10.0/printbackends\r\n",
      "/usr/lib/x86_64-linux-gnu/gtk-3.0/3.0.0/printbackends\r\n",
      "/usr/lib/x86_64-linux-gnu/gutenprint/5.2/modules/print-canon.la\r\n",
      "/usr/lib/x86_64-linux-gnu/gutenprint/5.2/modules/print-canon.so\r\n",
      "/usr/lib/x86_64-linux-gnu/gutenprint/5.2/modules/print-dyesub.la\r\n",
      "/usr/lib/x86_64-linux-gnu/gutenprint/5.2/modules/print-dyesub.so\r\n",
      "/usr/lib/x86_64-linux-gnu/gutenprint/5.2/modules/print-escp2.la\r\n",
      "/usr/lib/x86_64-linux-gnu/gutenprint/5.2/modules/print-escp2.so\r\n",
      "/usr/lib/x86_64-linux-gnu/gutenprint/5.2/modules/print-lexmark.la\r\n",
      "/usr/lib/x86_64-linux-gnu/gutenprint/5.2/modules/print-lexmark.so\r\n",
      "/usr/lib/x86_64-linux-gnu/gutenprint/5.2/modules/print-pcl.la\r\n",
      "/usr/lib/x86_64-linux-gnu/gutenprint/5.2/modules/print-pcl.so\r\n",
      "/usr/lib/x86_64-linux-gnu/gutenprint/5.2/modules/print-ps.la\r\n",
      "/usr/lib/x86_64-linux-gnu/gutenprint/5.2/modules/print-ps.so\r\n",
      "/usr/lib/x86_64-linux-gnu/gutenprint/5.2/modules/print-raw.la\r\n",
      "/usr/lib/x86_64-linux-gnu/gutenprint/5.2/modules/print-raw.so\r\n",
      "/usr/lib/x86_64-linux-gnu/qt5/plugins/printsupport\r\n",
      "/usr/lib/x86_64-linux-gnu/wine/printui.dll.so\r\n",
      "/usr/lib/x86_64-linux-gnu/wine/fakedlls/printui.dll\r\n",
      "/usr/local/anaconda2/lib/python2.7/site-packages/IPython/core/tests/print_argv.py\r\n",
      "/usr/local/anaconda2/lib/python2.7/site-packages/IPython/core/tests/print_argv.pyc\r\n",
      "/usr/local/anaconda2/lib/python2.7/site-packages/Sphinx-1.3.1-py2.7.egg/sphinx/themes/scrolls/static/print.css\r\n",
      "/usr/local/anaconda2/lib/python2.7/site-packages/astropy/vo/validator/tests/data/printcat.out\r\n",
      "/usr/local/anaconda2/lib/python2.7/site-packages/clyent/logs/colors/printer.py\r\n",
      "/usr/local/anaconda2/lib/python2.7/site-packages/clyent/logs/colors/printer.pyc\r\n",
      "/usr/local/anaconda2/lib/python2.7/site-packages/cvxopt/printing.py\r\n",
      "/usr/local/anaconda2/lib/python2.7/site-packages/cvxopt/printing.pyc\r\n",
      "/usr/local/anaconda2/lib/python2.7/site-packages/docutils/writers/s5_html/themes/default/print.css\r\n",
      "/usr/local/anaconda2/lib/python2.7/site-packages/ipywidgets/tests/bin/printer.js\r\n",
      "/usr/local/anaconda2/lib/python2.7/site-packages/numba/cuda/printimpl.py\r\n",
      "/usr/local/anaconda2/lib/python2.7/site-packages/numba/cuda/printimpl.pyc\r\n",
      "/usr/local/anaconda2/lib/python2.7/site-packages/numba/targets/printimpl.py\r\n",
      "/usr/local/anaconda2/lib/python2.7/site-packages/numba/targets/printimpl.pyc\r\n",
      "/usr/local/anaconda2/lib/python2.7/site-packages/numpy/testing/print_coercion_tables.py\r\n",
      "/usr/local/anaconda2/lib/python2.7/site-packages/numpy/testing/print_coercion_tables.pyc\r\n",
      "/usr/local/anaconda2/lib/python2.7/site-packages/pandas/util/print_versions.py\r\n",
      "/usr/local/anaconda2/lib/python2.7/site-packages/pandas/util/print_versions.pyc\r\n",
      "/usr/local/anaconda2/lib/python2.7/site-packages/scipy/weave/examples/print_example.py\r\n",
      "/usr/local/anaconda2/lib/python2.7/site-packages/scipy/weave/examples/print_example.pyc\r\n",
      "/usr/local/anaconda2/lib/python2.7/site-packages/spyderlib/images/file/print.png\r\n",
      "/usr/local/anaconda2/lib/python2.7/site-packages/statsmodels/tools/print_version.py\r\n",
      "/usr/local/anaconda2/lib/python2.7/site-packages/statsmodels/tools/print_version.pyc\r\n",
      "/usr/local/anaconda2/lib/python2.7/site-packages/sympy/printing\r\n",
      "/usr/local/anaconda2/lib/python2.7/site-packages/sympy/galgebra/printing.py\r\n",
      "/usr/local/anaconda2/lib/python2.7/site-packages/sympy/galgebra/printing.pyc\r\n",
      "/usr/local/anaconda2/lib/python2.7/site-packages/sympy/interactive/printing.py\r\n",
      "/usr/local/anaconda2/lib/python2.7/site-packages/sympy/interactive/printing.pyc\r\n",
      "/usr/local/anaconda2/lib/python2.7/site-packages/sympy/physics/vector/printing.py\r\n",
      "/usr/local/anaconda2/lib/python2.7/site-packages/sympy/physics/vector/printing.pyc\r\n",
      "/usr/local/anaconda2/lib/python2.7/site-packages/sympy/printing/printer.py\r\n",
      "/usr/local/anaconda2/lib/python2.7/site-packages/sympy/printing/printer.pyc\r\n",
      "/usr/local/anaconda2/lib/python2.7/site-packages/theano/printing.py\r\n",
      "/usr/local/anaconda2/lib/python2.7/site-packages/theano/printing.pyc\r\n",
      "/usr/local/anaconda2/pkgs/astropy-1.0.5-np110py27_1/lib/python2.7/site-packages/astropy/vo/validator/tests/data/printcat.out\r\n",
      "/usr/local/anaconda2/pkgs/clyent-0.4.0-py27_0/lib/python2.7/site-packages/clyent/logs/colors/printer.py\r\n",
      "/usr/local/anaconda2/pkgs/clyent-0.4.0-py27_0/lib/python2.7/site-packages/clyent/logs/colors/printer.pyc\r\n",
      "/usr/local/anaconda2/pkgs/cvxopt-1.1.8-py27_0/lib/python2.7/site-packages/cvxopt/printing.py\r\n",
      "/usr/local/anaconda2/pkgs/cvxopt-1.1.8-py27_0/lib/python2.7/site-packages/cvxopt/printing.pyc\r\n",
      "/usr/local/anaconda2/pkgs/docutils-0.12-py27_0/lib/python2.7/site-packages/docutils/writers/s5_html/themes/default/print.css\r\n",
      "/usr/local/anaconda2/pkgs/ipython-4.0.0-py27_0/lib/python2.7/site-packages/IPython/core/tests/print_argv.py\r\n",
      "/usr/local/anaconda2/pkgs/ipython-4.0.0-py27_0/lib/python2.7/site-packages/IPython/core/tests/print_argv.pyc\r\n",
      "/usr/local/anaconda2/pkgs/ipywidgets-4.1.0-py27_0/lib/python2.7/site-packages/ipywidgets/tests/bin/printer.js\r\n",
      "/usr/local/anaconda2/pkgs/numba-0.21.0-np110py27_0/lib/python2.7/site-packages/numba/cuda/printimpl.py\r\n",
      "/usr/local/anaconda2/pkgs/numba-0.21.0-np110py27_0/lib/python2.7/site-packages/numba/cuda/printimpl.pyc\r\n",
      "/usr/local/anaconda2/pkgs/numba-0.21.0-np110py27_0/lib/python2.7/site-packages/numba/targets/printimpl.py\r\n",
      "/usr/local/anaconda2/pkgs/numba-0.21.0-np110py27_0/lib/python2.7/site-packages/numba/targets/printimpl.pyc\r\n",
      "/usr/local/anaconda2/pkgs/numpy-1.10.1-py27_0/lib/python2.7/site-packages/numpy/testing/print_coercion_tables.py\r\n",
      "/usr/local/anaconda2/pkgs/numpy-1.10.1-py27_0/lib/python2.7/site-packages/numpy/testing/print_coercion_tables.pyc\r\n",
      "/usr/local/anaconda2/pkgs/numpy-1.10.2-py27_0/lib/python2.7/site-packages/numpy/testing/print_coercion_tables.py\r\n",
      "/usr/local/anaconda2/pkgs/numpy-1.10.2-py27_0/lib/python2.7/site-packages/numpy/testing/print_coercion_tables.pyc\r\n",
      "/usr/local/anaconda2/pkgs/pandas-0.17.0-np110py27_0/lib/python2.7/site-packages/pandas/util/print_versions.py\r\n",
      "/usr/local/anaconda2/pkgs/pandas-0.17.0-np110py27_0/lib/python2.7/site-packages/pandas/util/print_versions.pyc\r\n",
      "/usr/local/anaconda2/pkgs/pandas-0.17.1-np110py27_0/lib/python2.7/site-packages/pandas/util/print_versions.py\r\n",
      "/usr/local/anaconda2/pkgs/pandas-0.17.1-np110py27_0/lib/python2.7/site-packages/pandas/util/print_versions.pyc\r\n",
      "/usr/local/anaconda2/pkgs/scipy-0.16.0-np110py27_1/lib/python2.7/site-packages/scipy/weave/examples/print_example.py\r\n",
      "/usr/local/anaconda2/pkgs/scipy-0.16.0-np110py27_1/lib/python2.7/site-packages/scipy/weave/examples/print_example.pyc\r\n",
      "/usr/local/anaconda2/pkgs/scipy-0.16.1-np110py27_0/lib/python2.7/site-packages/scipy/weave/examples/print_example.py\r\n",
      "/usr/local/anaconda2/pkgs/scipy-0.16.1-np110py27_0/lib/python2.7/site-packages/scipy/weave/examples/print_example.pyc\r\n",
      "/usr/local/anaconda2/pkgs/sphinx-1.3.1-py27_0/lib/python2.7/site-packages/Sphinx-1.3.1-py2.7.egg/sphinx/themes/scrolls/static/print.css\r\n",
      "/usr/local/anaconda2/pkgs/spyder-2.3.7-py27_1/lib/python2.7/site-packages/spyderlib/images/file/print.png\r\n",
      "/usr/local/anaconda2/pkgs/statsmodels-0.6.1-np110py27_0/lib/python2.7/site-packages/statsmodels/tools/print_version.py\r\n",
      "/usr/local/anaconda2/pkgs/statsmodels-0.6.1-np110py27_0/lib/python2.7/site-packages/statsmodels/tools/print_version.pyc\r\n",
      "/usr/local/anaconda2/pkgs/sympy-0.7.6.1-py27_0/lib/python2.7/site-packages/sympy/printing\r\n",
      "/usr/local/anaconda2/pkgs/sympy-0.7.6.1-py27_0/lib/python2.7/site-packages/sympy/galgebra/printing.py\r\n",
      "/usr/local/anaconda2/pkgs/sympy-0.7.6.1-py27_0/lib/python2.7/site-packages/sympy/galgebra/printing.pyc\r\n",
      "/usr/local/anaconda2/pkgs/sympy-0.7.6.1-py27_0/lib/python2.7/site-packages/sympy/interactive/printing.py\r\n",
      "/usr/local/anaconda2/pkgs/sympy-0.7.6.1-py27_0/lib/python2.7/site-packages/sympy/interactive/printing.pyc\r\n",
      "/usr/local/anaconda2/pkgs/sympy-0.7.6.1-py27_0/lib/python2.7/site-packages/sympy/physics/vector/printing.py\r\n",
      "/usr/local/anaconda2/pkgs/sympy-0.7.6.1-py27_0/lib/python2.7/site-packages/sympy/physics/vector/printing.pyc\r\n",
      "/usr/local/anaconda2/pkgs/sympy-0.7.6.1-py27_0/lib/python2.7/site-packages/sympy/printing/printer.py\r\n",
      "/usr/local/anaconda2/pkgs/sympy-0.7.6.1-py27_0/lib/python2.7/site-packages/sympy/printing/printer.pyc\r\n",
      "/usr/local/anaconda2/pkgs/theano-0.7.0-np110py27_0/lib/python2.7/site-packages/theano/printing.py\r\n",
      "/usr/local/anaconda2/pkgs/theano-0.7.0-np110py27_0/lib/python2.7/site-packages/theano/printing.pyc\r\n",
      "/usr/local/bioinf/fasta/fasta-36.2.5/src/print_pssm.c\r\n",
      "/usr/local/gradle/docs/dsl/print.css\r\n",
      "/usr/local/gradle/docs/userguide/print.css\r\n",
      "/usr/local/hadoop/share/doc/hadoop/css/print.css\r\n",
      "/usr/local/hadoop/share/doc/hadoop/hadoop-annotations/css/print.css\r\n",
      "/usr/local/hadoop/share/doc/hadoop/hadoop-ant/css/print.css\r\n",
      "/usr/local/hadoop/share/doc/hadoop/hadoop-archives/css/print.css\r\n",
      "/usr/local/hadoop/share/doc/hadoop/hadoop-assemblies/css/print.css\r\n",
      "/usr/local/hadoop/share/doc/hadoop/hadoop-auth/css/print.css\r\n",
      "/usr/local/hadoop/share/doc/hadoop/hadoop-auth-examples/css/print.css\r\n",
      "/usr/local/hadoop/share/doc/hadoop/hadoop-aws/css/print.css\r\n",
      "/usr/local/hadoop/share/doc/hadoop/hadoop-azure/css/print.css\r\n",
      "/usr/local/hadoop/share/doc/hadoop/hadoop-common-project/css/print.css\r\n",
      "/usr/local/hadoop/share/doc/hadoop/hadoop-datajoin/css/print.css\r\n",
      "/usr/local/hadoop/share/doc/hadoop/hadoop-dist/css/print.css\r\n",
      "/usr/local/hadoop/share/doc/hadoop/hadoop-distcp/css/print.css\r\n",
      "/usr/local/hadoop/share/doc/hadoop/hadoop-extras/css/print.css\r\n",
      "/usr/local/hadoop/share/doc/hadoop/hadoop-gridmix/css/print.css\r\n",
      "/usr/local/hadoop/share/doc/hadoop/hadoop-hdfs-bkjournal/css/print.css\r\n",
      "/usr/local/hadoop/share/doc/hadoop/hadoop-hdfs-httpfs/css/print.css\r\n",
      "/usr/local/hadoop/share/doc/hadoop/hadoop-hdfs-nfs/css/print.css\r\n",
      "/usr/local/hadoop/share/doc/hadoop/hadoop-hdfs-project/css/print.css\r\n",
      "/usr/local/hadoop/share/doc/hadoop/hadoop-kms/css/print.css\r\n",
      "/usr/local/hadoop/share/doc/hadoop/hadoop-mapreduce/css/print.css\r\n",
      "/usr/local/hadoop/share/doc/hadoop/hadoop-mapreduce-client/css/print.css\r\n",
      "/usr/local/hadoop/share/doc/hadoop/hadoop-mapreduce-client/hadoop-mapreduce-client-app/css/print.css\r\n",
      "/usr/local/hadoop/share/doc/hadoop/hadoop-mapreduce-client/hadoop-mapreduce-client-common/css/print.css\r\n",
      "/usr/local/hadoop/share/doc/hadoop/hadoop-mapreduce-client/hadoop-mapreduce-client-core/css/print.css\r\n",
      "/usr/local/hadoop/share/doc/hadoop/hadoop-mapreduce-client/hadoop-mapreduce-client-hs/css/print.css\r\n",
      "/usr/local/hadoop/share/doc/hadoop/hadoop-mapreduce-client/hadoop-mapreduce-client-hs-plugins/css/print.css\r\n",
      "/usr/local/hadoop/share/doc/hadoop/hadoop-mapreduce-client/hadoop-mapreduce-client-jobclient/css/print.css\r\n",
      "/usr/local/hadoop/share/doc/hadoop/hadoop-mapreduce-client/hadoop-mapreduce-client-shuffle/css/print.css\r\n",
      "/usr/local/hadoop/share/doc/hadoop/hadoop-mapreduce-examples/css/print.css\r\n",
      "/usr/local/hadoop/share/doc/hadoop/hadoop-maven-plugins/css/print.css\r\n",
      "/usr/local/hadoop/share/doc/hadoop/hadoop-minicluster/css/print.css\r\n",
      "/usr/local/hadoop/share/doc/hadoop/hadoop-minikdc/css/print.css\r\n",
      "/usr/local/hadoop/share/doc/hadoop/hadoop-nfs/css/print.css\r\n",
      "/usr/local/hadoop/share/doc/hadoop/hadoop-openstack/css/print.css\r\n",
      "/usr/local/hadoop/share/doc/hadoop/hadoop-pipes/css/print.css\r\n",
      "/usr/local/hadoop/share/doc/hadoop/hadoop-project-dist/css/print.css\r\n",
      "/usr/local/hadoop/share/doc/hadoop/hadoop-project-dist/hadoop-client/css/print.css\r\n",
      "/usr/local/hadoop/share/doc/hadoop/hadoop-project-dist/hadoop-common/css/print.css\r\n",
      "/usr/local/hadoop/share/doc/hadoop/hadoop-project-dist/hadoop-hdfs/css/print.css\r\n",
      "/usr/local/hadoop/share/doc/hadoop/hadoop-project-dist/hadoop-tools-dist/css/print.css\r\n",
      "/usr/local/hadoop/share/doc/hadoop/hadoop-rumen/css/print.css\r\n",
      "/usr/local/hadoop/share/doc/hadoop/hadoop-sls/css/print.css\r\n",
      "/usr/local/hadoop/share/doc/hadoop/hadoop-streaming/css/print.css\r\n",
      "/usr/local/hadoop/share/doc/hadoop/hadoop-tools/css/print.css\r\n",
      "/usr/local/hadoop/share/doc/hadoop/hadoop-yarn/css/print.css\r\n",
      "/usr/local/hadoop/share/doc/hadoop/hadoop-yarn/hadoop-yarn-api/css/print.css\r\n",
      "/usr/local/hadoop/share/doc/hadoop/hadoop-yarn/hadoop-yarn-applications/css/print.css\r\n",
      "/usr/local/hadoop/share/doc/hadoop/hadoop-yarn/hadoop-yarn-applications/hadoop-yarn-applications-distributedshell/css/print.css\r\n",
      "/usr/local/hadoop/share/doc/hadoop/hadoop-yarn/hadoop-yarn-applications/hadoop-yarn-applications-unmanaged-am-launcher/css/print.css\r\n",
      "/usr/local/hadoop/share/doc/hadoop/hadoop-yarn/hadoop-yarn-client/css/print.css\r\n",
      "/usr/local/hadoop/share/doc/hadoop/hadoop-yarn/hadoop-yarn-common/css/print.css\r\n",
      "/usr/local/hadoop/share/doc/hadoop/hadoop-yarn/hadoop-yarn-registry/css/print.css\r\n",
      "/usr/local/hadoop/share/doc/hadoop/hadoop-yarn/hadoop-yarn-server/css/print.css\r\n",
      "/usr/local/hadoop/share/doc/hadoop/hadoop-yarn/hadoop-yarn-server/hadoop-yarn-server-applicationhistoryservice/css/print.css\r\n",
      "/usr/local/hadoop/share/doc/hadoop/hadoop-yarn/hadoop-yarn-server/hadoop-yarn-server-common/css/print.css\r\n",
      "/usr/local/hadoop/share/doc/hadoop/hadoop-yarn/hadoop-yarn-server/hadoop-yarn-server-nodemanager/css/print.css\r\n",
      "/usr/local/hadoop/share/doc/hadoop/hadoop-yarn/hadoop-yarn-server/hadoop-yarn-server-resourcemanager/css/print.css\r\n",
      "/usr/local/hadoop/share/doc/hadoop/hadoop-yarn/hadoop-yarn-server/hadoop-yarn-server-sharedcachemanager/css/print.css\r\n",
      "/usr/local/hadoop/share/doc/hadoop/hadoop-yarn/hadoop-yarn-server/hadoop-yarn-server-tests/css/print.css\r\n",
      "/usr/local/hadoop/share/doc/hadoop/hadoop-yarn/hadoop-yarn-server/hadoop-yarn-server-web-proxy/css/print.css\r\n",
      "/usr/local/hadoop/share/doc/hadoop/hadoop-yarn/hadoop-yarn-site/css/print.css\r\n",
      "/usr/local/hadoop/share/doc/hadoop/hadoop-yarn-project/css/print.css\r\n",
      "/usr/local/include/google/protobuf/io/printer.h\r\n",
      "/usr/local/lib/python2.7/dist-packages/IPython/core/tests/print_argv.py\r\n",
      "/usr/local/lib/python2.7/dist-packages/IPython/core/tests/print_argv.pyc\r\n",
      "/usr/local/lib/python2.7/dist-packages/Theano-0.7.0-py2.7.egg/theano/printing.py\r\n",
      "/usr/local/lib/python2.7/dist-packages/Theano-0.7.0-py2.7.egg/theano/printing.pyc\r\n",
      "/usr/local/lib/python2.7/dist-packages/docutils/writers/s5_html/themes/default/print.css\r\n",
      "/usr/local/lib/python2.7/dist-packages/sphinx/themes/scrolls/static/print.css\r\n",
      "/usr/local/lib/python2.7/dist-packages/sympy/printing\r\n",
      "/usr/local/lib/python2.7/dist-packages/sympy/galgebra/printing.py\r\n",
      "/usr/local/lib/python2.7/dist-packages/sympy/galgebra/printing.pyc\r\n",
      "/usr/local/lib/python2.7/dist-packages/sympy/interactive/printing.py\r\n",
      "/usr/local/lib/python2.7/dist-packages/sympy/interactive/printing.pyc\r\n",
      "/usr/local/lib/python2.7/dist-packages/sympy/physics/vector/printing.py\r\n",
      "/usr/local/lib/python2.7/dist-packages/sympy/physics/vector/printing.pyc\r\n",
      "/usr/local/lib/python2.7/dist-packages/sympy/printing/printer.py\r\n",
      "/usr/local/lib/python2.7/dist-packages/sympy/printing/printer.pyc\r\n",
      "/usr/local/lib/python3.4/dist-packages/IPython/core/tests/print_argv.py\r\n",
      "/usr/local/lib/python3.4/dist-packages/IPython/core/tests/__pycache__/print_argv.cpython-34.pyc\r\n",
      "/usr/local/lib/python3.4/dist-packages/Theano-0.7.0-py3.4.egg/theano/printing.py\r\n",
      "/usr/local/lib/python3.4/dist-packages/Theano-0.7.0-py3.4.egg/theano/__pycache__/printing.cpython-34.pyc\r\n",
      "/usr/local/lib/python3.4/dist-packages/sympy/printing\r\n",
      "/usr/local/lib/python3.4/dist-packages/sympy/galgebra/printing.py\r\n",
      "/usr/local/lib/python3.4/dist-packages/sympy/galgebra/__pycache__/printing.cpython-34.pyc\r\n",
      "/usr/local/lib/python3.4/dist-packages/sympy/interactive/printing.py\r\n",
      "/usr/local/lib/python3.4/dist-packages/sympy/interactive/__pycache__/printing.cpython-34.pyc\r\n",
      "/usr/local/lib/python3.4/dist-packages/sympy/physics/vector/printing.py\r\n",
      "/usr/local/lib/python3.4/dist-packages/sympy/physics/vector/__pycache__/printing.cpython-34.pyc\r\n",
      "/usr/local/lib/python3.4/dist-packages/sympy/printing/printer.py\r\n",
      "/usr/local/lib/python3.4/dist-packages/sympy/printing/__pycache__/printer.cpython-34.pyc\r\n",
      "/usr/local/share/khmer/sandbox/print-exact-abund-kmer.py\r\n",
      "/usr/local/share/khmer/sandbox/print-high-density-kmers.py\r\n",
      "/usr/local/share/khmer/sandbox/print-stoptags.py\r\n",
      "/usr/local/share/khmer/sandbox/print-tagset.py\r\n",
      "/usr/share/EMBOSS/acd/printsextract.acd\r\n",
      "/usr/share/EMBOSS/data/PRINTS/prints.mat\r\n",
      "/usr/share/EMBOSS/doc/programs/html/printsextract.html\r\n",
      "/usr/share/EMBOSS/doc/programs/text/printsextract.txt\r\n",
      "/usr/share/aclocal/printf-posix.m4\r\n",
      "/usr/share/app-install/desktop/printer-driver-foo2zjs-common:hplj1020.desktop\r\n",
      "/usr/share/app-install/icons/printer.svg\r\n",
      "/usr/share/arb/motifHack/pixmaps/print\r\n",
      "/usr/share/arb/pictures/awt/print.fig\r\n",
      "/usr/share/arb/pixmaps/print\r\n",
      "/usr/share/boost-build/util/print.jam\r\n",
      "/usr/share/bug/printer-driver-hpcups\r\n",
      "/usr/share/colord/ti1/printer-long.ti1\r\n",
      "/usr/share/colord/ti1/printer-normal.ti1\r\n",
      "/usr/share/colord/ti1/printer-short.ti1\r\n",
      "/usr/share/cups/ipptool/print-job-deflate.test\r\n",
      "/usr/share/cups/ipptool/print-job-gzip.test\r\n",
      "/usr/share/cups/ipptool/print-job.test\r\n",
      "/usr/share/cups/ppd-updaters/printer-driver-c2esp.ppd-updater\r\n",
      "/usr/share/cups/ppd-updaters/printer-driver-foo2zjs-common.ppd-updater\r\n",
      "/usr/share/cups/ppd-updaters/printer-driver-gutenprint.ppd-updater\r\n",
      "/usr/share/cups/ppd-updaters/printer-driver-hpcups.ppd-updater\r\n",
      "/usr/share/cups/ppd-updaters/printer-driver-postscript-hp.ppd-updater\r\n",
      "/usr/share/cups/ppd-updaters/printer-driver-ptouch.ppd-updater\r\n",
      "/usr/share/cups/ppd-updaters/printer-driver-pxljr.ppd-updater\r\n",
      "/usr/share/cups/ppd-updaters/printer-driver-sag-gdi.ppd-updater\r\n",
      "/usr/share/cups/templates/printer-accept.tmpl\r\n",
      "/usr/share/cups/templates/printer-added.tmpl\r\n",
      "/usr/share/cups/templates/printer-configured.tmpl\r\n",
      "/usr/share/cups/templates/printer-confirm.tmpl\r\n",
      "/usr/share/cups/templates/printer-default.tmpl\r\n",
      "/usr/share/cups/templates/printer-deleted.tmpl\r\n",
      "/usr/share/cups/templates/printer-jobs-header.tmpl\r\n",
      "/usr/share/cups/templates/printer-modified.tmpl\r\n",
      "/usr/share/cups/templates/printer-purge.tmpl\r\n",
      "/usr/share/cups/templates/printer-reject.tmpl\r\n",
      "/usr/share/cups/templates/printer-start.tmpl\r\n",
      "/usr/share/cups/templates/printer-stop.tmpl\r\n",
      "/usr/share/cups/templates/printer.tmpl\r\n",
      "/usr/share/cups/templates/printers-header.tmpl\r\n",
      "/usr/share/cups/templates/printers.tmpl\r\n",
      "/usr/share/cups/templates/ca/printer-accept.tmpl\r\n",
      "/usr/share/cups/templates/ca/printer-added.tmpl\r\n",
      "/usr/share/cups/templates/ca/printer-configured.tmpl\r\n",
      "/usr/share/cups/templates/ca/printer-confirm.tmpl\r\n",
      "/usr/share/cups/templates/ca/printer-default.tmpl\r\n",
      "/usr/share/cups/templates/ca/printer-deleted.tmpl\r\n",
      "/usr/share/cups/templates/ca/printer-jobs-header.tmpl\r\n",
      "/usr/share/cups/templates/ca/printer-modified.tmpl\r\n",
      "/usr/share/cups/templates/ca/printer-purge.tmpl\r\n",
      "/usr/share/cups/templates/ca/printer-reject.tmpl\r\n",
      "/usr/share/cups/templates/ca/printer-start.tmpl\r\n",
      "/usr/share/cups/templates/ca/printer-stop.tmpl\r\n",
      "/usr/share/cups/templates/ca/printer.tmpl\r\n",
      "/usr/share/cups/templates/ca/printers-header.tmpl\r\n",
      "/usr/share/cups/templates/ca/printers.tmpl\r\n",
      "/usr/share/cups/templates/cs/printer-accept.tmpl\r\n",
      "/usr/share/cups/templates/cs/printer-added.tmpl\r\n",
      "/usr/share/cups/templates/cs/printer-configured.tmpl\r\n",
      "/usr/share/cups/templates/cs/printer-confirm.tmpl\r\n",
      "/usr/share/cups/templates/cs/printer-default.tmpl\r\n",
      "/usr/share/cups/templates/cs/printer-deleted.tmpl\r\n",
      "/usr/share/cups/templates/cs/printer-jobs-header.tmpl\r\n",
      "/usr/share/cups/templates/cs/printer-modified.tmpl\r\n",
      "/usr/share/cups/templates/cs/printer-purge.tmpl\r\n",
      "/usr/share/cups/templates/cs/printer-reject.tmpl\r\n",
      "/usr/share/cups/templates/cs/printer-start.tmpl\r\n",
      "/usr/share/cups/templates/cs/printer-stop.tmpl\r\n",
      "/usr/share/cups/templates/cs/printer.tmpl\r\n",
      "/usr/share/cups/templates/cs/printers-header.tmpl\r\n",
      "/usr/share/cups/templates/cs/printers.tmpl\r\n",
      "/usr/share/cups/templates/de/printer-accept.tmpl\r\n",
      "/usr/share/cups/templates/de/printer-added.tmpl\r\n",
      "/usr/share/cups/templates/de/printer-configured.tmpl\r\n",
      "/usr/share/cups/templates/de/printer-confirm.tmpl\r\n",
      "/usr/share/cups/templates/de/printer-default.tmpl\r\n",
      "/usr/share/cups/templates/de/printer-deleted.tmpl\r\n",
      "/usr/share/cups/templates/de/printer-jobs-header.tmpl\r\n",
      "/usr/share/cups/templates/de/printer-modified.tmpl\r\n",
      "/usr/share/cups/templates/de/printer-purge.tmpl\r\n",
      "/usr/share/cups/templates/de/printer-reject.tmpl\r\n",
      "/usr/share/cups/templates/de/printer-start.tmpl\r\n",
      "/usr/share/cups/templates/de/printer-stop.tmpl\r\n",
      "/usr/share/cups/templates/de/printer.tmpl\r\n",
      "/usr/share/cups/templates/de/printers-header.tmpl\r\n",
      "/usr/share/cups/templates/de/printers.tmpl\r\n",
      "/usr/share/cups/templates/es/printer-accept.tmpl\r\n",
      "/usr/share/cups/templates/es/printer-added.tmpl\r\n",
      "/usr/share/cups/templates/es/printer-configured.tmpl\r\n",
      "/usr/share/cups/templates/es/printer-confirm.tmpl\r\n",
      "/usr/share/cups/templates/es/printer-default.tmpl\r\n",
      "/usr/share/cups/templates/es/printer-deleted.tmpl\r\n",
      "/usr/share/cups/templates/es/printer-jobs-header.tmpl\r\n",
      "/usr/share/cups/templates/es/printer-modified.tmpl\r\n",
      "/usr/share/cups/templates/es/printer-purge.tmpl\r\n",
      "/usr/share/cups/templates/es/printer-reject.tmpl\r\n",
      "/usr/share/cups/templates/es/printer-start.tmpl\r\n",
      "/usr/share/cups/templates/es/printer-stop.tmpl\r\n",
      "/usr/share/cups/templates/es/printer.tmpl\r\n",
      "/usr/share/cups/templates/es/printers-header.tmpl\r\n",
      "/usr/share/cups/templates/es/printers.tmpl\r\n",
      "/usr/share/cups/templates/fr/printer-accept.tmpl\r\n",
      "/usr/share/cups/templates/fr/printer-added.tmpl\r\n",
      "/usr/share/cups/templates/fr/printer-configured.tmpl\r\n",
      "/usr/share/cups/templates/fr/printer-confirm.tmpl\r\n",
      "/usr/share/cups/templates/fr/printer-default.tmpl\r\n",
      "/usr/share/cups/templates/fr/printer-deleted.tmpl\r\n",
      "/usr/share/cups/templates/fr/printer-jobs-header.tmpl\r\n",
      "/usr/share/cups/templates/fr/printer-modified.tmpl\r\n",
      "/usr/share/cups/templates/fr/printer-purge.tmpl\r\n",
      "/usr/share/cups/templates/fr/printer-reject.tmpl\r\n",
      "/usr/share/cups/templates/fr/printer-start.tmpl\r\n",
      "/usr/share/cups/templates/fr/printer-stop.tmpl\r\n",
      "/usr/share/cups/templates/fr/printer.tmpl\r\n",
      "/usr/share/cups/templates/fr/printers-header.tmpl\r\n",
      "/usr/share/cups/templates/fr/printers.tmpl\r\n",
      "/usr/share/cups/templates/it/printer-accept.tmpl\r\n",
      "/usr/share/cups/templates/it/printer-added.tmpl\r\n",
      "/usr/share/cups/templates/it/printer-configured.tmpl\r\n",
      "/usr/share/cups/templates/it/printer-confirm.tmpl\r\n",
      "/usr/share/cups/templates/it/printer-default.tmpl\r\n",
      "/usr/share/cups/templates/it/printer-deleted.tmpl\r\n",
      "/usr/share/cups/templates/it/printer-jobs-header.tmpl\r\n",
      "/usr/share/cups/templates/it/printer-modified.tmpl\r\n",
      "/usr/share/cups/templates/it/printer-purge.tmpl\r\n",
      "/usr/share/cups/templates/it/printer-reject.tmpl\r\n",
      "/usr/share/cups/templates/it/printer-start.tmpl\r\n",
      "/usr/share/cups/templates/it/printer-stop.tmpl\r\n",
      "/usr/share/cups/templates/it/printer.tmpl\r\n",
      "/usr/share/cups/templates/it/printers-header.tmpl\r\n",
      "/usr/share/cups/templates/it/printers.tmpl\r\n",
      "/usr/share/cups/templates/ja/printer-accept.tmpl\r\n",
      "/usr/share/cups/templates/ja/printer-added.tmpl\r\n",
      "/usr/share/cups/templates/ja/printer-configured.tmpl\r\n",
      "/usr/share/cups/templates/ja/printer-confirm.tmpl\r\n",
      "/usr/share/cups/templates/ja/printer-default.tmpl\r\n",
      "/usr/share/cups/templates/ja/printer-deleted.tmpl\r\n",
      "/usr/share/cups/templates/ja/printer-jobs-header.tmpl\r\n",
      "/usr/share/cups/templates/ja/printer-modified.tmpl\r\n",
      "/usr/share/cups/templates/ja/printer-purge.tmpl\r\n",
      "/usr/share/cups/templates/ja/printer-reject.tmpl\r\n",
      "/usr/share/cups/templates/ja/printer-start.tmpl\r\n",
      "/usr/share/cups/templates/ja/printer-stop.tmpl\r\n",
      "/usr/share/cups/templates/ja/printer.tmpl\r\n",
      "/usr/share/cups/templates/ja/printers-header.tmpl\r\n",
      "/usr/share/cups/templates/ja/printers.tmpl\r\n",
      "/usr/share/cups/templates/ru/printer-accept.tmpl\r\n",
      "/usr/share/cups/templates/ru/printer-added.tmpl\r\n",
      "/usr/share/cups/templates/ru/printer-configured.tmpl\r\n",
      "/usr/share/cups/templates/ru/printer-confirm.tmpl\r\n",
      "/usr/share/cups/templates/ru/printer-default.tmpl\r\n",
      "/usr/share/cups/templates/ru/printer-deleted.tmpl\r\n",
      "/usr/share/cups/templates/ru/printer-jobs-header.tmpl\r\n",
      "/usr/share/cups/templates/ru/printer-modified.tmpl\r\n",
      "/usr/share/cups/templates/ru/printer-purge.tmpl\r\n",
      "/usr/share/cups/templates/ru/printer-reject.tmpl\r\n",
      "/usr/share/cups/templates/ru/printer-start.tmpl\r\n",
      "/usr/share/cups/templates/ru/printer-stop.tmpl\r\n",
      "/usr/share/cups/templates/ru/printer.tmpl\r\n",
      "/usr/share/cups/templates/ru/printers-header.tmpl\r\n",
      "/usr/share/cups/templates/ru/printers.tmpl\r\n",
      "/usr/share/dia/shapes/Cisco/printer.png\r\n",
      "/usr/share/dia/shapes/Cisco/printer.shape\r\n",
      "/usr/share/dia/shapes/Network/printer.png\r\n",
      "/usr/share/dia/shapes/Network/printer.shape\r\n",
      "/usr/share/doc/printer-driver-c2esp\r\n",
      "/usr/share/doc/printer-driver-foo2zjs\r\n",
      "/usr/share/doc/printer-driver-foo2zjs-common\r\n",
      "/usr/share/doc/printer-driver-gutenprint\r\n",
      "/usr/share/doc/printer-driver-hpcups\r\n",
      "/usr/share/doc/printer-driver-min12xxw\r\n",
      "/usr/share/doc/printer-driver-pnm2ppa\r\n",
      "/usr/share/doc/printer-driver-postscript-hp\r\n",
      "/usr/share/doc/printer-driver-ptouch\r\n",
      "/usr/share/doc/printer-driver-pxljr\r\n",
      "/usr/share/doc/printer-driver-sag-gdi\r\n",
      "/usr/share/doc/printer-driver-splix\r\n",
      "/usr/share/doc/cups/examples/printer.schema\r\n",
      "/usr/share/doc/libsvn1/examples/gdb-py/svndbg/printers.py.gz\r\n",
      "/usr/share/doc/lynx-cur/lynx_help/keystrokes/print_help.html.gz\r\n",
      "/usr/share/doc/printer-driver-pnm2ppa/examples/lpd/printcap\r\n",
      "/usr/share/doc/qiime/doctrees/scripts/print_metadata_stats.doctree.gz\r\n",
      "/usr/share/doc/qiime/doctrees/scripts/print_qiime_config.doctree.gz\r\n",
      "/usr/share/doc/qiime/html/_sources/scripts/print_metadata_stats.txt\r\n",
      "/usr/share/doc/qiime/html/_sources/scripts/print_qiime_config.txt\r\n",
      "/usr/share/doc/qiime/html/scripts/print_metadata_stats.html\r\n",
      "/usr/share/doc/qiime/html/scripts/print_qiime_config.html\r\n",
      "/usr/share/doc/texlive-doc/generic/tex-virtual-academy-pl/latex2e/macro/printtim.html\r\n",
      "/usr/share/doc/texlive-doc/latex/printlen\r\n",
      "/usr/share/doc/texlive-doc/latex/acmconf/print.tex.gz\r\n",
      "/usr/share/doc/texlive-doc/latex/pdfscreen/print.pdf\r\n",
      "/usr/share/doc/texlive-doc/latex/printlen/printlen-doc.pdf\r\n",
      "/usr/share/doc/texlive-doc/latex/printlen/printlen-doc.tex\r\n",
      "/usr/share/docutils/writers/s5_html/themes/default/print.css\r\n",
      "/usr/share/emacs/24.3/etc/images/print.pbm\r\n",
      "/usr/share/emacs/24.3/etc/images/print.xpm\r\n",
      "/usr/share/emacs/24.3/etc/images/gud/print.pbm\r\n",
      "/usr/share/emacs/24.3/etc/images/gud/print.xpm\r\n",
      "/usr/share/emacs/24.3/etc/images/low-color/print.xpm\r\n",
      "/usr/share/emacs/24.3/lisp/printing.elc\r\n",
      "/usr/share/gcc-4.8/python/libstdcxx/v6/printers.py\r\n",
      "/usr/share/gdb/python/gdb/printing.py\r\n",
      "/usr/share/gettext/intl/printf-args.c\r\n",
      "/usr/share/gettext/intl/printf-args.h\r\n",
      "/usr/share/gettext/intl/printf-parse.c\r\n",
      "/usr/share/gettext/intl/printf-parse.h\r\n",
      "/usr/share/gettext/intl/printf.c\r\n",
      "/usr/share/ghostscript/9.10/lib/printafm.ps\r\n",
      "/usr/share/gimp/2.0/help/en/images/menus/file/print-tab3.png\r\n",
      "/usr/share/gimp/2.0/help/en/images/menus/image/print-size.png\r\n",
      "/usr/share/gnome-sudoku/print_games.ui\r\n",
      "/usr/share/gutenprint/5.2/xml/printers.xml\r\n",
      "/usr/share/help/C/eog/print.page\r\n",
      "/usr/share/help/C/evince/print-2sided.page\r\n",
      "/usr/share/help/C/evince/print-booklet.page\r\n",
      "/usr/share/help/C/evince/print-differentsize.page\r\n",
      "/usr/share/help/C/evince/print-order.page\r\n",
      "/usr/share/help/C/evince/print-select.page\r\n",
      "/usr/share/help/C/evince/printing.page\r\n",
      "/usr/share/help/C/evince/figures/print-2sided.png\r\n",
      "/usr/share/help/C/evince/figures/print-select.png\r\n",
      "/usr/share/help/C/gnome-help/printing-2sided.page\r\n",
      "/usr/share/help/C/gnome-help/printing-booklet-duplex.page\r\n",
      "/usr/share/help/C/gnome-help/printing-booklet-singlesided.page\r\n",
      "/usr/share/help/C/gnome-help/printing-booklet.page\r\n",
      "/usr/share/help/C/gnome-help/printing-cancel-job.page\r\n",
      "/usr/share/help/C/gnome-help/printing-differentsize.page\r\n",
      "/usr/share/help/C/gnome-help/printing-envelopes.page\r\n",
      "/usr/share/help/C/gnome-help/printing-inklevel.page\r\n",
      "/usr/share/help/C/gnome-help/printing-name-location.page\r\n",
      "/usr/share/help/C/gnome-help/printing-order.page\r\n",
      "/usr/share/help/C/gnome-help/printing-paperjam.page\r\n",
      "/usr/share/help/C/gnome-help/printing-select.page\r\n",
      "/usr/share/help/C/gnome-help/printing-setup-default-printer.page\r\n",
      "/usr/share/help/C/gnome-help/printing-setup.page\r\n",
      "/usr/share/help/C/gnome-help/printing-streaks.page\r\n",
      "/usr/share/help/C/gnome-help/printing-to-file.page\r\n",
      "/usr/share/help/C/gnome-help/printing.page\r\n",
      "/usr/share/help/C/gnome-help/figures/printing-select.png\r\n",
      "/usr/share/help/C/gnome-sudoku/print-blank-puzzles.page\r\n",
      "/usr/share/help/C/gnome-sudoku/print-inprogress-game.page\r\n",
      "/usr/share/help/C/simple-scan/print.page\r\n",
      "/usr/share/help/C/system-admin-guide/printer-configuration.page\r\n",
      "/usr/share/help/C/ubuntu-help/printing-2sided.page\r\n",
      "/usr/share/help/C/ubuntu-help/printing-cancel-job.page\r\n",
      "/usr/share/help/C/ubuntu-help/printing-differentsize.page\r\n",
      "/usr/share/help/C/ubuntu-help/printing-envelopes.page\r\n",
      "/usr/share/help/C/ubuntu-help/printing-inklevel.page\r\n",
      "/usr/share/help/C/ubuntu-help/printing-order.page\r\n",
      "/usr/share/help/C/ubuntu-help/printing-paperjam.page\r\n",
      "/usr/share/help/C/ubuntu-help/printing-select.page\r\n",
      "/usr/share/help/C/ubuntu-help/printing-setup-default-printer.page\r\n",
      "/usr/share/help/C/ubuntu-help/printing-setup.page\r\n",
      "/usr/share/help/C/ubuntu-help/printing-streaks.page\r\n",
      "/usr/share/help/C/ubuntu-help/printing.page\r\n",
      "/usr/share/help/C/ubuntu-help/figures/printing-select.png\r\n",
      "/usr/share/help/am/ubuntu-help/printing-2sided.page\r\n",
      "/usr/share/help/am/ubuntu-help/printing-cancel-job.page\r\n",
      "/usr/share/help/am/ubuntu-help/printing-differentsize.page\r\n",
      "/usr/share/help/am/ubuntu-help/printing-envelopes.page\r\n",
      "/usr/share/help/am/ubuntu-help/printing-inklevel.page\r\n",
      "/usr/share/help/am/ubuntu-help/printing-order.page\r\n",
      "/usr/share/help/am/ubuntu-help/printing-paperjam.page\r\n",
      "/usr/share/help/am/ubuntu-help/printing-select.page\r\n",
      "/usr/share/help/am/ubuntu-help/printing-setup-default-printer.page\r\n",
      "/usr/share/help/am/ubuntu-help/printing-setup.page\r\n",
      "/usr/share/help/am/ubuntu-help/printing-streaks.page\r\n",
      "/usr/share/help/am/ubuntu-help/printing.page\r\n",
      "/usr/share/help/am/ubuntu-help/figures/printing-select.png\r\n",
      "/usr/share/help/ar/eog/print.page\r\n",
      "/usr/share/help/ar/ubuntu-help/printing-2sided.page\r\n",
      "/usr/share/help/ar/ubuntu-help/printing-cancel-job.page\r\n",
      "/usr/share/help/ar/ubuntu-help/printing-differentsize.page\r\n",
      "/usr/share/help/ar/ubuntu-help/printing-envelopes.page\r\n",
      "/usr/share/help/ar/ubuntu-help/printing-inklevel.page\r\n",
      "/usr/share/help/ar/ubuntu-help/printing-order.page\r\n",
      "/usr/share/help/ar/ubuntu-help/printing-paperjam.page\r\n",
      "/usr/share/help/ar/ubuntu-help/printing-select.page\r\n",
      "/usr/share/help/ar/ubuntu-help/printing-setup-default-printer.page\r\n",
      "/usr/share/help/ar/ubuntu-help/printing-setup.page\r\n",
      "/usr/share/help/ar/ubuntu-help/printing-streaks.page\r\n",
      "/usr/share/help/ar/ubuntu-help/printing.page\r\n",
      "/usr/share/help/ar/ubuntu-help/figures/printing-select.png\r\n",
      "/usr/share/help/ast/ubuntu-help/printing-2sided.page\r\n",
      "/usr/share/help/ast/ubuntu-help/printing-cancel-job.page\r\n",
      "/usr/share/help/ast/ubuntu-help/printing-differentsize.page\r\n",
      "/usr/share/help/ast/ubuntu-help/printing-envelopes.page\r\n",
      "/usr/share/help/ast/ubuntu-help/printing-inklevel.page\r\n",
      "/usr/share/help/ast/ubuntu-help/printing-order.page\r\n",
      "/usr/share/help/ast/ubuntu-help/printing-paperjam.page\r\n",
      "/usr/share/help/ast/ubuntu-help/printing-select.page\r\n",
      "/usr/share/help/ast/ubuntu-help/printing-setup-default-printer.page\r\n",
      "/usr/share/help/ast/ubuntu-help/printing-setup.page\r\n",
      "/usr/share/help/ast/ubuntu-help/printing-streaks.page\r\n",
      "/usr/share/help/ast/ubuntu-help/printing.page\r\n",
      "/usr/share/help/ast/ubuntu-help/figures/printing-select.png\r\n",
      "/usr/share/help/az/ubuntu-help/printing-2sided.page\r\n",
      "/usr/share/help/az/ubuntu-help/printing-cancel-job.page\r\n",
      "/usr/share/help/az/ubuntu-help/printing-differentsize.page\r\n",
      "/usr/share/help/az/ubuntu-help/printing-envelopes.page\r\n",
      "/usr/share/help/az/ubuntu-help/printing-inklevel.page\r\n",
      "/usr/share/help/az/ubuntu-help/printing-order.page\r\n",
      "/usr/share/help/az/ubuntu-help/printing-paperjam.page\r\n",
      "/usr/share/help/az/ubuntu-help/printing-select.page\r\n",
      "/usr/share/help/az/ubuntu-help/printing-setup-default-printer.page\r\n",
      "/usr/share/help/az/ubuntu-help/printing-setup.page\r\n",
      "/usr/share/help/az/ubuntu-help/printing-streaks.page\r\n",
      "/usr/share/help/az/ubuntu-help/printing.page\r\n",
      "/usr/share/help/az/ubuntu-help/figures/printing-select.png\r\n",
      "/usr/share/help/bg/evince/print-2sided.page\r\n",
      "/usr/share/help/bg/evince/print-booklet.page\r\n",
      "/usr/share/help/bg/evince/print-differentsize.page\r\n",
      "/usr/share/help/bg/evince/print-order.page\r\n",
      "/usr/share/help/bg/evince/print-select.page\r\n",
      "/usr/share/help/bg/evince/printing.page\r\n",
      "/usr/share/help/bg/evince/figures/print-2sided.png\r\n",
      "/usr/share/help/bg/evince/figures/print-select.png\r\n",
      "/usr/share/help/bg/ubuntu-help/printing-2sided.page\r\n",
      "/usr/share/help/bg/ubuntu-help/printing-cancel-job.page\r\n",
      "/usr/share/help/bg/ubuntu-help/printing-differentsize.page\r\n",
      "/usr/share/help/bg/ubuntu-help/printing-envelopes.page\r\n",
      "/usr/share/help/bg/ubuntu-help/printing-inklevel.page\r\n",
      "/usr/share/help/bg/ubuntu-help/printing-order.page\r\n",
      "/usr/share/help/bg/ubuntu-help/printing-paperjam.page\r\n",
      "/usr/share/help/bg/ubuntu-help/printing-select.page\r\n",
      "/usr/share/help/bg/ubuntu-help/printing-setup-default-printer.page\r\n",
      "/usr/share/help/bg/ubuntu-help/printing-setup.page\r\n",
      "/usr/share/help/bg/ubuntu-help/printing-streaks.page\r\n",
      "/usr/share/help/bg/ubuntu-help/printing.page\r\n",
      "/usr/share/help/bg/ubuntu-help/figures/printing-select.png\r\n",
      "/usr/share/help/bo/ubuntu-help/printing-2sided.page\r\n",
      "/usr/share/help/bo/ubuntu-help/printing-cancel-job.page\r\n",
      "/usr/share/help/bo/ubuntu-help/printing-differentsize.page\r\n",
      "/usr/share/help/bo/ubuntu-help/printing-envelopes.page\r\n",
      "/usr/share/help/bo/ubuntu-help/printing-inklevel.page\r\n",
      "/usr/share/help/bo/ubuntu-help/printing-order.page\r\n",
      "/usr/share/help/bo/ubuntu-help/printing-paperjam.page\r\n",
      "/usr/share/help/bo/ubuntu-help/printing-select.page\r\n",
      "/usr/share/help/bo/ubuntu-help/printing-setup-default-printer.page\r\n",
      "/usr/share/help/bo/ubuntu-help/printing-setup.page\r\n",
      "/usr/share/help/bo/ubuntu-help/printing-streaks.page\r\n",
      "/usr/share/help/bo/ubuntu-help/printing.page\r\n",
      "/usr/share/help/bo/ubuntu-help/figures/printing-select.png\r\n",
      "/usr/share/help/br/ubuntu-help/printing-2sided.page\r\n",
      "/usr/share/help/br/ubuntu-help/printing-cancel-job.page\r\n",
      "/usr/share/help/br/ubuntu-help/printing-differentsize.page\r\n",
      "/usr/share/help/br/ubuntu-help/printing-envelopes.page\r\n",
      "/usr/share/help/br/ubuntu-help/printing-inklevel.page\r\n",
      "/usr/share/help/br/ubuntu-help/printing-order.page\r\n",
      "/usr/share/help/br/ubuntu-help/printing-paperjam.page\r\n",
      "/usr/share/help/br/ubuntu-help/printing-select.page\r\n",
      "/usr/share/help/br/ubuntu-help/printing-setup-default-printer.page\r\n",
      "/usr/share/help/br/ubuntu-help/printing-setup.page\r\n",
      "/usr/share/help/br/ubuntu-help/printing-streaks.page\r\n",
      "/usr/share/help/br/ubuntu-help/printing.page\r\n",
      "/usr/share/help/br/ubuntu-help/figures/printing-select.png\r\n",
      "/usr/share/help/bs/ubuntu-help/printing-2sided.page\r\n",
      "/usr/share/help/bs/ubuntu-help/printing-cancel-job.page\r\n",
      "/usr/share/help/bs/ubuntu-help/printing-differentsize.page\r\n",
      "/usr/share/help/bs/ubuntu-help/printing-envelopes.page\r\n",
      "/usr/share/help/bs/ubuntu-help/printing-inklevel.page\r\n",
      "/usr/share/help/bs/ubuntu-help/printing-order.page\r\n",
      "/usr/share/help/bs/ubuntu-help/printing-paperjam.page\r\n",
      "/usr/share/help/bs/ubuntu-help/printing-select.page\r\n",
      "/usr/share/help/bs/ubuntu-help/printing-setup-default-printer.page\r\n",
      "/usr/share/help/bs/ubuntu-help/printing-setup.page\r\n",
      "/usr/share/help/bs/ubuntu-help/printing-streaks.page\r\n",
      "/usr/share/help/bs/ubuntu-help/printing.page\r\n",
      "/usr/share/help/bs/ubuntu-help/figures/printing-select.png\r\n",
      "/usr/share/help/ca/eog/print.page\r\n",
      "/usr/share/help/ca/evince/print-2sided.page\r\n",
      "/usr/share/help/ca/evince/print-booklet.page\r\n",
      "/usr/share/help/ca/evince/print-differentsize.page\r\n",
      "/usr/share/help/ca/evince/print-order.page\r\n",
      "/usr/share/help/ca/evince/print-select.page\r\n",
      "/usr/share/help/ca/evince/printing.page\r\n",
      "/usr/share/help/ca/evince/figures/print-2sided.png\r\n",
      "/usr/share/help/ca/evince/figures/print-select.png\r\n",
      "/usr/share/help/ca/gnome-help/printing-2sided.page\r\n",
      "/usr/share/help/ca/gnome-help/printing-booklet-duplex.page\r\n",
      "/usr/share/help/ca/gnome-help/printing-booklet-singlesided.page\r\n",
      "/usr/share/help/ca/gnome-help/printing-booklet.page\r\n",
      "/usr/share/help/ca/gnome-help/printing-cancel-job.page\r\n",
      "/usr/share/help/ca/gnome-help/printing-differentsize.page\r\n",
      "/usr/share/help/ca/gnome-help/printing-envelopes.page\r\n",
      "/usr/share/help/ca/gnome-help/printing-inklevel.page\r\n",
      "/usr/share/help/ca/gnome-help/printing-name-location.page\r\n",
      "/usr/share/help/ca/gnome-help/printing-order.page\r\n",
      "/usr/share/help/ca/gnome-help/printing-paperjam.page\r\n",
      "/usr/share/help/ca/gnome-help/printing-select.page\r\n",
      "/usr/share/help/ca/gnome-help/printing-setup-default-printer.page\r\n",
      "/usr/share/help/ca/gnome-help/printing-setup.page\r\n",
      "/usr/share/help/ca/gnome-help/printing-streaks.page\r\n",
      "/usr/share/help/ca/gnome-help/printing-to-file.page\r\n",
      "/usr/share/help/ca/gnome-help/printing.page\r\n",
      "/usr/share/help/ca/gnome-help/figures/printing-select.png\r\n",
      "/usr/share/help/ca/gnome-sudoku/print-blank-puzzles.page\r\n",
      "/usr/share/help/ca/gnome-sudoku/print-inprogress-game.page\r\n",
      "/usr/share/help/ca/ubuntu-help/printing-2sided.page\r\n",
      "/usr/share/help/ca/ubuntu-help/printing-cancel-job.page\r\n",
      "/usr/share/help/ca/ubuntu-help/printing-differentsize.page\r\n",
      "/usr/share/help/ca/ubuntu-help/printing-envelopes.page\r\n",
      "/usr/share/help/ca/ubuntu-help/printing-inklevel.page\r\n",
      "/usr/share/help/ca/ubuntu-help/printing-order.page\r\n",
      "/usr/share/help/ca/ubuntu-help/printing-paperjam.page\r\n",
      "/usr/share/help/ca/ubuntu-help/printing-select.page\r\n",
      "/usr/share/help/ca/ubuntu-help/printing-setup-default-printer.page\r\n",
      "/usr/share/help/ca/ubuntu-help/printing-setup.page\r\n",
      "/usr/share/help/ca/ubuntu-help/printing-streaks.page\r\n",
      "/usr/share/help/ca/ubuntu-help/printing.page\r\n",
      "/usr/share/help/ca/ubuntu-help/figures/printing-select.png\r\n",
      "/usr/share/help/ce/ubuntu-help/printing-2sided.page\r\n",
      "/usr/share/help/ce/ubuntu-help/printing-cancel-job.page\r\n",
      "/usr/share/help/ce/ubuntu-help/printing-differentsize.page\r\n",
      "/usr/share/help/ce/ubuntu-help/printing-envelopes.page\r\n",
      "/usr/share/help/ce/ubuntu-help/printing-inklevel.page\r\n",
      "/usr/share/help/ce/ubuntu-help/printing-order.page\r\n",
      "/usr/share/help/ce/ubuntu-help/printing-paperjam.page\r\n",
      "/usr/share/help/ce/ubuntu-help/printing-select.page\r\n",
      "/usr/share/help/ce/ubuntu-help/printing-setup-default-printer.page\r\n",
      "/usr/share/help/ce/ubuntu-help/printing-setup.page\r\n",
      "/usr/share/help/ce/ubuntu-help/printing-streaks.page\r\n",
      "/usr/share/help/ce/ubuntu-help/printing.page\r\n",
      "/usr/share/help/ce/ubuntu-help/figures/printing-select.png\r\n",
      "/usr/share/help/cs/eog/print.page\r\n",
      "/usr/share/help/cs/evince/print-2sided.page\r\n",
      "/usr/share/help/cs/evince/print-booklet.page\r\n",
      "/usr/share/help/cs/evince/print-differentsize.page\r\n",
      "/usr/share/help/cs/evince/print-order.page\r\n",
      "/usr/share/help/cs/evince/print-select.page\r\n",
      "/usr/share/help/cs/evince/printing.page\r\n",
      "/usr/share/help/cs/evince/figures/print-2sided.png\r\n",
      "/usr/share/help/cs/evince/figures/print-select.png\r\n",
      "/usr/share/help/cs/gnome-help/printing-2sided.page\r\n",
      "/usr/share/help/cs/gnome-help/printing-booklet-duplex.page\r\n",
      "/usr/share/help/cs/gnome-help/printing-booklet-singlesided.page\r\n",
      "/usr/share/help/cs/gnome-help/printing-booklet.page\r\n",
      "/usr/share/help/cs/gnome-help/printing-cancel-job.page\r\n",
      "/usr/share/help/cs/gnome-help/printing-differentsize.page\r\n",
      "/usr/share/help/cs/gnome-help/printing-envelopes.page\r\n",
      "/usr/share/help/cs/gnome-help/printing-inklevel.page\r\n",
      "/usr/share/help/cs/gnome-help/printing-name-location.page\r\n",
      "/usr/share/help/cs/gnome-help/printing-order.page\r\n",
      "/usr/share/help/cs/gnome-help/printing-paperjam.page\r\n",
      "/usr/share/help/cs/gnome-help/printing-select.page\r\n",
      "/usr/share/help/cs/gnome-help/printing-setup-default-printer.page\r\n",
      "/usr/share/help/cs/gnome-help/printing-setup.page\r\n",
      "/usr/share/help/cs/gnome-help/printing-streaks.page\r\n",
      "/usr/share/help/cs/gnome-help/printing-to-file.page\r\n",
      "/usr/share/help/cs/gnome-help/printing.page\r\n",
      "/usr/share/help/cs/gnome-help/figures/printing-select.png\r\n",
      "/usr/share/help/cs/gnome-sudoku/print-blank-puzzles.page\r\n",
      "/usr/share/help/cs/gnome-sudoku/print-inprogress-game.page\r\n",
      "/usr/share/help/cs/ubuntu-help/printing-2sided.page\r\n",
      "/usr/share/help/cs/ubuntu-help/printing-cancel-job.page\r\n",
      "/usr/share/help/cs/ubuntu-help/printing-differentsize.page\r\n",
      "/usr/share/help/cs/ubuntu-help/printing-envelopes.page\r\n",
      "/usr/share/help/cs/ubuntu-help/printing-inklevel.page\r\n",
      "/usr/share/help/cs/ubuntu-help/printing-order.page\r\n",
      "/usr/share/help/cs/ubuntu-help/printing-paperjam.page\r\n",
      "/usr/share/help/cs/ubuntu-help/printing-select.page\r\n",
      "/usr/share/help/cs/ubuntu-help/printing-setup-default-printer.page\r\n",
      "/usr/share/help/cs/ubuntu-help/printing-setup.page\r\n",
      "/usr/share/help/cs/ubuntu-help/printing-streaks.page\r\n",
      "/usr/share/help/cs/ubuntu-help/printing.page\r\n",
      "/usr/share/help/cs/ubuntu-help/figures/printing-select.png\r\n",
      "/usr/share/help/da/eog/print.page\r\n",
      "/usr/share/help/da/evince/print-2sided.page\r\n",
      "/usr/share/help/da/evince/print-booklet.page\r\n",
      "/usr/share/help/da/evince/print-differentsize.page\r\n",
      "/usr/share/help/da/evince/print-order.page\r\n",
      "/usr/share/help/da/evince/print-select.page\r\n",
      "/usr/share/help/da/evince/printing.page\r\n",
      "/usr/share/help/da/evince/figures/print-2sided.png\r\n",
      "/usr/share/help/da/evince/figures/print-select.png\r\n",
      "/usr/share/help/da/gnome-sudoku/print-blank-puzzles.page\r\n",
      "/usr/share/help/da/gnome-sudoku/print-inprogress-game.page\r\n",
      "/usr/share/help/da/ubuntu-help/printing-2sided.page\r\n",
      "/usr/share/help/da/ubuntu-help/printing-cancel-job.page\r\n",
      "/usr/share/help/da/ubuntu-help/printing-differentsize.page\r\n",
      "/usr/share/help/da/ubuntu-help/printing-envelopes.page\r\n",
      "/usr/share/help/da/ubuntu-help/printing-inklevel.page\r\n",
      "/usr/share/help/da/ubuntu-help/printing-order.page\r\n",
      "/usr/share/help/da/ubuntu-help/printing-paperjam.page\r\n",
      "/usr/share/help/da/ubuntu-help/printing-select.page\r\n",
      "/usr/share/help/da/ubuntu-help/printing-setup-default-printer.page\r\n",
      "/usr/share/help/da/ubuntu-help/printing-setup.page\r\n",
      "/usr/share/help/da/ubuntu-help/printing-streaks.page\r\n",
      "/usr/share/help/da/ubuntu-help/printing.page\r\n",
      "/usr/share/help/da/ubuntu-help/figures/printing-select.png\r\n",
      "/usr/share/help/de/eog/print.page\r\n",
      "/usr/share/help/de/evince/print-2sided.page\r\n",
      "/usr/share/help/de/evince/print-booklet.page\r\n",
      "/usr/share/help/de/evince/print-differentsize.page\r\n",
      "/usr/share/help/de/evince/print-order.page\r\n",
      "/usr/share/help/de/evince/print-select.page\r\n",
      "/usr/share/help/de/evince/printing.page\r\n",
      "/usr/share/help/de/evince/figures/print-2sided.png\r\n",
      "/usr/share/help/de/evince/figures/print-select.png\r\n",
      "/usr/share/help/de/gnome-help/printing-2sided.page\r\n",
      "/usr/share/help/de/gnome-help/printing-booklet-duplex.page\r\n",
      "/usr/share/help/de/gnome-help/printing-booklet-singlesided.page\r\n",
      "/usr/share/help/de/gnome-help/printing-booklet.page\r\n",
      "/usr/share/help/de/gnome-help/printing-cancel-job.page\r\n",
      "/usr/share/help/de/gnome-help/printing-differentsize.page\r\n",
      "/usr/share/help/de/gnome-help/printing-envelopes.page\r\n",
      "/usr/share/help/de/gnome-help/printing-inklevel.page\r\n",
      "/usr/share/help/de/gnome-help/printing-name-location.page\r\n",
      "/usr/share/help/de/gnome-help/printing-order.page\r\n",
      "/usr/share/help/de/gnome-help/printing-paperjam.page\r\n",
      "/usr/share/help/de/gnome-help/printing-select.page\r\n",
      "/usr/share/help/de/gnome-help/printing-setup-default-printer.page\r\n",
      "/usr/share/help/de/gnome-help/printing-setup.page\r\n",
      "/usr/share/help/de/gnome-help/printing-streaks.page\r\n",
      "/usr/share/help/de/gnome-help/printing-to-file.page\r\n",
      "/usr/share/help/de/gnome-help/printing.page\r\n",
      "/usr/share/help/de/gnome-help/figures/printing-select.png\r\n",
      "/usr/share/help/de/gnome-sudoku/print-blank-puzzles.page\r\n",
      "/usr/share/help/de/gnome-sudoku/print-inprogress-game.page\r\n",
      "/usr/share/help/de/simple-scan/print.page\r\n",
      "/usr/share/help/de/ubuntu-help/printing-2sided.page\r\n",
      "/usr/share/help/de/ubuntu-help/printing-cancel-job.page\r\n",
      "/usr/share/help/de/ubuntu-help/printing-differentsize.page\r\n",
      "/usr/share/help/de/ubuntu-help/printing-envelopes.page\r\n",
      "/usr/share/help/de/ubuntu-help/printing-inklevel.page\r\n",
      "/usr/share/help/de/ubuntu-help/printing-order.page\r\n",
      "/usr/share/help/de/ubuntu-help/printing-paperjam.page\r\n",
      "/usr/share/help/de/ubuntu-help/printing-select.page\r\n",
      "/usr/share/help/de/ubuntu-help/printing-setup-default-printer.page\r\n",
      "/usr/share/help/de/ubuntu-help/printing-setup.page\r\n",
      "/usr/share/help/de/ubuntu-help/printing-streaks.page\r\n",
      "/usr/share/help/de/ubuntu-help/printing.page\r\n",
      "/usr/share/help/de/ubuntu-help/figures/printing-select.png\r\n",
      "/usr/share/help/el/eog/print.page\r\n",
      "/usr/share/help/el/evince/print-2sided.page\r\n",
      "/usr/share/help/el/evince/print-booklet.page\r\n",
      "/usr/share/help/el/evince/print-differentsize.page\r\n",
      "/usr/share/help/el/evince/print-order.page\r\n",
      "/usr/share/help/el/evince/print-select.page\r\n",
      "/usr/share/help/el/evince/printing.page\r\n",
      "/usr/share/help/el/evince/figures/print-2sided.png\r\n",
      "/usr/share/help/el/evince/figures/print-select.png\r\n",
      "/usr/share/help/el/gnome-help/printing-2sided.page\r\n",
      "/usr/share/help/el/gnome-help/printing-booklet-duplex.page\r\n",
      "/usr/share/help/el/gnome-help/printing-booklet-singlesided.page\r\n",
      "/usr/share/help/el/gnome-help/printing-booklet.page\r\n",
      "/usr/share/help/el/gnome-help/printing-cancel-job.page\r\n",
      "/usr/share/help/el/gnome-help/printing-differentsize.page\r\n",
      "/usr/share/help/el/gnome-help/printing-envelopes.page\r\n",
      "/usr/share/help/el/gnome-help/printing-inklevel.page\r\n",
      "/usr/share/help/el/gnome-help/printing-name-location.page\r\n",
      "/usr/share/help/el/gnome-help/printing-order.page\r\n",
      "/usr/share/help/el/gnome-help/printing-paperjam.page\r\n",
      "/usr/share/help/el/gnome-help/printing-select.page\r\n",
      "/usr/share/help/el/gnome-help/printing-setup-default-printer.page\r\n",
      "/usr/share/help/el/gnome-help/printing-setup.page\r\n",
      "/usr/share/help/el/gnome-help/printing-streaks.page\r\n",
      "/usr/share/help/el/gnome-help/printing-to-file.page\r\n",
      "/usr/share/help/el/gnome-help/printing.page\r\n",
      "/usr/share/help/el/gnome-help/figures/printing-select.png\r\n",
      "/usr/share/help/el/gnome-sudoku/print-blank-puzzles.page\r\n",
      "/usr/share/help/el/gnome-sudoku/print-inprogress-game.page\r\n",
      "/usr/share/help/el/ubuntu-help/printing-2sided.page\r\n",
      "/usr/share/help/el/ubuntu-help/printing-cancel-job.page\r\n",
      "/usr/share/help/el/ubuntu-help/printing-differentsize.page\r\n",
      "/usr/share/help/el/ubuntu-help/printing-envelopes.page\r\n",
      "/usr/share/help/el/ubuntu-help/printing-inklevel.page\r\n",
      "/usr/share/help/el/ubuntu-help/printing-order.page\r\n",
      "/usr/share/help/el/ubuntu-help/printing-paperjam.page\r\n",
      "/usr/share/help/el/ubuntu-help/printing-select.page\r\n",
      "/usr/share/help/el/ubuntu-help/printing-setup-default-printer.page\r\n",
      "/usr/share/help/el/ubuntu-help/printing-setup.page\r\n",
      "/usr/share/help/el/ubuntu-help/printing-streaks.page\r\n",
      "/usr/share/help/el/ubuntu-help/printing.page\r\n",
      "/usr/share/help/el/ubuntu-help/figures/printing-select.png\r\n",
      "/usr/share/help/en_AU/ubuntu-help/printing-2sided.page\r\n",
      "/usr/share/help/en_AU/ubuntu-help/printing-cancel-job.page\r\n",
      "/usr/share/help/en_AU/ubuntu-help/printing-differentsize.page\r\n",
      "/usr/share/help/en_AU/ubuntu-help/printing-envelopes.page\r\n",
      "/usr/share/help/en_AU/ubuntu-help/printing-inklevel.page\r\n",
      "/usr/share/help/en_AU/ubuntu-help/printing-order.page\r\n",
      "/usr/share/help/en_AU/ubuntu-help/printing-paperjam.page\r\n",
      "/usr/share/help/en_AU/ubuntu-help/printing-select.page\r\n",
      "/usr/share/help/en_AU/ubuntu-help/printing-setup-default-printer.page\r\n",
      "/usr/share/help/en_AU/ubuntu-help/printing-setup.page\r\n",
      "/usr/share/help/en_AU/ubuntu-help/printing-streaks.page\r\n",
      "/usr/share/help/en_AU/ubuntu-help/printing.page\r\n",
      "/usr/share/help/en_AU/ubuntu-help/figures/printing-select.png\r\n",
      "/usr/share/help/en_CA/ubuntu-help/printing-2sided.page\r\n",
      "/usr/share/help/en_CA/ubuntu-help/printing-cancel-job.page\r\n",
      "/usr/share/help/en_CA/ubuntu-help/printing-differentsize.page\r\n",
      "/usr/share/help/en_CA/ubuntu-help/printing-envelopes.page\r\n",
      "/usr/share/help/en_CA/ubuntu-help/printing-inklevel.page\r\n",
      "/usr/share/help/en_CA/ubuntu-help/printing-order.page\r\n",
      "/usr/share/help/en_CA/ubuntu-help/printing-paperjam.page\r\n",
      "/usr/share/help/en_CA/ubuntu-help/printing-select.page\r\n",
      "/usr/share/help/en_CA/ubuntu-help/printing-setup-default-printer.page\r\n",
      "/usr/share/help/en_CA/ubuntu-help/printing-setup.page\r\n",
      "/usr/share/help/en_CA/ubuntu-help/printing-streaks.page\r\n",
      "/usr/share/help/en_CA/ubuntu-help/printing.page\r\n",
      "/usr/share/help/en_CA/ubuntu-help/figures/printing-select.png\r\n",
      "/usr/share/help/en_GB/eog/print.page\r\n",
      "/usr/share/help/en_GB/evince/print-2sided.page\r\n",
      "/usr/share/help/en_GB/evince/print-booklet.page\r\n",
      "/usr/share/help/en_GB/evince/print-differentsize.page\r\n",
      "/usr/share/help/en_GB/evince/print-order.page\r\n",
      "/usr/share/help/en_GB/evince/print-select.page\r\n",
      "/usr/share/help/en_GB/evince/printing.page\r\n",
      "/usr/share/help/en_GB/evince/figures/print-2sided.png\r\n",
      "/usr/share/help/en_GB/evince/figures/print-select.png\r\n",
      "/usr/share/help/en_GB/gnome-sudoku/print-blank-puzzles.page\r\n",
      "/usr/share/help/en_GB/gnome-sudoku/print-inprogress-game.page\r\n",
      "/usr/share/help/en_GB/ubuntu-help/printing-2sided.page\r\n",
      "/usr/share/help/en_GB/ubuntu-help/printing-cancel-job.page\r\n",
      "/usr/share/help/en_GB/ubuntu-help/printing-differentsize.page\r\n",
      "/usr/share/help/en_GB/ubuntu-help/printing-envelopes.page\r\n",
      "/usr/share/help/en_GB/ubuntu-help/printing-inklevel.page\r\n",
      "/usr/share/help/en_GB/ubuntu-help/printing-order.page\r\n",
      "/usr/share/help/en_GB/ubuntu-help/printing-paperjam.page\r\n",
      "/usr/share/help/en_GB/ubuntu-help/printing-select.page\r\n",
      "/usr/share/help/en_GB/ubuntu-help/printing-setup-default-printer.page\r\n",
      "/usr/share/help/en_GB/ubuntu-help/printing-setup.page\r\n",
      "/usr/share/help/en_GB/ubuntu-help/printing-streaks.page\r\n",
      "/usr/share/help/en_GB/ubuntu-help/printing.page\r\n",
      "/usr/share/help/en_GB/ubuntu-help/figures/printing-select.png\r\n",
      "/usr/share/help/es/eog/print.page\r\n",
      "/usr/share/help/es/evince/print-2sided.page\r\n",
      "/usr/share/help/es/evince/print-booklet.page\r\n",
      "/usr/share/help/es/evince/print-differentsize.page\r\n",
      "/usr/share/help/es/evince/print-order.page\r\n",
      "/usr/share/help/es/evince/print-select.page\r\n",
      "/usr/share/help/es/evince/printing.page\r\n",
      "/usr/share/help/es/evince/figures/print-2sided.png\r\n",
      "/usr/share/help/es/evince/figures/print-select.png\r\n",
      "/usr/share/help/es/gnome-help/printing-2sided.page\r\n",
      "/usr/share/help/es/gnome-help/printing-booklet-duplex.page\r\n",
      "/usr/share/help/es/gnome-help/printing-booklet-singlesided.page\r\n",
      "/usr/share/help/es/gnome-help/printing-booklet.page\r\n",
      "/usr/share/help/es/gnome-help/printing-cancel-job.page\r\n",
      "/usr/share/help/es/gnome-help/printing-differentsize.page\r\n",
      "/usr/share/help/es/gnome-help/printing-envelopes.page\r\n",
      "/usr/share/help/es/gnome-help/printing-inklevel.page\r\n",
      "/usr/share/help/es/gnome-help/printing-name-location.page\r\n",
      "/usr/share/help/es/gnome-help/printing-order.page\r\n",
      "/usr/share/help/es/gnome-help/printing-paperjam.page\r\n",
      "/usr/share/help/es/gnome-help/printing-select.page\r\n",
      "/usr/share/help/es/gnome-help/printing-setup-default-printer.page\r\n",
      "/usr/share/help/es/gnome-help/printing-setup.page\r\n",
      "/usr/share/help/es/gnome-help/printing-streaks.page\r\n",
      "/usr/share/help/es/gnome-help/printing-to-file.page\r\n",
      "/usr/share/help/es/gnome-help/printing.page\r\n",
      "/usr/share/help/es/gnome-help/figures/printing-select.png\r\n",
      "/usr/share/help/es/gnome-sudoku/print-blank-puzzles.page\r\n",
      "/usr/share/help/es/gnome-sudoku/print-inprogress-game.page\r\n",
      "/usr/share/help/es/ubuntu-help/printing-2sided.page\r\n",
      "/usr/share/help/es/ubuntu-help/printing-cancel-job.page\r\n",
      "/usr/share/help/es/ubuntu-help/printing-differentsize.page\r\n",
      "/usr/share/help/es/ubuntu-help/printing-envelopes.page\r\n",
      "/usr/share/help/es/ubuntu-help/printing-inklevel.page\r\n",
      "/usr/share/help/es/ubuntu-help/printing-order.page\r\n",
      "/usr/share/help/es/ubuntu-help/printing-paperjam.page\r\n",
      "/usr/share/help/es/ubuntu-help/printing-select.page\r\n",
      "/usr/share/help/es/ubuntu-help/printing-setup-default-printer.page\r\n",
      "/usr/share/help/es/ubuntu-help/printing-setup.page\r\n",
      "/usr/share/help/es/ubuntu-help/printing-streaks.page\r\n",
      "/usr/share/help/es/ubuntu-help/printing.page\r\n",
      "/usr/share/help/es/ubuntu-help/figures/printing-select.png\r\n",
      "/usr/share/help/et/ubuntu-help/printing-2sided.page\r\n",
      "/usr/share/help/et/ubuntu-help/printing-cancel-job.page\r\n",
      "/usr/share/help/et/ubuntu-help/printing-differentsize.page\r\n",
      "/usr/share/help/et/ubuntu-help/printing-envelopes.page\r\n",
      "/usr/share/help/et/ubuntu-help/printing-inklevel.page\r\n",
      "/usr/share/help/et/ubuntu-help/printing-order.page\r\n",
      "/usr/share/help/et/ubuntu-help/printing-paperjam.page\r\n",
      "/usr/share/help/et/ubuntu-help/printing-select.page\r\n",
      "/usr/share/help/et/ubuntu-help/printing-setup-default-printer.page\r\n",
      "/usr/share/help/et/ubuntu-help/printing-setup.page\r\n",
      "/usr/share/help/et/ubuntu-help/printing-streaks.page\r\n",
      "/usr/share/help/et/ubuntu-help/printing.page\r\n",
      "/usr/share/help/et/ubuntu-help/figures/printing-select.png\r\n",
      "/usr/share/help/eu/eog/print.page\r\n",
      "/usr/share/help/eu/evince/print-2sided.page\r\n",
      "/usr/share/help/eu/evince/print-booklet.page\r\n",
      "/usr/share/help/eu/evince/print-differentsize.page\r\n",
      "/usr/share/help/eu/evince/print-order.page\r\n",
      "/usr/share/help/eu/evince/print-select.page\r\n",
      "/usr/share/help/eu/evince/printing.page\r\n",
      "/usr/share/help/eu/evince/figures/print-2sided.png\r\n",
      "/usr/share/help/eu/evince/figures/print-select.png\r\n",
      "/usr/share/help/eu/gnome-sudoku/print-blank-puzzles.page\r\n",
      "/usr/share/help/eu/gnome-sudoku/print-inprogress-game.page\r\n",
      "/usr/share/help/eu/ubuntu-help/printing-2sided.page\r\n",
      "/usr/share/help/eu/ubuntu-help/printing-cancel-job.page\r\n",
      "/usr/share/help/eu/ubuntu-help/printing-differentsize.page\r\n",
      "/usr/share/help/eu/ubuntu-help/printing-envelopes.page\r\n",
      "/usr/share/help/eu/ubuntu-help/printing-inklevel.page\r\n",
      "/usr/share/help/eu/ubuntu-help/printing-order.page\r\n",
      "/usr/share/help/eu/ubuntu-help/printing-paperjam.page\r\n",
      "/usr/share/help/eu/ubuntu-help/printing-select.page\r\n",
      "/usr/share/help/eu/ubuntu-help/printing-setup-default-printer.page\r\n",
      "/usr/share/help/eu/ubuntu-help/printing-setup.page\r\n",
      "/usr/share/help/eu/ubuntu-help/printing-streaks.page\r\n",
      "/usr/share/help/eu/ubuntu-help/printing.page\r\n",
      "/usr/share/help/eu/ubuntu-help/figures/printing-select.png\r\n",
      "/usr/share/help/fi/eog/print.page\r\n",
      "/usr/share/help/fi/evince/print-2sided.page\r\n",
      "/usr/share/help/fi/evince/print-booklet.page\r\n",
      "/usr/share/help/fi/evince/print-differentsize.page\r\n",
      "/usr/share/help/fi/evince/print-order.page\r\n",
      "/usr/share/help/fi/evince/print-select.page\r\n",
      "/usr/share/help/fi/evince/printing.page\r\n",
      "/usr/share/help/fi/evince/figures/print-2sided.png\r\n",
      "/usr/share/help/fi/evince/figures/print-select.png\r\n",
      "/usr/share/help/fi/gnome-help/printing-2sided.page\r\n",
      "/usr/share/help/fi/gnome-help/printing-booklet-duplex.page\r\n",
      "/usr/share/help/fi/gnome-help/printing-booklet-singlesided.page\r\n",
      "/usr/share/help/fi/gnome-help/printing-booklet.page\r\n",
      "/usr/share/help/fi/gnome-help/printing-cancel-job.page\r\n",
      "/usr/share/help/fi/gnome-help/printing-differentsize.page\r\n",
      "/usr/share/help/fi/gnome-help/printing-envelopes.page\r\n",
      "/usr/share/help/fi/gnome-help/printing-inklevel.page\r\n",
      "/usr/share/help/fi/gnome-help/printing-name-location.page\r\n",
      "/usr/share/help/fi/gnome-help/printing-order.page\r\n",
      "/usr/share/help/fi/gnome-help/printing-paperjam.page\r\n",
      "/usr/share/help/fi/gnome-help/printing-select.page\r\n",
      "/usr/share/help/fi/gnome-help/printing-setup-default-printer.page\r\n",
      "/usr/share/help/fi/gnome-help/printing-setup.page\r\n",
      "/usr/share/help/fi/gnome-help/printing-streaks.page\r\n",
      "/usr/share/help/fi/gnome-help/printing-to-file.page\r\n",
      "/usr/share/help/fi/gnome-help/printing.page\r\n",
      "/usr/share/help/fi/gnome-help/figures/printing-select.png\r\n",
      "/usr/share/help/fi/ubuntu-help/printing-2sided.page\r\n",
      "/usr/share/help/fi/ubuntu-help/printing-cancel-job.page\r\n",
      "/usr/share/help/fi/ubuntu-help/printing-differentsize.page\r\n",
      "/usr/share/help/fi/ubuntu-help/printing-envelopes.page\r\n",
      "/usr/share/help/fi/ubuntu-help/printing-inklevel.page\r\n",
      "/usr/share/help/fi/ubuntu-help/printing-order.page\r\n",
      "/usr/share/help/fi/ubuntu-help/printing-paperjam.page\r\n",
      "/usr/share/help/fi/ubuntu-help/printing-select.page\r\n",
      "/usr/share/help/fi/ubuntu-help/printing-setup-default-printer.page\r\n",
      "/usr/share/help/fi/ubuntu-help/printing-setup.page\r\n",
      "/usr/share/help/fi/ubuntu-help/printing-streaks.page\r\n",
      "/usr/share/help/fi/ubuntu-help/printing.page\r\n",
      "/usr/share/help/fi/ubuntu-help/figures/printing-select.png\r\n",
      "/usr/share/help/fo/ubuntu-help/printing-2sided.page\r\n",
      "/usr/share/help/fo/ubuntu-help/printing-cancel-job.page\r\n",
      "/usr/share/help/fo/ubuntu-help/printing-differentsize.page\r\n",
      "/usr/share/help/fo/ubuntu-help/printing-envelopes.page\r\n",
      "/usr/share/help/fo/ubuntu-help/printing-inklevel.page\r\n",
      "/usr/share/help/fo/ubuntu-help/printing-order.page\r\n",
      "/usr/share/help/fo/ubuntu-help/printing-paperjam.page\r\n",
      "/usr/share/help/fo/ubuntu-help/printing-select.page\r\n",
      "/usr/share/help/fo/ubuntu-help/printing-setup-default-printer.page\r\n",
      "/usr/share/help/fo/ubuntu-help/printing-setup.page\r\n",
      "/usr/share/help/fo/ubuntu-help/printing-streaks.page\r\n",
      "/usr/share/help/fo/ubuntu-help/printing.page\r\n",
      "/usr/share/help/fo/ubuntu-help/figures/printing-select.png\r\n",
      "/usr/share/help/fr/eog/print.page\r\n",
      "/usr/share/help/fr/evince/print-2sided.page\r\n",
      "/usr/share/help/fr/evince/print-booklet.page\r\n",
      "/usr/share/help/fr/evince/print-differentsize.page\r\n",
      "/usr/share/help/fr/evince/print-order.page\r\n",
      "/usr/share/help/fr/evince/print-select.page\r\n",
      "/usr/share/help/fr/evince/printing.page\r\n",
      "/usr/share/help/fr/evince/figures/print-2sided.png\r\n",
      "/usr/share/help/fr/evince/figures/print-select.png\r\n",
      "/usr/share/help/fr/gnome-help/printing-2sided.page\r\n",
      "/usr/share/help/fr/gnome-help/printing-booklet-duplex.page\r\n",
      "/usr/share/help/fr/gnome-help/printing-booklet-singlesided.page\r\n",
      "/usr/share/help/fr/gnome-help/printing-booklet.page\r\n",
      "/usr/share/help/fr/gnome-help/printing-cancel-job.page\r\n",
      "/usr/share/help/fr/gnome-help/printing-differentsize.page\r\n",
      "/usr/share/help/fr/gnome-help/printing-envelopes.page\r\n",
      "/usr/share/help/fr/gnome-help/printing-inklevel.page\r\n",
      "/usr/share/help/fr/gnome-help/printing-name-location.page\r\n",
      "/usr/share/help/fr/gnome-help/printing-order.page\r\n",
      "/usr/share/help/fr/gnome-help/printing-paperjam.page\r\n",
      "/usr/share/help/fr/gnome-help/printing-select.page\r\n",
      "/usr/share/help/fr/gnome-help/printing-setup-default-printer.page\r\n",
      "/usr/share/help/fr/gnome-help/printing-setup.page\r\n",
      "/usr/share/help/fr/gnome-help/printing-streaks.page\r\n",
      "/usr/share/help/fr/gnome-help/printing-to-file.page\r\n",
      "/usr/share/help/fr/gnome-help/printing.page\r\n",
      "/usr/share/help/fr/gnome-help/figures/printing-select.png\r\n",
      "/usr/share/help/fr/gnome-sudoku/print-blank-puzzles.page\r\n",
      "/usr/share/help/fr/gnome-sudoku/print-inprogress-game.page\r\n",
      "/usr/share/help/fr/ubuntu-help/printing-2sided.page\r\n",
      "/usr/share/help/fr/ubuntu-help/printing-cancel-job.page\r\n",
      "/usr/share/help/fr/ubuntu-help/printing-differentsize.page\r\n",
      "/usr/share/help/fr/ubuntu-help/printing-envelopes.page\r\n",
      "/usr/share/help/fr/ubuntu-help/printing-inklevel.page\r\n",
      "/usr/share/help/fr/ubuntu-help/printing-order.page\r\n",
      "/usr/share/help/fr/ubuntu-help/printing-paperjam.page\r\n",
      "/usr/share/help/fr/ubuntu-help/printing-select.page\r\n",
      "/usr/share/help/fr/ubuntu-help/printing-setup-default-printer.page\r\n",
      "/usr/share/help/fr/ubuntu-help/printing-setup.page\r\n",
      "/usr/share/help/fr/ubuntu-help/printing-streaks.page\r\n",
      "/usr/share/help/fr/ubuntu-help/printing.page\r\n",
      "/usr/share/help/fr/ubuntu-help/figures/printing-select.png\r\n",
      "/usr/share/help/gl/eog/print.page\r\n",
      "/usr/share/help/gl/evince/print-2sided.page\r\n",
      "/usr/share/help/gl/evince/print-booklet.page\r\n",
      "/usr/share/help/gl/evince/print-differentsize.page\r\n",
      "/usr/share/help/gl/evince/print-order.page\r\n",
      "/usr/share/help/gl/evince/print-select.page\r\n",
      "/usr/share/help/gl/evince/printing.page\r\n",
      "/usr/share/help/gl/evince/figures/print-2sided.png\r\n",
      "/usr/share/help/gl/evince/figures/print-select.png\r\n",
      "/usr/share/help/gl/gnome-help/printing-2sided.page\r\n",
      "/usr/share/help/gl/gnome-help/printing-booklet-duplex.page\r\n",
      "/usr/share/help/gl/gnome-help/printing-booklet-singlesided.page\r\n",
      "/usr/share/help/gl/gnome-help/printing-booklet.page\r\n",
      "/usr/share/help/gl/gnome-help/printing-cancel-job.page\r\n",
      "/usr/share/help/gl/gnome-help/printing-differentsize.page\r\n",
      "/usr/share/help/gl/gnome-help/printing-envelopes.page\r\n",
      "/usr/share/help/gl/gnome-help/printing-inklevel.page\r\n",
      "/usr/share/help/gl/gnome-help/printing-name-location.page\r\n",
      "/usr/share/help/gl/gnome-help/printing-order.page\r\n",
      "/usr/share/help/gl/gnome-help/printing-paperjam.page\r\n",
      "/usr/share/help/gl/gnome-help/printing-select.page\r\n",
      "/usr/share/help/gl/gnome-help/printing-setup-default-printer.page\r\n",
      "/usr/share/help/gl/gnome-help/printing-setup.page\r\n",
      "/usr/share/help/gl/gnome-help/printing-streaks.page\r\n",
      "/usr/share/help/gl/gnome-help/printing-to-file.page\r\n",
      "/usr/share/help/gl/gnome-help/printing.page\r\n",
      "/usr/share/help/gl/gnome-help/figures/printing-select.png\r\n",
      "/usr/share/help/gl/gnome-sudoku/print-blank-puzzles.page\r\n",
      "/usr/share/help/gl/gnome-sudoku/print-inprogress-game.page\r\n",
      "/usr/share/help/gl/ubuntu-help/printing-2sided.page\r\n",
      "/usr/share/help/gl/ubuntu-help/printing-cancel-job.page\r\n",
      "/usr/share/help/gl/ubuntu-help/printing-differentsize.page\r\n",
      "/usr/share/help/gl/ubuntu-help/printing-envelopes.page\r\n",
      "/usr/share/help/gl/ubuntu-help/printing-inklevel.page\r\n",
      "/usr/share/help/gl/ubuntu-help/printing-order.page\r\n",
      "/usr/share/help/gl/ubuntu-help/printing-paperjam.page\r\n",
      "/usr/share/help/gl/ubuntu-help/printing-select.page\r\n",
      "/usr/share/help/gl/ubuntu-help/printing-setup-default-printer.page\r\n",
      "/usr/share/help/gl/ubuntu-help/printing-setup.page\r\n",
      "/usr/share/help/gl/ubuntu-help/printing-streaks.page\r\n",
      "/usr/share/help/gl/ubuntu-help/printing.page\r\n",
      "/usr/share/help/gl/ubuntu-help/figures/printing-select.png\r\n",
      "/usr/share/help/he/ubuntu-help/printing-2sided.page\r\n",
      "/usr/share/help/he/ubuntu-help/printing-cancel-job.page\r\n",
      "/usr/share/help/he/ubuntu-help/printing-differentsize.page\r\n",
      "/usr/share/help/he/ubuntu-help/printing-envelopes.page\r\n",
      "/usr/share/help/he/ubuntu-help/printing-inklevel.page\r\n",
      "/usr/share/help/he/ubuntu-help/printing-order.page\r\n",
      "/usr/share/help/he/ubuntu-help/printing-paperjam.page\r\n",
      "/usr/share/help/he/ubuntu-help/printing-select.page\r\n",
      "/usr/share/help/he/ubuntu-help/printing-setup-default-printer.page\r\n",
      "/usr/share/help/he/ubuntu-help/printing-setup.page\r\n",
      "/usr/share/help/he/ubuntu-help/printing-streaks.page\r\n",
      "/usr/share/help/he/ubuntu-help/printing.page\r\n",
      "/usr/share/help/he/ubuntu-help/figures/printing-select.png\r\n",
      "/usr/share/help/hi/gnome-help/printing-2sided.page\r\n",
      "/usr/share/help/hi/gnome-help/printing-booklet-duplex.page\r\n",
      "/usr/share/help/hi/gnome-help/printing-booklet-singlesided.page\r\n",
      "/usr/share/help/hi/gnome-help/printing-booklet.page\r\n",
      "/usr/share/help/hi/gnome-help/printing-cancel-job.page\r\n",
      "/usr/share/help/hi/gnome-help/printing-differentsize.page\r\n",
      "/usr/share/help/hi/gnome-help/printing-envelopes.page\r\n",
      "/usr/share/help/hi/gnome-help/printing-inklevel.page\r\n",
      "/usr/share/help/hi/gnome-help/printing-name-location.page\r\n",
      "/usr/share/help/hi/gnome-help/printing-order.page\r\n",
      "/usr/share/help/hi/gnome-help/printing-paperjam.page\r\n",
      "/usr/share/help/hi/gnome-help/printing-select.page\r\n",
      "/usr/share/help/hi/gnome-help/printing-setup-default-printer.page\r\n",
      "/usr/share/help/hi/gnome-help/printing-setup.page\r\n",
      "/usr/share/help/hi/gnome-help/printing-streaks.page\r\n",
      "/usr/share/help/hi/gnome-help/printing-to-file.page\r\n",
      "/usr/share/help/hi/gnome-help/printing.page\r\n",
      "/usr/share/help/hi/gnome-help/figures/printing-select.png\r\n",
      "/usr/share/help/hi/ubuntu-help/printing-2sided.page\r\n",
      "/usr/share/help/hi/ubuntu-help/printing-cancel-job.page\r\n",
      "/usr/share/help/hi/ubuntu-help/printing-differentsize.page\r\n",
      "/usr/share/help/hi/ubuntu-help/printing-envelopes.page\r\n",
      "/usr/share/help/hi/ubuntu-help/printing-inklevel.page\r\n",
      "/usr/share/help/hi/ubuntu-help/printing-order.page\r\n",
      "/usr/share/help/hi/ubuntu-help/printing-paperjam.page\r\n",
      "/usr/share/help/hi/ubuntu-help/printing-select.page\r\n",
      "/usr/share/help/hi/ubuntu-help/printing-setup-default-printer.page\r\n",
      "/usr/share/help/hi/ubuntu-help/printing-setup.page\r\n",
      "/usr/share/help/hi/ubuntu-help/printing-streaks.page\r\n",
      "/usr/share/help/hi/ubuntu-help/printing.page\r\n",
      "/usr/share/help/hi/ubuntu-help/figures/printing-select.png\r\n",
      "/usr/share/help/hr/ubuntu-help/printing-2sided.page\r\n",
      "/usr/share/help/hr/ubuntu-help/printing-cancel-job.page\r\n",
      "/usr/share/help/hr/ubuntu-help/printing-differentsize.page\r\n",
      "/usr/share/help/hr/ubuntu-help/printing-envelopes.page\r\n",
      "/usr/share/help/hr/ubuntu-help/printing-inklevel.page\r\n",
      "/usr/share/help/hr/ubuntu-help/printing-order.page\r\n",
      "/usr/share/help/hr/ubuntu-help/printing-paperjam.page\r\n",
      "/usr/share/help/hr/ubuntu-help/printing-select.page\r\n",
      "/usr/share/help/hr/ubuntu-help/printing-setup-default-printer.page\r\n",
      "/usr/share/help/hr/ubuntu-help/printing-setup.page\r\n",
      "/usr/share/help/hr/ubuntu-help/printing-streaks.page\r\n",
      "/usr/share/help/hr/ubuntu-help/printing.page\r\n",
      "/usr/share/help/hr/ubuntu-help/figures/printing-select.png\r\n",
      "/usr/share/help/hu/eog/print.page\r\n",
      "/usr/share/help/hu/evince/print-2sided.page\r\n",
      "/usr/share/help/hu/evince/print-booklet.page\r\n",
      "/usr/share/help/hu/evince/print-differentsize.page\r\n",
      "/usr/share/help/hu/evince/print-order.page\r\n",
      "/usr/share/help/hu/evince/print-select.page\r\n",
      "/usr/share/help/hu/evince/printing.page\r\n",
      "/usr/share/help/hu/evince/figures/print-2sided.png\r\n",
      "/usr/share/help/hu/evince/figures/print-select.png\r\n",
      "/usr/share/help/hu/gnome-help/printing-2sided.page\r\n",
      "/usr/share/help/hu/gnome-help/printing-booklet-duplex.page\r\n",
      "/usr/share/help/hu/gnome-help/printing-booklet-singlesided.page\r\n",
      "/usr/share/help/hu/gnome-help/printing-booklet.page\r\n",
      "/usr/share/help/hu/gnome-help/printing-cancel-job.page\r\n",
      "/usr/share/help/hu/gnome-help/printing-differentsize.page\r\n",
      "/usr/share/help/hu/gnome-help/printing-envelopes.page\r\n",
      "/usr/share/help/hu/gnome-help/printing-inklevel.page\r\n",
      "/usr/share/help/hu/gnome-help/printing-name-location.page\r\n",
      "/usr/share/help/hu/gnome-help/printing-order.page\r\n",
      "/usr/share/help/hu/gnome-help/printing-paperjam.page\r\n",
      "/usr/share/help/hu/gnome-help/printing-select.page\r\n",
      "/usr/share/help/hu/gnome-help/printing-setup-default-printer.page\r\n",
      "/usr/share/help/hu/gnome-help/printing-setup.page\r\n",
      "/usr/share/help/hu/gnome-help/printing-streaks.page\r\n",
      "/usr/share/help/hu/gnome-help/printing-to-file.page\r\n",
      "/usr/share/help/hu/gnome-help/printing.page\r\n",
      "/usr/share/help/hu/gnome-help/figures/printing-select.png\r\n",
      "/usr/share/help/hu/gnome-sudoku/print-blank-puzzles.page\r\n",
      "/usr/share/help/hu/gnome-sudoku/print-inprogress-game.page\r\n",
      "/usr/share/help/hu/ubuntu-help/printing-2sided.page\r\n",
      "/usr/share/help/hu/ubuntu-help/printing-cancel-job.page\r\n",
      "/usr/share/help/hu/ubuntu-help/printing-differentsize.page\r\n",
      "/usr/share/help/hu/ubuntu-help/printing-envelopes.page\r\n",
      "/usr/share/help/hu/ubuntu-help/printing-inklevel.page\r\n",
      "/usr/share/help/hu/ubuntu-help/printing-order.page\r\n",
      "/usr/share/help/hu/ubuntu-help/printing-paperjam.page\r\n",
      "/usr/share/help/hu/ubuntu-help/printing-select.page\r\n",
      "/usr/share/help/hu/ubuntu-help/printing-setup-default-printer.page\r\n",
      "/usr/share/help/hu/ubuntu-help/printing-setup.page\r\n",
      "/usr/share/help/hu/ubuntu-help/printing-streaks.page\r\n",
      "/usr/share/help/hu/ubuntu-help/printing.page\r\n",
      "/usr/share/help/hu/ubuntu-help/figures/printing-select.png\r\n",
      "/usr/share/help/id/evince/print-2sided.page\r\n",
      "/usr/share/help/id/evince/print-booklet.page\r\n",
      "/usr/share/help/id/evince/print-differentsize.page\r\n",
      "/usr/share/help/id/evince/print-order.page\r\n",
      "/usr/share/help/id/evince/print-select.page\r\n",
      "/usr/share/help/id/evince/printing.page\r\n",
      "/usr/share/help/id/evince/figures/print-2sided.png\r\n",
      "/usr/share/help/id/evince/figures/print-select.png\r\n",
      "/usr/share/help/id/gnome-help/printing-2sided.page\r\n",
      "/usr/share/help/id/gnome-help/printing-booklet-duplex.page\r\n",
      "/usr/share/help/id/gnome-help/printing-booklet-singlesided.page\r\n",
      "/usr/share/help/id/gnome-help/printing-booklet.page\r\n",
      "/usr/share/help/id/gnome-help/printing-cancel-job.page\r\n",
      "/usr/share/help/id/gnome-help/printing-differentsize.page\r\n",
      "/usr/share/help/id/gnome-help/printing-envelopes.page\r\n",
      "/usr/share/help/id/gnome-help/printing-inklevel.page\r\n",
      "/usr/share/help/id/gnome-help/printing-name-location.page\r\n",
      "/usr/share/help/id/gnome-help/printing-order.page\r\n",
      "/usr/share/help/id/gnome-help/printing-paperjam.page\r\n",
      "/usr/share/help/id/gnome-help/printing-select.page\r\n",
      "/usr/share/help/id/gnome-help/printing-setup-default-printer.page\r\n",
      "/usr/share/help/id/gnome-help/printing-setup.page\r\n",
      "/usr/share/help/id/gnome-help/printing-streaks.page\r\n",
      "/usr/share/help/id/gnome-help/printing-to-file.page\r\n",
      "/usr/share/help/id/gnome-help/printing.page\r\n",
      "/usr/share/help/id/gnome-help/figures/printing-select.png\r\n",
      "/usr/share/help/id/ubuntu-help/printing-2sided.page\r\n",
      "/usr/share/help/id/ubuntu-help/printing-cancel-job.page\r\n",
      "/usr/share/help/id/ubuntu-help/printing-differentsize.page\r\n",
      "/usr/share/help/id/ubuntu-help/printing-envelopes.page\r\n",
      "/usr/share/help/id/ubuntu-help/printing-inklevel.page\r\n",
      "/usr/share/help/id/ubuntu-help/printing-order.page\r\n",
      "/usr/share/help/id/ubuntu-help/printing-paperjam.page\r\n",
      "/usr/share/help/id/ubuntu-help/printing-select.page\r\n",
      "/usr/share/help/id/ubuntu-help/printing-setup-default-printer.page\r\n",
      "/usr/share/help/id/ubuntu-help/printing-setup.page\r\n",
      "/usr/share/help/id/ubuntu-help/printing-streaks.page\r\n",
      "/usr/share/help/id/ubuntu-help/printing.page\r\n",
      "/usr/share/help/id/ubuntu-help/figures/printing-select.png\r\n",
      "/usr/share/help/it/eog/print.page\r\n",
      "/usr/share/help/it/evince/print-2sided.page\r\n",
      "/usr/share/help/it/evince/print-booklet.page\r\n",
      "/usr/share/help/it/evince/print-differentsize.page\r\n",
      "/usr/share/help/it/evince/print-order.page\r\n",
      "/usr/share/help/it/evince/print-select.page\r\n",
      "/usr/share/help/it/evince/printing.page\r\n",
      "/usr/share/help/it/evince/figures/print-2sided.png\r\n",
      "/usr/share/help/it/evince/figures/print-select.png\r\n",
      "/usr/share/help/it/gnome-help/printing-2sided.page\r\n",
      "/usr/share/help/it/gnome-help/printing-booklet-duplex.page\r\n",
      "/usr/share/help/it/gnome-help/printing-booklet-singlesided.page\r\n",
      "/usr/share/help/it/gnome-help/printing-booklet.page\r\n",
      "/usr/share/help/it/gnome-help/printing-cancel-job.page\r\n",
      "/usr/share/help/it/gnome-help/printing-differentsize.page\r\n",
      "/usr/share/help/it/gnome-help/printing-envelopes.page\r\n",
      "/usr/share/help/it/gnome-help/printing-inklevel.page\r\n",
      "/usr/share/help/it/gnome-help/printing-name-location.page\r\n",
      "/usr/share/help/it/gnome-help/printing-order.page\r\n",
      "/usr/share/help/it/gnome-help/printing-paperjam.page\r\n",
      "/usr/share/help/it/gnome-help/printing-select.page\r\n",
      "/usr/share/help/it/gnome-help/printing-setup-default-printer.page\r\n",
      "/usr/share/help/it/gnome-help/printing-setup.page\r\n",
      "/usr/share/help/it/gnome-help/printing-streaks.page\r\n",
      "/usr/share/help/it/gnome-help/printing-to-file.page\r\n",
      "/usr/share/help/it/gnome-help/printing.page\r\n",
      "/usr/share/help/it/gnome-help/figures/printing-select.png\r\n",
      "/usr/share/help/it/gnome-sudoku/print-blank-puzzles.page\r\n",
      "/usr/share/help/it/gnome-sudoku/print-inprogress-game.page\r\n",
      "/usr/share/help/it/ubuntu-help/printing-2sided.page\r\n",
      "/usr/share/help/it/ubuntu-help/printing-cancel-job.page\r\n",
      "/usr/share/help/it/ubuntu-help/printing-differentsize.page\r\n",
      "/usr/share/help/it/ubuntu-help/printing-envelopes.page\r\n",
      "/usr/share/help/it/ubuntu-help/printing-inklevel.page\r\n",
      "/usr/share/help/it/ubuntu-help/printing-order.page\r\n",
      "/usr/share/help/it/ubuntu-help/printing-paperjam.page\r\n",
      "/usr/share/help/it/ubuntu-help/printing-select.page\r\n",
      "/usr/share/help/it/ubuntu-help/printing-setup-default-printer.page\r\n",
      "/usr/share/help/it/ubuntu-help/printing-setup.page\r\n",
      "/usr/share/help/it/ubuntu-help/printing-streaks.page\r\n",
      "/usr/share/help/it/ubuntu-help/printing.page\r\n",
      "/usr/share/help/it/ubuntu-help/figures/printing-select.png\r\n",
      "/usr/share/help/ja/eog/print.page\r\n",
      "/usr/share/help/ja/evince/print-2sided.page\r\n",
      "/usr/share/help/ja/evince/print-booklet.page\r\n",
      "/usr/share/help/ja/evince/print-differentsize.page\r\n",
      "/usr/share/help/ja/evince/print-order.page\r\n",
      "/usr/share/help/ja/evince/print-select.page\r\n",
      "/usr/share/help/ja/evince/printing.page\r\n",
      "/usr/share/help/ja/evince/figures/print-2sided.png\r\n",
      "/usr/share/help/ja/evince/figures/print-select.png\r\n",
      "/usr/share/help/ja/gnome-help/printing-2sided.page\r\n",
      "/usr/share/help/ja/gnome-help/printing-booklet-duplex.page\r\n",
      "/usr/share/help/ja/gnome-help/printing-booklet-singlesided.page\r\n",
      "/usr/share/help/ja/gnome-help/printing-booklet.page\r\n",
      "/usr/share/help/ja/gnome-help/printing-cancel-job.page\r\n",
      "/usr/share/help/ja/gnome-help/printing-differentsize.page\r\n",
      "/usr/share/help/ja/gnome-help/printing-envelopes.page\r\n",
      "/usr/share/help/ja/gnome-help/printing-inklevel.page\r\n",
      "/usr/share/help/ja/gnome-help/printing-name-location.page\r\n",
      "/usr/share/help/ja/gnome-help/printing-order.page\r\n",
      "/usr/share/help/ja/gnome-help/printing-paperjam.page\r\n",
      "/usr/share/help/ja/gnome-help/printing-select.page\r\n",
      "/usr/share/help/ja/gnome-help/printing-setup-default-printer.page\r\n",
      "/usr/share/help/ja/gnome-help/printing-setup.page\r\n",
      "/usr/share/help/ja/gnome-help/printing-streaks.page\r\n",
      "/usr/share/help/ja/gnome-help/printing-to-file.page\r\n",
      "/usr/share/help/ja/gnome-help/printing.page\r\n",
      "/usr/share/help/ja/gnome-help/figures/printing-select.png\r\n",
      "/usr/share/help/ja/ubuntu-help/printing-2sided.page\r\n",
      "/usr/share/help/ja/ubuntu-help/printing-cancel-job.page\r\n",
      "/usr/share/help/ja/ubuntu-help/printing-differentsize.page\r\n",
      "/usr/share/help/ja/ubuntu-help/printing-envelopes.page\r\n",
      "/usr/share/help/ja/ubuntu-help/printing-inklevel.page\r\n",
      "/usr/share/help/ja/ubuntu-help/printing-order.page\r\n",
      "/usr/share/help/ja/ubuntu-help/printing-paperjam.page\r\n",
      "/usr/share/help/ja/ubuntu-help/printing-select.page\r\n",
      "/usr/share/help/ja/ubuntu-help/printing-setup-default-printer.page\r\n",
      "/usr/share/help/ja/ubuntu-help/printing-setup.page\r\n",
      "/usr/share/help/ja/ubuntu-help/printing-streaks.page\r\n",
      "/usr/share/help/ja/ubuntu-help/printing.page\r\n",
      "/usr/share/help/ja/ubuntu-help/figures/printing-select.png\r\n",
      "/usr/share/help/kk/ubuntu-help/printing-2sided.page\r\n",
      "/usr/share/help/kk/ubuntu-help/printing-cancel-job.page\r\n",
      "/usr/share/help/kk/ubuntu-help/printing-differentsize.page\r\n",
      "/usr/share/help/kk/ubuntu-help/printing-envelopes.page\r\n",
      "/usr/share/help/kk/ubuntu-help/printing-inklevel.page\r\n",
      "/usr/share/help/kk/ubuntu-help/printing-order.page\r\n",
      "/usr/share/help/kk/ubuntu-help/printing-paperjam.page\r\n",
      "/usr/share/help/kk/ubuntu-help/printing-select.page\r\n",
      "/usr/share/help/kk/ubuntu-help/printing-setup-default-printer.page\r\n",
      "/usr/share/help/kk/ubuntu-help/printing-setup.page\r\n",
      "/usr/share/help/kk/ubuntu-help/printing-streaks.page\r\n",
      "/usr/share/help/kk/ubuntu-help/printing.page\r\n",
      "/usr/share/help/kk/ubuntu-help/figures/printing-select.png\r\n",
      "/usr/share/help/kn/ubuntu-help/printing-2sided.page\r\n",
      "/usr/share/help/kn/ubuntu-help/printing-cancel-job.page\r\n",
      "/usr/share/help/kn/ubuntu-help/printing-differentsize.page\r\n",
      "/usr/share/help/kn/ubuntu-help/printing-envelopes.page\r\n",
      "/usr/share/help/kn/ubuntu-help/printing-inklevel.page\r\n",
      "/usr/share/help/kn/ubuntu-help/printing-order.page\r\n",
      "/usr/share/help/kn/ubuntu-help/printing-paperjam.page\r\n",
      "/usr/share/help/kn/ubuntu-help/printing-select.page\r\n",
      "/usr/share/help/kn/ubuntu-help/printing-setup-default-printer.page\r\n",
      "/usr/share/help/kn/ubuntu-help/printing-setup.page\r\n",
      "/usr/share/help/kn/ubuntu-help/printing-streaks.page\r\n",
      "/usr/share/help/kn/ubuntu-help/printing.page\r\n",
      "/usr/share/help/kn/ubuntu-help/figures/printing-select.png\r\n",
      "/usr/share/help/ko/eog/print.page\r\n",
      "/usr/share/help/ko/evince/print-2sided.page\r\n",
      "/usr/share/help/ko/evince/print-booklet.page\r\n",
      "/usr/share/help/ko/evince/print-differentsize.page\r\n",
      "/usr/share/help/ko/evince/print-order.page\r\n",
      "/usr/share/help/ko/evince/print-select.page\r\n",
      "/usr/share/help/ko/evince/printing.page\r\n",
      "/usr/share/help/ko/evince/figures/print-2sided.png\r\n",
      "/usr/share/help/ko/evince/figures/print-select.png\r\n",
      "/usr/share/help/ko/ubuntu-help/printing-2sided.page\r\n",
      "/usr/share/help/ko/ubuntu-help/printing-cancel-job.page\r\n",
      "/usr/share/help/ko/ubuntu-help/printing-differentsize.page\r\n",
      "/usr/share/help/ko/ubuntu-help/printing-envelopes.page\r\n",
      "/usr/share/help/ko/ubuntu-help/printing-inklevel.page\r\n",
      "/usr/share/help/ko/ubuntu-help/printing-order.page\r\n",
      "/usr/share/help/ko/ubuntu-help/printing-paperjam.page\r\n",
      "/usr/share/help/ko/ubuntu-help/printing-select.page\r\n",
      "/usr/share/help/ko/ubuntu-help/printing-setup-default-printer.page\r\n",
      "/usr/share/help/ko/ubuntu-help/printing-setup.page\r\n",
      "/usr/share/help/ko/ubuntu-help/printing-streaks.page\r\n",
      "/usr/share/help/ko/ubuntu-help/printing.page\r\n",
      "/usr/share/help/ko/ubuntu-help/figures/printing-select.png\r\n",
      "/usr/share/help/lt/ubuntu-help/printing-2sided.page\r\n",
      "/usr/share/help/lt/ubuntu-help/printing-cancel-job.page\r\n",
      "/usr/share/help/lt/ubuntu-help/printing-differentsize.page\r\n",
      "/usr/share/help/lt/ubuntu-help/printing-envelopes.page\r\n",
      "/usr/share/help/lt/ubuntu-help/printing-inklevel.page\r\n",
      "/usr/share/help/lt/ubuntu-help/printing-order.page\r\n",
      "/usr/share/help/lt/ubuntu-help/printing-paperjam.page\r\n",
      "/usr/share/help/lt/ubuntu-help/printing-select.page\r\n",
      "/usr/share/help/lt/ubuntu-help/printing-setup-default-printer.page\r\n",
      "/usr/share/help/lt/ubuntu-help/printing-setup.page\r\n",
      "/usr/share/help/lt/ubuntu-help/printing-streaks.page\r\n",
      "/usr/share/help/lt/ubuntu-help/printing.page\r\n",
      "/usr/share/help/lt/ubuntu-help/figures/printing-select.png\r\n",
      "/usr/share/help/lv/eog/print.page\r\n",
      "/usr/share/help/lv/evince/print-2sided.page\r\n",
      "/usr/share/help/lv/evince/print-booklet.page\r\n",
      "/usr/share/help/lv/evince/print-differentsize.page\r\n",
      "/usr/share/help/lv/evince/print-order.page\r\n",
      "/usr/share/help/lv/evince/print-select.page\r\n",
      "/usr/share/help/lv/evince/printing.page\r\n",
      "/usr/share/help/lv/evince/figures/print-2sided.png\r\n",
      "/usr/share/help/lv/evince/figures/print-select.png\r\n",
      "/usr/share/help/lv/gnome-help/printing-2sided.page\r\n",
      "/usr/share/help/lv/gnome-help/printing-booklet-duplex.page\r\n",
      "/usr/share/help/lv/gnome-help/printing-booklet-singlesided.page\r\n",
      "/usr/share/help/lv/gnome-help/printing-booklet.page\r\n",
      "/usr/share/help/lv/gnome-help/printing-cancel-job.page\r\n",
      "/usr/share/help/lv/gnome-help/printing-differentsize.page\r\n",
      "/usr/share/help/lv/gnome-help/printing-envelopes.page\r\n",
      "/usr/share/help/lv/gnome-help/printing-inklevel.page\r\n",
      "/usr/share/help/lv/gnome-help/printing-name-location.page\r\n",
      "/usr/share/help/lv/gnome-help/printing-order.page\r\n",
      "/usr/share/help/lv/gnome-help/printing-paperjam.page\r\n",
      "/usr/share/help/lv/gnome-help/printing-select.page\r\n",
      "/usr/share/help/lv/gnome-help/printing-setup-default-printer.page\r\n",
      "/usr/share/help/lv/gnome-help/printing-setup.page\r\n",
      "/usr/share/help/lv/gnome-help/printing-streaks.page\r\n",
      "/usr/share/help/lv/gnome-help/printing-to-file.page\r\n",
      "/usr/share/help/lv/gnome-help/printing.page\r\n",
      "/usr/share/help/lv/gnome-help/figures/printing-select.png\r\n",
      "/usr/share/help/lv/ubuntu-help/printing-2sided.page\r\n",
      "/usr/share/help/lv/ubuntu-help/printing-cancel-job.page\r\n",
      "/usr/share/help/lv/ubuntu-help/printing-differentsize.page\r\n",
      "/usr/share/help/lv/ubuntu-help/printing-envelopes.page\r\n",
      "/usr/share/help/lv/ubuntu-help/printing-inklevel.page\r\n",
      "/usr/share/help/lv/ubuntu-help/printing-order.page\r\n",
      "/usr/share/help/lv/ubuntu-help/printing-paperjam.page\r\n",
      "/usr/share/help/lv/ubuntu-help/printing-select.page\r\n",
      "/usr/share/help/lv/ubuntu-help/printing-setup-default-printer.page\r\n",
      "/usr/share/help/lv/ubuntu-help/printing-setup.page\r\n",
      "/usr/share/help/lv/ubuntu-help/printing-streaks.page\r\n",
      "/usr/share/help/lv/ubuntu-help/printing.page\r\n",
      "/usr/share/help/lv/ubuntu-help/figures/printing-select.png\r\n",
      "/usr/share/help/mg/ubuntu-help/printing-2sided.page\r\n",
      "/usr/share/help/mg/ubuntu-help/printing-cancel-job.page\r\n",
      "/usr/share/help/mg/ubuntu-help/printing-differentsize.page\r\n",
      "/usr/share/help/mg/ubuntu-help/printing-envelopes.page\r\n",
      "/usr/share/help/mg/ubuntu-help/printing-inklevel.page\r\n",
      "/usr/share/help/mg/ubuntu-help/printing-order.page\r\n",
      "/usr/share/help/mg/ubuntu-help/printing-paperjam.page\r\n",
      "/usr/share/help/mg/ubuntu-help/printing-select.page\r\n",
      "/usr/share/help/mg/ubuntu-help/printing-setup-default-printer.page\r\n",
      "/usr/share/help/mg/ubuntu-help/printing-setup.page\r\n",
      "/usr/share/help/mg/ubuntu-help/printing-streaks.page\r\n",
      "/usr/share/help/mg/ubuntu-help/printing.page\r\n",
      "/usr/share/help/mg/ubuntu-help/figures/printing-select.png\r\n",
      "/usr/share/help/ms/ubuntu-help/printing-2sided.page\r\n",
      "/usr/share/help/ms/ubuntu-help/printing-cancel-job.page\r\n",
      "/usr/share/help/ms/ubuntu-help/printing-differentsize.page\r\n",
      "/usr/share/help/ms/ubuntu-help/printing-envelopes.page\r\n",
      "/usr/share/help/ms/ubuntu-help/printing-inklevel.page\r\n",
      "/usr/share/help/ms/ubuntu-help/printing-order.page\r\n",
      "/usr/share/help/ms/ubuntu-help/printing-paperjam.page\r\n",
      "/usr/share/help/ms/ubuntu-help/printing-select.page\r\n",
      "/usr/share/help/ms/ubuntu-help/printing-setup-default-printer.page\r\n",
      "/usr/share/help/ms/ubuntu-help/printing-setup.page\r\n",
      "/usr/share/help/ms/ubuntu-help/printing-streaks.page\r\n",
      "/usr/share/help/ms/ubuntu-help/printing.page\r\n",
      "/usr/share/help/ms/ubuntu-help/figures/printing-select.png\r\n",
      "/usr/share/help/my/ubuntu-help/printing-2sided.page\r\n",
      "/usr/share/help/my/ubuntu-help/printing-cancel-job.page\r\n",
      "/usr/share/help/my/ubuntu-help/printing-differentsize.page\r\n",
      "/usr/share/help/my/ubuntu-help/printing-envelopes.page\r\n",
      "/usr/share/help/my/ubuntu-help/printing-inklevel.page\r\n",
      "/usr/share/help/my/ubuntu-help/printing-order.page\r\n",
      "/usr/share/help/my/ubuntu-help/printing-paperjam.page\r\n",
      "/usr/share/help/my/ubuntu-help/printing-select.page\r\n",
      "/usr/share/help/my/ubuntu-help/printing-setup-default-printer.page\r\n",
      "/usr/share/help/my/ubuntu-help/printing-setup.page\r\n",
      "/usr/share/help/my/ubuntu-help/printing-streaks.page\r\n",
      "/usr/share/help/my/ubuntu-help/printing.page\r\n",
      "/usr/share/help/my/ubuntu-help/figures/printing-select.png\r\n",
      "/usr/share/help/nb/ubuntu-help/printing-2sided.page\r\n",
      "/usr/share/help/nb/ubuntu-help/printing-cancel-job.page\r\n",
      "/usr/share/help/nb/ubuntu-help/printing-differentsize.page\r\n",
      "/usr/share/help/nb/ubuntu-help/printing-envelopes.page\r\n",
      "/usr/share/help/nb/ubuntu-help/printing-inklevel.page\r\n",
      "/usr/share/help/nb/ubuntu-help/printing-order.page\r\n",
      "/usr/share/help/nb/ubuntu-help/printing-paperjam.page\r\n",
      "/usr/share/help/nb/ubuntu-help/printing-select.page\r\n",
      "/usr/share/help/nb/ubuntu-help/printing-setup-default-printer.page\r\n",
      "/usr/share/help/nb/ubuntu-help/printing-setup.page\r\n",
      "/usr/share/help/nb/ubuntu-help/printing-streaks.page\r\n",
      "/usr/share/help/nb/ubuntu-help/printing.page\r\n",
      "/usr/share/help/nb/ubuntu-help/figures/printing-select.png\r\n",
      "/usr/share/help/nl/evince/print-2sided.page\r\n",
      "/usr/share/help/nl/evince/print-booklet.page\r\n",
      "/usr/share/help/nl/evince/print-differentsize.page\r\n",
      "/usr/share/help/nl/evince/print-order.page\r\n",
      "/usr/share/help/nl/evince/print-select.page\r\n",
      "/usr/share/help/nl/evince/printing.page\r\n",
      "/usr/share/help/nl/evince/figures/print-2sided.png\r\n",
      "/usr/share/help/nl/evince/figures/print-select.png\r\n",
      "/usr/share/help/nl/gnome-help/printing-2sided.page\r\n",
      "/usr/share/help/nl/gnome-help/printing-booklet-duplex.page\r\n",
      "/usr/share/help/nl/gnome-help/printing-booklet-singlesided.page\r\n",
      "/usr/share/help/nl/gnome-help/printing-booklet.page\r\n",
      "/usr/share/help/nl/gnome-help/printing-cancel-job.page\r\n",
      "/usr/share/help/nl/gnome-help/printing-differentsize.page\r\n",
      "/usr/share/help/nl/gnome-help/printing-envelopes.page\r\n",
      "/usr/share/help/nl/gnome-help/printing-inklevel.page\r\n",
      "/usr/share/help/nl/gnome-help/printing-name-location.page\r\n",
      "/usr/share/help/nl/gnome-help/printing-order.page\r\n",
      "/usr/share/help/nl/gnome-help/printing-paperjam.page\r\n",
      "/usr/share/help/nl/gnome-help/printing-select.page\r\n",
      "/usr/share/help/nl/gnome-help/printing-setup-default-printer.page\r\n",
      "/usr/share/help/nl/gnome-help/printing-setup.page\r\n",
      "/usr/share/help/nl/gnome-help/printing-streaks.page\r\n",
      "/usr/share/help/nl/gnome-help/printing-to-file.page\r\n",
      "/usr/share/help/nl/gnome-help/printing.page\r\n",
      "/usr/share/help/nl/gnome-help/figures/printing-select.png\r\n",
      "/usr/share/help/nl/ubuntu-help/printing-2sided.page\r\n",
      "/usr/share/help/nl/ubuntu-help/printing-cancel-job.page\r\n",
      "/usr/share/help/nl/ubuntu-help/printing-differentsize.page\r\n",
      "/usr/share/help/nl/ubuntu-help/printing-envelopes.page\r\n",
      "/usr/share/help/nl/ubuntu-help/printing-inklevel.page\r\n",
      "/usr/share/help/nl/ubuntu-help/printing-order.page\r\n",
      "/usr/share/help/nl/ubuntu-help/printing-paperjam.page\r\n",
      "/usr/share/help/nl/ubuntu-help/printing-select.page\r\n",
      "/usr/share/help/nl/ubuntu-help/printing-setup-default-printer.page\r\n",
      "/usr/share/help/nl/ubuntu-help/printing-setup.page\r\n",
      "/usr/share/help/nl/ubuntu-help/printing-streaks.page\r\n",
      "/usr/share/help/nl/ubuntu-help/printing.page\r\n",
      "/usr/share/help/nl/ubuntu-help/figures/printing-select.png\r\n",
      "/usr/share/help/oc/eog/print.page\r\n",
      "/usr/share/help/oc/evince/print-2sided.page\r\n",
      "/usr/share/help/oc/evince/print-booklet.page\r\n",
      "/usr/share/help/oc/evince/print-differentsize.page\r\n",
      "/usr/share/help/oc/evince/print-order.page\r\n",
      "/usr/share/help/oc/evince/print-select.page\r\n",
      "/usr/share/help/oc/evince/printing.page\r\n",
      "/usr/share/help/oc/evince/figures/print-2sided.png\r\n",
      "/usr/share/help/oc/evince/figures/print-select.png\r\n",
      "/usr/share/help/oc/gnome-sudoku/print-blank-puzzles.page\r\n",
      "/usr/share/help/oc/gnome-sudoku/print-inprogress-game.page\r\n",
      "/usr/share/help/oc/ubuntu-help/printing-2sided.page\r\n",
      "/usr/share/help/oc/ubuntu-help/printing-cancel-job.page\r\n",
      "/usr/share/help/oc/ubuntu-help/printing-differentsize.page\r\n",
      "/usr/share/help/oc/ubuntu-help/printing-envelopes.page\r\n",
      "/usr/share/help/oc/ubuntu-help/printing-inklevel.page\r\n",
      "/usr/share/help/oc/ubuntu-help/printing-order.page\r\n",
      "/usr/share/help/oc/ubuntu-help/printing-paperjam.page\r\n",
      "/usr/share/help/oc/ubuntu-help/printing-select.page\r\n",
      "/usr/share/help/oc/ubuntu-help/printing-setup-default-printer.page\r\n",
      "/usr/share/help/oc/ubuntu-help/printing-setup.page\r\n",
      "/usr/share/help/oc/ubuntu-help/printing-streaks.page\r\n",
      "/usr/share/help/oc/ubuntu-help/printing.page\r\n",
      "/usr/share/help/oc/ubuntu-help/figures/printing-select.png\r\n",
      "/usr/share/help/pa/eog/print.page\r\n",
      "/usr/share/help/pa/gnome-help/printing-2sided.page\r\n",
      "/usr/share/help/pa/gnome-help/printing-booklet-duplex.page\r\n",
      "/usr/share/help/pa/gnome-help/printing-booklet-singlesided.page\r\n",
      "/usr/share/help/pa/gnome-help/printing-booklet.page\r\n",
      "/usr/share/help/pa/gnome-help/printing-cancel-job.page\r\n",
      "/usr/share/help/pa/gnome-help/printing-differentsize.page\r\n",
      "/usr/share/help/pa/gnome-help/printing-envelopes.page\r\n",
      "/usr/share/help/pa/gnome-help/printing-inklevel.page\r\n",
      "/usr/share/help/pa/gnome-help/printing-name-location.page\r\n",
      "/usr/share/help/pa/gnome-help/printing-order.page\r\n",
      "/usr/share/help/pa/gnome-help/printing-paperjam.page\r\n",
      "/usr/share/help/pa/gnome-help/printing-select.page\r\n",
      "/usr/share/help/pa/gnome-help/printing-setup-default-printer.page\r\n",
      "/usr/share/help/pa/gnome-help/printing-setup.page\r\n",
      "/usr/share/help/pa/gnome-help/printing-streaks.page\r\n",
      "/usr/share/help/pa/gnome-help/printing-to-file.page\r\n",
      "/usr/share/help/pa/gnome-help/printing.page\r\n",
      "/usr/share/help/pa/gnome-help/figures/printing-select.png\r\n",
      "/usr/share/help/pl/eog/print.page\r\n",
      "/usr/share/help/pl/ubuntu-help/printing-2sided.page\r\n",
      "/usr/share/help/pl/ubuntu-help/printing-cancel-job.page\r\n",
      "/usr/share/help/pl/ubuntu-help/printing-differentsize.page\r\n",
      "/usr/share/help/pl/ubuntu-help/printing-envelopes.page\r\n",
      "/usr/share/help/pl/ubuntu-help/printing-inklevel.page\r\n",
      "/usr/share/help/pl/ubuntu-help/printing-order.page\r\n",
      "/usr/share/help/pl/ubuntu-help/printing-paperjam.page\r\n",
      "/usr/share/help/pl/ubuntu-help/printing-select.page\r\n",
      "/usr/share/help/pl/ubuntu-help/printing-setup-default-printer.page\r\n",
      "/usr/share/help/pl/ubuntu-help/printing-setup.page\r\n",
      "/usr/share/help/pl/ubuntu-help/printing-streaks.page\r\n",
      "/usr/share/help/pl/ubuntu-help/printing.page\r\n",
      "/usr/share/help/pl/ubuntu-help/figures/printing-select.png\r\n",
      "/usr/share/help/pt/ubuntu-help/printing-2sided.page\r\n",
      "/usr/share/help/pt/ubuntu-help/printing-cancel-job.page\r\n",
      "/usr/share/help/pt/ubuntu-help/printing-differentsize.page\r\n",
      "/usr/share/help/pt/ubuntu-help/printing-envelopes.page\r\n",
      "/usr/share/help/pt/ubuntu-help/printing-inklevel.page\r\n",
      "/usr/share/help/pt/ubuntu-help/printing-order.page\r\n",
      "/usr/share/help/pt/ubuntu-help/printing-paperjam.page\r\n",
      "/usr/share/help/pt/ubuntu-help/printing-select.page\r\n",
      "/usr/share/help/pt/ubuntu-help/printing-setup-default-printer.page\r\n",
      "/usr/share/help/pt/ubuntu-help/printing-setup.page\r\n",
      "/usr/share/help/pt/ubuntu-help/printing-streaks.page\r\n",
      "/usr/share/help/pt/ubuntu-help/printing.page\r\n",
      "/usr/share/help/pt/ubuntu-help/figures/printing-select.png\r\n",
      "/usr/share/help/pt_BR/eog/print.page\r\n",
      "/usr/share/help/pt_BR/evince/print-2sided.page\r\n",
      "/usr/share/help/pt_BR/evince/print-booklet.page\r\n",
      "/usr/share/help/pt_BR/evince/print-differentsize.page\r\n",
      "/usr/share/help/pt_BR/evince/print-order.page\r\n",
      "/usr/share/help/pt_BR/evince/print-select.page\r\n",
      "/usr/share/help/pt_BR/evince/printing.page\r\n",
      "/usr/share/help/pt_BR/evince/figures/print-2sided.png\r\n",
      "/usr/share/help/pt_BR/evince/figures/print-select.png\r\n",
      "/usr/share/help/pt_BR/gnome-help/printing-2sided.page\r\n",
      "/usr/share/help/pt_BR/gnome-help/printing-booklet-duplex.page\r\n",
      "/usr/share/help/pt_BR/gnome-help/printing-booklet-singlesided.page\r\n",
      "/usr/share/help/pt_BR/gnome-help/printing-booklet.page\r\n",
      "/usr/share/help/pt_BR/gnome-help/printing-cancel-job.page\r\n",
      "/usr/share/help/pt_BR/gnome-help/printing-differentsize.page\r\n",
      "/usr/share/help/pt_BR/gnome-help/printing-envelopes.page\r\n",
      "/usr/share/help/pt_BR/gnome-help/printing-inklevel.page\r\n",
      "/usr/share/help/pt_BR/gnome-help/printing-name-location.page\r\n",
      "/usr/share/help/pt_BR/gnome-help/printing-order.page\r\n",
      "/usr/share/help/pt_BR/gnome-help/printing-paperjam.page\r\n",
      "/usr/share/help/pt_BR/gnome-help/printing-select.page\r\n",
      "/usr/share/help/pt_BR/gnome-help/printing-setup-default-printer.page\r\n",
      "/usr/share/help/pt_BR/gnome-help/printing-setup.page\r\n",
      "/usr/share/help/pt_BR/gnome-help/printing-streaks.page\r\n",
      "/usr/share/help/pt_BR/gnome-help/printing-to-file.page\r\n",
      "/usr/share/help/pt_BR/gnome-help/printing.page\r\n",
      "/usr/share/help/pt_BR/gnome-help/figures/printing-select.png\r\n",
      "/usr/share/help/pt_BR/gnome-sudoku/print-blank-puzzles.page\r\n",
      "/usr/share/help/pt_BR/gnome-sudoku/print-inprogress-game.page\r\n",
      "/usr/share/help/pt_BR/ubuntu-help/printing-2sided.page\r\n",
      "/usr/share/help/pt_BR/ubuntu-help/printing-cancel-job.page\r\n",
      "/usr/share/help/pt_BR/ubuntu-help/printing-differentsize.page\r\n",
      "/usr/share/help/pt_BR/ubuntu-help/printing-envelopes.page\r\n",
      "/usr/share/help/pt_BR/ubuntu-help/printing-inklevel.page\r\n",
      "/usr/share/help/pt_BR/ubuntu-help/printing-order.page\r\n",
      "/usr/share/help/pt_BR/ubuntu-help/printing-paperjam.page\r\n",
      "/usr/share/help/pt_BR/ubuntu-help/printing-select.page\r\n",
      "/usr/share/help/pt_BR/ubuntu-help/printing-setup-default-printer.page\r\n",
      "/usr/share/help/pt_BR/ubuntu-help/printing-setup.page\r\n",
      "/usr/share/help/pt_BR/ubuntu-help/printing-streaks.page\r\n",
      "/usr/share/help/pt_BR/ubuntu-help/printing.page\r\n",
      "/usr/share/help/pt_BR/ubuntu-help/figures/printing-select.png\r\n",
      "/usr/share/help/ro/ubuntu-help/printing-2sided.page\r\n",
      "/usr/share/help/ro/ubuntu-help/printing-cancel-job.page\r\n",
      "/usr/share/help/ro/ubuntu-help/printing-differentsize.page\r\n",
      "/usr/share/help/ro/ubuntu-help/printing-envelopes.page\r\n",
      "/usr/share/help/ro/ubuntu-help/printing-inklevel.page\r\n",
      "/usr/share/help/ro/ubuntu-help/printing-order.page\r\n",
      "/usr/share/help/ro/ubuntu-help/printing-paperjam.page\r\n",
      "/usr/share/help/ro/ubuntu-help/printing-select.page\r\n",
      "/usr/share/help/ro/ubuntu-help/printing-setup-default-printer.page\r\n",
      "/usr/share/help/ro/ubuntu-help/printing-setup.page\r\n",
      "/usr/share/help/ro/ubuntu-help/printing-streaks.page\r\n",
      "/usr/share/help/ro/ubuntu-help/printing.page\r\n",
      "/usr/share/help/ro/ubuntu-help/figures/printing-select.png\r\n",
      "/usr/share/help/ru/eog/print.page\r\n",
      "/usr/share/help/ru/evince/print-2sided.page\r\n",
      "/usr/share/help/ru/evince/print-booklet.page\r\n",
      "/usr/share/help/ru/evince/print-differentsize.page\r\n",
      "/usr/share/help/ru/evince/print-order.page\r\n",
      "/usr/share/help/ru/evince/print-select.page\r\n",
      "/usr/share/help/ru/evince/printing.page\r\n",
      "/usr/share/help/ru/evince/figures/print-2sided.png\r\n",
      "/usr/share/help/ru/evince/figures/print-select.png\r\n",
      "/usr/share/help/ru/gnome-help/printing-2sided.page\r\n",
      "/usr/share/help/ru/gnome-help/printing-booklet-duplex.page\r\n",
      "/usr/share/help/ru/gnome-help/printing-booklet-singlesided.page\r\n",
      "/usr/share/help/ru/gnome-help/printing-booklet.page\r\n",
      "/usr/share/help/ru/gnome-help/printing-cancel-job.page\r\n",
      "/usr/share/help/ru/gnome-help/printing-differentsize.page\r\n",
      "/usr/share/help/ru/gnome-help/printing-envelopes.page\r\n",
      "/usr/share/help/ru/gnome-help/printing-inklevel.page\r\n",
      "/usr/share/help/ru/gnome-help/printing-name-location.page\r\n",
      "/usr/share/help/ru/gnome-help/printing-order.page\r\n",
      "/usr/share/help/ru/gnome-help/printing-paperjam.page\r\n",
      "/usr/share/help/ru/gnome-help/printing-select.page\r\n",
      "/usr/share/help/ru/gnome-help/printing-setup-default-printer.page\r\n",
      "/usr/share/help/ru/gnome-help/printing-setup.page\r\n",
      "/usr/share/help/ru/gnome-help/printing-streaks.page\r\n",
      "/usr/share/help/ru/gnome-help/printing-to-file.page\r\n",
      "/usr/share/help/ru/gnome-help/printing.page\r\n",
      "/usr/share/help/ru/gnome-help/figures/printing-select.png\r\n",
      "/usr/share/help/ru/gnome-sudoku/print-blank-puzzles.page\r\n",
      "/usr/share/help/ru/gnome-sudoku/print-inprogress-game.page\r\n",
      "/usr/share/help/ru/ubuntu-help/printing-2sided.page\r\n",
      "/usr/share/help/ru/ubuntu-help/printing-cancel-job.page\r\n",
      "/usr/share/help/ru/ubuntu-help/printing-differentsize.page\r\n",
      "/usr/share/help/ru/ubuntu-help/printing-envelopes.page\r\n",
      "/usr/share/help/ru/ubuntu-help/printing-inklevel.page\r\n",
      "/usr/share/help/ru/ubuntu-help/printing-order.page\r\n",
      "/usr/share/help/ru/ubuntu-help/printing-paperjam.page\r\n",
      "/usr/share/help/ru/ubuntu-help/printing-select.page\r\n",
      "/usr/share/help/ru/ubuntu-help/printing-setup-default-printer.page\r\n",
      "/usr/share/help/ru/ubuntu-help/printing-setup.page\r\n",
      "/usr/share/help/ru/ubuntu-help/printing-streaks.page\r\n",
      "/usr/share/help/ru/ubuntu-help/printing.page\r\n",
      "/usr/share/help/ru/ubuntu-help/figures/printing-select.png\r\n",
      "/usr/share/help/si/ubuntu-help/printing-2sided.page\r\n",
      "/usr/share/help/si/ubuntu-help/printing-cancel-job.page\r\n",
      "/usr/share/help/si/ubuntu-help/printing-differentsize.page\r\n",
      "/usr/share/help/si/ubuntu-help/printing-envelopes.page\r\n",
      "/usr/share/help/si/ubuntu-help/printing-inklevel.page\r\n",
      "/usr/share/help/si/ubuntu-help/printing-order.page\r\n",
      "/usr/share/help/si/ubuntu-help/printing-paperjam.page\r\n",
      "/usr/share/help/si/ubuntu-help/printing-select.page\r\n",
      "/usr/share/help/si/ubuntu-help/printing-setup-default-printer.page\r\n",
      "/usr/share/help/si/ubuntu-help/printing-setup.page\r\n",
      "/usr/share/help/si/ubuntu-help/printing-streaks.page\r\n",
      "/usr/share/help/si/ubuntu-help/printing.page\r\n",
      "/usr/share/help/si/ubuntu-help/figures/printing-select.png\r\n",
      "/usr/share/help/sk/ubuntu-help/printing-2sided.page\r\n",
      "/usr/share/help/sk/ubuntu-help/printing-cancel-job.page\r\n",
      "/usr/share/help/sk/ubuntu-help/printing-differentsize.page\r\n",
      "/usr/share/help/sk/ubuntu-help/printing-envelopes.page\r\n",
      "/usr/share/help/sk/ubuntu-help/printing-inklevel.page\r\n",
      "/usr/share/help/sk/ubuntu-help/printing-order.page\r\n",
      "/usr/share/help/sk/ubuntu-help/printing-paperjam.page\r\n",
      "/usr/share/help/sk/ubuntu-help/printing-select.page\r\n",
      "/usr/share/help/sk/ubuntu-help/printing-setup-default-printer.page\r\n",
      "/usr/share/help/sk/ubuntu-help/printing-setup.page\r\n",
      "/usr/share/help/sk/ubuntu-help/printing-streaks.page\r\n",
      "/usr/share/help/sk/ubuntu-help/printing.page\r\n",
      "/usr/share/help/sk/ubuntu-help/figures/printing-select.png\r\n",
      "/usr/share/help/sl/eog/print.page\r\n",
      "/usr/share/help/sl/evince/print-2sided.page\r\n",
      "/usr/share/help/sl/evince/print-booklet.page\r\n",
      "/usr/share/help/sl/evince/print-differentsize.page\r\n",
      "/usr/share/help/sl/evince/print-order.page\r\n",
      "/usr/share/help/sl/evince/print-select.page\r\n",
      "/usr/share/help/sl/evince/printing.page\r\n",
      "/usr/share/help/sl/evince/figures/print-2sided.png\r\n",
      "/usr/share/help/sl/evince/figures/print-select.png\r\n",
      "/usr/share/help/sl/gnome-help/printing-2sided.page\r\n",
      "/usr/share/help/sl/gnome-help/printing-booklet-duplex.page\r\n",
      "/usr/share/help/sl/gnome-help/printing-booklet-singlesided.page\r\n",
      "/usr/share/help/sl/gnome-help/printing-booklet.page\r\n",
      "/usr/share/help/sl/gnome-help/printing-cancel-job.page\r\n",
      "/usr/share/help/sl/gnome-help/printing-differentsize.page\r\n",
      "/usr/share/help/sl/gnome-help/printing-envelopes.page\r\n",
      "/usr/share/help/sl/gnome-help/printing-inklevel.page\r\n",
      "/usr/share/help/sl/gnome-help/printing-name-location.page\r\n",
      "/usr/share/help/sl/gnome-help/printing-order.page\r\n",
      "/usr/share/help/sl/gnome-help/printing-paperjam.page\r\n",
      "/usr/share/help/sl/gnome-help/printing-select.page\r\n",
      "/usr/share/help/sl/gnome-help/printing-setup-default-printer.page\r\n",
      "/usr/share/help/sl/gnome-help/printing-setup.page\r\n",
      "/usr/share/help/sl/gnome-help/printing-streaks.page\r\n",
      "/usr/share/help/sl/gnome-help/printing-to-file.page\r\n",
      "/usr/share/help/sl/gnome-help/printing.page\r\n",
      "/usr/share/help/sl/gnome-help/figures/printing-select.png\r\n",
      "/usr/share/help/sl/gnome-sudoku/print-blank-puzzles.page\r\n",
      "/usr/share/help/sl/gnome-sudoku/print-inprogress-game.page\r\n",
      "/usr/share/help/sl/ubuntu-help/printing-2sided.page\r\n",
      "/usr/share/help/sl/ubuntu-help/printing-cancel-job.page\r\n",
      "/usr/share/help/sl/ubuntu-help/printing-differentsize.page\r\n",
      "/usr/share/help/sl/ubuntu-help/printing-envelopes.page\r\n",
      "/usr/share/help/sl/ubuntu-help/printing-inklevel.page\r\n",
      "/usr/share/help/sl/ubuntu-help/printing-order.page\r\n",
      "/usr/share/help/sl/ubuntu-help/printing-paperjam.page\r\n",
      "/usr/share/help/sl/ubuntu-help/printing-select.page\r\n",
      "/usr/share/help/sl/ubuntu-help/printing-setup-default-printer.page\r\n",
      "/usr/share/help/sl/ubuntu-help/printing-setup.page\r\n",
      "/usr/share/help/sl/ubuntu-help/printing-streaks.page\r\n",
      "/usr/share/help/sl/ubuntu-help/printing.page\r\n",
      "/usr/share/help/sl/ubuntu-help/figures/printing-select.png\r\n",
      "/usr/share/help/sq/ubuntu-help/printing-2sided.page\r\n",
      "/usr/share/help/sq/ubuntu-help/printing-cancel-job.page\r\n",
      "/usr/share/help/sq/ubuntu-help/printing-differentsize.page\r\n",
      "/usr/share/help/sq/ubuntu-help/printing-envelopes.page\r\n",
      "/usr/share/help/sq/ubuntu-help/printing-inklevel.page\r\n",
      "/usr/share/help/sq/ubuntu-help/printing-order.page\r\n",
      "/usr/share/help/sq/ubuntu-help/printing-paperjam.page\r\n",
      "/usr/share/help/sq/ubuntu-help/printing-select.page\r\n",
      "/usr/share/help/sq/ubuntu-help/printing-setup-default-printer.page\r\n",
      "/usr/share/help/sq/ubuntu-help/printing-setup.page\r\n",
      "/usr/share/help/sq/ubuntu-help/printing-streaks.page\r\n",
      "/usr/share/help/sq/ubuntu-help/printing.page\r\n",
      "/usr/share/help/sq/ubuntu-help/figures/printing-select.png\r\n",
      "/usr/share/help/sr/evince/print-2sided.page\r\n",
      "/usr/share/help/sr/evince/print-booklet.page\r\n",
      "/usr/share/help/sr/evince/print-differentsize.page\r\n",
      "/usr/share/help/sr/evince/print-order.page\r\n",
      "/usr/share/help/sr/evince/print-select.page\r\n",
      "/usr/share/help/sr/evince/printing.page\r\n",
      "/usr/share/help/sr/evince/figures/print-2sided.png\r\n",
      "/usr/share/help/sr/evince/figures/print-select.png\r\n",
      "/usr/share/help/sr/gnome-help/printing-2sided.page\r\n",
      "/usr/share/help/sr/gnome-help/printing-booklet-duplex.page\r\n",
      "/usr/share/help/sr/gnome-help/printing-booklet-singlesided.page\r\n",
      "/usr/share/help/sr/gnome-help/printing-booklet.page\r\n",
      "/usr/share/help/sr/gnome-help/printing-cancel-job.page\r\n",
      "/usr/share/help/sr/gnome-help/printing-differentsize.page\r\n",
      "/usr/share/help/sr/gnome-help/printing-envelopes.page\r\n",
      "/usr/share/help/sr/gnome-help/printing-inklevel.page\r\n",
      "/usr/share/help/sr/gnome-help/printing-name-location.page\r\n",
      "/usr/share/help/sr/gnome-help/printing-order.page\r\n",
      "/usr/share/help/sr/gnome-help/printing-paperjam.page\r\n",
      "/usr/share/help/sr/gnome-help/printing-select.page\r\n",
      "/usr/share/help/sr/gnome-help/printing-setup-default-printer.page\r\n",
      "/usr/share/help/sr/gnome-help/printing-setup.page\r\n",
      "/usr/share/help/sr/gnome-help/printing-streaks.page\r\n",
      "/usr/share/help/sr/gnome-help/printing-to-file.page\r\n",
      "/usr/share/help/sr/gnome-help/printing.page\r\n",
      "/usr/share/help/sr/gnome-help/figures/printing-select.png\r\n",
      "/usr/share/help/sr/gnome-sudoku/print-blank-puzzles.page\r\n",
      "/usr/share/help/sr/gnome-sudoku/print-inprogress-game.page\r\n",
      "/usr/share/help/sr/ubuntu-help/printing-2sided.page\r\n",
      "/usr/share/help/sr/ubuntu-help/printing-cancel-job.page\r\n",
      "/usr/share/help/sr/ubuntu-help/printing-differentsize.page\r\n",
      "/usr/share/help/sr/ubuntu-help/printing-envelopes.page\r\n",
      "/usr/share/help/sr/ubuntu-help/printing-inklevel.page\r\n",
      "/usr/share/help/sr/ubuntu-help/printing-order.page\r\n",
      "/usr/share/help/sr/ubuntu-help/printing-paperjam.page\r\n",
      "/usr/share/help/sr/ubuntu-help/printing-select.page\r\n",
      "/usr/share/help/sr/ubuntu-help/printing-setup-default-printer.page\r\n",
      "/usr/share/help/sr/ubuntu-help/printing-setup.page\r\n",
      "/usr/share/help/sr/ubuntu-help/printing-streaks.page\r\n",
      "/usr/share/help/sr/ubuntu-help/printing.page\r\n",
      "/usr/share/help/sr/ubuntu-help/figures/printing-select.png\r\n",
      "/usr/share/help/sr@latin/gnome-help/printing-2sided.page\r\n",
      "/usr/share/help/sr@latin/gnome-help/printing-booklet-duplex.page\r\n",
      "/usr/share/help/sr@latin/gnome-help/printing-booklet-singlesided.page\r\n",
      "/usr/share/help/sr@latin/gnome-help/printing-booklet.page\r\n",
      "/usr/share/help/sr@latin/gnome-help/printing-cancel-job.page\r\n",
      "/usr/share/help/sr@latin/gnome-help/printing-differentsize.page\r\n",
      "/usr/share/help/sr@latin/gnome-help/printing-envelopes.page\r\n",
      "/usr/share/help/sr@latin/gnome-help/printing-inklevel.page\r\n",
      "/usr/share/help/sr@latin/gnome-help/printing-name-location.page\r\n",
      "/usr/share/help/sr@latin/gnome-help/printing-order.page\r\n",
      "/usr/share/help/sr@latin/gnome-help/printing-paperjam.page\r\n",
      "/usr/share/help/sr@latin/gnome-help/printing-select.page\r\n",
      "/usr/share/help/sr@latin/gnome-help/printing-setup-default-printer.page\r\n",
      "/usr/share/help/sr@latin/gnome-help/printing-setup.page\r\n",
      "/usr/share/help/sr@latin/gnome-help/printing-streaks.page\r\n",
      "/usr/share/help/sr@latin/gnome-help/printing-to-file.page\r\n",
      "/usr/share/help/sr@latin/gnome-help/printing.page\r\n",
      "/usr/share/help/sr@latin/gnome-help/figures/printing-select.png\r\n",
      "/usr/share/help/sr@latin/gnome-sudoku/print-blank-puzzles.page\r\n",
      "/usr/share/help/sr@latin/gnome-sudoku/print-inprogress-game.page\r\n",
      "/usr/share/help/sv/eog/print.page\r\n",
      "/usr/share/help/sv/evince/print-2sided.page\r\n",
      "/usr/share/help/sv/evince/print-booklet.page\r\n",
      "/usr/share/help/sv/evince/print-differentsize.page\r\n",
      "/usr/share/help/sv/evince/print-order.page\r\n",
      "/usr/share/help/sv/evince/print-select.page\r\n",
      "/usr/share/help/sv/evince/printing.page\r\n",
      "/usr/share/help/sv/evince/figures/print-2sided.png\r\n",
      "/usr/share/help/sv/evince/figures/print-select.png\r\n",
      "/usr/share/help/sv/gnome-help/printing-2sided.page\r\n",
      "/usr/share/help/sv/gnome-help/printing-booklet-duplex.page\r\n",
      "/usr/share/help/sv/gnome-help/printing-booklet-singlesided.page\r\n",
      "/usr/share/help/sv/gnome-help/printing-booklet.page\r\n",
      "/usr/share/help/sv/gnome-help/printing-cancel-job.page\r\n",
      "/usr/share/help/sv/gnome-help/printing-differentsize.page\r\n",
      "/usr/share/help/sv/gnome-help/printing-envelopes.page\r\n",
      "/usr/share/help/sv/gnome-help/printing-inklevel.page\r\n",
      "/usr/share/help/sv/gnome-help/printing-name-location.page\r\n",
      "/usr/share/help/sv/gnome-help/printing-order.page\r\n",
      "/usr/share/help/sv/gnome-help/printing-paperjam.page\r\n",
      "/usr/share/help/sv/gnome-help/printing-select.page\r\n",
      "/usr/share/help/sv/gnome-help/printing-setup-default-printer.page\r\n",
      "/usr/share/help/sv/gnome-help/printing-setup.page\r\n",
      "/usr/share/help/sv/gnome-help/printing-streaks.page\r\n",
      "/usr/share/help/sv/gnome-help/printing-to-file.page\r\n",
      "/usr/share/help/sv/gnome-help/printing.page\r\n",
      "/usr/share/help/sv/gnome-help/figures/printing-select.png\r\n",
      "/usr/share/help/sv/gnome-sudoku/print-blank-puzzles.page\r\n",
      "/usr/share/help/sv/gnome-sudoku/print-inprogress-game.page\r\n",
      "/usr/share/help/sv/ubuntu-help/printing-2sided.page\r\n",
      "/usr/share/help/sv/ubuntu-help/printing-cancel-job.page\r\n",
      "/usr/share/help/sv/ubuntu-help/printing-differentsize.page\r\n",
      "/usr/share/help/sv/ubuntu-help/printing-envelopes.page\r\n",
      "/usr/share/help/sv/ubuntu-help/printing-inklevel.page\r\n",
      "/usr/share/help/sv/ubuntu-help/printing-order.page\r\n",
      "/usr/share/help/sv/ubuntu-help/printing-paperjam.page\r\n",
      "/usr/share/help/sv/ubuntu-help/printing-select.page\r\n",
      "/usr/share/help/sv/ubuntu-help/printing-setup-default-printer.page\r\n",
      "/usr/share/help/sv/ubuntu-help/printing-setup.page\r\n",
      "/usr/share/help/sv/ubuntu-help/printing-streaks.page\r\n",
      "/usr/share/help/sv/ubuntu-help/printing.page\r\n",
      "/usr/share/help/sv/ubuntu-help/figures/printing-select.png\r\n",
      "/usr/share/help/ta/ubuntu-help/printing-2sided.page\r\n",
      "/usr/share/help/ta/ubuntu-help/printing-cancel-job.page\r\n",
      "/usr/share/help/ta/ubuntu-help/printing-differentsize.page\r\n",
      "/usr/share/help/ta/ubuntu-help/printing-envelopes.page\r\n",
      "/usr/share/help/ta/ubuntu-help/printing-inklevel.page\r\n",
      "/usr/share/help/ta/ubuntu-help/printing-order.page\r\n",
      "/usr/share/help/ta/ubuntu-help/printing-paperjam.page\r\n",
      "/usr/share/help/ta/ubuntu-help/printing-select.page\r\n",
      "/usr/share/help/ta/ubuntu-help/printing-setup-default-printer.page\r\n",
      "/usr/share/help/ta/ubuntu-help/printing-setup.page\r\n",
      "/usr/share/help/ta/ubuntu-help/printing-streaks.page\r\n",
      "/usr/share/help/ta/ubuntu-help/printing.page\r\n",
      "/usr/share/help/ta/ubuntu-help/figures/printing-select.png\r\n",
      "/usr/share/help/te/eog/print.page\r\n",
      "/usr/share/help/te/evince/print-2sided.page\r\n",
      "/usr/share/help/te/evince/print-booklet.page\r\n",
      "/usr/share/help/te/evince/print-differentsize.page\r\n",
      "/usr/share/help/te/evince/print-order.page\r\n",
      "/usr/share/help/te/evince/print-select.page\r\n",
      "/usr/share/help/te/evince/printing.page\r\n",
      "/usr/share/help/te/evince/figures/print-2sided.png\r\n",
      "/usr/share/help/te/evince/figures/print-select.png\r\n",
      "/usr/share/help/te/gnome-help/printing-2sided.page\r\n",
      "/usr/share/help/te/gnome-help/printing-booklet-duplex.page\r\n",
      "/usr/share/help/te/gnome-help/printing-booklet-singlesided.page\r\n",
      "/usr/share/help/te/gnome-help/printing-booklet.page\r\n",
      "/usr/share/help/te/gnome-help/printing-cancel-job.page\r\n",
      "/usr/share/help/te/gnome-help/printing-differentsize.page\r\n",
      "/usr/share/help/te/gnome-help/printing-envelopes.page\r\n",
      "/usr/share/help/te/gnome-help/printing-inklevel.page\r\n",
      "/usr/share/help/te/gnome-help/printing-name-location.page\r\n",
      "/usr/share/help/te/gnome-help/printing-order.page\r\n",
      "/usr/share/help/te/gnome-help/printing-paperjam.page\r\n",
      "/usr/share/help/te/gnome-help/printing-select.page\r\n",
      "/usr/share/help/te/gnome-help/printing-setup-default-printer.page\r\n",
      "/usr/share/help/te/gnome-help/printing-setup.page\r\n",
      "/usr/share/help/te/gnome-help/printing-streaks.page\r\n",
      "/usr/share/help/te/gnome-help/printing-to-file.page\r\n",
      "/usr/share/help/te/gnome-help/printing.page\r\n",
      "/usr/share/help/te/gnome-help/figures/printing-select.png\r\n",
      "/usr/share/help/te/ubuntu-help/printing-2sided.page\r\n",
      "/usr/share/help/te/ubuntu-help/printing-cancel-job.page\r\n",
      "/usr/share/help/te/ubuntu-help/printing-differentsize.page\r\n",
      "/usr/share/help/te/ubuntu-help/printing-envelopes.page\r\n",
      "/usr/share/help/te/ubuntu-help/printing-inklevel.page\r\n",
      "/usr/share/help/te/ubuntu-help/printing-order.page\r\n",
      "/usr/share/help/te/ubuntu-help/printing-paperjam.page\r\n",
      "/usr/share/help/te/ubuntu-help/printing-select.page\r\n",
      "/usr/share/help/te/ubuntu-help/printing-setup-default-printer.page\r\n",
      "/usr/share/help/te/ubuntu-help/printing-setup.page\r\n",
      "/usr/share/help/te/ubuntu-help/printing-streaks.page\r\n",
      "/usr/share/help/te/ubuntu-help/printing.page\r\n",
      "/usr/share/help/te/ubuntu-help/figures/printing-select.png\r\n",
      "/usr/share/help/tg/ubuntu-help/printing-2sided.page\r\n",
      "/usr/share/help/tg/ubuntu-help/printing-cancel-job.page\r\n",
      "/usr/share/help/tg/ubuntu-help/printing-differentsize.page\r\n",
      "/usr/share/help/tg/ubuntu-help/printing-envelopes.page\r\n",
      "/usr/share/help/tg/ubuntu-help/printing-inklevel.page\r\n",
      "/usr/share/help/tg/ubuntu-help/printing-order.page\r\n",
      "/usr/share/help/tg/ubuntu-help/printing-paperjam.page\r\n",
      "/usr/share/help/tg/ubuntu-help/printing-select.page\r\n",
      "/usr/share/help/tg/ubuntu-help/printing-setup-default-printer.page\r\n",
      "/usr/share/help/tg/ubuntu-help/printing-setup.page\r\n",
      "/usr/share/help/tg/ubuntu-help/printing-streaks.page\r\n",
      "/usr/share/help/tg/ubuntu-help/printing.page\r\n",
      "/usr/share/help/tg/ubuntu-help/figures/printing-select.png\r\n",
      "/usr/share/help/th/eog/print.page\r\n",
      "/usr/share/help/th/ubuntu-help/printing-2sided.page\r\n",
      "/usr/share/help/th/ubuntu-help/printing-cancel-job.page\r\n",
      "/usr/share/help/th/ubuntu-help/printing-differentsize.page\r\n",
      "/usr/share/help/th/ubuntu-help/printing-envelopes.page\r\n",
      "/usr/share/help/th/ubuntu-help/printing-inklevel.page\r\n",
      "/usr/share/help/th/ubuntu-help/printing-order.page\r\n",
      "/usr/share/help/th/ubuntu-help/printing-paperjam.page\r\n",
      "/usr/share/help/th/ubuntu-help/printing-select.page\r\n",
      "/usr/share/help/th/ubuntu-help/printing-setup-default-printer.page\r\n",
      "/usr/share/help/th/ubuntu-help/printing-setup.page\r\n",
      "/usr/share/help/th/ubuntu-help/printing-streaks.page\r\n",
      "/usr/share/help/th/ubuntu-help/printing.page\r\n",
      "/usr/share/help/th/ubuntu-help/figures/printing-select.png\r\n",
      "/usr/share/help/tl/ubuntu-help/printing-2sided.page\r\n",
      "/usr/share/help/tl/ubuntu-help/printing-cancel-job.page\r\n",
      "/usr/share/help/tl/ubuntu-help/printing-differentsize.page\r\n",
      "/usr/share/help/tl/ubuntu-help/printing-envelopes.page\r\n",
      "/usr/share/help/tl/ubuntu-help/printing-inklevel.page\r\n",
      "/usr/share/help/tl/ubuntu-help/printing-order.page\r\n",
      "/usr/share/help/tl/ubuntu-help/printing-paperjam.page\r\n",
      "/usr/share/help/tl/ubuntu-help/printing-select.page\r\n",
      "/usr/share/help/tl/ubuntu-help/printing-setup-default-printer.page\r\n",
      "/usr/share/help/tl/ubuntu-help/printing-setup.page\r\n",
      "/usr/share/help/tl/ubuntu-help/printing-streaks.page\r\n",
      "/usr/share/help/tl/ubuntu-help/printing.page\r\n",
      "/usr/share/help/tl/ubuntu-help/figures/printing-select.png\r\n",
      "/usr/share/help/tr/ubuntu-help/printing-2sided.page\r\n",
      "/usr/share/help/tr/ubuntu-help/printing-cancel-job.page\r\n",
      "/usr/share/help/tr/ubuntu-help/printing-differentsize.page\r\n",
      "/usr/share/help/tr/ubuntu-help/printing-envelopes.page\r\n",
      "/usr/share/help/tr/ubuntu-help/printing-inklevel.page\r\n",
      "/usr/share/help/tr/ubuntu-help/printing-order.page\r\n",
      "/usr/share/help/tr/ubuntu-help/printing-paperjam.page\r\n",
      "/usr/share/help/tr/ubuntu-help/printing-select.page\r\n",
      "/usr/share/help/tr/ubuntu-help/printing-setup-default-printer.page\r\n",
      "/usr/share/help/tr/ubuntu-help/printing-setup.page\r\n",
      "/usr/share/help/tr/ubuntu-help/printing-streaks.page\r\n",
      "/usr/share/help/tr/ubuntu-help/printing.page\r\n",
      "/usr/share/help/tr/ubuntu-help/figures/printing-select.png\r\n",
      "/usr/share/help/ug/ubuntu-help/printing-2sided.page\r\n",
      "/usr/share/help/ug/ubuntu-help/printing-cancel-job.page\r\n",
      "/usr/share/help/ug/ubuntu-help/printing-differentsize.page\r\n",
      "/usr/share/help/ug/ubuntu-help/printing-envelopes.page\r\n",
      "/usr/share/help/ug/ubuntu-help/printing-inklevel.page\r\n",
      "/usr/share/help/ug/ubuntu-help/printing-order.page\r\n",
      "/usr/share/help/ug/ubuntu-help/printing-paperjam.page\r\n",
      "/usr/share/help/ug/ubuntu-help/printing-select.page\r\n",
      "/usr/share/help/ug/ubuntu-help/printing-setup-default-printer.page\r\n",
      "/usr/share/help/ug/ubuntu-help/printing-setup.page\r\n",
      "/usr/share/help/ug/ubuntu-help/printing-streaks.page\r\n",
      "/usr/share/help/ug/ubuntu-help/printing.page\r\n",
      "/usr/share/help/ug/ubuntu-help/figures/printing-select.png\r\n",
      "/usr/share/help/uk/eog/print.page\r\n",
      "/usr/share/help/uk/evince/print-2sided.page\r\n",
      "/usr/share/help/uk/evince/print-booklet.page\r\n",
      "/usr/share/help/uk/evince/print-differentsize.page\r\n",
      "/usr/share/help/uk/evince/print-order.page\r\n",
      "/usr/share/help/uk/evince/print-select.page\r\n",
      "/usr/share/help/uk/evince/printing.page\r\n",
      "/usr/share/help/uk/evince/figures/print-2sided.png\r\n",
      "/usr/share/help/uk/evince/figures/print-select.png\r\n",
      "/usr/share/help/uk/ubuntu-help/printing-2sided.page\r\n",
      "/usr/share/help/uk/ubuntu-help/printing-cancel-job.page\r\n",
      "/usr/share/help/uk/ubuntu-help/printing-differentsize.page\r\n",
      "/usr/share/help/uk/ubuntu-help/printing-envelopes.page\r\n",
      "/usr/share/help/uk/ubuntu-help/printing-inklevel.page\r\n",
      "/usr/share/help/uk/ubuntu-help/printing-order.page\r\n",
      "/usr/share/help/uk/ubuntu-help/printing-paperjam.page\r\n",
      "/usr/share/help/uk/ubuntu-help/printing-select.page\r\n",
      "/usr/share/help/uk/ubuntu-help/printing-setup-default-printer.page\r\n",
      "/usr/share/help/uk/ubuntu-help/printing-setup.page\r\n",
      "/usr/share/help/uk/ubuntu-help/printing-streaks.page\r\n",
      "/usr/share/help/uk/ubuntu-help/printing.page\r\n",
      "/usr/share/help/uk/ubuntu-help/figures/printing-select.png\r\n",
      "/usr/share/help/ur/ubuntu-help/printing-2sided.page\r\n",
      "/usr/share/help/ur/ubuntu-help/printing-cancel-job.page\r\n",
      "/usr/share/help/ur/ubuntu-help/printing-differentsize.page\r\n",
      "/usr/share/help/ur/ubuntu-help/printing-envelopes.page\r\n",
      "/usr/share/help/ur/ubuntu-help/printing-inklevel.page\r\n",
      "/usr/share/help/ur/ubuntu-help/printing-order.page\r\n",
      "/usr/share/help/ur/ubuntu-help/printing-paperjam.page\r\n",
      "/usr/share/help/ur/ubuntu-help/printing-select.page\r\n",
      "/usr/share/help/ur/ubuntu-help/printing-setup-default-printer.page\r\n",
      "/usr/share/help/ur/ubuntu-help/printing-setup.page\r\n",
      "/usr/share/help/ur/ubuntu-help/printing-streaks.page\r\n",
      "/usr/share/help/ur/ubuntu-help/printing.page\r\n",
      "/usr/share/help/ur/ubuntu-help/figures/printing-select.png\r\n",
      "/usr/share/help/uz/ubuntu-help/printing-2sided.page\r\n",
      "/usr/share/help/uz/ubuntu-help/printing-cancel-job.page\r\n",
      "/usr/share/help/uz/ubuntu-help/printing-differentsize.page\r\n",
      "/usr/share/help/uz/ubuntu-help/printing-envelopes.page\r\n",
      "/usr/share/help/uz/ubuntu-help/printing-inklevel.page\r\n",
      "/usr/share/help/uz/ubuntu-help/printing-order.page\r\n",
      "/usr/share/help/uz/ubuntu-help/printing-paperjam.page\r\n",
      "/usr/share/help/uz/ubuntu-help/printing-select.page\r\n",
      "/usr/share/help/uz/ubuntu-help/printing-setup-default-printer.page\r\n",
      "/usr/share/help/uz/ubuntu-help/printing-setup.page\r\n",
      "/usr/share/help/uz/ubuntu-help/printing-streaks.page\r\n",
      "/usr/share/help/uz/ubuntu-help/printing.page\r\n",
      "/usr/share/help/uz/ubuntu-help/figures/printing-select.png\r\n",
      "/usr/share/help/vi/evince/print-2sided.page\r\n",
      "/usr/share/help/vi/evince/print-booklet.page\r\n",
      "/usr/share/help/vi/evince/print-differentsize.page\r\n",
      "/usr/share/help/vi/evince/print-order.page\r\n",
      "/usr/share/help/vi/evince/print-select.page\r\n",
      "/usr/share/help/vi/evince/printing.page\r\n",
      "/usr/share/help/vi/evince/figures/print-2sided.png\r\n",
      "/usr/share/help/vi/evince/figures/print-select.png\r\n",
      "/usr/share/help/vi/gnome-help/printing-2sided.page\r\n",
      "/usr/share/help/vi/gnome-help/printing-booklet-duplex.page\r\n",
      "/usr/share/help/vi/gnome-help/printing-booklet-singlesided.page\r\n",
      "/usr/share/help/vi/gnome-help/printing-booklet.page\r\n",
      "/usr/share/help/vi/gnome-help/printing-cancel-job.page\r\n",
      "/usr/share/help/vi/gnome-help/printing-differentsize.page\r\n",
      "/usr/share/help/vi/gnome-help/printing-envelopes.page\r\n",
      "/usr/share/help/vi/gnome-help/printing-inklevel.page\r\n",
      "/usr/share/help/vi/gnome-help/printing-name-location.page\r\n",
      "/usr/share/help/vi/gnome-help/printing-order.page\r\n",
      "/usr/share/help/vi/gnome-help/printing-paperjam.page\r\n",
      "/usr/share/help/vi/gnome-help/printing-select.page\r\n",
      "/usr/share/help/vi/gnome-help/printing-setup-default-printer.page\r\n",
      "/usr/share/help/vi/gnome-help/printing-setup.page\r\n",
      "/usr/share/help/vi/gnome-help/printing-streaks.page\r\n",
      "/usr/share/help/vi/gnome-help/printing-to-file.page\r\n",
      "/usr/share/help/vi/gnome-help/printing.page\r\n",
      "/usr/share/help/vi/gnome-help/figures/printing-select.png\r\n",
      "/usr/share/help/zh_CN/eog/print.page\r\n",
      "/usr/share/help/zh_CN/evince/print-2sided.page\r\n",
      "/usr/share/help/zh_CN/evince/print-booklet.page\r\n",
      "/usr/share/help/zh_CN/evince/print-differentsize.page\r\n",
      "/usr/share/help/zh_CN/evince/print-order.page\r\n",
      "/usr/share/help/zh_CN/evince/print-select.page\r\n",
      "/usr/share/help/zh_CN/evince/printing.page\r\n",
      "/usr/share/help/zh_CN/evince/figures/print-2sided.png\r\n",
      "/usr/share/help/zh_CN/evince/figures/print-select.png\r\n",
      "/usr/share/help/zh_CN/gnome-sudoku/print-blank-puzzles.page\r\n",
      "/usr/share/help/zh_CN/gnome-sudoku/print-inprogress-game.page\r\n",
      "/usr/share/help/zh_CN/ubuntu-help/printing-2sided.page\r\n",
      "/usr/share/help/zh_CN/ubuntu-help/printing-cancel-job.page\r\n",
      "/usr/share/help/zh_CN/ubuntu-help/printing-differentsize.page\r\n",
      "/usr/share/help/zh_CN/ubuntu-help/printing-envelopes.page\r\n",
      "/usr/share/help/zh_CN/ubuntu-help/printing-inklevel.page\r\n",
      "/usr/share/help/zh_CN/ubuntu-help/printing-order.page\r\n",
      "/usr/share/help/zh_CN/ubuntu-help/printing-paperjam.page\r\n",
      "/usr/share/help/zh_CN/ubuntu-help/printing-select.page\r\n",
      "/usr/share/help/zh_CN/ubuntu-help/printing-setup-default-printer.page\r\n",
      "/usr/share/help/zh_CN/ubuntu-help/printing-setup.page\r\n",
      "/usr/share/help/zh_CN/ubuntu-help/printing-streaks.page\r\n",
      "/usr/share/help/zh_CN/ubuntu-help/printing.page\r\n",
      "/usr/share/help/zh_CN/ubuntu-help/figures/printing-select.png\r\n",
      "/usr/share/help/zh_HK/evince/print-2sided.page\r\n",
      "/usr/share/help/zh_HK/evince/print-booklet.page\r\n",
      "/usr/share/help/zh_HK/evince/print-differentsize.page\r\n",
      "/usr/share/help/zh_HK/evince/print-order.page\r\n",
      "/usr/share/help/zh_HK/evince/print-select.page\r\n",
      "/usr/share/help/zh_HK/evince/printing.page\r\n",
      "/usr/share/help/zh_HK/evince/figures/print-2sided.png\r\n",
      "/usr/share/help/zh_HK/evince/figures/print-select.png\r\n",
      "/usr/share/help/zh_HK/ubuntu-help/printing-2sided.page\r\n",
      "/usr/share/help/zh_HK/ubuntu-help/printing-cancel-job.page\r\n",
      "/usr/share/help/zh_HK/ubuntu-help/printing-differentsize.page\r\n",
      "/usr/share/help/zh_HK/ubuntu-help/printing-envelopes.page\r\n",
      "/usr/share/help/zh_HK/ubuntu-help/printing-inklevel.page\r\n",
      "/usr/share/help/zh_HK/ubuntu-help/printing-order.page\r\n",
      "/usr/share/help/zh_HK/ubuntu-help/printing-paperjam.page\r\n",
      "/usr/share/help/zh_HK/ubuntu-help/printing-select.page\r\n",
      "/usr/share/help/zh_HK/ubuntu-help/printing-setup-default-printer.page\r\n",
      "/usr/share/help/zh_HK/ubuntu-help/printing-setup.page\r\n",
      "/usr/share/help/zh_HK/ubuntu-help/printing-streaks.page\r\n",
      "/usr/share/help/zh_HK/ubuntu-help/printing.page\r\n",
      "/usr/share/help/zh_HK/ubuntu-help/figures/printing-select.png\r\n",
      "/usr/share/help/zh_TW/eog/print.page\r\n",
      "/usr/share/help/zh_TW/evince/print-2sided.page\r\n",
      "/usr/share/help/zh_TW/evince/print-booklet.page\r\n",
      "/usr/share/help/zh_TW/evince/print-differentsize.page\r\n",
      "/usr/share/help/zh_TW/evince/print-order.page\r\n",
      "/usr/share/help/zh_TW/evince/print-select.page\r\n",
      "/usr/share/help/zh_TW/evince/printing.page\r\n",
      "/usr/share/help/zh_TW/evince/figures/print-2sided.png\r\n",
      "/usr/share/help/zh_TW/evince/figures/print-select.png\r\n",
      "/usr/share/help/zh_TW/ubuntu-help/printing-2sided.page\r\n",
      "/usr/share/help/zh_TW/ubuntu-help/printing-cancel-job.page\r\n",
      "/usr/share/help/zh_TW/ubuntu-help/printing-differentsize.page\r\n",
      "/usr/share/help/zh_TW/ubuntu-help/printing-envelopes.page\r\n",
      "/usr/share/help/zh_TW/ubuntu-help/printing-inklevel.page\r\n",
      "/usr/share/help/zh_TW/ubuntu-help/printing-order.page\r\n",
      "/usr/share/help/zh_TW/ubuntu-help/printing-paperjam.page\r\n",
      "/usr/share/help/zh_TW/ubuntu-help/printing-select.page\r\n",
      "/usr/share/help/zh_TW/ubuntu-help/printing-setup-default-printer.page\r\n",
      "/usr/share/help/zh_TW/ubuntu-help/printing-setup.page\r\n",
      "/usr/share/help/zh_TW/ubuntu-help/printing-streaks.page\r\n",
      "/usr/share/help/zh_TW/ubuntu-help/printing.page\r\n",
      "/usr/share/help/zh_TW/ubuntu-help/figures/printing-select.png\r\n",
      "/usr/share/help-langpack/en_AU/ubuntu-help/printing-2sided.page\r\n",
      "/usr/share/help-langpack/en_AU/ubuntu-help/printing-cancel-job.page\r\n",
      "/usr/share/help-langpack/en_AU/ubuntu-help/printing-differentsize.page\r\n",
      "/usr/share/help-langpack/en_AU/ubuntu-help/printing-envelopes.page\r\n",
      "/usr/share/help-langpack/en_AU/ubuntu-help/printing-inklevel.page\r\n",
      "/usr/share/help-langpack/en_AU/ubuntu-help/printing-order.page\r\n",
      "/usr/share/help-langpack/en_AU/ubuntu-help/printing-paperjam.page\r\n",
      "/usr/share/help-langpack/en_AU/ubuntu-help/printing-select.page\r\n",
      "/usr/share/help-langpack/en_AU/ubuntu-help/printing-setup-default-printer.page\r\n",
      "/usr/share/help-langpack/en_AU/ubuntu-help/printing-setup.page\r\n",
      "/usr/share/help-langpack/en_AU/ubuntu-help/printing-streaks.page\r\n",
      "/usr/share/help-langpack/en_AU/ubuntu-help/printing.page\r\n",
      "/usr/share/help-langpack/en_CA/ubuntu-help/printing-2sided.page\r\n",
      "/usr/share/help-langpack/en_CA/ubuntu-help/printing-cancel-job.page\r\n",
      "/usr/share/help-langpack/en_CA/ubuntu-help/printing-differentsize.page\r\n",
      "/usr/share/help-langpack/en_CA/ubuntu-help/printing-envelopes.page\r\n",
      "/usr/share/help-langpack/en_CA/ubuntu-help/printing-inklevel.page\r\n",
      "/usr/share/help-langpack/en_CA/ubuntu-help/printing-order.page\r\n",
      "/usr/share/help-langpack/en_CA/ubuntu-help/printing-paperjam.page\r\n",
      "/usr/share/help-langpack/en_CA/ubuntu-help/printing-select.page\r\n",
      "/usr/share/help-langpack/en_CA/ubuntu-help/printing-setup-default-printer.page\r\n",
      "/usr/share/help-langpack/en_CA/ubuntu-help/printing-setup.page\r\n",
      "/usr/share/help-langpack/en_CA/ubuntu-help/printing-streaks.page\r\n",
      "/usr/share/help-langpack/en_CA/ubuntu-help/printing.page\r\n",
      "/usr/share/help-langpack/en_GB/eog/print.page\r\n",
      "/usr/share/help-langpack/en_GB/evince/print-2sided.page\r\n",
      "/usr/share/help-langpack/en_GB/evince/print-booklet.page\r\n",
      "/usr/share/help-langpack/en_GB/evince/print-differentsize.page\r\n",
      "/usr/share/help-langpack/en_GB/evince/print-order.page\r\n",
      "/usr/share/help-langpack/en_GB/evince/print-select.page\r\n",
      "/usr/share/help-langpack/en_GB/evince/printing.page\r\n",
      "/usr/share/help-langpack/en_GB/gnome-sudoku/print-blank-puzzles.page\r\n",
      "/usr/share/help-langpack/en_GB/gnome-sudoku/print-inprogress-game.page\r\n",
      "/usr/share/help-langpack/en_GB/ubuntu-help/printing-2sided.page\r\n",
      "/usr/share/help-langpack/en_GB/ubuntu-help/printing-cancel-job.page\r\n",
      "/usr/share/help-langpack/en_GB/ubuntu-help/printing-differentsize.page\r\n",
      "/usr/share/help-langpack/en_GB/ubuntu-help/printing-envelopes.page\r\n",
      "/usr/share/help-langpack/en_GB/ubuntu-help/printing-inklevel.page\r\n",
      "/usr/share/help-langpack/en_GB/ubuntu-help/printing-order.page\r\n",
      "/usr/share/help-langpack/en_GB/ubuntu-help/printing-paperjam.page\r\n",
      "/usr/share/help-langpack/en_GB/ubuntu-help/printing-select.page\r\n",
      "/usr/share/help-langpack/en_GB/ubuntu-help/printing-setup-default-printer.page\r\n",
      "/usr/share/help-langpack/en_GB/ubuntu-help/printing-setup.page\r\n",
      "/usr/share/help-langpack/en_GB/ubuntu-help/printing-streaks.page\r\n",
      "/usr/share/help-langpack/en_GB/ubuntu-help/printing.page\r\n",
      "/usr/share/help-langpack/zh_CN/eog/print.page\r\n",
      "/usr/share/help-langpack/zh_CN/evince/print-2sided.page\r\n",
      "/usr/share/help-langpack/zh_CN/evince/print-booklet.page\r\n",
      "/usr/share/help-langpack/zh_CN/evince/print-differentsize.page\r\n",
      "/usr/share/help-langpack/zh_CN/evince/print-order.page\r\n",
      "/usr/share/help-langpack/zh_CN/evince/print-select.page\r\n",
      "/usr/share/help-langpack/zh_CN/evince/printing.page\r\n",
      "/usr/share/help-langpack/zh_CN/gnome-sudoku/print-blank-puzzles.page\r\n",
      "/usr/share/help-langpack/zh_CN/gnome-sudoku/print-inprogress-game.page\r\n",
      "/usr/share/help-langpack/zh_CN/ubuntu-help/printing-2sided.page\r\n",
      "/usr/share/help-langpack/zh_CN/ubuntu-help/printing-cancel-job.page\r\n",
      "/usr/share/help-langpack/zh_CN/ubuntu-help/printing-differentsize.page\r\n",
      "/usr/share/help-langpack/zh_CN/ubuntu-help/printing-envelopes.page\r\n",
      "/usr/share/help-langpack/zh_CN/ubuntu-help/printing-inklevel.page\r\n",
      "/usr/share/help-langpack/zh_CN/ubuntu-help/printing-order.page\r\n",
      "/usr/share/help-langpack/zh_CN/ubuntu-help/printing-paperjam.page\r\n",
      "/usr/share/help-langpack/zh_CN/ubuntu-help/printing-select.page\r\n",
      "/usr/share/help-langpack/zh_CN/ubuntu-help/printing-setup-default-printer.page\r\n",
      "/usr/share/help-langpack/zh_CN/ubuntu-help/printing-setup.page\r\n",
      "/usr/share/help-langpack/zh_CN/ubuntu-help/printing-streaks.page\r\n",
      "/usr/share/help-langpack/zh_CN/ubuntu-help/printing.page\r\n",
      "/usr/share/help-langpack/zh_HK/evince/print-2sided.page\r\n",
      "/usr/share/help-langpack/zh_HK/evince/print-booklet.page\r\n",
      "/usr/share/help-langpack/zh_HK/evince/print-differentsize.page\r\n",
      "/usr/share/help-langpack/zh_HK/evince/print-order.page\r\n",
      "/usr/share/help-langpack/zh_HK/evince/print-select.page\r\n",
      "/usr/share/help-langpack/zh_HK/evince/printing.page\r\n",
      "/usr/share/help-langpack/zh_HK/ubuntu-help/printing-2sided.page\r\n",
      "/usr/share/help-langpack/zh_HK/ubuntu-help/printing-cancel-job.page\r\n",
      "/usr/share/help-langpack/zh_HK/ubuntu-help/printing-differentsize.page\r\n",
      "/usr/share/help-langpack/zh_HK/ubuntu-help/printing-envelopes.page\r\n",
      "/usr/share/help-langpack/zh_HK/ubuntu-help/printing-inklevel.page\r\n",
      "/usr/share/help-langpack/zh_HK/ubuntu-help/printing-order.page\r\n",
      "/usr/share/help-langpack/zh_HK/ubuntu-help/printing-paperjam.page\r\n",
      "/usr/share/help-langpack/zh_HK/ubuntu-help/printing-select.page\r\n",
      "/usr/share/help-langpack/zh_HK/ubuntu-help/printing-setup-default-printer.page\r\n",
      "/usr/share/help-langpack/zh_HK/ubuntu-help/printing-setup.page\r\n",
      "/usr/share/help-langpack/zh_HK/ubuntu-help/printing-streaks.page\r\n",
      "/usr/share/help-langpack/zh_HK/ubuntu-help/printing.page\r\n",
      "/usr/share/help-langpack/zh_TW/eog/print.page\r\n",
      "/usr/share/help-langpack/zh_TW/evince/print-2sided.page\r\n",
      "/usr/share/help-langpack/zh_TW/evince/print-booklet.page\r\n",
      "/usr/share/help-langpack/zh_TW/evince/print-differentsize.page\r\n",
      "/usr/share/help-langpack/zh_TW/evince/print-order.page\r\n",
      "/usr/share/help-langpack/zh_TW/evince/print-select.page\r\n",
      "/usr/share/help-langpack/zh_TW/evince/printing.page\r\n",
      "/usr/share/help-langpack/zh_TW/ubuntu-help/printing-2sided.page\r\n",
      "/usr/share/help-langpack/zh_TW/ubuntu-help/printing-cancel-job.page\r\n",
      "/usr/share/help-langpack/zh_TW/ubuntu-help/printing-differentsize.page\r\n",
      "/usr/share/help-langpack/zh_TW/ubuntu-help/printing-envelopes.page\r\n",
      "/usr/share/help-langpack/zh_TW/ubuntu-help/printing-inklevel.page\r\n",
      "/usr/share/help-langpack/zh_TW/ubuntu-help/printing-order.page\r\n",
      "/usr/share/help-langpack/zh_TW/ubuntu-help/printing-paperjam.page\r\n",
      "/usr/share/help-langpack/zh_TW/ubuntu-help/printing-select.page\r\n",
      "/usr/share/help-langpack/zh_TW/ubuntu-help/printing-setup-default-printer.page\r\n",
      "/usr/share/help-langpack/zh_TW/ubuntu-help/printing-setup.page\r\n",
      "/usr/share/help-langpack/zh_TW/ubuntu-help/printing-streaks.page\r\n",
      "/usr/share/help-langpack/zh_TW/ubuntu-help/printing.page\r\n",
      "/usr/share/hplip/print.py\r\n",
      "/usr/share/hplip/print.pyc\r\n",
      "/usr/share/hplip/printsettings.py\r\n",
      "/usr/share/hplip/printsettings.pyc\r\n",
      "/usr/share/hplip/data/images/16x16/print.png\r\n",
      "/usr/share/hplip/data/images/32x32/print-disabled.png\r\n",
      "/usr/share/hplip/data/images/32x32/print.png\r\n",
      "/usr/share/hplip/ui4/printdialog.py\r\n",
      "/usr/share/hplip/ui4/printdialog.pyc\r\n",
      "/usr/share/hplip/ui4/printdialog_base.py\r\n",
      "/usr/share/hplip/ui4/printdialog_base.pyc\r\n",
      "/usr/share/hplip/ui4/printernamecombobox.py\r\n",
      "/usr/share/hplip/ui4/printernamecombobox.pyc\r\n",
      "/usr/share/hplip/ui4/printsettingsdialog.py\r\n",
      "/usr/share/hplip/ui4/printsettingsdialog.pyc\r\n",
      "/usr/share/hplip/ui4/printsettingsdialog_base.py\r\n",
      "/usr/share/hplip/ui4/printsettingsdialog_base.pyc\r\n",
      "/usr/share/hplip/ui4/printsettingstoolbox.py\r\n",
      "/usr/share/hplip/ui4/printsettingstoolbox.pyc\r\n",
      "/usr/share/hplip/ui4/printtestpagedialog.py\r\n",
      "/usr/share/hplip/ui4/printtestpagedialog.pyc\r\n",
      "/usr/share/hplip/ui4/printtestpagedialog_base.py\r\n",
      "/usr/share/hplip/ui4/printtestpagedialog_base.pyc\r\n",
      "/usr/share/icons/ContrastHigh-SVG/scalable/devices/printer-remote.svg\r\n",
      "/usr/share/icons/ContrastHigh-SVG/scalable/devices/printer.svg\r\n",
      "/usr/share/icons/ContrastHigh-SVG/scalable/devices/printer1.svg\r\n",
      "/usr/share/icons/ContrastHigh-SVG/scalable/devices/printmgr.svg\r\n",
      "/usr/share/icons/ContrastHigh-SVG/scalable/status/printer-printing.svg\r\n",
      "/usr/share/icons/ContrastHighLargePrint/48x48/devices/printer-remote.png\r\n",
      "/usr/share/icons/ContrastHighLargePrint/48x48/devices/printer.png\r\n",
      "/usr/share/icons/ContrastHighLargePrint/48x48/devices/printer1.png\r\n",
      "/usr/share/icons/ContrastHighLargePrint/48x48/devices/printmgr.png\r\n",
      "/usr/share/icons/ContrastHighLargePrintInverse/48x48/devices/printer-remote.png\r\n",
      "/usr/share/icons/ContrastHighLargePrintInverse/48x48/devices/printer.png\r\n",
      "/usr/share/icons/ContrastHighLargePrintInverse/48x48/devices/printer1.png\r\n",
      "/usr/share/icons/ContrastHighLargePrintInverse/48x48/devices/printmgr.png\r\n",
      "/usr/share/icons/ContrastHighLargePrintInverse/48x48/status/printer-error.png\r\n",
      "/usr/share/icons/ContrastHighLargePrintInverse/48x48/status/printer-printing.png\r\n",
      "/usr/share/icons/HighContrast/16x16/devices/printer-network.png\r\n",
      "/usr/share/icons/HighContrast/16x16/devices/printer.png\r\n",
      "/usr/share/icons/HighContrast/16x16/status/printer-error.png\r\n",
      "/usr/share/icons/HighContrast/16x16/status/printer-printing.png\r\n",
      "/usr/share/icons/HighContrast/16x16/status/printer-warning.png\r\n",
      "/usr/share/icons/HighContrast/22x22/devices/printer-network.png\r\n",
      "/usr/share/icons/HighContrast/22x22/devices/printer.png\r\n",
      "/usr/share/icons/HighContrast/22x22/status/printer-error.png\r\n",
      "/usr/share/icons/HighContrast/22x22/status/printer-printing.png\r\n",
      "/usr/share/icons/HighContrast/22x22/status/printer-warning.png\r\n",
      "/usr/share/icons/HighContrast/24x24/devices/printer-network.png\r\n",
      "/usr/share/icons/HighContrast/24x24/devices/printer.png\r\n",
      "/usr/share/icons/HighContrast/24x24/status/printer-error.png\r\n",
      "/usr/share/icons/HighContrast/24x24/status/printer-printing.png\r\n",
      "/usr/share/icons/HighContrast/24x24/status/printer-warning.png\r\n",
      "/usr/share/icons/HighContrast/256x256/devices/printer-network.png\r\n",
      "/usr/share/icons/HighContrast/256x256/devices/printer.png\r\n",
      "/usr/share/icons/HighContrast/256x256/status/printer-error.png\r\n",
      "/usr/share/icons/HighContrast/256x256/status/printer-printing.png\r\n",
      "/usr/share/icons/HighContrast/256x256/status/printer-warning.png\r\n",
      "/usr/share/icons/HighContrast/32x32/devices/printer-network.png\r\n",
      "/usr/share/icons/HighContrast/32x32/devices/printer.png\r\n",
      "/usr/share/icons/HighContrast/32x32/status/printer-error.png\r\n",
      "/usr/share/icons/HighContrast/32x32/status/printer-printing.png\r\n",
      "/usr/share/icons/HighContrast/32x32/status/printer-warning.png\r\n",
      "/usr/share/icons/HighContrast/48x48/devices/printer-network.png\r\n",
      "/usr/share/icons/HighContrast/48x48/devices/printer.png\r\n",
      "/usr/share/icons/HighContrast/48x48/status/printer-error.png\r\n",
      "/usr/share/icons/HighContrast/48x48/status/printer-printing.png\r\n",
      "/usr/share/icons/HighContrast/48x48/status/printer-warning.png\r\n",
      "/usr/share/icons/HighContrast/scalable/devices/printer.svg\r\n",
      "/usr/share/icons/HighContrast/scalable/status/printer-error.svg\r\n",
      "/usr/share/icons/HighContrast/scalable/status/printer-printing.svg\r\n",
      "/usr/share/icons/Humanity/devices/24/printer-remote.svg\r\n",
      "/usr/share/icons/Humanity/devices/24/printer.svg\r\n",
      "/usr/share/icons/Humanity/devices/24/printer1.svg\r\n",
      "/usr/share/icons/Humanity/devices/24/printmgr.svg\r\n",
      "/usr/share/icons/Humanity/devices/48/printer-remote.svg\r\n",
      "/usr/share/icons/Humanity/devices/48/printer.svg\r\n",
      "/usr/share/icons/Humanity/devices/48/printer1.svg\r\n",
      "/usr/share/icons/Humanity/devices/48/printmgr.svg\r\n",
      "/usr/share/icons/Humanity/status/48/printer-error.svg\r\n",
      "/usr/share/icons/Humanity/status/48/printer-printing.svg\r\n",
      "/usr/share/icons/gnome/scalable/devices/printer-network-symbolic.svg\r\n",
      "/usr/share/icons/gnome/scalable/devices/printer-symbolic.svg\r\n",
      "/usr/share/icons/gnome/scalable/status/printer-error-symbolic.svg\r\n",
      "/usr/share/icons/gnome/scalable/status/printer-printing-symbolic.svg\r\n",
      "/usr/share/icons/gnome/scalable/status/printer-warning-symbolic.svg\r\n",
      "/usr/share/icons/mate/16x16/devices/printer-remote.png\r\n",
      "/usr/share/icons/mate/16x16/devices/printer.png\r\n",
      "/usr/share/icons/mate/16x16/devices/printer1.png\r\n",
      "/usr/share/icons/mate/16x16/devices/printmgr.png\r\n",
      "/usr/share/icons/mate/16x16/status/printer-error.png\r\n",
      "/usr/share/icons/mate/16x16/status/printer-printing.png\r\n",
      "/usr/share/icons/mate/22x22/devices/printer-remote.png\r\n",
      "/usr/share/icons/mate/22x22/devices/printer.png\r\n",
      "/usr/share/icons/mate/22x22/devices/printer1.png\r\n",
      "/usr/share/icons/mate/22x22/devices/printmgr.png\r\n",
      "/usr/share/icons/mate/22x22/status/printer-error.png\r\n",
      "/usr/share/icons/mate/22x22/status/printer-printing.png\r\n",
      "/usr/share/icons/mate/24x24/devices/printer-remote.png\r\n",
      "/usr/share/icons/mate/24x24/devices/printer.png\r\n",
      "/usr/share/icons/mate/24x24/devices/printer1.png\r\n",
      "/usr/share/icons/mate/24x24/devices/printmgr.png\r\n",
      "/usr/share/icons/mate/24x24/status/printer-error.png\r\n",
      "/usr/share/icons/mate/24x24/status/printer-printing.png\r\n",
      "/usr/share/icons/mate/256x256/devices/printer-remote.png\r\n",
      "/usr/share/icons/mate/256x256/devices/printer.png\r\n",
      "/usr/share/icons/mate/256x256/devices/printer1.png\r\n",
      "/usr/share/icons/mate/256x256/devices/printmgr.png\r\n",
      "/usr/share/icons/mate/256x256/status/printer-error.png\r\n",
      "/usr/share/icons/mate/256x256/status/printer-printing.png\r\n",
      "/usr/share/icons/mate/32x32/devices/printer-remote.png\r\n",
      "/usr/share/icons/mate/32x32/devices/printer.png\r\n",
      "/usr/share/icons/mate/32x32/devices/printer1.png\r\n",
      "/usr/share/icons/mate/32x32/devices/printmgr.png\r\n",
      "/usr/share/icons/mate/32x32/status/printer-error.png\r\n",
      "/usr/share/icons/mate/32x32/status/printer-printing.png\r\n",
      "/usr/share/icons/mate/48x48/devices/printer-remote.png\r\n",
      "/usr/share/icons/mate/48x48/devices/printer.png\r\n",
      "/usr/share/icons/mate/48x48/devices/printer1.png\r\n",
      "/usr/share/icons/mate/48x48/devices/printmgr.png\r\n",
      "/usr/share/icons/mate/48x48/status/printer-error.png\r\n",
      "/usr/share/icons/mate/48x48/status/printer-printing.png\r\n",
      "/usr/share/icons/mate/scalable/devices/printer-network-symbolic.svg\r\n",
      "/usr/share/icons/mate/scalable/devices/printer-symbolic.svg\r\n",
      "/usr/share/icons/mate/scalable/status/printer-error-symbolic.svg\r\n",
      "/usr/share/icons/mate/scalable/status/printer-printing-symbolic.svg\r\n",
      "/usr/share/icons/mate/scalable/status/printer-warning-symbolic.svg\r\n",
      "/usr/share/icons/oxygen/128x128/devices/printer-laser.png\r\n",
      "/usr/share/icons/oxygen/128x128/devices/printer.png\r\n",
      "/usr/share/icons/oxygen/16x16/devices/printer.png\r\n",
      "/usr/share/icons/oxygen/16x16/status/printer-error.png\r\n",
      "/usr/share/icons/oxygen/16x16/status/printer-printing.png\r\n",
      "/usr/share/icons/oxygen/22x22/devices/printer.png\r\n",
      "/usr/share/icons/oxygen/22x22/status/printer-error.png\r\n",
      "/usr/share/icons/oxygen/22x22/status/printer-printing.png\r\n",
      "/usr/share/icons/oxygen/256x256/devices/printer-laser.png\r\n",
      "/usr/share/icons/oxygen/32x32/devices/printer-laser.png\r\n",
      "/usr/share/icons/oxygen/32x32/devices/printer.png\r\n",
      "/usr/share/icons/oxygen/32x32/status/printer-error.png\r\n",
      "/usr/share/icons/oxygen/32x32/status/printer-printing.png\r\n",
      "/usr/share/icons/oxygen/48x48/devices/printer-laser.png\r\n",
      "/usr/share/icons/oxygen/48x48/devices/printer.png\r\n",
      "/usr/share/icons/oxygen/48x48/status/printer-error.png\r\n",
      "/usr/share/icons/oxygen/48x48/status/printer-printing.png\r\n",
      "/usr/share/icons/oxygen/64x64/devices/printer-laser.png\r\n",
      "/usr/share/icons/oxygen/64x64/devices/printer.png\r\n",
      "/usr/share/icons/ubuntu-mono-dark/status/16/printer-symbolic.svg\r\n",
      "/usr/share/icons/ubuntu-mono-dark/status/22/printer-symbolic.svg\r\n",
      "/usr/share/icons/ubuntu-mono-dark/status/24/printer-symbolic.svg\r\n",
      "/usr/share/icons/ubuntu-mono-light/status/16/printer-symbolic.svg\r\n",
      "/usr/share/icons/ubuntu-mono-light/status/22/printer-symbolic.svg\r\n",
      "/usr/share/icons/ubuntu-mono-light/status/24/printer-symbolic.svg\r\n",
      "/usr/share/kde4/apps/desktoptheme/default/icons/printer.svgz\r\n",
      "/usr/share/liblouis/tables/printables.cti\r\n",
      "/usr/share/lintian/overrides/printer-driver-foo2zjs\r\n",
      "/usr/share/lintian/overrides/printer-driver-gutenprint\r\n",
      "/usr/share/lintian/overrides/printer-driver-hpcups\r\n",
      "/usr/share/man/de/man1/printafm.1.gz\r\n",
      "/usr/share/man/de/man5/printers.conf.5.gz\r\n",
      "/usr/share/man/fr/man5/printers.conf.5.gz\r\n",
      "/usr/share/man/man1/print.1.gz\r\n",
      "/usr/share/man/man1/printafm.1.gz\r\n",
      "/usr/share/man/man1/printenv.1.gz\r\n",
      "/usr/share/man/man1/printer-profile.1.gz\r\n",
      "/usr/share/man/man1/printerbanner.1.gz\r\n",
      "/usr/share/man/man1/printf.1.gz\r\n",
      "/usr/share/man/man1/printsextract.1e.gz\r\n",
      "/usr/share/man/man3/printf.3.gz\r\n",
      "/usr/share/man/man5/printers.conf.5.gz\r\n",
      "/usr/share/mate-control-center/pixmaps/print_error.png\r\n",
      "/usr/share/mate-control-center/pixmaps/print_error.svg\r\n",
      "/usr/share/mate-control-center/pixmaps/print_ok.png\r\n",
      "/usr/share/mate-control-center/pixmaps/print_ok.svg\r\n",
      "/usr/share/pyshared/cvxopt/printing.py\r\n",
      "/usr/share/qtcreator/qbs/share/qbs/modules/Qt/printsupport\r\n",
      "/usr/share/qtcreator/qbs/share/qbs/modules/Qt/printsupport/printsupport.qbs\r\n",
      "/usr/share/sphinx/themes/scrolls/static/print.css\r\n",
      "/usr/share/system-config-printer/printerproperties.py\r\n",
      "/usr/share/system-config-printer/printerproperties.pyc\r\n",
      "/usr/share/tcltk/bwidget1.9.7/images/print.gif\r\n",
      "/usr/share/terminfo/p/printer\r\n",
      "/usr/share/texlive/texmf-dist/tex/latex/printlen\r\n",
      "/usr/share/texlive/texmf-dist/tex/latex/printlen/printlen.sty\r\n",
      "/usr/share/texlive/texmf-dist/tex/latex/sudokubundle/printsudoku.sty\r\n",
      "/usr/share/texlive/texmf-dist/tex/texsis/base/printfont.txs\r\n",
      "/usr/share/themes/ContrastHighLargePrint/pixmaps/printer-broken.png\r\n",
      "/usr/share/themes/ContrastHighLargePrint/pixmaps/printer-default.png\r\n",
      "/usr/share/themes/ContrastHighLargePrint/pixmaps/printer-inkjet.png\r\n",
      "/usr/share/themes/ContrastHighLargePrint/pixmaps/printer-personal-laser.png\r\n",
      "/usr/share/themes/ContrastHighLargePrint/pixmaps/printer-workgroup-laser.png\r\n",
      "/usr/share/themes/ContrastHighLargePrintInverse/pixmaps/printer-broken.png\r\n",
      "/usr/share/themes/ContrastHighLargePrintInverse/pixmaps/printer-default.png\r\n",
      "/usr/share/themes/ContrastHighLargePrintInverse/pixmaps/printer-inkjet.png\r\n",
      "/usr/share/themes/ContrastHighLargePrintInverse/pixmaps/printer-personal-laser.png\r\n",
      "/usr/share/themes/ContrastHighLargePrintInverse/pixmaps/printer-workgroup-laser.png\r\n",
      "/usr/share/themes/ContrastLowLargePrint/pixmaps/printer-broken.png\r\n",
      "/usr/share/themes/ContrastLowLargePrint/pixmaps/printer-default.png\r\n",
      "/usr/share/themes/ContrastLowLargePrint/pixmaps/printer-inkjet.png\r\n",
      "/usr/share/themes/ContrastLowLargePrint/pixmaps/printer-personal-laser.png\r\n",
      "/usr/share/themes/ContrastLowLargePrint/pixmaps/printer-workgroup-laser.png\r\n",
      "/usr/share/unity-control-center/ui/printers\r\n",
      "/usr/share/unity-control-center/ui/printers/printers.ui\r\n",
      "/usr/share/vim/vim74/print\r\n",
      "/usr/share/vim/vim74/doc/print.txt\r\n",
      "/usr/share/xfig/Libraries/Computers/printer.fig\r\n",
      "/usr/share/xfig/Libraries/Computers/printer2.fig\r\n",
      "/usr/share/xfig/Libraries/Computers/printer3.fig\r\n",
      "/usr/share/xml/docbook/stylesheet/docbook-xsl/slides/s5/ui/default/print.css\r\n",
      "/usr/src/linux-headers-3.13.0-48/include/linux/printk.h\r\n",
      "/usr/src/linux-headers-3.13.0-48/include/trace/events/printk.h\r\n",
      "/usr/src/linux-headers-3.13.0-48/kernel/printk\r\n",
      "/usr/src/linux-headers-3.13.0-48-generic/include/config/printer.h\r\n",
      "/usr/src/linux-headers-3.13.0-48-generic/include/config/printk\r\n",
      "/usr/src/linux-headers-3.13.0-48-generic/include/config/printk.h\r\n",
      "/usr/src/linux-headers-3.13.0-48-generic/include/config/aic79xx/reg/pretty/print.h\r\n",
      "/usr/src/linux-headers-3.13.0-48-generic/include/config/aic7xxx/reg/pretty/print.h\r\n",
      "/usr/src/linux-headers-3.13.0-48-generic/include/config/binary/printf.h\r\n",
      "/usr/src/linux-headers-3.13.0-48-generic/include/config/boot/printk\r\n",
      "/usr/src/linux-headers-3.13.0-48-generic/include/config/early/printk\r\n",
      "/usr/src/linux-headers-3.13.0-48-generic/include/config/early/printk.h\r\n",
      "/usr/src/linux-headers-3.13.0-48-generic/include/config/tty/printk.h\r\n",
      "/usr/src/linux-headers-3.13.0-48-generic/include/config/usb/printer.h\r\n",
      "/usr/src/linux-headers-3.13.0-48-generic/include/config/usb/g/printer.h\r\n",
      "/usr/src/linux-headers-3.13.0-48-generic/include/linux/printk.h\r\n",
      "/usr/src/linux-headers-3.13.0-48-generic/kernel/printk\r\n",
      "/usr/src/linux-headers-3.13.0-49/include/linux/printk.h\r\n",
      "/usr/src/linux-headers-3.13.0-49/include/trace/events/printk.h\r\n",
      "/usr/src/linux-headers-3.13.0-49/kernel/printk\r\n",
      "/usr/src/linux-headers-3.13.0-49-generic/include/config/printer.h\r\n",
      "/usr/src/linux-headers-3.13.0-49-generic/include/config/printk\r\n",
      "/usr/src/linux-headers-3.13.0-49-generic/include/config/printk.h\r\n",
      "/usr/src/linux-headers-3.13.0-49-generic/include/config/aic79xx/reg/pretty/print.h\r\n",
      "/usr/src/linux-headers-3.13.0-49-generic/include/config/aic7xxx/reg/pretty/print.h\r\n",
      "/usr/src/linux-headers-3.13.0-49-generic/include/config/binary/printf.h\r\n",
      "/usr/src/linux-headers-3.13.0-49-generic/include/config/boot/printk\r\n",
      "/usr/src/linux-headers-3.13.0-49-generic/include/config/early/printk\r\n",
      "/usr/src/linux-headers-3.13.0-49-generic/include/config/early/printk.h\r\n",
      "/usr/src/linux-headers-3.13.0-49-generic/include/config/tty/printk.h\r\n",
      "/usr/src/linux-headers-3.13.0-49-generic/include/config/usb/printer.h\r\n",
      "/usr/src/linux-headers-3.13.0-49-generic/include/config/usb/g/printer.h\r\n",
      "/usr/src/linux-headers-3.13.0-49-generic/include/linux/printk.h\r\n",
      "/usr/src/linux-headers-3.13.0-49-generic/kernel/printk\r\n",
      "/usr/src/linux-headers-3.13.0-51/include/linux/printk.h\r\n",
      "/usr/src/linux-headers-3.13.0-51/include/trace/events/printk.h\r\n",
      "/usr/src/linux-headers-3.13.0-51/kernel/printk\r\n",
      "/usr/src/linux-headers-3.13.0-51-generic/include/config/printer.h\r\n",
      "/usr/src/linux-headers-3.13.0-51-generic/include/config/printk\r\n",
      "/usr/src/linux-headers-3.13.0-51-generic/include/config/printk.h\r\n",
      "/usr/src/linux-headers-3.13.0-51-generic/include/config/aic79xx/reg/pretty/print.h\r\n",
      "/usr/src/linux-headers-3.13.0-51-generic/include/config/aic7xxx/reg/pretty/print.h\r\n",
      "/usr/src/linux-headers-3.13.0-51-generic/include/config/binary/printf.h\r\n",
      "/usr/src/linux-headers-3.13.0-51-generic/include/config/boot/printk\r\n",
      "/usr/src/linux-headers-3.13.0-51-generic/include/config/early/printk\r\n",
      "/usr/src/linux-headers-3.13.0-51-generic/include/config/early/printk.h\r\n",
      "/usr/src/linux-headers-3.13.0-51-generic/include/config/tty/printk.h\r\n",
      "/usr/src/linux-headers-3.13.0-51-generic/include/config/usb/printer.h\r\n",
      "/usr/src/linux-headers-3.13.0-51-generic/include/config/usb/g/printer.h\r\n",
      "/usr/src/linux-headers-3.13.0-51-generic/include/linux/printk.h\r\n",
      "/usr/src/linux-headers-3.13.0-51-generic/kernel/printk\r\n",
      "/usr/src/linux-headers-3.13.0-52/include/linux/printk.h\r\n",
      "/usr/src/linux-headers-3.13.0-52/include/trace/events/printk.h\r\n",
      "/usr/src/linux-headers-3.13.0-52/kernel/printk\r\n",
      "/usr/src/linux-headers-3.13.0-52-generic/include/config/printer.h\r\n",
      "/usr/src/linux-headers-3.13.0-52-generic/include/config/printk\r\n",
      "/usr/src/linux-headers-3.13.0-52-generic/include/config/printk.h\r\n",
      "/usr/src/linux-headers-3.13.0-52-generic/include/config/aic79xx/reg/pretty/print.h\r\n",
      "/usr/src/linux-headers-3.13.0-52-generic/include/config/aic7xxx/reg/pretty/print.h\r\n",
      "/usr/src/linux-headers-3.13.0-52-generic/include/config/binary/printf.h\r\n",
      "/usr/src/linux-headers-3.13.0-52-generic/include/config/boot/printk\r\n",
      "/usr/src/linux-headers-3.13.0-52-generic/include/config/early/printk\r\n",
      "/usr/src/linux-headers-3.13.0-52-generic/include/config/early/printk.h\r\n",
      "/usr/src/linux-headers-3.13.0-52-generic/include/config/tty/printk.h\r\n",
      "/usr/src/linux-headers-3.13.0-52-generic/include/config/usb/printer.h\r\n",
      "/usr/src/linux-headers-3.13.0-52-generic/include/config/usb/g/printer.h\r\n",
      "/usr/src/linux-headers-3.13.0-52-generic/include/linux/printk.h\r\n",
      "/usr/src/linux-headers-3.13.0-52-generic/kernel/printk\r\n",
      "/usr/src/linux-headers-3.13.0-53/include/linux/printk.h\r\n",
      "/usr/src/linux-headers-3.13.0-53/include/trace/events/printk.h\r\n",
      "/usr/src/linux-headers-3.13.0-53/kernel/printk\r\n",
      "/usr/src/linux-headers-3.13.0-53-generic/include/config/printer.h\r\n",
      "/usr/src/linux-headers-3.13.0-53-generic/include/config/printk\r\n",
      "/usr/src/linux-headers-3.13.0-53-generic/include/config/printk.h\r\n",
      "/usr/src/linux-headers-3.13.0-53-generic/include/config/aic79xx/reg/pretty/print.h\r\n",
      "/usr/src/linux-headers-3.13.0-53-generic/include/config/aic7xxx/reg/pretty/print.h\r\n",
      "/usr/src/linux-headers-3.13.0-53-generic/include/config/binary/printf.h\r\n",
      "/usr/src/linux-headers-3.13.0-53-generic/include/config/boot/printk\r\n",
      "/usr/src/linux-headers-3.13.0-53-generic/include/config/early/printk\r\n",
      "/usr/src/linux-headers-3.13.0-53-generic/include/config/early/printk.h\r\n",
      "/usr/src/linux-headers-3.13.0-53-generic/include/config/tty/printk.h\r\n",
      "/usr/src/linux-headers-3.13.0-53-generic/include/config/usb/printer.h\r\n",
      "/usr/src/linux-headers-3.13.0-53-generic/include/config/usb/g/printer.h\r\n",
      "/usr/src/linux-headers-3.13.0-53-generic/include/linux/printk.h\r\n",
      "/usr/src/linux-headers-3.13.0-53-generic/kernel/printk\r\n",
      "/usr/src/linux-headers-3.13.0-54/include/linux/printk.h\r\n",
      "/usr/src/linux-headers-3.13.0-54/include/trace/events/printk.h\r\n",
      "/usr/src/linux-headers-3.13.0-54/kernel/printk\r\n",
      "/usr/src/linux-headers-3.13.0-54-generic/include/config/printer.h\r\n",
      "/usr/src/linux-headers-3.13.0-54-generic/include/config/printk\r\n",
      "/usr/src/linux-headers-3.13.0-54-generic/include/config/printk.h\r\n",
      "/usr/src/linux-headers-3.13.0-54-generic/include/config/aic79xx/reg/pretty/print.h\r\n",
      "/usr/src/linux-headers-3.13.0-54-generic/include/config/aic7xxx/reg/pretty/print.h\r\n",
      "/usr/src/linux-headers-3.13.0-54-generic/include/config/binary/printf.h\r\n",
      "/usr/src/linux-headers-3.13.0-54-generic/include/config/boot/printk\r\n",
      "/usr/src/linux-headers-3.13.0-54-generic/include/config/early/printk\r\n",
      "/usr/src/linux-headers-3.13.0-54-generic/include/config/early/printk.h\r\n",
      "/usr/src/linux-headers-3.13.0-54-generic/include/config/tty/printk.h\r\n",
      "/usr/src/linux-headers-3.13.0-54-generic/include/config/usb/printer.h\r\n",
      "/usr/src/linux-headers-3.13.0-54-generic/include/config/usb/g/printer.h\r\n",
      "/usr/src/linux-headers-3.13.0-54-generic/include/linux/printk.h\r\n",
      "/usr/src/linux-headers-3.13.0-54-generic/kernel/printk\r\n",
      "/usr/src/linux-headers-3.13.0-55/include/linux/printk.h\r\n",
      "/usr/src/linux-headers-3.13.0-55/include/trace/events/printk.h\r\n",
      "/usr/src/linux-headers-3.13.0-55/kernel/printk\r\n",
      "/usr/src/linux-headers-3.13.0-55-generic/include/config/printer.h\r\n",
      "/usr/src/linux-headers-3.13.0-55-generic/include/config/printk\r\n",
      "/usr/src/linux-headers-3.13.0-55-generic/include/config/printk.h\r\n",
      "/usr/src/linux-headers-3.13.0-55-generic/include/config/aic79xx/reg/pretty/print.h\r\n",
      "/usr/src/linux-headers-3.13.0-55-generic/include/config/aic7xxx/reg/pretty/print.h\r\n",
      "/usr/src/linux-headers-3.13.0-55-generic/include/config/binary/printf.h\r\n",
      "/usr/src/linux-headers-3.13.0-55-generic/include/config/boot/printk\r\n",
      "/usr/src/linux-headers-3.13.0-55-generic/include/config/early/printk\r\n",
      "/usr/src/linux-headers-3.13.0-55-generic/include/config/early/printk.h\r\n",
      "/usr/src/linux-headers-3.13.0-55-generic/include/config/tty/printk.h\r\n",
      "/usr/src/linux-headers-3.13.0-55-generic/include/config/usb/printer.h\r\n",
      "/usr/src/linux-headers-3.13.0-55-generic/include/config/usb/g/printer.h\r\n",
      "/usr/src/linux-headers-3.13.0-55-generic/include/linux/printk.h\r\n",
      "/usr/src/linux-headers-3.13.0-55-generic/kernel/printk\r\n",
      "/usr/src/linux-headers-3.13.0-57/include/linux/printk.h\r\n",
      "/usr/src/linux-headers-3.13.0-57/include/trace/events/printk.h\r\n",
      "/usr/src/linux-headers-3.13.0-57/kernel/printk\r\n",
      "/usr/src/linux-headers-3.13.0-57-generic/include/config/printer.h\r\n",
      "/usr/src/linux-headers-3.13.0-57-generic/include/config/printk\r\n",
      "/usr/src/linux-headers-3.13.0-57-generic/include/config/printk.h\r\n",
      "/usr/src/linux-headers-3.13.0-57-generic/include/config/aic79xx/reg/pretty/print.h\r\n",
      "/usr/src/linux-headers-3.13.0-57-generic/include/config/aic7xxx/reg/pretty/print.h\r\n",
      "/usr/src/linux-headers-3.13.0-57-generic/include/config/binary/printf.h\r\n",
      "/usr/src/linux-headers-3.13.0-57-generic/include/config/boot/printk\r\n",
      "/usr/src/linux-headers-3.13.0-57-generic/include/config/early/printk\r\n",
      "/usr/src/linux-headers-3.13.0-57-generic/include/config/early/printk.h\r\n",
      "/usr/src/linux-headers-3.13.0-57-generic/include/config/tty/printk.h\r\n",
      "/usr/src/linux-headers-3.13.0-57-generic/include/config/usb/printer.h\r\n",
      "/usr/src/linux-headers-3.13.0-57-generic/include/config/usb/g/printer.h\r\n",
      "/usr/src/linux-headers-3.13.0-57-generic/include/linux/printk.h\r\n",
      "/usr/src/linux-headers-3.13.0-57-generic/kernel/printk\r\n",
      "/usr/src/linux-headers-3.13.0-58/include/linux/printk.h\r\n",
      "/usr/src/linux-headers-3.13.0-58/include/trace/events/printk.h\r\n",
      "/usr/src/linux-headers-3.13.0-58/kernel/printk\r\n",
      "/usr/src/linux-headers-3.13.0-58-generic/include/config/printer.h\r\n",
      "/usr/src/linux-headers-3.13.0-58-generic/include/config/printk\r\n",
      "/usr/src/linux-headers-3.13.0-58-generic/include/config/printk.h\r\n",
      "/usr/src/linux-headers-3.13.0-58-generic/include/config/aic79xx/reg/pretty/print.h\r\n",
      "/usr/src/linux-headers-3.13.0-58-generic/include/config/aic7xxx/reg/pretty/print.h\r\n",
      "/usr/src/linux-headers-3.13.0-58-generic/include/config/binary/printf.h\r\n",
      "/usr/src/linux-headers-3.13.0-58-generic/include/config/boot/printk\r\n",
      "/usr/src/linux-headers-3.13.0-58-generic/include/config/early/printk\r\n",
      "/usr/src/linux-headers-3.13.0-58-generic/include/config/early/printk.h\r\n",
      "/usr/src/linux-headers-3.13.0-58-generic/include/config/tty/printk.h\r\n",
      "/usr/src/linux-headers-3.13.0-58-generic/include/config/usb/printer.h\r\n",
      "/usr/src/linux-headers-3.13.0-58-generic/include/config/usb/g/printer.h\r\n",
      "/usr/src/linux-headers-3.13.0-58-generic/include/linux/printk.h\r\n",
      "/usr/src/linux-headers-3.13.0-58-generic/kernel/printk\r\n",
      "/usr/src/linux-headers-3.13.0-59/include/linux/printk.h\r\n",
      "/usr/src/linux-headers-3.13.0-59/include/trace/events/printk.h\r\n",
      "/usr/src/linux-headers-3.13.0-59/kernel/printk\r\n",
      "/usr/src/linux-headers-3.13.0-59-generic/include/config/printer.h\r\n",
      "/usr/src/linux-headers-3.13.0-59-generic/include/config/printk\r\n",
      "/usr/src/linux-headers-3.13.0-59-generic/include/config/printk.h\r\n",
      "/usr/src/linux-headers-3.13.0-59-generic/include/config/aic79xx/reg/pretty/print.h\r\n",
      "/usr/src/linux-headers-3.13.0-59-generic/include/config/aic7xxx/reg/pretty/print.h\r\n",
      "/usr/src/linux-headers-3.13.0-59-generic/include/config/binary/printf.h\r\n",
      "/usr/src/linux-headers-3.13.0-59-generic/include/config/boot/printk\r\n",
      "/usr/src/linux-headers-3.13.0-59-generic/include/config/early/printk\r\n",
      "/usr/src/linux-headers-3.13.0-59-generic/include/config/early/printk.h\r\n",
      "/usr/src/linux-headers-3.13.0-59-generic/include/config/tty/printk.h\r\n",
      "/usr/src/linux-headers-3.13.0-59-generic/include/config/usb/printer.h\r\n",
      "/usr/src/linux-headers-3.13.0-59-generic/include/config/usb/g/printer.h\r\n",
      "/usr/src/linux-headers-3.13.0-59-generic/include/linux/printk.h\r\n",
      "/usr/src/linux-headers-3.13.0-59-generic/kernel/printk\r\n",
      "/usr/src/linux-headers-3.13.0-61/include/linux/printk.h\r\n",
      "/usr/src/linux-headers-3.13.0-61/include/trace/events/printk.h\r\n",
      "/usr/src/linux-headers-3.13.0-61/kernel/printk\r\n",
      "/usr/src/linux-headers-3.13.0-61-generic/include/config/printer.h\r\n",
      "/usr/src/linux-headers-3.13.0-61-generic/include/config/printk\r\n",
      "/usr/src/linux-headers-3.13.0-61-generic/include/config/printk.h\r\n",
      "/usr/src/linux-headers-3.13.0-61-generic/include/config/aic79xx/reg/pretty/print.h\r\n",
      "/usr/src/linux-headers-3.13.0-61-generic/include/config/aic7xxx/reg/pretty/print.h\r\n",
      "/usr/src/linux-headers-3.13.0-61-generic/include/config/binary/printf.h\r\n",
      "/usr/src/linux-headers-3.13.0-61-generic/include/config/boot/printk\r\n",
      "/usr/src/linux-headers-3.13.0-61-generic/include/config/early/printk\r\n",
      "/usr/src/linux-headers-3.13.0-61-generic/include/config/early/printk.h\r\n",
      "/usr/src/linux-headers-3.13.0-61-generic/include/config/tty/printk.h\r\n",
      "/usr/src/linux-headers-3.13.0-61-generic/include/config/usb/printer.h\r\n",
      "/usr/src/linux-headers-3.13.0-61-generic/include/config/usb/g/printer.h\r\n",
      "/usr/src/linux-headers-3.13.0-61-generic/include/linux/printk.h\r\n",
      "/usr/src/linux-headers-3.13.0-61-generic/kernel/printk\r\n",
      "/usr/src/linux-headers-3.13.0-62/include/linux/printk.h\r\n",
      "/usr/src/linux-headers-3.13.0-62/include/trace/events/printk.h\r\n",
      "/usr/src/linux-headers-3.13.0-62/kernel/printk\r\n",
      "/usr/src/linux-headers-3.13.0-62-generic/include/config/printer.h\r\n",
      "/usr/src/linux-headers-3.13.0-62-generic/include/config/printk\r\n",
      "/usr/src/linux-headers-3.13.0-62-generic/include/config/printk.h\r\n",
      "/usr/src/linux-headers-3.13.0-62-generic/include/config/aic79xx/reg/pretty/print.h\r\n",
      "/usr/src/linux-headers-3.13.0-62-generic/include/config/aic7xxx/reg/pretty/print.h\r\n",
      "/usr/src/linux-headers-3.13.0-62-generic/include/config/binary/printf.h\r\n",
      "/usr/src/linux-headers-3.13.0-62-generic/include/config/boot/printk\r\n",
      "/usr/src/linux-headers-3.13.0-62-generic/include/config/early/printk\r\n",
      "/usr/src/linux-headers-3.13.0-62-generic/include/config/early/printk.h\r\n",
      "/usr/src/linux-headers-3.13.0-62-generic/include/config/tty/printk.h\r\n",
      "/usr/src/linux-headers-3.13.0-62-generic/include/config/usb/printer.h\r\n",
      "/usr/src/linux-headers-3.13.0-62-generic/include/config/usb/g/printer.h\r\n",
      "/usr/src/linux-headers-3.13.0-62-generic/include/linux/printk.h\r\n",
      "/usr/src/linux-headers-3.13.0-62-generic/kernel/printk\r\n",
      "/usr/src/linux-headers-3.13.0-63/include/linux/printk.h\r\n",
      "/usr/src/linux-headers-3.13.0-63/include/trace/events/printk.h\r\n",
      "/usr/src/linux-headers-3.13.0-63/kernel/printk\r\n",
      "/usr/src/linux-headers-3.13.0-63-generic/include/config/printer.h\r\n",
      "/usr/src/linux-headers-3.13.0-63-generic/include/config/printk\r\n",
      "/usr/src/linux-headers-3.13.0-63-generic/include/config/printk.h\r\n",
      "/usr/src/linux-headers-3.13.0-63-generic/include/config/aic79xx/reg/pretty/print.h\r\n",
      "/usr/src/linux-headers-3.13.0-63-generic/include/config/aic7xxx/reg/pretty/print.h\r\n",
      "/usr/src/linux-headers-3.13.0-63-generic/include/config/binary/printf.h\r\n",
      "/usr/src/linux-headers-3.13.0-63-generic/include/config/boot/printk\r\n",
      "/usr/src/linux-headers-3.13.0-63-generic/include/config/early/printk\r\n",
      "/usr/src/linux-headers-3.13.0-63-generic/include/config/early/printk.h\r\n",
      "/usr/src/linux-headers-3.13.0-63-generic/include/config/tty/printk.h\r\n",
      "/usr/src/linux-headers-3.13.0-63-generic/include/config/usb/printer.h\r\n",
      "/usr/src/linux-headers-3.13.0-63-generic/include/config/usb/g/printer.h\r\n",
      "/usr/src/linux-headers-3.13.0-63-generic/include/linux/printk.h\r\n",
      "/usr/src/linux-headers-3.13.0-63-generic/kernel/printk\r\n",
      "/usr/src/linux-headers-3.13.0-65/include/linux/printk.h\r\n",
      "/usr/src/linux-headers-3.13.0-65/include/trace/events/printk.h\r\n",
      "/usr/src/linux-headers-3.13.0-65/kernel/printk\r\n",
      "/usr/src/linux-headers-3.13.0-65-generic/include/config/printer.h\r\n",
      "/usr/src/linux-headers-3.13.0-65-generic/include/config/printk\r\n",
      "/usr/src/linux-headers-3.13.0-65-generic/include/config/printk.h\r\n",
      "/usr/src/linux-headers-3.13.0-65-generic/include/config/aic79xx/reg/pretty/print.h\r\n",
      "/usr/src/linux-headers-3.13.0-65-generic/include/config/aic7xxx/reg/pretty/print.h\r\n",
      "/usr/src/linux-headers-3.13.0-65-generic/include/config/binary/printf.h\r\n",
      "/usr/src/linux-headers-3.13.0-65-generic/include/config/boot/printk\r\n",
      "/usr/src/linux-headers-3.13.0-65-generic/include/config/early/printk\r\n",
      "/usr/src/linux-headers-3.13.0-65-generic/include/config/early/printk.h\r\n",
      "/usr/src/linux-headers-3.13.0-65-generic/include/config/tty/printk.h\r\n",
      "/usr/src/linux-headers-3.13.0-65-generic/include/config/usb/printer.h\r\n",
      "/usr/src/linux-headers-3.13.0-65-generic/include/config/usb/g/printer.h\r\n",
      "/usr/src/linux-headers-3.13.0-65-generic/include/linux/printk.h\r\n",
      "/usr/src/linux-headers-3.13.0-65-generic/kernel/printk\r\n",
      "/usr/src/linux-headers-3.13.0-66/include/linux/printk.h\r\n",
      "/usr/src/linux-headers-3.13.0-66/include/trace/events/printk.h\r\n",
      "/usr/src/linux-headers-3.13.0-66/kernel/printk\r\n",
      "/usr/src/linux-headers-3.13.0-66-generic/include/config/printer.h\r\n",
      "/usr/src/linux-headers-3.13.0-66-generic/include/config/printk\r\n",
      "/usr/src/linux-headers-3.13.0-66-generic/include/config/printk.h\r\n",
      "/usr/src/linux-headers-3.13.0-66-generic/include/config/aic79xx/reg/pretty/print.h\r\n",
      "/usr/src/linux-headers-3.13.0-66-generic/include/config/aic7xxx/reg/pretty/print.h\r\n",
      "/usr/src/linux-headers-3.13.0-66-generic/include/config/binary/printf.h\r\n",
      "/usr/src/linux-headers-3.13.0-66-generic/include/config/boot/printk\r\n",
      "/usr/src/linux-headers-3.13.0-66-generic/include/config/early/printk\r\n",
      "/usr/src/linux-headers-3.13.0-66-generic/include/config/early/printk.h\r\n",
      "/usr/src/linux-headers-3.13.0-66-generic/include/config/tty/printk.h\r\n",
      "/usr/src/linux-headers-3.13.0-66-generic/include/config/usb/printer.h\r\n",
      "/usr/src/linux-headers-3.13.0-66-generic/include/config/usb/g/printer.h\r\n",
      "/usr/src/linux-headers-3.13.0-66-generic/include/linux/printk.h\r\n",
      "/usr/src/linux-headers-3.13.0-66-generic/kernel/printk\r\n",
      "/usr/src/linux-headers-3.13.0-67/include/linux/printk.h\r\n",
      "/usr/src/linux-headers-3.13.0-67/include/trace/events/printk.h\r\n",
      "/usr/src/linux-headers-3.13.0-67/kernel/printk\r\n",
      "/usr/src/linux-headers-3.13.0-67-generic/include/config/printer.h\r\n",
      "/usr/src/linux-headers-3.13.0-67-generic/include/config/printk\r\n",
      "/usr/src/linux-headers-3.13.0-67-generic/include/config/printk.h\r\n",
      "/usr/src/linux-headers-3.13.0-67-generic/include/config/aic79xx/reg/pretty/print.h\r\n",
      "/usr/src/linux-headers-3.13.0-67-generic/include/config/aic7xxx/reg/pretty/print.h\r\n",
      "/usr/src/linux-headers-3.13.0-67-generic/include/config/binary/printf.h\r\n",
      "/usr/src/linux-headers-3.13.0-67-generic/include/config/boot/printk\r\n",
      "/usr/src/linux-headers-3.13.0-67-generic/include/config/early/printk\r\n",
      "/usr/src/linux-headers-3.13.0-67-generic/include/config/early/printk.h\r\n",
      "/usr/src/linux-headers-3.13.0-67-generic/include/config/tty/printk.h\r\n",
      "/usr/src/linux-headers-3.13.0-67-generic/include/config/usb/printer.h\r\n",
      "/usr/src/linux-headers-3.13.0-67-generic/include/config/usb/g/printer.h\r\n",
      "/usr/src/linux-headers-3.13.0-67-generic/include/linux/printk.h\r\n",
      "/usr/src/linux-headers-3.13.0-67-generic/kernel/printk\r\n",
      "/usr/src/linux-headers-3.13.0-68/include/linux/printk.h\r\n",
      "/usr/src/linux-headers-3.13.0-68/include/trace/events/printk.h\r\n",
      "/usr/src/linux-headers-3.13.0-68/kernel/printk\r\n",
      "/usr/src/linux-headers-3.13.0-68-generic/include/config/printer.h\r\n",
      "/usr/src/linux-headers-3.13.0-68-generic/include/config/printk\r\n",
      "/usr/src/linux-headers-3.13.0-68-generic/include/config/printk.h\r\n",
      "/usr/src/linux-headers-3.13.0-68-generic/include/config/aic79xx/reg/pretty/print.h\r\n",
      "/usr/src/linux-headers-3.13.0-68-generic/include/config/aic7xxx/reg/pretty/print.h\r\n",
      "/usr/src/linux-headers-3.13.0-68-generic/include/config/binary/printf.h\r\n",
      "/usr/src/linux-headers-3.13.0-68-generic/include/config/boot/printk\r\n",
      "/usr/src/linux-headers-3.13.0-68-generic/include/config/early/printk\r\n",
      "/usr/src/linux-headers-3.13.0-68-generic/include/config/early/printk.h\r\n",
      "/usr/src/linux-headers-3.13.0-68-generic/include/config/tty/printk.h\r\n",
      "/usr/src/linux-headers-3.13.0-68-generic/include/config/usb/printer.h\r\n",
      "/usr/src/linux-headers-3.13.0-68-generic/include/config/usb/g/printer.h\r\n",
      "/usr/src/linux-headers-3.13.0-68-generic/include/linux/printk.h\r\n",
      "/usr/src/linux-headers-3.13.0-68-generic/kernel/printk\r\n",
      "/usr/src/linux-headers-3.13.0-71/include/linux/printk.h\r\n",
      "/usr/src/linux-headers-3.13.0-71/include/trace/events/printk.h\r\n",
      "/usr/src/linux-headers-3.13.0-71/kernel/printk\r\n",
      "/usr/src/linux-headers-3.13.0-71-generic/include/config/printer.h\r\n",
      "/usr/src/linux-headers-3.13.0-71-generic/include/config/printk\r\n",
      "/usr/src/linux-headers-3.13.0-71-generic/include/config/printk.h\r\n",
      "/usr/src/linux-headers-3.13.0-71-generic/include/config/aic79xx/reg/pretty/print.h\r\n",
      "/usr/src/linux-headers-3.13.0-71-generic/include/config/aic7xxx/reg/pretty/print.h\r\n",
      "/usr/src/linux-headers-3.13.0-71-generic/include/config/binary/printf.h\r\n",
      "/usr/src/linux-headers-3.13.0-71-generic/include/config/boot/printk\r\n",
      "/usr/src/linux-headers-3.13.0-71-generic/include/config/early/printk\r\n",
      "/usr/src/linux-headers-3.13.0-71-generic/include/config/early/printk.h\r\n",
      "/usr/src/linux-headers-3.13.0-71-generic/include/config/tty/printk.h\r\n",
      "/usr/src/linux-headers-3.13.0-71-generic/include/config/usb/printer.h\r\n",
      "/usr/src/linux-headers-3.13.0-71-generic/include/config/usb/g/printer.h\r\n",
      "/usr/src/linux-headers-3.13.0-71-generic/include/linux/printk.h\r\n",
      "/usr/src/linux-headers-3.13.0-71-generic/kernel/printk\r\n",
      "/usr/src/linux-headers-3.13.0-74/include/linux/printk.h\r\n",
      "/usr/src/linux-headers-3.13.0-74/include/trace/events/printk.h\r\n",
      "/usr/src/linux-headers-3.13.0-74/kernel/printk\r\n",
      "/usr/src/linux-headers-3.13.0-74-generic/include/config/printer.h\r\n",
      "/usr/src/linux-headers-3.13.0-74-generic/include/config/printk\r\n",
      "/usr/src/linux-headers-3.13.0-74-generic/include/config/printk.h\r\n",
      "/usr/src/linux-headers-3.13.0-74-generic/include/config/aic79xx/reg/pretty/print.h\r\n",
      "/usr/src/linux-headers-3.13.0-74-generic/include/config/aic7xxx/reg/pretty/print.h\r\n",
      "/usr/src/linux-headers-3.13.0-74-generic/include/config/binary/printf.h\r\n",
      "/usr/src/linux-headers-3.13.0-74-generic/include/config/boot/printk\r\n",
      "/usr/src/linux-headers-3.13.0-74-generic/include/config/early/printk\r\n",
      "/usr/src/linux-headers-3.13.0-74-generic/include/config/early/printk.h\r\n",
      "/usr/src/linux-headers-3.13.0-74-generic/include/config/tty/printk.h\r\n",
      "/usr/src/linux-headers-3.13.0-74-generic/include/config/usb/printer.h\r\n",
      "/usr/src/linux-headers-3.13.0-74-generic/include/config/usb/g/printer.h\r\n",
      "/usr/src/linux-headers-3.13.0-74-generic/include/linux/printk.h\r\n",
      "/usr/src/linux-headers-3.13.0-74-generic/kernel/printk\r\n",
      "/usr/src/linux-headers-3.13.0-76/include/linux/printk.h\r\n",
      "/usr/src/linux-headers-3.13.0-76/include/trace/events/printk.h\r\n",
      "/usr/src/linux-headers-3.13.0-76/kernel/printk\r\n",
      "/usr/src/linux-headers-3.13.0-76-generic/include/config/printer.h\r\n",
      "/usr/src/linux-headers-3.13.0-76-generic/include/config/printk\r\n",
      "/usr/src/linux-headers-3.13.0-76-generic/include/config/printk.h\r\n",
      "/usr/src/linux-headers-3.13.0-76-generic/include/config/aic79xx/reg/pretty/print.h\r\n",
      "/usr/src/linux-headers-3.13.0-76-generic/include/config/aic7xxx/reg/pretty/print.h\r\n",
      "/usr/src/linux-headers-3.13.0-76-generic/include/config/binary/printf.h\r\n",
      "/usr/src/linux-headers-3.13.0-76-generic/include/config/boot/printk\r\n",
      "/usr/src/linux-headers-3.13.0-76-generic/include/config/early/printk\r\n",
      "/usr/src/linux-headers-3.13.0-76-generic/include/config/early/printk.h\r\n",
      "/usr/src/linux-headers-3.13.0-76-generic/include/config/tty/printk.h\r\n",
      "/usr/src/linux-headers-3.13.0-76-generic/include/config/usb/printer.h\r\n",
      "/usr/src/linux-headers-3.13.0-76-generic/include/config/usb/g/printer.h\r\n",
      "/usr/src/linux-headers-3.13.0-76-generic/include/linux/printk.h\r\n",
      "/usr/src/linux-headers-3.13.0-76-generic/kernel/printk\r\n",
      "/usr/src/linux-headers-3.13.0-77/include/linux/printk.h\r\n",
      "/usr/src/linux-headers-3.13.0-77/include/trace/events/printk.h\r\n",
      "/usr/src/linux-headers-3.13.0-77/kernel/printk\r\n",
      "/usr/src/linux-headers-3.13.0-77-generic/include/config/printer.h\r\n",
      "/usr/src/linux-headers-3.13.0-77-generic/include/config/printk\r\n",
      "/usr/src/linux-headers-3.13.0-77-generic/include/config/printk.h\r\n",
      "/usr/src/linux-headers-3.13.0-77-generic/include/config/aic79xx/reg/pretty/print.h\r\n",
      "/usr/src/linux-headers-3.13.0-77-generic/include/config/aic7xxx/reg/pretty/print.h\r\n",
      "/usr/src/linux-headers-3.13.0-77-generic/include/config/binary/printf.h\r\n",
      "/usr/src/linux-headers-3.13.0-77-generic/include/config/boot/printk\r\n",
      "/usr/src/linux-headers-3.13.0-77-generic/include/config/early/printk\r\n",
      "/usr/src/linux-headers-3.13.0-77-generic/include/config/early/printk.h\r\n",
      "/usr/src/linux-headers-3.13.0-77-generic/include/config/tty/printk.h\r\n",
      "/usr/src/linux-headers-3.13.0-77-generic/include/config/usb/printer.h\r\n",
      "/usr/src/linux-headers-3.13.0-77-generic/include/config/usb/g/printer.h\r\n",
      "/usr/src/linux-headers-3.13.0-77-generic/include/linux/printk.h\r\n",
      "/usr/src/linux-headers-3.13.0-77-generic/kernel/printk\r\n",
      "/usr/src/linux-headers-3.13.0-79/include/linux/printk.h\r\n",
      "/usr/src/linux-headers-3.13.0-79/include/trace/events/printk.h\r\n",
      "/usr/src/linux-headers-3.13.0-79/kernel/printk\r\n",
      "/usr/src/linux-headers-3.13.0-79-generic/include/config/printer.h\r\n",
      "/usr/src/linux-headers-3.13.0-79-generic/include/config/printk\r\n",
      "/usr/src/linux-headers-3.13.0-79-generic/include/config/printk.h\r\n",
      "/usr/src/linux-headers-3.13.0-79-generic/include/config/aic79xx/reg/pretty/print.h\r\n",
      "/usr/src/linux-headers-3.13.0-79-generic/include/config/aic7xxx/reg/pretty/print.h\r\n",
      "/usr/src/linux-headers-3.13.0-79-generic/include/config/binary/printf.h\r\n",
      "/usr/src/linux-headers-3.13.0-79-generic/include/config/boot/printk\r\n",
      "/usr/src/linux-headers-3.13.0-79-generic/include/config/early/printk\r\n",
      "/usr/src/linux-headers-3.13.0-79-generic/include/config/early/printk.h\r\n",
      "/usr/src/linux-headers-3.13.0-79-generic/include/config/tty/printk.h\r\n",
      "/usr/src/linux-headers-3.13.0-79-generic/include/config/usb/printer.h\r\n",
      "/usr/src/linux-headers-3.13.0-79-generic/include/config/usb/g/printer.h\r\n",
      "/usr/src/linux-headers-3.13.0-79-generic/include/linux/printk.h\r\n",
      "/usr/src/linux-headers-3.13.0-79-generic/kernel/printk\r\n",
      "/var/cache/samba/printing\r\n",
      "/var/cache/samba/printing/printers.tdb\r\n",
      "/var/lib/auctex/emacs24/printlen.elc\r\n",
      "/var/lib/auctex/emacs24/printsudoku.elc\r\n",
      "/var/lib/dpkg/info/printer-driver-c2esp.list\r\n",
      "/var/lib/dpkg/info/printer-driver-c2esp.md5sums\r\n",
      "/var/lib/dpkg/info/printer-driver-foo2zjs-common.list\r\n",
      "/var/lib/dpkg/info/printer-driver-foo2zjs-common.md5sums\r\n",
      "/var/lib/dpkg/info/printer-driver-foo2zjs.list\r\n",
      "/var/lib/dpkg/info/printer-driver-foo2zjs.md5sums\r\n",
      "/var/lib/dpkg/info/printer-driver-foo2zjs.postinst\r\n",
      "/var/lib/dpkg/info/printer-driver-foo2zjs.preinst\r\n",
      "/var/lib/dpkg/info/printer-driver-gutenprint.list\r\n",
      "/var/lib/dpkg/info/printer-driver-gutenprint.md5sums\r\n",
      "/var/lib/dpkg/info/printer-driver-gutenprint.postinst\r\n",
      "/var/lib/dpkg/info/printer-driver-gutenprint.postrm\r\n",
      "/var/lib/dpkg/info/printer-driver-hpcups.list\r\n",
      "/var/lib/dpkg/info/printer-driver-hpcups.md5sums\r\n",
      "/var/lib/dpkg/info/printer-driver-min12xxw.list\r\n",
      "/var/lib/dpkg/info/printer-driver-min12xxw.md5sums\r\n",
      "/var/lib/dpkg/info/printer-driver-pnm2ppa.config\r\n",
      "/var/lib/dpkg/info/printer-driver-pnm2ppa.list\r\n",
      "/var/lib/dpkg/info/printer-driver-pnm2ppa.md5sums\r\n",
      "/var/lib/dpkg/info/printer-driver-pnm2ppa.postinst\r\n",
      "/var/lib/dpkg/info/printer-driver-pnm2ppa.postrm\r\n",
      "/var/lib/dpkg/info/printer-driver-pnm2ppa.prerm\r\n",
      "/var/lib/dpkg/info/printer-driver-pnm2ppa.templates\r\n",
      "/var/lib/dpkg/info/printer-driver-postscript-hp.list\r\n",
      "/var/lib/dpkg/info/printer-driver-postscript-hp.md5sums\r\n",
      "/var/lib/dpkg/info/printer-driver-ptouch.list\r\n",
      "/var/lib/dpkg/info/printer-driver-ptouch.md5sums\r\n",
      "/var/lib/dpkg/info/printer-driver-pxljr.list\r\n",
      "/var/lib/dpkg/info/printer-driver-pxljr.md5sums\r\n",
      "/var/lib/dpkg/info/printer-driver-sag-gdi.list\r\n",
      "/var/lib/dpkg/info/printer-driver-sag-gdi.md5sums\r\n",
      "/var/lib/dpkg/info/printer-driver-splix.list\r\n",
      "/var/lib/dpkg/info/printer-driver-splix.md5sums\r\n",
      "/var/lib/samba/printers\r\n",
      "/var/www/html/bioinformatics/docs/printsextract.html\r\n"
     ]
    }
   ],
   "source": [
    "locate -b print*"
   ]
  },
  {
   "cell_type": "markdown",
   "metadata": {},
   "source": [
    "#### `find`: search for files in a directory hierarchy\n",
    "\n",
    "`find` may be the most powerful command to search for files which have the attributes provided by the arguments."
   ]
  },
  {
   "cell_type": "code",
   "execution_count": 8,
   "metadata": {
    "collapsed": false
   },
   "outputs": [
    {
     "name": "stdout",
     "output_type": "stream",
     "text": [
      "Usage: find [-H] [-L] [-P] [-Olevel] [-D help|tree|search|stat|rates|opt|exec] [path...] [expression]\r\n",
      "\r\n",
      "default path is the current directory; default expression is -print\r\n",
      "expression may consist of: operators, options, tests, and actions:\r\n",
      "\r\n",
      "operators (decreasing precedence; -and is implicit where no others are given):\r\n",
      "      ( EXPR )   ! EXPR   -not EXPR   EXPR1 -a EXPR2   EXPR1 -and EXPR2\r\n",
      "      EXPR1 -o EXPR2   EXPR1 -or EXPR2   EXPR1 , EXPR2\r\n",
      "\r\n",
      "positional options (always true): -daystart -follow -regextype\r\n",
      "\r\n",
      "normal options (always true, specified before other expressions):\r\n",
      "      -depth --help -maxdepth LEVELS -mindepth LEVELS -mount -noleaf\r\n",
      "      --version -xdev -ignore_readdir_race -noignore_readdir_race\r\n",
      "\r\n",
      "tests (N can be +N or -N or N): -amin N -anewer FILE -atime N -cmin N\r\n",
      "      -cnewer FILE -ctime N -empty -false -fstype TYPE -gid N -group NAME\r\n",
      "      -ilname PATTERN -iname PATTERN -inum N -iwholename PATTERN -iregex PATTERN\r\n",
      "      -links N -lname PATTERN -mmin N -mtime N -name PATTERN -newer FILE\r\n",
      "      -nouser -nogroup -path PATTERN -perm [+-]MODE -regex PATTERN\r\n",
      "      -readable -writable -executable\r\n",
      "      -wholename PATTERN -size N[bcwkMG] -true -type [bcdpflsD] -uid N\r\n",
      "      -used N -user NAME -xtype [bcdpfls]\r\n",
      "\r\n",
      "actions: -delete -print0 -printf FORMAT -fprintf FILE FORMAT -print \r\n",
      "      -fprint0 FILE -fprint FILE -ls -fls FILE -prune -quit\r\n",
      "      -exec COMMAND ; -exec COMMAND {} + -ok COMMAND ;\r\n",
      "      -execdir COMMAND ; -execdir COMMAND {} + -okdir COMMAND ;\r\n",
      "\r\n",
      "Report (and track progress on fixing) bugs via the findutils bug-reporting\r\n",
      "page at http://savannah.gnu.org/ or, if you have no web access, by sending\r\n",
      "email to <bug-findutils@gnu.org>.\r\n"
     ]
    }
   ],
   "source": [
    "find --help"
   ]
  },
  {
   "cell_type": "code",
   "execution_count": 9,
   "metadata": {
    "collapsed": false
   },
   "outputs": [
    {
     "name": "stdout",
     "output_type": "stream",
     "text": [
      "re/test.001\r\n",
      "re/test5\r\n",
      "re/test6\r\n",
      "re/test2\r\n",
      "re/test.000\r\n",
      "re/test4\r\n",
      "re/test3\r\n",
      "re/test\r\n"
     ]
    }
   ],
   "source": [
    "find re -name test*"
   ]
  },
  {
   "cell_type": "code",
   "execution_count": 35,
   "metadata": {
    "collapsed": false
   },
   "outputs": [
    {
     "name": "stdout",
     "output_type": "stream",
     "text": [
      "total 40\r\n",
      "-rw-rw-r-- 1 bio bio  70  3月  1 10:12 numbers.bak\r\n",
      "-rw-rw-r-- 1 bio bio  49  3月  1 10:11 numbers.txt\r\n",
      "-rw-rw-r-- 1 bio bio 617  3月  1 15:18 test\r\n",
      "-rw-rw-r-- 1 bio bio 390  3月  1 15:11 test.000\r\n",
      "-rw-rw-r-- 1 bio bio 248  3月  1 15:11 test.001\r\n",
      "-rw-rw-r-- 1 bio bio  83  2月 21 10:24 test2\r\n",
      "-rw-rw-r-- 1 bio bio  83  3月  1 15:00 test3\r\n",
      "-rw-rw-r-- 1 bio bio 193  3月  1 15:00 test4\r\n",
      "-rw-rw-r-- 1 bio bio 228  3月  1 15:19 test5\r\n",
      "-rw-rw-r-- 1 bio bio 255  3月  1 15:19 test6\r\n",
      "-rw-rw-r-- 1 bio bio 248  3月  1 15:11 re/test.001\r\n",
      "-rw-rw-r-- 1 bio bio 49  3月  1 10:11 re/numbers.txt\r\n",
      "-rw-rw-r-- 1 bio bio 228  3月  1 15:19 re/test5\r\n",
      "total 0\r\n",
      "-rw-rw-r-- 1 bio bio 255  3月  1 15:19 re/test6\r\n",
      "-rw-rw-r-- 1 bio bio 83  2月 21 10:24 re/test2\r\n",
      "-rw-rw-r-- 1 bio bio 390  3月  1 15:11 re/test.000\r\n",
      "-rw-rw-r-- 1 bio bio 193  3月  1 15:00 re/test4\r\n",
      "-rw-rw-r-- 1 bio bio 83  3月  1 15:00 re/test3\r\n",
      "-rw-rw-r-- 1 bio bio 617  3月  1 15:18 re/test\r\n",
      "-rw-rw-r-- 1 bio bio 70  3月  1 10:12 re/numbers.bak\r\n"
     ]
    }
   ],
   "source": [
    "find re -ctime -1 -exec ls -l {} \\;"
   ]
  },
  {
   "cell_type": "code",
   "execution_count": 41,
   "metadata": {
    "collapsed": false
   },
   "outputs": [
    {
     "name": "stdout",
     "output_type": "stream",
     "text": [
      "-rw-rw-r-- 1 bio bio   70  3月  1 10:12 re/numbers.bak\r\n",
      "-rw-rw-r-- 1 bio bio   49  3月  1 10:11 re/numbers.txt\r\n",
      "-rw-rw-r-- 1 bio bio  617  3月  1 15:18 re/test\r\n",
      "-rw-rw-r-- 1 bio bio  390  3月  1 15:11 re/test.000\r\n",
      "-rw-rw-r-- 1 bio bio  248  3月  1 15:11 re/test.001\r\n",
      "-rw-rw-r-- 1 bio bio   83  2月 21 10:24 re/test2\r\n",
      "-rw-rw-r-- 1 bio bio   83  3月  1 15:00 re/test3\r\n",
      "-rw-rw-r-- 1 bio bio  193  3月  1 15:00 re/test4\r\n",
      "-rw-rw-r-- 1 bio bio  228  3月  1 15:19 re/test5\r\n",
      "-rw-rw-r-- 1 bio bio  255  3月  1 15:19 re/test6\r\n",
      "\r\n",
      "re:\r\n",
      "total 40\r\n",
      "-rw-rw-r-- 1 bio bio  70  3月  1 10:12 numbers.bak\r\n",
      "-rw-rw-r-- 1 bio bio  49  3月  1 10:11 numbers.txt\r\n",
      "-rw-rw-r-- 1 bio bio 617  3月  1 15:18 test\r\n",
      "-rw-rw-r-- 1 bio bio 390  3月  1 15:11 test.000\r\n",
      "-rw-rw-r-- 1 bio bio 248  3月  1 15:11 test.001\r\n",
      "-rw-rw-r-- 1 bio bio  83  2月 21 10:24 test2\r\n",
      "-rw-rw-r-- 1 bio bio  83  3月  1 15:00 test3\r\n",
      "-rw-rw-r-- 1 bio bio 193  3月  1 15:00 test4\r\n",
      "-rw-rw-r-- 1 bio bio 228  3月  1 15:19 test5\r\n",
      "-rw-rw-r-- 1 bio bio 255  3月  1 15:19 test6\r\n",
      "\r\n",
      "re/.ipynb_checkpoints:\r\n",
      "total 0\r\n"
     ]
    }
   ],
   "source": [
    "find re -size -100 | xargs ls -l"
   ]
  },
  {
   "cell_type": "markdown",
   "metadata": {},
   "source": [
    "### 10. Miscellaneous"
   ]
  },
  {
   "cell_type": "markdown",
   "metadata": {
    "collapsed": true
   },
   "source": [
    "#### `ln`: make links between files"
   ]
  },
  {
   "cell_type": "code",
   "execution_count": 42,
   "metadata": {
    "collapsed": false
   },
   "outputs": [
    {
     "name": "stdout",
     "output_type": "stream",
     "text": [
      "Usage: ln [OPTION]... [-T] TARGET LINK_NAME   (1st form)\r\n",
      "  or:  ln [OPTION]... TARGET                  (2nd form)\r\n",
      "  or:  ln [OPTION]... TARGET... DIRECTORY     (3rd form)\r\n",
      "  or:  ln [OPTION]... -t DIRECTORY TARGET...  (4th form)\r\n",
      "In the 1st form, create a link to TARGET with the name LINK_NAME.\r\n",
      "In the 2nd form, create a link to TARGET in the current directory.\r\n",
      "In the 3rd and 4th forms, create links to each TARGET in DIRECTORY.\r\n",
      "Create hard links by default, symbolic links with --symbolic.\r\n",
      "By default, each destination (name of new link) should not already exist.\r\n",
      "When creating hard links, each TARGET must exist.  Symbolic links\r\n",
      "can hold arbitrary text; if later resolved, a relative link is\r\n",
      "interpreted in relation to its parent directory.\r\n",
      "\r\n",
      "Mandatory arguments to long options are mandatory for short options too.\r\n",
      "      --backup[=CONTROL]      make a backup of each existing destination file\r\n",
      "  -b                          like --backup but does not accept an argument\r\n",
      "  -d, -F, --directory         allow the superuser to attempt to hard link\r\n",
      "                                directories (note: will probably fail due to\r\n",
      "                                system restrictions, even for the superuser)\r\n",
      "  -f, --force                 remove existing destination files\r\n",
      "  -i, --interactive           prompt whether to remove destinations\r\n",
      "  -L, --logical               dereference TARGETs that are symbolic links\r\n",
      "  -n, --no-dereference        treat LINK_NAME as a normal file if\r\n",
      "                                it is a symbolic link to a directory\r\n",
      "  -P, --physical              make hard links directly to symbolic links\r\n",
      "  -r, --relative              create symbolic links relative to link location\r\n",
      "  -s, --symbolic              make symbolic links instead of hard links\r\n",
      "  -S, --suffix=SUFFIX         override the usual backup suffix\r\n",
      "  -t, --target-directory=DIRECTORY  specify the DIRECTORY in which to create\r\n",
      "                                the links\r\n",
      "  -T, --no-target-directory   treat LINK_NAME as a normal file always\r\n",
      "  -v, --verbose               print name of each linked file\r\n",
      "      --help     display this help and exit\r\n",
      "      --version  output version information and exit\r\n",
      "\r\n",
      "The backup suffix is '~', unless set with --suffix or SIMPLE_BACKUP_SUFFIX.\r\n",
      "The version control method may be selected via the --backup option or through\r\n",
      "the VERSION_CONTROL environment variable.  Here are the values:\r\n",
      "\r\n",
      "  none, off       never make backups (even if --backup is given)\r\n",
      "  numbered, t     make numbered backups\r\n",
      "  existing, nil   numbered if numbered backups exist, simple otherwise\r\n",
      "  simple, never   always make simple backups\r\n",
      "\r\n",
      "Using -s ignores -L and -P.  Otherwise, the last option specified controls\r\n",
      "behavior when a TARGET is a symbolic link, defaulting to -P.\r\n",
      "\r\n",
      "Report ln bugs to bug-coreutils@gnu.org\r\n",
      "GNU coreutils home page: <http://www.gnu.org/software/coreutils/>\r\n",
      "General help using GNU software: <http://www.gnu.org/gethelp/>\r\n",
      "For complete documentation, run: info coreutils 'ln invocation'\r\n"
     ]
    }
   ],
   "source": [
    "ln --help"
   ]
  },
  {
   "cell_type": "markdown",
   "metadata": {},
   "source": [
    "There are two types of links:"
   ]
  },
  {
   "cell_type": "markdown",
   "metadata": {},
   "source": [
    "#### (1) hard link"
   ]
  },
  {
   "cell_type": "code",
   "execution_count": 49,
   "metadata": {
    "collapsed": false
   },
   "outputs": [
    {
     "name": "stdout",
     "output_type": "stream",
     "text": [
      "-rw-rw-r-- 1 bio bio 617  3月  1 15:18 re/test\r\n"
     ]
    }
   ],
   "source": [
    "ls -l re/test"
   ]
  },
  {
   "cell_type": "code",
   "execution_count": 50,
   "metadata": {
    "collapsed": false
   },
   "outputs": [
    {
     "name": "stdout",
     "output_type": "stream",
     "text": []
    }
   ],
   "source": [
    "ln re/test test0"
   ]
  },
  {
   "cell_type": "code",
   "execution_count": 51,
   "metadata": {
    "collapsed": false
   },
   "outputs": [
    {
     "name": "stdout",
     "output_type": "stream",
     "text": [
      "-rw-rw-r-- 2 bio bio 617  3月  1 15:18 test0\r\n"
     ]
    }
   ],
   "source": [
    "ls -l test0"
   ]
  },
  {
   "cell_type": "code",
   "execution_count": 52,
   "metadata": {
    "collapsed": false
   },
   "outputs": [
    {
     "name": "stdout",
     "output_type": "stream",
     "text": [
      "-rw-rw-r-- 2 bio bio 617  3月  1 15:18 re/test\r\n"
     ]
    }
   ],
   "source": [
    "ls -l re/test"
   ]
  },
  {
   "cell_type": "markdown",
   "metadata": {},
   "source": [
    "Now we could find that the two files has the same reference number: 2, since they point to the same data (memory address). "
   ]
  },
  {
   "cell_type": "markdown",
   "metadata": {},
   "source": [
    "#### (2) symbolic link"
   ]
  },
  {
   "cell_type": "code",
   "execution_count": 43,
   "metadata": {
    "collapsed": false
   },
   "outputs": [
    {
     "name": "stdout",
     "output_type": "stream",
     "text": []
    }
   ],
   "source": [
    "ln -s re/test test"
   ]
  },
  {
   "cell_type": "code",
   "execution_count": 44,
   "metadata": {
    "collapsed": false
   },
   "outputs": [
    {
     "name": "stdout",
     "output_type": "stream",
     "text": [
      "lrwxrwxrwx 1 bio bio 7  3月  2 15:41 \u001b[0m\u001b[01;36mtest\u001b[0m -> re/test\r\n"
     ]
    }
   ],
   "source": [
    "ls -l test"
   ]
  },
  {
   "cell_type": "code",
   "execution_count": 53,
   "metadata": {
    "collapsed": false
   },
   "outputs": [
    {
     "name": "stdout",
     "output_type": "stream",
     "text": [
      "-rw-rw-r-- 2 bio bio 617  3月  1 15:18 re/test\r\n"
     ]
    }
   ],
   "source": [
    "ls -l re/test"
   ]
  },
  {
   "cell_type": "markdown",
   "metadata": {},
   "source": [
    "We could easily find that this is a symbolic link file. And a symbolic link will not change the reference number of the target data (memory address), since this symbolic link is only pointing to the other file `re/test`, not the data itself."
   ]
  },
  {
   "cell_type": "code",
   "execution_count": 45,
   "metadata": {
    "collapsed": false
   },
   "outputs": [
    {
     "name": "stdout",
     "output_type": "stream",
     "text": [
      "test: symbolic link to `re/test' \r\n"
     ]
    }
   ],
   "source": [
    "file test"
   ]
  },
  {
   "cell_type": "markdown",
   "metadata": {},
   "source": [
    "## File system hierarchy\n",
    "___\n",
    "If you do want to know the exact file system hierarchy, please type in the following command like:\n",
    "```bash\n",
    "man hier\n",
    "```"
   ]
  },
  {
   "cell_type": "markdown",
   "metadata": {},
   "source": [
    "### <font color='blue'>Exercise</font>\n",
    "\n",
    "What are the roles for the following directory:\n",
    "1. `/etc`\n",
    "2. `/proc`\n",
    "3. `/var`\n",
    "4. `/usr/bin`\n",
    "5. `/lib64`\n",
    "6. `/usr/include`\n",
    "7. `/var/log`\n",
    "8. `/home`\n",
    "9. `/opt`"
   ]
  }
 ],
 "metadata": {
  "kernelspec": {
   "display_name": "Bash",
   "language": "bash",
   "name": "bash"
  },
  "language_info": {
   "codemirror_mode": "shell",
   "file_extension": ".sh",
   "mimetype": "text/x-sh",
   "name": "bash"
  }
 },
 "nbformat": 4,
 "nbformat_minor": 0
}
